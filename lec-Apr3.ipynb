{
 "cells": [
  {
   "cell_type": "code",
   "execution_count": 1,
   "metadata": {},
   "outputs": [],
   "source": [
    "import numpy as np"
   ]
  },
  {
   "cell_type": "code",
   "execution_count": 2,
   "metadata": {},
   "outputs": [
    {
     "data": {
      "text/plain": [
       "array([1, 2, 3])"
      ]
     },
     "execution_count": 2,
     "metadata": {},
     "output_type": "execute_result"
    }
   ],
   "source": [
    "v1=np.array([1,2,3])\n",
    "v1"
   ]
  },
  {
   "cell_type": "code",
   "execution_count": 3,
   "metadata": {},
   "outputs": [
    {
     "data": {
      "text/plain": [
       "array([4, 5, 6])"
      ]
     },
     "execution_count": 3,
     "metadata": {},
     "output_type": "execute_result"
    }
   ],
   "source": [
    "v2=np.array([4,5,6])\n",
    "v2"
   ]
  },
  {
   "cell_type": "code",
   "execution_count": 8,
   "metadata": {},
   "outputs": [
    {
     "data": {
      "text/plain": [
       "array([[1],\n",
       "       [2],\n",
       "       [3]])"
      ]
     },
     "execution_count": 8,
     "metadata": {},
     "output_type": "execute_result"
    }
   ],
   "source": [
    "v1=np.array([1,2,3]).reshape(-1,1)\n",
    "v1"
   ]
  },
  {
   "cell_type": "code",
   "execution_count": 9,
   "metadata": {},
   "outputs": [
    {
     "data": {
      "text/plain": [
       "array([[4],\n",
       "       [5],\n",
       "       [6]])"
      ]
     },
     "execution_count": 9,
     "metadata": {},
     "output_type": "execute_result"
    }
   ],
   "source": [
    "v2=np.array([4,5,6]).reshape(-1,1)\n",
    "v2"
   ]
  },
  {
   "cell_type": "code",
   "execution_count": 10,
   "metadata": {},
   "outputs": [
    {
     "data": {
      "text/plain": [
       "array([[1, 2, 3]])"
      ]
     },
     "execution_count": 10,
     "metadata": {},
     "output_type": "execute_result"
    }
   ],
   "source": [
    "v1.T"
   ]
  },
  {
   "cell_type": "code",
   "execution_count": 11,
   "metadata": {},
   "outputs": [
    {
     "data": {
      "text/plain": [
       "array([[1],\n",
       "       [2],\n",
       "       [3]])"
      ]
     },
     "execution_count": 11,
     "metadata": {},
     "output_type": "execute_result"
    }
   ],
   "source": [
    "v1.T.T"
   ]
  },
  {
   "cell_type": "code",
   "execution_count": 12,
   "metadata": {},
   "outputs": [
    {
     "data": {
      "text/plain": [
       "array([[1, 2, 3]])"
      ]
     },
     "execution_count": 12,
     "metadata": {},
     "output_type": "execute_result"
    }
   ],
   "source": [
    "v1.T.T.T"
   ]
  },
  {
   "cell_type": "code",
   "execution_count": 14,
   "metadata": {},
   "outputs": [
    {
     "data": {
      "text/plain": [
       "array([[4],\n",
       "       [5]])"
      ]
     },
     "execution_count": 14,
     "metadata": {},
     "output_type": "execute_result"
    }
   ],
   "source": [
    "v3=np.array([4,5]).reshape(-1,1)\n",
    "v3"
   ]
  },
  {
   "cell_type": "code",
   "execution_count": 13,
   "metadata": {},
   "outputs": [
    {
     "data": {
      "text/plain": [
       "array([[ 4],\n",
       "       [10],\n",
       "       [18]])"
      ]
     },
     "execution_count": 13,
     "metadata": {},
     "output_type": "execute_result"
    }
   ],
   "source": [
    "v1 * v2"
   ]
  },
  {
   "cell_type": "code",
   "execution_count": 15,
   "metadata": {},
   "outputs": [
    {
     "ename": "ValueError",
     "evalue": "operands could not be broadcast together with shapes (3,1) (2,1) ",
     "output_type": "error",
     "traceback": [
      "\u001b[0;31m---------------------------------------------------------------------------\u001b[0m",
      "\u001b[0;31mValueError\u001b[0m                                Traceback (most recent call last)",
      "\u001b[0;32m<ipython-input-15-f1e32fb1d6e4>\u001b[0m in \u001b[0;36m<module>\u001b[0;34m\u001b[0m\n\u001b[0;32m----> 1\u001b[0;31m \u001b[0mv1\u001b[0m \u001b[0;34m*\u001b[0m \u001b[0mv3\u001b[0m\u001b[0;34m\u001b[0m\u001b[0;34m\u001b[0m\u001b[0m\n\u001b[0m",
      "\u001b[0;31mValueError\u001b[0m: operands could not be broadcast together with shapes (3,1) (2,1) "
     ]
    }
   ],
   "source": [
    "v1 * v3"
   ]
  },
  {
   "cell_type": "code",
   "execution_count": 16,
   "metadata": {},
   "outputs": [
    {
     "data": {
      "text/plain": [
       "array([[4]])"
      ]
     },
     "execution_count": 16,
     "metadata": {},
     "output_type": "execute_result"
    }
   ],
   "source": [
    "v3=np.array([4]).reshape(-1,1)\n",
    "v3"
   ]
  },
  {
   "cell_type": "code",
   "execution_count": 17,
   "metadata": {},
   "outputs": [
    {
     "data": {
      "text/plain": [
       "array([[ 4],\n",
       "       [ 8],\n",
       "       [12]])"
      ]
     },
     "execution_count": 17,
     "metadata": {},
     "output_type": "execute_result"
    }
   ],
   "source": [
    "v1 * v3"
   ]
  },
  {
   "cell_type": "code",
   "execution_count": 18,
   "metadata": {},
   "outputs": [
    {
     "data": {
      "text/plain": [
       "array([[ 4,  5,  6],\n",
       "       [ 8, 10, 12],\n",
       "       [12, 15, 18]])"
      ]
     },
     "execution_count": 18,
     "metadata": {},
     "output_type": "execute_result"
    }
   ],
   "source": [
    "v1 * v2.T"
   ]
  },
  {
   "cell_type": "code",
   "execution_count": 21,
   "metadata": {},
   "outputs": [
    {
     "data": {
      "text/plain": [
       "array([[1, 1, 1],\n",
       "       [2, 2, 2],\n",
       "       [3, 3, 3]])"
      ]
     },
     "execution_count": 21,
     "metadata": {},
     "output_type": "execute_result"
    }
   ],
   "source": [
    "v1_broadcast = np.concatenate((v1,v1,v1),axis = 1)\n",
    "v1_broadcast"
   ]
  },
  {
   "cell_type": "code",
   "execution_count": 22,
   "metadata": {},
   "outputs": [
    {
     "data": {
      "text/plain": [
       "array([[4, 5, 6],\n",
       "       [4, 5, 6],\n",
       "       [4, 5, 6]])"
      ]
     },
     "execution_count": 22,
     "metadata": {},
     "output_type": "execute_result"
    }
   ],
   "source": [
    "v2_broadcast = np.concatenate((v2.T,v2.T,v2.T))\n",
    "v2_broadcast"
   ]
  },
  {
   "cell_type": "code",
   "execution_count": 23,
   "metadata": {},
   "outputs": [
    {
     "data": {
      "text/plain": [
       "array([[ 4,  5,  6],\n",
       "       [ 8, 10, 12],\n",
       "       [12, 15, 18]])"
      ]
     },
     "execution_count": 23,
     "metadata": {},
     "output_type": "execute_result"
    }
   ],
   "source": [
    "v1_broadcast * v2_broadcast"
   ]
  },
  {
   "cell_type": "code",
   "execution_count": 26,
   "metadata": {},
   "outputs": [
    {
     "data": {
      "text/plain": [
       "array([[32]])"
      ]
     },
     "execution_count": 26,
     "metadata": {},
     "output_type": "execute_result"
    }
   ],
   "source": [
    "np.dot(v1.T, v2)"
   ]
  },
  {
   "cell_type": "code",
   "execution_count": 27,
   "metadata": {},
   "outputs": [
    {
     "data": {
      "text/plain": [
       "32"
      ]
     },
     "execution_count": 27,
     "metadata": {},
     "output_type": "execute_result"
    }
   ],
   "source": [
    "1*4 + 2*5 + 3*6"
   ]
  },
  {
   "cell_type": "code",
   "execution_count": 28,
   "metadata": {},
   "outputs": [
    {
     "name": "stdout",
     "output_type": "stream",
     "text": [
      "========================================\n",
      "Get 5 in a row correct to finish!\n",
      "========================================\n",
      "\n",
      "a = \n",
      "[[3]]\n",
      "\n",
      "b = \n",
      "[[1]]\n",
      "\n",
      "What is np.dot(a.T,b), as a scalar?  3\n",
      "\n",
      "Good job!\n",
      "\n",
      "========================================\n",
      "Get 4 in a row correct to finish!\n",
      "========================================\n",
      "\n",
      "a = \n",
      "[[2]]\n",
      "\n",
      "b = \n",
      "[[2]]\n",
      "\n",
      "What is np.dot(a.T,b), as a scalar?  4\n",
      "\n",
      "Good job!\n",
      "\n",
      "========================================\n",
      "Get 3 in a row correct to finish!\n",
      "========================================\n",
      "\n",
      "a = \n",
      "[[ 0]\n",
      " [-2]\n",
      " [-2]]\n",
      "\n",
      "b = \n",
      "[[ 2]\n",
      " [-3]\n",
      " [ 1]]\n",
      "\n",
      "What is np.dot(a.T,b), as a scalar?  4\n",
      "\n",
      "Good job!\n",
      "\n",
      "========================================\n",
      "Get 2 in a row correct to finish!\n",
      "========================================\n",
      "\n",
      "a = \n",
      "[[-3]\n",
      " [ 0]\n",
      " [-2]\n",
      " [-2]]\n",
      "\n",
      "b = \n",
      "[[-2]\n",
      " [-1]\n",
      " [-3]\n",
      " [ 3]]\n",
      "\n",
      "What is np.dot(a.T,b), as a scalar?  6\n",
      "\n",
      "Good job!\n",
      "\n",
      "========================================\n",
      "Get 1 in a row correct to finish!\n",
      "========================================\n",
      "\n",
      "a = \n",
      "[[ 0]\n",
      " [-2]\n",
      " [-2]]\n",
      "\n",
      "b = \n",
      "[[ 0]\n",
      " [ 2]\n",
      " [-2]]\n",
      "\n",
      "What is np.dot(a.T,b), as a scalar?  0\n",
      "\n",
      "Good job!\n",
      "\n",
      "Nice, you got 5 in a row correct!\n"
     ]
    }
   ],
   "source": [
    "def practice():\n",
    "    size = np.random.randint(1,5)\n",
    "    a = np.random.randint(-3,4,size).reshape(-1,1)\n",
    "    b = np.random.randint(-3,4,size).reshape(-1,1)\n",
    "    print(\"a = \")\n",
    "    print(a)\n",
    "    print()\n",
    "    print(\"b = \")\n",
    "    print(b)\n",
    "    print()\n",
    "    answer = int(input(\"What is np.dot(a.T,b), as a scalar?  \"))\n",
    "    print()\n",
    "    expected = np.dot(a.T, b)[0][0]\n",
    "    if answer == expected:\n",
    "        print(\"Good job!\")\n",
    "        return True\n",
    "    else:\n",
    "        print(\"\\nActually, it is \", expected)\n",
    "        print(\"Calculation:\", \" + \".join(f\"({x}*{y})\" for x,y in zip(a.reshape(-1), b.reshape(-1))))\n",
    "        time.sleep(2)\n",
    "        return False\n",
    "\n",
    "goal = 5\n",
    "correct = 0\n",
    "while correct < goal:\n",
    "    print(\"=\"*40)\n",
    "    print(f\"Get {goal-correct} in a row correct to finish!\")\n",
    "    print(\"=\"*40)\n",
    "    print()\n",
    "    if practice():\n",
    "        correct += 1\n",
    "    else:\n",
    "        correct = 0\n",
    "    print()\n",
    "        \n",
    "print(f\"Nice, you got {goal} in a row correct!\")"
   ]
  },
  {
   "cell_type": "code",
   "execution_count": 29,
   "metadata": {},
   "outputs": [],
   "source": [
    "import pandas as pd"
   ]
  },
  {
   "cell_type": "code",
   "execution_count": 32,
   "metadata": {},
   "outputs": [
    {
     "data": {
      "text/html": [
       "<div>\n",
       "<style scoped>\n",
       "    .dataframe tbody tr th:only-of-type {\n",
       "        vertical-align: middle;\n",
       "    }\n",
       "\n",
       "    .dataframe tbody tr th {\n",
       "        vertical-align: top;\n",
       "    }\n",
       "\n",
       "    .dataframe thead th {\n",
       "        text-align: right;\n",
       "    }\n",
       "</style>\n",
       "<table border=\"1\" class=\"dataframe\">\n",
       "  <thead>\n",
       "    <tr style=\"text-align: right;\">\n",
       "      <th></th>\n",
       "      <th>beds</th>\n",
       "      <th>baths</th>\n",
       "      <th>year</th>\n",
       "    </tr>\n",
       "  </thead>\n",
       "  <tbody>\n",
       "    <tr>\n",
       "      <th>0</th>\n",
       "      <td>2</td>\n",
       "      <td>1</td>\n",
       "      <td>1985</td>\n",
       "    </tr>\n",
       "    <tr>\n",
       "      <th>1</th>\n",
       "      <td>3</td>\n",
       "      <td>1</td>\n",
       "      <td>1998</td>\n",
       "    </tr>\n",
       "    <tr>\n",
       "      <th>2</th>\n",
       "      <td>4</td>\n",
       "      <td>3</td>\n",
       "      <td>2005</td>\n",
       "    </tr>\n",
       "    <tr>\n",
       "      <th>3</th>\n",
       "      <td>4</td>\n",
       "      <td>2</td>\n",
       "      <td>2020</td>\n",
       "    </tr>\n",
       "  </tbody>\n",
       "</table>\n",
       "</div>"
      ],
      "text/plain": [
       "   beds  baths  year\n",
       "0     2      1  1985\n",
       "1     3      1  1998\n",
       "2     4      3  2005\n",
       "3     4      2  2020"
      ]
     },
     "execution_count": 32,
     "metadata": {},
     "output_type": "execute_result"
    }
   ],
   "source": [
    "houses = pd.DataFrame([[2,1,1985],[3,1,1998],[4,3,2005],[4,2,2020]], columns=['beds','baths','year'])\n",
    "houses"
   ]
  },
  {
   "cell_type": "code",
   "execution_count": 37,
   "metadata": {},
   "outputs": [
    {
     "data": {
      "text/plain": [
       "beds        2\n",
       "baths       1\n",
       "year     1985\n",
       "Name: 0, dtype: int64"
      ]
     },
     "execution_count": 37,
     "metadata": {},
     "output_type": "execute_result"
    }
   ],
   "source": [
    "def predict_price(house):\n",
    "    return((house[\"beds\"]*42.3)+(house['baths']*10)+(house['year']*1.67)-3213)\n",
    "houses.iloc[0]"
   ]
  },
  {
   "cell_type": "code",
   "execution_count": 38,
   "metadata": {},
   "outputs": [
    {
     "data": {
      "text/plain": [
       "196.54999999999973"
      ]
     },
     "execution_count": 38,
     "metadata": {},
     "output_type": "execute_result"
    }
   ],
   "source": [
    "predict_price(houses.iloc[0])"
   ]
  },
  {
   "cell_type": "code",
   "execution_count": 39,
   "metadata": {},
   "outputs": [
    {
     "data": {
      "text/plain": [
       "260.55999999999995"
      ]
     },
     "execution_count": 39,
     "metadata": {},
     "output_type": "execute_result"
    }
   ],
   "source": [
    "predict_price(houses.iloc[1])"
   ]
  },
  {
   "cell_type": "code",
   "execution_count": 40,
   "metadata": {},
   "outputs": [
    {
     "data": {
      "text/plain": [
       "334.5499999999997"
      ]
     },
     "execution_count": 40,
     "metadata": {},
     "output_type": "execute_result"
    }
   ],
   "source": [
    "predict_price(houses.iloc[2])"
   ]
  },
  {
   "cell_type": "code",
   "execution_count": 42,
   "metadata": {},
   "outputs": [
    {
     "data": {
      "text/plain": [
       "array([[42.3 ],\n",
       "       [10.  ],\n",
       "       [ 1.67]])"
      ]
     },
     "execution_count": 42,
     "metadata": {},
     "output_type": "execute_result"
    }
   ],
   "source": [
    "#coefficients\n",
    "x = np.array([42.3, 10, 1.67]).reshape(-1,1)\n",
    "b = -3213\n",
    "x"
   ]
  },
  {
   "cell_type": "code",
   "execution_count": 45,
   "metadata": {},
   "outputs": [
    {
     "data": {
      "text/plain": [
       "array([[   2,    1, 1985],\n",
       "       [   3,    1, 1998],\n",
       "       [   4,    3, 2005],\n",
       "       [   4,    2, 2020]])"
      ]
     },
     "execution_count": 45,
     "metadata": {},
     "output_type": "execute_result"
    }
   ],
   "source": [
    "A = houses.values\n",
    "A"
   ]
  },
  {
   "cell_type": "code",
   "execution_count": 50,
   "metadata": {},
   "outputs": [
    {
     "data": {
      "text/plain": [
       "array([[   4,    2, 2020]])"
      ]
     },
     "execution_count": 50,
     "metadata": {},
     "output_type": "execute_result"
    }
   ],
   "source": [
    "h0 = A[0:1,:]\n",
    "h1 = A[1:2,:]\n",
    "h2 = A[2:3,:]\n",
    "h3 = A[3:4,:]\n",
    "h3"
   ]
  },
  {
   "cell_type": "code",
   "execution_count": 51,
   "metadata": {},
   "outputs": [
    {
     "data": {
      "text/plain": [
       "array([[196.55]])"
      ]
     },
     "execution_count": 51,
     "metadata": {},
     "output_type": "execute_result"
    }
   ],
   "source": [
    "np.dot(h0,x)+b"
   ]
  },
  {
   "cell_type": "code",
   "execution_count": 52,
   "metadata": {},
   "outputs": [
    {
     "data": {
      "text/plain": [
       "196.54999999999973"
      ]
     },
     "execution_count": 52,
     "metadata": {},
     "output_type": "execute_result"
    }
   ],
   "source": [
    "predict_price(houses.iloc[0])"
   ]
  },
  {
   "cell_type": "code",
   "execution_count": 61,
   "metadata": {},
   "outputs": [
    {
     "data": {
      "text/html": [
       "<div>\n",
       "<style scoped>\n",
       "    .dataframe tbody tr th:only-of-type {\n",
       "        vertical-align: middle;\n",
       "    }\n",
       "\n",
       "    .dataframe tbody tr th {\n",
       "        vertical-align: top;\n",
       "    }\n",
       "\n",
       "    .dataframe thead th {\n",
       "        text-align: right;\n",
       "    }\n",
       "</style>\n",
       "<table border=\"1\" class=\"dataframe\">\n",
       "  <thead>\n",
       "    <tr style=\"text-align: right;\">\n",
       "      <th></th>\n",
       "      <th>beds</th>\n",
       "      <th>baths</th>\n",
       "      <th>year</th>\n",
       "      <th>const</th>\n",
       "    </tr>\n",
       "  </thead>\n",
       "  <tbody>\n",
       "    <tr>\n",
       "      <th>0</th>\n",
       "      <td>2</td>\n",
       "      <td>1</td>\n",
       "      <td>1985</td>\n",
       "      <td>1</td>\n",
       "    </tr>\n",
       "    <tr>\n",
       "      <th>1</th>\n",
       "      <td>3</td>\n",
       "      <td>1</td>\n",
       "      <td>1998</td>\n",
       "      <td>1</td>\n",
       "    </tr>\n",
       "    <tr>\n",
       "      <th>2</th>\n",
       "      <td>4</td>\n",
       "      <td>3</td>\n",
       "      <td>2005</td>\n",
       "      <td>1</td>\n",
       "    </tr>\n",
       "    <tr>\n",
       "      <th>3</th>\n",
       "      <td>4</td>\n",
       "      <td>2</td>\n",
       "      <td>2020</td>\n",
       "      <td>1</td>\n",
       "    </tr>\n",
       "  </tbody>\n",
       "</table>\n",
       "</div>"
      ],
      "text/plain": [
       "   beds  baths  year  const\n",
       "0     2      1  1985      1\n",
       "1     3      1  1998      1\n",
       "2     4      3  2005      1\n",
       "3     4      2  2020      1"
      ]
     },
     "execution_count": 61,
     "metadata": {},
     "output_type": "execute_result"
    }
   ],
   "source": [
    "houses['const'] =1\n",
    "A = houses.values\n",
    "h0 = A[0:1,:]\n",
    "h1 = A[1:2,:]\n",
    "h2 = A[2:3,:]\n",
    "h3 = A[3:4,:]\n",
    "houses"
   ]
  },
  {
   "cell_type": "code",
   "execution_count": 62,
   "metadata": {},
   "outputs": [
    {
     "data": {
      "text/plain": [
       "array([[ 4.230e+01],\n",
       "       [ 1.000e+01],\n",
       "       [ 1.670e+00],\n",
       "       [-3.213e+03]])"
      ]
     },
     "execution_count": 62,
     "metadata": {},
     "output_type": "execute_result"
    }
   ],
   "source": [
    "x = np.array([42.3, 10, 1.67, -3213]).reshape(-1,1)\n",
    "x"
   ]
  },
  {
   "cell_type": "code",
   "execution_count": 63,
   "metadata": {},
   "outputs": [
    {
     "data": {
      "text/plain": [
       "array([[196.55]])"
      ]
     },
     "execution_count": 63,
     "metadata": {},
     "output_type": "execute_result"
    }
   ],
   "source": [
    "np.dot(h0, x)"
   ]
  },
  {
   "cell_type": "code",
   "execution_count": 64,
   "metadata": {},
   "outputs": [
    {
     "data": {
      "text/plain": [
       "array([[260.56]])"
      ]
     },
     "execution_count": 64,
     "metadata": {},
     "output_type": "execute_result"
    }
   ],
   "source": [
    "np.dot(h1, x)"
   ]
  },
  {
   "cell_type": "code",
   "execution_count": 65,
   "metadata": {},
   "outputs": [
    {
     "data": {
      "text/plain": [
       "array([[334.55]])"
      ]
     },
     "execution_count": 65,
     "metadata": {},
     "output_type": "execute_result"
    }
   ],
   "source": [
    "np.dot(h2, x)"
   ]
  },
  {
   "cell_type": "code",
   "execution_count": 66,
   "metadata": {},
   "outputs": [
    {
     "data": {
      "text/plain": [
       "array([[349.6]])"
      ]
     },
     "execution_count": 66,
     "metadata": {},
     "output_type": "execute_result"
    }
   ],
   "source": [
    "np.dot(h3, x)"
   ]
  },
  {
   "cell_type": "code",
   "execution_count": 69,
   "metadata": {},
   "outputs": [
    {
     "data": {
      "text/plain": [
       "array([[   2,    1, 1985,    1],\n",
       "       [   3,    1, 1998,    1],\n",
       "       [   4,    3, 2005,    1],\n",
       "       [   4,    2, 2020,    1]])"
      ]
     },
     "execution_count": 69,
     "metadata": {},
     "output_type": "execute_result"
    }
   ],
   "source": [
    "A"
   ]
  },
  {
   "cell_type": "code",
   "execution_count": 68,
   "metadata": {},
   "outputs": [
    {
     "data": {
      "text/plain": [
       "array([[ 4.230e+01],\n",
       "       [ 1.000e+01],\n",
       "       [ 1.670e+00],\n",
       "       [-3.213e+03]])"
      ]
     },
     "execution_count": 68,
     "metadata": {},
     "output_type": "execute_result"
    }
   ],
   "source": [
    "x"
   ]
  },
  {
   "cell_type": "code",
   "execution_count": 70,
   "metadata": {},
   "outputs": [
    {
     "data": {
      "text/plain": [
       "array([[196.55],\n",
       "       [260.56],\n",
       "       [334.55],\n",
       "       [349.6 ]])"
      ]
     },
     "execution_count": 70,
     "metadata": {},
     "output_type": "execute_result"
    }
   ],
   "source": [
    "np.dot(A,x)"
   ]
  },
  {
   "cell_type": "code",
   "execution_count": 71,
   "metadata": {},
   "outputs": [],
   "source": [
    "houses[\"price_est\"]=np.dot(A,x)"
   ]
  },
  {
   "cell_type": "code",
   "execution_count": 72,
   "metadata": {},
   "outputs": [
    {
     "data": {
      "text/html": [
       "<div>\n",
       "<style scoped>\n",
       "    .dataframe tbody tr th:only-of-type {\n",
       "        vertical-align: middle;\n",
       "    }\n",
       "\n",
       "    .dataframe tbody tr th {\n",
       "        vertical-align: top;\n",
       "    }\n",
       "\n",
       "    .dataframe thead th {\n",
       "        text-align: right;\n",
       "    }\n",
       "</style>\n",
       "<table border=\"1\" class=\"dataframe\">\n",
       "  <thead>\n",
       "    <tr style=\"text-align: right;\">\n",
       "      <th></th>\n",
       "      <th>beds</th>\n",
       "      <th>baths</th>\n",
       "      <th>year</th>\n",
       "      <th>const</th>\n",
       "      <th>price_est</th>\n",
       "    </tr>\n",
       "  </thead>\n",
       "  <tbody>\n",
       "    <tr>\n",
       "      <th>0</th>\n",
       "      <td>2</td>\n",
       "      <td>1</td>\n",
       "      <td>1985</td>\n",
       "      <td>1</td>\n",
       "      <td>196.55</td>\n",
       "    </tr>\n",
       "    <tr>\n",
       "      <th>1</th>\n",
       "      <td>3</td>\n",
       "      <td>1</td>\n",
       "      <td>1998</td>\n",
       "      <td>1</td>\n",
       "      <td>260.56</td>\n",
       "    </tr>\n",
       "    <tr>\n",
       "      <th>2</th>\n",
       "      <td>4</td>\n",
       "      <td>3</td>\n",
       "      <td>2005</td>\n",
       "      <td>1</td>\n",
       "      <td>334.55</td>\n",
       "    </tr>\n",
       "    <tr>\n",
       "      <th>3</th>\n",
       "      <td>4</td>\n",
       "      <td>2</td>\n",
       "      <td>2020</td>\n",
       "      <td>1</td>\n",
       "      <td>349.60</td>\n",
       "    </tr>\n",
       "  </tbody>\n",
       "</table>\n",
       "</div>"
      ],
      "text/plain": [
       "   beds  baths  year  const  price_est\n",
       "0     2      1  1985      1     196.55\n",
       "1     3      1  1998      1     260.56\n",
       "2     4      3  2005      1     334.55\n",
       "3     4      2  2020      1     349.60"
      ]
     },
     "execution_count": 72,
     "metadata": {},
     "output_type": "execute_result"
    }
   ],
   "source": [
    "houses"
   ]
  },
  {
   "cell_type": "code",
   "execution_count": 73,
   "metadata": {},
   "outputs": [
    {
     "name": "stdout",
     "output_type": "stream",
     "text": [
      "========================================\n",
      "Get 3 in a row correct to finish!\n",
      "========================================\n",
      "\n",
      "A = \n",
      "[[ 0  2]\n",
      " [-1  3]\n",
      " [-2  0]\n",
      " [-1  3]\n",
      " [-1 -3]]\n",
      "\n",
      "b = \n",
      "[[ 1]\n",
      " [-1]]\n",
      "\n",
      "np.dot(A,b) = \n",
      "[[-2]\n",
      " [-4]\n",
      " ['x']\n",
      " [-4]\n",
      " [2]]\n",
      "\n",
      "What is 'x'?  -2\n",
      "\n",
      "Good job!\n",
      "\n",
      "========================================\n",
      "Get 2 in a row correct to finish!\n",
      "========================================\n",
      "\n",
      "A = \n",
      "[[-1  3 -1]\n",
      " [-2  2 -1]\n",
      " [ 3 -1 -1]\n",
      " [-2  2 -2]\n",
      " [ 0  1  2]]\n",
      "\n",
      "b = \n",
      "[[ 2]\n",
      " [ 1]\n",
      " [-2]]\n",
      "\n",
      "np.dot(A,b) = \n",
      "[[3]\n",
      " [0]\n",
      " [7]\n",
      " [2]\n",
      " ['x']]\n",
      "\n",
      "What is 'x'?  -3\n",
      "\n",
      "Good job!\n",
      "\n",
      "========================================\n",
      "Get 1 in a row correct to finish!\n",
      "========================================\n",
      "\n",
      "A = \n",
      "[[ 3  0  1 -2]\n",
      " [-1  1  0  2]\n",
      " [ 2  1  0 -3]]\n",
      "\n",
      "b = \n",
      "[[1]\n",
      " [0]\n",
      " [3]\n",
      " [3]]\n",
      "\n",
      "np.dot(A,b) = \n",
      "[['x']\n",
      " [5]\n",
      " [-7]]\n",
      "\n",
      "What is 'x'?  0\n",
      "\n",
      "Good job!\n",
      "\n",
      "Nice, you got 3 in a row correct!\n"
     ]
    }
   ],
   "source": [
    "def practice(cols):\n",
    "    rows = np.random.randint(3, 7)\n",
    "    A = np.random.randint(-3,4,(rows, cols))\n",
    "    b = np.random.randint(-3,4,cols).reshape(-1,1)\n",
    "    print(\"A = \")\n",
    "    print(A)\n",
    "    print()\n",
    "    print(\"b = \")\n",
    "    print(b)\n",
    "    print()\n",
    "    M = np.dot(A,b).astype(object)\n",
    "    pos = np.random.randint(0,rows)\n",
    "    expected, M[pos,0] = M[pos,0], \"x\"\n",
    "    print(\"np.dot(A,b) = \")\n",
    "    print(M)    \n",
    "    print()\n",
    "    answer = int(input(\"What is 'x'?  \"))\n",
    "    print()\n",
    "    if answer == expected:\n",
    "        print(\"Good job!\")\n",
    "        return True\n",
    "    else:\n",
    "        print(\"\\nActually, it is \", expected)\n",
    "        print(\"Calculation:\", \" + \".join(f\"({x}*{y})\" for x,y in zip(A[pos].reshape(-1), b.reshape(-1))))\n",
    "        time.sleep(2)\n",
    "        return False\n",
    "\n",
    "goal = 3\n",
    "correct = 0\n",
    "while correct < goal:\n",
    "    print(\"=\"*40)\n",
    "    print(f\"Get {goal-correct} in a row correct to finish!\")\n",
    "    print(\"=\"*40)\n",
    "    print()\n",
    "    if practice(correct+2):\n",
    "        correct += 1\n",
    "    else:\n",
    "        correct = 0\n",
    "    print()\n",
    "        \n",
    "print(f\"Nice, you got {goal} in a row correct!\")"
   ]
  },
  {
   "cell_type": "markdown",
   "metadata": {},
   "source": [
    "Part3"
   ]
  },
  {
   "cell_type": "code",
   "execution_count": 75,
   "metadata": {},
   "outputs": [
    {
     "data": {
      "text/html": [
       "<div>\n",
       "<style scoped>\n",
       "    .dataframe tbody tr th:only-of-type {\n",
       "        vertical-align: middle;\n",
       "    }\n",
       "\n",
       "    .dataframe tbody tr th {\n",
       "        vertical-align: top;\n",
       "    }\n",
       "\n",
       "    .dataframe thead th {\n",
       "        text-align: right;\n",
       "    }\n",
       "</style>\n",
       "<table border=\"1\" class=\"dataframe\">\n",
       "  <thead>\n",
       "    <tr style=\"text-align: right;\">\n",
       "      <th></th>\n",
       "      <th>beds</th>\n",
       "      <th>baths</th>\n",
       "      <th>year</th>\n",
       "      <th>price</th>\n",
       "    </tr>\n",
       "  </thead>\n",
       "  <tbody>\n",
       "    <tr>\n",
       "      <th>0</th>\n",
       "      <td>2</td>\n",
       "      <td>1</td>\n",
       "      <td>1985</td>\n",
       "      <td>196.55</td>\n",
       "    </tr>\n",
       "    <tr>\n",
       "      <th>1</th>\n",
       "      <td>3</td>\n",
       "      <td>1</td>\n",
       "      <td>1998</td>\n",
       "      <td>260.56</td>\n",
       "    </tr>\n",
       "    <tr>\n",
       "      <th>2</th>\n",
       "      <td>4</td>\n",
       "      <td>3</td>\n",
       "      <td>2005</td>\n",
       "      <td>334.55</td>\n",
       "    </tr>\n",
       "    <tr>\n",
       "      <th>3</th>\n",
       "      <td>4</td>\n",
       "      <td>2</td>\n",
       "      <td>2020</td>\n",
       "      <td>349.60</td>\n",
       "    </tr>\n",
       "  </tbody>\n",
       "</table>\n",
       "</div>"
      ],
      "text/plain": [
       "   beds  baths  year   price\n",
       "0     2      1  1985  196.55\n",
       "1     3      1  1998  260.56\n",
       "2     4      3  2005  334.55\n",
       "3     4      2  2020  349.60"
      ]
     },
     "execution_count": 75,
     "metadata": {},
     "output_type": "execute_result"
    }
   ],
   "source": [
    "houses = pd.DataFrame([[2,1,1985],[3,1,1998],[4,3,2005],[4,2,2020]], columns=['beds','baths','year'])\n",
    "houses[\"price\"]=np.dot(A,x)\n",
    "houses"
   ]
  },
  {
   "cell_type": "code",
   "execution_count": 86,
   "metadata": {},
   "outputs": [
    {
     "data": {
      "text/plain": [
       "array([[2.000e+00, 1.000e+00, 1.985e+03, 1.000e+00],\n",
       "       [3.000e+00, 1.000e+00, 1.998e+03, 1.000e+00],\n",
       "       [4.000e+00, 3.000e+00, 2.005e+03, 1.000e+00],\n",
       "       [4.000e+00, 2.000e+00, 2.020e+03, 1.000e+00]])"
      ]
     },
     "execution_count": 86,
     "metadata": {},
     "output_type": "execute_result"
    }
   ],
   "source": [
    "A = houses.values[:,:-1]\n",
    "A = np.concatenate((A, np.ones(4).reshape(-1,1)), axis=1)\n",
    "A"
   ]
  },
  {
   "cell_type": "code",
   "execution_count": 87,
   "metadata": {},
   "outputs": [
    {
     "data": {
      "text/plain": [
       "array([[196.55],\n",
       "       [260.56],\n",
       "       [334.55],\n",
       "       [349.6 ]])"
      ]
     },
     "execution_count": 87,
     "metadata": {},
     "output_type": "execute_result"
    }
   ],
   "source": [
    "b =houses.values[:,-1:]\n",
    "b"
   ]
  },
  {
   "cell_type": "code",
   "execution_count": 89,
   "metadata": {},
   "outputs": [
    {
     "data": {
      "text/plain": [
       "array([[ 4.230e+01],\n",
       "       [ 1.000e+01],\n",
       "       [ 1.670e+00],\n",
       "       [-3.213e+03]])"
      ]
     },
     "execution_count": 89,
     "metadata": {},
     "output_type": "execute_result"
    }
   ],
   "source": [
    "x = np.linalg.solve(A, b)\n",
    "x"
   ]
  },
  {
   "cell_type": "code",
   "execution_count": 90,
   "metadata": {},
   "outputs": [
    {
     "data": {
      "text/plain": [
       "[array([42.3]), array([10.]), array([1.67]), array([-3213.])]"
      ]
     },
     "execution_count": 90,
     "metadata": {},
     "output_type": "execute_result"
    }
   ],
   "source": [
    "list(x)"
   ]
  },
  {
   "cell_type": "code",
   "execution_count": 91,
   "metadata": {},
   "outputs": [
    {
     "name": "stdout",
     "output_type": "stream",
     "text": [
      "Apple Value: 0.5\n",
      "Banana Value: 0.24999999999999994\n",
      "Basket Value: 2.0\n"
     ]
    }
   ],
   "source": [
    "A = np.array([\n",
    "    [10,0,1],\n",
    "    [2,8,1],\n",
    "    [4,4,1],\n",
    "])\n",
    "b = np.array([7,5,5]).reshape(-1,1)\n",
    "\n",
    "x = np.linalg.solve(A, b)\n",
    "apple_val, banana_val, basket_val = x.reshape(-1)\n",
    "\n",
    "print(\"Apple Value:\", apple_val)\n",
    "print(\"Banana Value:\", banana_val)\n",
    "print(\"Basket Value:\", basket_val)"
   ]
  },
  {
   "cell_type": "code",
   "execution_count": null,
   "metadata": {},
   "outputs": [],
   "source": []
  }
 ],
 "metadata": {
  "kernelspec": {
   "display_name": "Python 3",
   "language": "python",
   "name": "python3"
  },
  "language_info": {
   "codemirror_mode": {
    "name": "ipython",
    "version": 3
   },
   "file_extension": ".py",
   "mimetype": "text/x-python",
   "name": "python",
   "nbconvert_exporter": "python",
   "pygments_lexer": "ipython3",
   "version": "3.6.9"
  }
 },
 "nbformat": 4,
 "nbformat_minor": 4
}
