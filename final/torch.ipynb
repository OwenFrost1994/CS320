{
 "cells": [
  {
   "cell_type": "code",
   "execution_count": 1,
   "metadata": {},
   "outputs": [],
   "source": [
    "import torch\n",
    "from matplotlib import pyplot as plt\n",
    "import torch.nn.functional as F"
   ]
  },
  {
   "cell_type": "code",
   "execution_count": 2,
   "metadata": {},
   "outputs": [],
   "source": [
    "class Net(torch.nn.Module):\n",
    "    # Net类的初始化函数\n",
    "    def __init__(self, n_feature, n_hidden, n_output):\n",
    "        # 继承父类的初始化函数\n",
    "        super(Net, self).__init__()\n",
    "        # 网络的隐藏层创建，名称可以随便起\n",
    "        self.hidden_layer = torch.nn.Linear(n_feature, n_hidden)\n",
    "        # 输出层(预测层)创建，接收来自隐含层的数据\n",
    "        self.predict_layer = torch.nn.Linear(n_hidden, n_output)\n",
    "\n",
    "    # 网络的前向传播函数，构造计算图\n",
    "    def forward(self, x):\n",
    "        # 用relu函数处理隐含层输出的结果并传给输出层\n",
    "        hidden_result = self.hidden_layer(x)\n",
    "        relu_result = F.relu(hidden_result)\n",
    "        predict_result = self.predict_layer(relu_result)\n",
    "        return predict_result"
   ]
  },
  {
   "cell_type": "code",
   "execution_count": 3,
   "metadata": {},
   "outputs": [],
   "source": [
    "# 训练次数\n",
    "TRAIN_TIMES = 300\n",
    "# 输入输出的数据维度，这里都是1维\n",
    "INPUT_FEATURE_DIM = 1\n",
    "OUTPUT_FEATURE_DIM = 1\n",
    "# 隐含层中神经元的个数\n",
    "NEURON_NUM = 32\n",
    "# 学习率，越大学的越快，但也容易造成不稳定，准确率上下波动的情况\n",
    "LEARNING_RATE = 0.1"
   ]
  },
  {
   "cell_type": "code",
   "execution_count": null,
   "metadata": {},
   "outputs": [],
   "source": []
  },
  {
   "cell_type": "code",
   "execution_count": null,
   "metadata": {},
   "outputs": [],
   "source": [
    "# 数据构造\n",
    "# 这里x_data、y_data都是tensor格式，在PyTorch0.4版本以后，也能进行反向传播\n",
    "# 所以不需要再转成Variable格式了\n",
    "# linspace函数用于生成一系列数据\n",
    "# unsqueeze函数可以将一维数据变成二维数据，在torch中只能处理二维数据\n",
    "x_data = torch.unsqueeze(torch.linspace(-4, 4, 80), dim=1)\n",
    "# randn函数用于生成服从正态分布的随机数\n",
    "y_data = x_data.pow(3) + 3 * torch.randn(x_data.size())\n",
    "y_data_real = x_data.pow(3)"
   ]
  }
 ],
 "metadata": {
  "kernelspec": {
   "display_name": "Python 3",
   "language": "python",
   "name": "python3"
  },
  "language_info": {
   "codemirror_mode": {
    "name": "ipython",
    "version": 3
   },
   "file_extension": ".py",
   "mimetype": "text/x-python",
   "name": "python",
   "nbconvert_exporter": "python",
   "pygments_lexer": "ipython3",
   "version": "3.6.9"
  }
 },
 "nbformat": 4,
 "nbformat_minor": 4
}
