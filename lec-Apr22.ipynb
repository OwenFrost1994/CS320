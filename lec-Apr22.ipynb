{
 "cells": [
  {
   "cell_type": "code",
   "execution_count": 1,
   "metadata": {},
   "outputs": [
    {
     "data": {
      "text/html": [
       "<div>\n",
       "<style scoped>\n",
       "    .dataframe tbody tr th:only-of-type {\n",
       "        vertical-align: middle;\n",
       "    }\n",
       "\n",
       "    .dataframe tbody tr th {\n",
       "        vertical-align: top;\n",
       "    }\n",
       "\n",
       "    .dataframe thead th {\n",
       "        text-align: right;\n",
       "    }\n",
       "</style>\n",
       "<table border=\"1\" class=\"dataframe\">\n",
       "  <thead>\n",
       "    <tr style=\"text-align: right;\">\n",
       "      <th></th>\n",
       "      <th>x1</th>\n",
       "      <th>x2</th>\n",
       "      <th>x3</th>\n",
       "      <th>one</th>\n",
       "      <th>y</th>\n",
       "      <th>z</th>\n",
       "    </tr>\n",
       "  </thead>\n",
       "  <tbody>\n",
       "    <tr>\n",
       "      <th>0</th>\n",
       "      <td>8.973478</td>\n",
       "      <td>2.207377</td>\n",
       "      <td>9.061502</td>\n",
       "      <td>1</td>\n",
       "      <td>12.848586</td>\n",
       "      <td>True</td>\n",
       "    </tr>\n",
       "    <tr>\n",
       "      <th>1</th>\n",
       "      <td>8.356966</td>\n",
       "      <td>5.851814</td>\n",
       "      <td>1.047791</td>\n",
       "      <td>1</td>\n",
       "      <td>32.750062</td>\n",
       "      <td>True</td>\n",
       "    </tr>\n",
       "    <tr>\n",
       "      <th>2</th>\n",
       "      <td>3.702320</td>\n",
       "      <td>3.078078</td>\n",
       "      <td>7.416740</td>\n",
       "      <td>1</td>\n",
       "      <td>2.742693</td>\n",
       "      <td>False</td>\n",
       "    </tr>\n",
       "    <tr>\n",
       "      <th>3</th>\n",
       "      <td>8.535779</td>\n",
       "      <td>2.445276</td>\n",
       "      <td>5.936232</td>\n",
       "      <td>1</td>\n",
       "      <td>18.801234</td>\n",
       "      <td>True</td>\n",
       "    </tr>\n",
       "    <tr>\n",
       "      <th>4</th>\n",
       "      <td>9.286952</td>\n",
       "      <td>1.654095</td>\n",
       "      <td>3.647136</td>\n",
       "      <td>1</td>\n",
       "      <td>26.139734</td>\n",
       "      <td>True</td>\n",
       "    </tr>\n",
       "    <tr>\n",
       "      <th>...</th>\n",
       "      <td>...</td>\n",
       "      <td>...</td>\n",
       "      <td>...</td>\n",
       "      <td>...</td>\n",
       "      <td>...</td>\n",
       "      <td>...</td>\n",
       "    </tr>\n",
       "    <tr>\n",
       "      <th>95</th>\n",
       "      <td>7.378573</td>\n",
       "      <td>5.316028</td>\n",
       "      <td>3.833651</td>\n",
       "      <td>1</td>\n",
       "      <td>22.572937</td>\n",
       "      <td>True</td>\n",
       "    </tr>\n",
       "    <tr>\n",
       "      <th>96</th>\n",
       "      <td>6.772877</td>\n",
       "      <td>2.107771</td>\n",
       "      <td>2.921814</td>\n",
       "      <td>1</td>\n",
       "      <td>20.971000</td>\n",
       "      <td>True</td>\n",
       "    </tr>\n",
       "    <tr>\n",
       "      <th>97</th>\n",
       "      <td>4.397059</td>\n",
       "      <td>4.314333</td>\n",
       "      <td>2.161714</td>\n",
       "      <td>1</td>\n",
       "      <td>19.151798</td>\n",
       "      <td>True</td>\n",
       "    </tr>\n",
       "    <tr>\n",
       "      <th>98</th>\n",
       "      <td>7.890429</td>\n",
       "      <td>8.240892</td>\n",
       "      <td>8.997042</td>\n",
       "      <td>1</td>\n",
       "      <td>17.869370</td>\n",
       "      <td>False</td>\n",
       "    </tr>\n",
       "    <tr>\n",
       "      <th>99</th>\n",
       "      <td>0.380659</td>\n",
       "      <td>1.436848</td>\n",
       "      <td>7.546337</td>\n",
       "      <td>1</td>\n",
       "      <td>-8.547677</td>\n",
       "      <td>False</td>\n",
       "    </tr>\n",
       "  </tbody>\n",
       "</table>\n",
       "<p>100 rows × 6 columns</p>\n",
       "</div>"
      ],
      "text/plain": [
       "          x1        x2        x3  one          y      z\n",
       "0   8.973478  2.207377  9.061502    1  12.848586   True\n",
       "1   8.356966  5.851814  1.047791    1  32.750062   True\n",
       "2   3.702320  3.078078  7.416740    1   2.742693  False\n",
       "3   8.535779  2.445276  5.936232    1  18.801234   True\n",
       "4   9.286952  1.654095  3.647136    1  26.139734   True\n",
       "..       ...       ...       ...  ...        ...    ...\n",
       "95  7.378573  5.316028  3.833651    1  22.572937   True\n",
       "96  6.772877  2.107771  2.921814    1  20.971000   True\n",
       "97  4.397059  4.314333  2.161714    1  19.151798   True\n",
       "98  7.890429  8.240892  8.997042    1  17.869370  False\n",
       "99  0.380659  1.436848  7.546337    1  -8.547677  False\n",
       "\n",
       "[100 rows x 6 columns]"
      ]
     },
     "execution_count": 1,
     "metadata": {},
     "output_type": "execute_result"
    }
   ],
   "source": [
    "import pandas as pd\n",
    "import numpy as np\n",
    "\n",
    "df = pd.read_csv(\"df.csv\")\n",
    "df"
   ]
  },
  {
   "cell_type": "code",
   "execution_count": 2,
   "metadata": {},
   "outputs": [
    {
     "data": {
      "text/plain": [
       "True    100\n",
       "Name: 0, dtype: int64"
      ]
     },
     "execution_count": 2,
     "metadata": {},
     "output_type": "execute_result"
    }
   ],
   "source": [
    "def get_row(i):\n",
    "    return df.loc[i, \"x1\":\"one\"].values.reshape(1,-1).astype(float)\n",
    "\n",
    "vec2 = np.array([[ 1.37239431],\n",
    "                 [-1.16675093],\n",
    "                 [-1.32467119],\n",
    "                 [ 6.59925245]])\n",
    "\n",
    "def sigmoid(x):\n",
    "    return 1 / (1 + np.exp(-x))\n",
    "\n",
    "def classification_model_v1(row):\n",
    "    return sigmoid(row @ vec2).round().astype(bool)\n",
    "\n",
    "def classification_model_v2(row):\n",
    "    return row @ vec2 >= 0\n",
    "\n",
    "eq = classification_model_v1(df.loc[:, \"x1\":\"one\"]) == classification_model_v2(df.loc[:, \"x1\":\"one\"])\n",
    "eq[0].value_counts()"
   ]
  },
  {
   "cell_type": "code",
   "execution_count": 3,
   "metadata": {},
   "outputs": [],
   "source": [
    "from sklearn.model_selection import train_test_split\n",
    "from sklearn.preprocessing import StandardScaler\n",
    "from sklearn.linear_model import LogisticRegression\n",
    "from sklearn.linear_model import LinearRegression\n",
    "from sklearn.pipeline import Pipeline"
   ]
  },
  {
   "cell_type": "code",
   "execution_count": 21,
   "metadata": {},
   "outputs": [
    {
     "data": {
      "text/html": [
       "<div>\n",
       "<style scoped>\n",
       "    .dataframe tbody tr th:only-of-type {\n",
       "        vertical-align: middle;\n",
       "    }\n",
       "\n",
       "    .dataframe tbody tr th {\n",
       "        vertical-align: top;\n",
       "    }\n",
       "\n",
       "    .dataframe thead th {\n",
       "        text-align: right;\n",
       "    }\n",
       "</style>\n",
       "<table border=\"1\" class=\"dataframe\">\n",
       "  <thead>\n",
       "    <tr style=\"text-align: right;\">\n",
       "      <th></th>\n",
       "      <th>x1</th>\n",
       "      <th>x2</th>\n",
       "      <th>x3</th>\n",
       "      <th>one</th>\n",
       "      <th>y</th>\n",
       "      <th>z</th>\n",
       "    </tr>\n",
       "  </thead>\n",
       "  <tbody>\n",
       "    <tr>\n",
       "      <th>47</th>\n",
       "      <td>1.788779</td>\n",
       "      <td>9.549090</td>\n",
       "      <td>2.295935</td>\n",
       "      <td>1</td>\n",
       "      <td>14.334133</td>\n",
       "      <td>False</td>\n",
       "    </tr>\n",
       "    <tr>\n",
       "      <th>92</th>\n",
       "      <td>1.532347</td>\n",
       "      <td>5.160233</td>\n",
       "      <td>9.547453</td>\n",
       "      <td>1</td>\n",
       "      <td>-4.220109</td>\n",
       "      <td>False</td>\n",
       "    </tr>\n",
       "    <tr>\n",
       "      <th>1</th>\n",
       "      <td>8.356966</td>\n",
       "      <td>5.851814</td>\n",
       "      <td>1.047791</td>\n",
       "      <td>1</td>\n",
       "      <td>32.750062</td>\n",
       "      <td>True</td>\n",
       "    </tr>\n",
       "    <tr>\n",
       "      <th>34</th>\n",
       "      <td>3.970822</td>\n",
       "      <td>5.663960</td>\n",
       "      <td>0.408244</td>\n",
       "      <td>1</td>\n",
       "      <td>19.273661</td>\n",
       "      <td>True</td>\n",
       "    </tr>\n",
       "    <tr>\n",
       "      <th>90</th>\n",
       "      <td>0.121457</td>\n",
       "      <td>2.122451</td>\n",
       "      <td>8.748635</td>\n",
       "      <td>1</td>\n",
       "      <td>-11.528025</td>\n",
       "      <td>False</td>\n",
       "    </tr>\n",
       "  </tbody>\n",
       "</table>\n",
       "</div>"
      ],
      "text/plain": [
       "          x1        x2        x3  one          y      z\n",
       "47  1.788779  9.549090  2.295935    1  14.334133  False\n",
       "92  1.532347  5.160233  9.547453    1  -4.220109  False\n",
       "1   8.356966  5.851814  1.047791    1  32.750062   True\n",
       "34  3.970822  5.663960  0.408244    1  19.273661   True\n",
       "90  0.121457  2.122451  8.748635    1 -11.528025  False"
      ]
     },
     "execution_count": 21,
     "metadata": {},
     "output_type": "execute_result"
    }
   ],
   "source": [
    "train, test = train_test_split(df, train_size = 0.5, stratify = df['z'])\n",
    "train.head()"
   ]
  },
  {
   "cell_type": "code",
   "execution_count": 22,
   "metadata": {},
   "outputs": [
    {
     "data": {
      "text/plain": [
       "True     30\n",
       "False    20\n",
       "Name: z, dtype: int64"
      ]
     },
     "execution_count": 22,
     "metadata": {},
     "output_type": "execute_result"
    }
   ],
   "source": [
    "train['z'].value_counts()"
   ]
  },
  {
   "cell_type": "code",
   "execution_count": 24,
   "metadata": {},
   "outputs": [
    {
     "data": {
      "text/html": [
       "<div>\n",
       "<style scoped>\n",
       "    .dataframe tbody tr th:only-of-type {\n",
       "        vertical-align: middle;\n",
       "    }\n",
       "\n",
       "    .dataframe tbody tr th {\n",
       "        vertical-align: top;\n",
       "    }\n",
       "\n",
       "    .dataframe thead th {\n",
       "        text-align: right;\n",
       "    }\n",
       "</style>\n",
       "<table border=\"1\" class=\"dataframe\">\n",
       "  <thead>\n",
       "    <tr style=\"text-align: right;\">\n",
       "      <th></th>\n",
       "      <th>x1</th>\n",
       "      <th>x2</th>\n",
       "      <th>x3</th>\n",
       "      <th>one</th>\n",
       "      <th>y</th>\n",
       "      <th>z</th>\n",
       "    </tr>\n",
       "  </thead>\n",
       "  <tbody>\n",
       "    <tr>\n",
       "      <th>45</th>\n",
       "      <td>9.155967</td>\n",
       "      <td>4.432187</td>\n",
       "      <td>7.066358</td>\n",
       "      <td>1</td>\n",
       "      <td>20.476702</td>\n",
       "      <td>True</td>\n",
       "    </tr>\n",
       "    <tr>\n",
       "      <th>61</th>\n",
       "      <td>8.078886</td>\n",
       "      <td>1.264706</td>\n",
       "      <td>7.784988</td>\n",
       "      <td>1</td>\n",
       "      <td>14.324082</td>\n",
       "      <td>True</td>\n",
       "    </tr>\n",
       "    <tr>\n",
       "      <th>49</th>\n",
       "      <td>5.196524</td>\n",
       "      <td>3.575862</td>\n",
       "      <td>6.263268</td>\n",
       "      <td>1</td>\n",
       "      <td>10.435747</td>\n",
       "      <td>True</td>\n",
       "    </tr>\n",
       "    <tr>\n",
       "      <th>38</th>\n",
       "      <td>7.480464</td>\n",
       "      <td>2.927084</td>\n",
       "      <td>1.911275</td>\n",
       "      <td>1</td>\n",
       "      <td>25.840455</td>\n",
       "      <td>True</td>\n",
       "    </tr>\n",
       "    <tr>\n",
       "      <th>3</th>\n",
       "      <td>8.535779</td>\n",
       "      <td>2.445276</td>\n",
       "      <td>5.936232</td>\n",
       "      <td>1</td>\n",
       "      <td>18.801234</td>\n",
       "      <td>True</td>\n",
       "    </tr>\n",
       "  </tbody>\n",
       "</table>\n",
       "</div>"
      ],
      "text/plain": [
       "          x1        x2        x3  one          y     z\n",
       "45  9.155967  4.432187  7.066358    1  20.476702  True\n",
       "61  8.078886  1.264706  7.784988    1  14.324082  True\n",
       "49  5.196524  3.575862  6.263268    1  10.435747  True\n",
       "38  7.480464  2.927084  1.911275    1  25.840455  True\n",
       "3   8.535779  2.445276  5.936232    1  18.801234  True"
      ]
     },
     "execution_count": 24,
     "metadata": {},
     "output_type": "execute_result"
    }
   ],
   "source": [
    "test.head()"
   ]
  },
  {
   "cell_type": "code",
   "execution_count": 25,
   "metadata": {},
   "outputs": [
    {
     "data": {
      "text/plain": [
       "True     31\n",
       "False    19\n",
       "Name: z, dtype: int64"
      ]
     },
     "execution_count": 25,
     "metadata": {},
     "output_type": "execute_result"
    }
   ],
   "source": [
    "test['z'].value_counts()"
   ]
  },
  {
   "cell_type": "code",
   "execution_count": 26,
   "metadata": {},
   "outputs": [
    {
     "data": {
      "text/plain": [
       "((50, 6), (50, 6))"
      ]
     },
     "execution_count": 26,
     "metadata": {},
     "output_type": "execute_result"
    }
   ],
   "source": [
    "train.shape, test.shape"
   ]
  },
  {
   "cell_type": "code",
   "execution_count": 27,
   "metadata": {},
   "outputs": [
    {
     "data": {
      "text/plain": [
       "LogisticRegression(C=1.0, class_weight=None, dual=False, fit_intercept=True,\n",
       "                   intercept_scaling=1, l1_ratio=None, max_iter=100,\n",
       "                   multi_class='auto', n_jobs=None, penalty='l2',\n",
       "                   random_state=None, solver='lbfgs', tol=0.0001, verbose=0,\n",
       "                   warm_start=False)"
      ]
     },
     "execution_count": 27,
     "metadata": {},
     "output_type": "execute_result"
    }
   ],
   "source": [
    "lr = LogisticRegression()\n",
    "lr.fit(train.loc[:,'x1':'x3'], train['z'])"
   ]
  },
  {
   "cell_type": "code",
   "execution_count": 28,
   "metadata": {},
   "outputs": [
    {
     "data": {
      "text/plain": [
       "0.98"
      ]
     },
     "execution_count": 28,
     "metadata": {},
     "output_type": "execute_result"
    }
   ],
   "source": [
    "lr.score(train.loc[:,'x1':'x3'], train['z']) # BAD!"
   ]
  },
  {
   "cell_type": "code",
   "execution_count": 29,
   "metadata": {},
   "outputs": [
    {
     "data": {
      "text/plain": [
       "0.94"
      ]
     },
     "execution_count": 29,
     "metadata": {},
     "output_type": "execute_result"
    }
   ],
   "source": [
    "lr.score(test.loc[:,'x1':'x3'], test['z'])"
   ]
  },
  {
   "cell_type": "code",
   "execution_count": 42,
   "metadata": {},
   "outputs": [
    {
     "data": {
      "text/html": [
       "<div>\n",
       "<style scoped>\n",
       "    .dataframe tbody tr th:only-of-type {\n",
       "        vertical-align: middle;\n",
       "    }\n",
       "\n",
       "    .dataframe tbody tr th {\n",
       "        vertical-align: top;\n",
       "    }\n",
       "\n",
       "    .dataframe thead th {\n",
       "        text-align: right;\n",
       "    }\n",
       "</style>\n",
       "<table border=\"1\" class=\"dataframe\">\n",
       "  <thead>\n",
       "    <tr style=\"text-align: right;\">\n",
       "      <th></th>\n",
       "      <th>x0</th>\n",
       "      <th>x1</th>\n",
       "      <th>x2</th>\n",
       "      <th>x3</th>\n",
       "      <th>x4</th>\n",
       "      <th>x5</th>\n",
       "      <th>x6</th>\n",
       "      <th>x7</th>\n",
       "      <th>x8</th>\n",
       "      <th>x9</th>\n",
       "      <th>...</th>\n",
       "      <th>x41</th>\n",
       "      <th>x42</th>\n",
       "      <th>x43</th>\n",
       "      <th>x44</th>\n",
       "      <th>x45</th>\n",
       "      <th>x46</th>\n",
       "      <th>x47</th>\n",
       "      <th>x48</th>\n",
       "      <th>x49</th>\n",
       "      <th>y</th>\n",
       "    </tr>\n",
       "  </thead>\n",
       "  <tbody>\n",
       "    <tr>\n",
       "      <th>24</th>\n",
       "      <td>6.325019</td>\n",
       "      <td>14.542406</td>\n",
       "      <td>5.344056</td>\n",
       "      <td>7.215512</td>\n",
       "      <td>9.284915</td>\n",
       "      <td>4.435561</td>\n",
       "      <td>15.532108</td>\n",
       "      <td>0.045855</td>\n",
       "      <td>15.682052</td>\n",
       "      <td>13.437947</td>\n",
       "      <td>...</td>\n",
       "      <td>8.727140</td>\n",
       "      <td>12.794621</td>\n",
       "      <td>8.644423</td>\n",
       "      <td>-2.916037</td>\n",
       "      <td>5.429157</td>\n",
       "      <td>4.443952</td>\n",
       "      <td>9.926960</td>\n",
       "      <td>9.731078</td>\n",
       "      <td>4.450104</td>\n",
       "      <td>True</td>\n",
       "    </tr>\n",
       "    <tr>\n",
       "      <th>7</th>\n",
       "      <td>14.185608</td>\n",
       "      <td>2.729661</td>\n",
       "      <td>14.853411</td>\n",
       "      <td>1.293009</td>\n",
       "      <td>9.984313</td>\n",
       "      <td>0.613119</td>\n",
       "      <td>6.567137</td>\n",
       "      <td>2.069083</td>\n",
       "      <td>-4.097695</td>\n",
       "      <td>3.260315</td>\n",
       "      <td>...</td>\n",
       "      <td>0.508622</td>\n",
       "      <td>1.898565</td>\n",
       "      <td>3.503996</td>\n",
       "      <td>5.111147</td>\n",
       "      <td>7.002299</td>\n",
       "      <td>-2.150898</td>\n",
       "      <td>3.160819</td>\n",
       "      <td>3.834708</td>\n",
       "      <td>7.032108</td>\n",
       "      <td>False</td>\n",
       "    </tr>\n",
       "    <tr>\n",
       "      <th>6</th>\n",
       "      <td>11.052948</td>\n",
       "      <td>-5.783352</td>\n",
       "      <td>-4.212595</td>\n",
       "      <td>7.323770</td>\n",
       "      <td>7.159110</td>\n",
       "      <td>0.438650</td>\n",
       "      <td>7.077599</td>\n",
       "      <td>2.400827</td>\n",
       "      <td>-0.884193</td>\n",
       "      <td>3.137186</td>\n",
       "      <td>...</td>\n",
       "      <td>5.643894</td>\n",
       "      <td>3.135871</td>\n",
       "      <td>-0.110766</td>\n",
       "      <td>1.728910</td>\n",
       "      <td>-2.455786</td>\n",
       "      <td>-0.726803</td>\n",
       "      <td>5.602556</td>\n",
       "      <td>4.670391</td>\n",
       "      <td>4.799268</td>\n",
       "      <td>False</td>\n",
       "    </tr>\n",
       "    <tr>\n",
       "      <th>27</th>\n",
       "      <td>5.199082</td>\n",
       "      <td>3.957836</td>\n",
       "      <td>11.018727</td>\n",
       "      <td>-4.861535</td>\n",
       "      <td>3.940765</td>\n",
       "      <td>7.434628</td>\n",
       "      <td>7.635110</td>\n",
       "      <td>4.846039</td>\n",
       "      <td>8.994861</td>\n",
       "      <td>1.865242</td>\n",
       "      <td>...</td>\n",
       "      <td>10.142696</td>\n",
       "      <td>10.849314</td>\n",
       "      <td>14.208459</td>\n",
       "      <td>3.624314</td>\n",
       "      <td>10.690543</td>\n",
       "      <td>1.582358</td>\n",
       "      <td>8.317008</td>\n",
       "      <td>1.473296</td>\n",
       "      <td>-1.223552</td>\n",
       "      <td>True</td>\n",
       "    </tr>\n",
       "    <tr>\n",
       "      <th>12</th>\n",
       "      <td>3.815869</td>\n",
       "      <td>12.035259</td>\n",
       "      <td>2.079250</td>\n",
       "      <td>8.749674</td>\n",
       "      <td>1.263504</td>\n",
       "      <td>4.033628</td>\n",
       "      <td>-0.322017</td>\n",
       "      <td>4.028014</td>\n",
       "      <td>1.696324</td>\n",
       "      <td>7.013096</td>\n",
       "      <td>...</td>\n",
       "      <td>4.758739</td>\n",
       "      <td>-10.054530</td>\n",
       "      <td>-1.483371</td>\n",
       "      <td>-0.500752</td>\n",
       "      <td>-2.210582</td>\n",
       "      <td>-7.601450</td>\n",
       "      <td>-2.392727</td>\n",
       "      <td>1.897703</td>\n",
       "      <td>-8.568408</td>\n",
       "      <td>False</td>\n",
       "    </tr>\n",
       "  </tbody>\n",
       "</table>\n",
       "<p>5 rows × 51 columns</p>\n",
       "</div>"
      ],
      "text/plain": [
       "           x0         x1         x2        x3        x4        x5         x6  \\\n",
       "24   6.325019  14.542406   5.344056  7.215512  9.284915  4.435561  15.532108   \n",
       "7   14.185608   2.729661  14.853411  1.293009  9.984313  0.613119   6.567137   \n",
       "6   11.052948  -5.783352  -4.212595  7.323770  7.159110  0.438650   7.077599   \n",
       "27   5.199082   3.957836  11.018727 -4.861535  3.940765  7.434628   7.635110   \n",
       "12   3.815869  12.035259   2.079250  8.749674  1.263504  4.033628  -0.322017   \n",
       "\n",
       "          x7         x8         x9  ...        x41        x42        x43  \\\n",
       "24  0.045855  15.682052  13.437947  ...   8.727140  12.794621   8.644423   \n",
       "7   2.069083  -4.097695   3.260315  ...   0.508622   1.898565   3.503996   \n",
       "6   2.400827  -0.884193   3.137186  ...   5.643894   3.135871  -0.110766   \n",
       "27  4.846039   8.994861   1.865242  ...  10.142696  10.849314  14.208459   \n",
       "12  4.028014   1.696324   7.013096  ...   4.758739 -10.054530  -1.483371   \n",
       "\n",
       "         x44        x45       x46       x47       x48       x49      y  \n",
       "24 -2.916037   5.429157  4.443952  9.926960  9.731078  4.450104   True  \n",
       "7   5.111147   7.002299 -2.150898  3.160819  3.834708  7.032108  False  \n",
       "6   1.728910  -2.455786 -0.726803  5.602556  4.670391  4.799268  False  \n",
       "27  3.624314  10.690543  1.582358  8.317008  1.473296 -1.223552   True  \n",
       "12 -0.500752  -2.210582 -7.601450 -2.392727  1.897703 -8.568408  False  \n",
       "\n",
       "[5 rows x 51 columns]"
      ]
     },
     "execution_count": 42,
     "metadata": {},
     "output_type": "execute_result"
    }
   ],
   "source": [
    "features = 50\n",
    "rows = 50\n",
    "x = np.random.uniform(0,10,rows)\n",
    "df = pd.DataFrame({f\"x{i}\": x+np.random.normal(size=x.size, scale=5) for i in range(features)})\n",
    "df[\"y\"] = x > 5\n",
    "train, test = train_test_split(df, test_size=0.5)\n",
    "train.head()"
   ]
  },
  {
   "cell_type": "code",
   "execution_count": 43,
   "metadata": {},
   "outputs": [
    {
     "data": {
      "text/plain": [
       "(1.0, 0.96)"
      ]
     },
     "execution_count": 43,
     "metadata": {},
     "output_type": "execute_result"
    }
   ],
   "source": [
    "lr = LogisticRegression()#penalty=\"none\"\n",
    "lr.fit(train.iloc[:, :-1], train[\"y\"])\n",
    "lr.score(train.iloc[:, :-1], train[\"y\"]), lr.score(test.iloc[:, :-1], test[\"y\"])"
   ]
  },
  {
   "cell_type": "code",
   "execution_count": 64,
   "metadata": {},
   "outputs": [
    {
     "data": {
      "text/html": [
       "<div>\n",
       "<style scoped>\n",
       "    .dataframe tbody tr th:only-of-type {\n",
       "        vertical-align: middle;\n",
       "    }\n",
       "\n",
       "    .dataframe tbody tr th {\n",
       "        vertical-align: top;\n",
       "    }\n",
       "\n",
       "    .dataframe thead th {\n",
       "        text-align: right;\n",
       "    }\n",
       "</style>\n",
       "<table border=\"1\" class=\"dataframe\">\n",
       "  <thead>\n",
       "    <tr style=\"text-align: right;\">\n",
       "      <th></th>\n",
       "      <th>x</th>\n",
       "      <th>y</th>\n",
       "      <th>color</th>\n",
       "    </tr>\n",
       "  </thead>\n",
       "  <tbody>\n",
       "    <tr>\n",
       "      <th>0</th>\n",
       "      <td>-2.321715</td>\n",
       "      <td>2.614126</td>\n",
       "      <td>lightgray</td>\n",
       "    </tr>\n",
       "    <tr>\n",
       "      <th>1</th>\n",
       "      <td>6.312830</td>\n",
       "      <td>7.188072</td>\n",
       "      <td>lightgray</td>\n",
       "    </tr>\n",
       "    <tr>\n",
       "      <th>2</th>\n",
       "      <td>-3.323446</td>\n",
       "      <td>4.276480</td>\n",
       "      <td>lightgray</td>\n",
       "    </tr>\n",
       "    <tr>\n",
       "      <th>3</th>\n",
       "      <td>5.411383</td>\n",
       "      <td>5.799560</td>\n",
       "      <td>lightgray</td>\n",
       "    </tr>\n",
       "    <tr>\n",
       "      <th>4</th>\n",
       "      <td>6.044006</td>\n",
       "      <td>0.688375</td>\n",
       "      <td>black</td>\n",
       "    </tr>\n",
       "  </tbody>\n",
       "</table>\n",
       "</div>"
      ],
      "text/plain": [
       "          x         y      color\n",
       "0 -2.321715  2.614126  lightgray\n",
       "1  6.312830  7.188072  lightgray\n",
       "2 -3.323446  4.276480  lightgray\n",
       "3  5.411383  5.799560  lightgray\n",
       "4  6.044006  0.688375      black"
      ]
     },
     "execution_count": 64,
     "metadata": {},
     "output_type": "execute_result"
    }
   ],
   "source": [
    "n = 1000\n",
    "df = pd.DataFrame({'x': np.random.uniform(-10, 10, n), 'y': np.random.uniform(-10, 10, n)})\n",
    "df['color'] = 'lightgray'\n",
    "dist = ((df['x']-4)**2 + (df['y']-1)**2) ** 0.5\n",
    "df.loc[dist < 4 + np.random.normal(size = n), 'color'] = 'black'\n",
    "df. head()"
   ]
  },
  {
   "cell_type": "code",
   "execution_count": 65,
   "metadata": {},
   "outputs": [
    {
     "data": {
      "text/plain": [
       "<matplotlib.axes._subplots.AxesSubplot at 0x7f78021d4278>"
      ]
     },
     "execution_count": 65,
     "metadata": {},
     "output_type": "execute_result"
    },
    {
     "data": {
      "image/png": "[encoded data removed]",
      "text/plain": [
       "<Figure size 432x288 with 1 Axes>"
      ]
     },
     "metadata": {
      "needs_background": "light"
     },
     "output_type": "display_data"
    }
   ],
   "source": [
    "df.plot.scatter(x = 'x', y = 'y', c = df['color'])"
   ]
  },
  {
   "cell_type": "code",
   "execution_count": 66,
   "metadata": {},
   "outputs": [
    {
     "data": {
      "text/html": [
       "<div>\n",
       "<style scoped>\n",
       "    .dataframe tbody tr th:only-of-type {\n",
       "        vertical-align: middle;\n",
       "    }\n",
       "\n",
       "    .dataframe tbody tr th {\n",
       "        vertical-align: top;\n",
       "    }\n",
       "\n",
       "    .dataframe thead th {\n",
       "        text-align: right;\n",
       "    }\n",
       "</style>\n",
       "<table border=\"1\" class=\"dataframe\">\n",
       "  <thead>\n",
       "    <tr style=\"text-align: right;\">\n",
       "      <th></th>\n",
       "      <th>x</th>\n",
       "      <th>y</th>\n",
       "      <th>color</th>\n",
       "    </tr>\n",
       "  </thead>\n",
       "  <tbody>\n",
       "    <tr>\n",
       "      <th>630</th>\n",
       "      <td>-7.071818</td>\n",
       "      <td>7.600532</td>\n",
       "      <td>lightgray</td>\n",
       "    </tr>\n",
       "    <tr>\n",
       "      <th>817</th>\n",
       "      <td>-3.192871</td>\n",
       "      <td>-0.509993</td>\n",
       "      <td>lightgray</td>\n",
       "    </tr>\n",
       "    <tr>\n",
       "      <th>761</th>\n",
       "      <td>9.356216</td>\n",
       "      <td>4.017694</td>\n",
       "      <td>lightgray</td>\n",
       "    </tr>\n",
       "    <tr>\n",
       "      <th>2</th>\n",
       "      <td>-3.323446</td>\n",
       "      <td>4.276480</td>\n",
       "      <td>lightgray</td>\n",
       "    </tr>\n",
       "    <tr>\n",
       "      <th>519</th>\n",
       "      <td>1.109336</td>\n",
       "      <td>-8.531354</td>\n",
       "      <td>lightgray</td>\n",
       "    </tr>\n",
       "  </tbody>\n",
       "</table>\n",
       "</div>"
      ],
      "text/plain": [
       "            x         y      color\n",
       "630 -7.071818  7.600532  lightgray\n",
       "817 -3.192871 -0.509993  lightgray\n",
       "761  9.356216  4.017694  lightgray\n",
       "2   -3.323446  4.276480  lightgray\n",
       "519  1.109336 -8.531354  lightgray"
      ]
     },
     "execution_count": 66,
     "metadata": {},
     "output_type": "execute_result"
    }
   ],
   "source": [
    "train, test = train_test_split(df)\n",
    "train.head()"
   ]
  },
  {
   "cell_type": "code",
   "execution_count": 67,
   "metadata": {},
   "outputs": [
    {
     "data": {
      "text/plain": [
       "LogisticRegression(C=1.0, class_weight=None, dual=False, fit_intercept=True,\n",
       "                   intercept_scaling=1, l1_ratio=None, max_iter=100,\n",
       "                   multi_class='auto', n_jobs=None, penalty='l2',\n",
       "                   random_state=None, solver='lbfgs', tol=0.0001, verbose=0,\n",
       "                   warm_start=False)"
      ]
     },
     "execution_count": 67,
     "metadata": {},
     "output_type": "execute_result"
    }
   ],
   "source": [
    "lr = LogisticRegression()\n",
    "lr.fit(train[['x', 'y']], train['color'])"
   ]
  },
  {
   "cell_type": "code",
   "execution_count": 68,
   "metadata": {},
   "outputs": [
    {
     "data": {
      "text/plain": [
       "0.856"
      ]
     },
     "execution_count": 68,
     "metadata": {},
     "output_type": "execute_result"
    }
   ],
   "source": [
    "lr.score(test[['x', 'y']], test['color'])"
   ]
  },
  {
   "cell_type": "code",
   "execution_count": 69,
   "metadata": {},
   "outputs": [
    {
     "data": {
      "text/plain": [
       "lightgray    0.867\n",
       "black        0.133\n",
       "Name: color, dtype: float64"
      ]
     },
     "execution_count": 69,
     "metadata": {},
     "output_type": "execute_result"
    }
   ],
   "source": [
    "df['color'].value_counts()/len(df['color'])"
   ]
  },
  {
   "cell_type": "code",
   "execution_count": 71,
   "metadata": {},
   "outputs": [
    {
     "data": {
      "text/html": [
       "<div>\n",
       "<style scoped>\n",
       "    .dataframe tbody tr th:only-of-type {\n",
       "        vertical-align: middle;\n",
       "    }\n",
       "\n",
       "    .dataframe tbody tr th {\n",
       "        vertical-align: top;\n",
       "    }\n",
       "\n",
       "    .dataframe thead th {\n",
       "        text-align: right;\n",
       "    }\n",
       "</style>\n",
       "<table border=\"1\" class=\"dataframe\">\n",
       "  <thead>\n",
       "    <tr style=\"text-align: right;\">\n",
       "      <th></th>\n",
       "      <th>x</th>\n",
       "      <th>y</th>\n",
       "      <th>color</th>\n",
       "      <th>predicted_color</th>\n",
       "    </tr>\n",
       "  </thead>\n",
       "  <tbody>\n",
       "    <tr>\n",
       "      <th>372</th>\n",
       "      <td>-5.722376</td>\n",
       "      <td>7.040011</td>\n",
       "      <td>lightgray</td>\n",
       "      <td>lightgray</td>\n",
       "    </tr>\n",
       "    <tr>\n",
       "      <th>350</th>\n",
       "      <td>-2.781993</td>\n",
       "      <td>2.233957</td>\n",
       "      <td>lightgray</td>\n",
       "      <td>lightgray</td>\n",
       "    </tr>\n",
       "    <tr>\n",
       "      <th>808</th>\n",
       "      <td>3.297674</td>\n",
       "      <td>6.891914</td>\n",
       "      <td>lightgray</td>\n",
       "      <td>lightgray</td>\n",
       "    </tr>\n",
       "    <tr>\n",
       "      <th>83</th>\n",
       "      <td>8.325487</td>\n",
       "      <td>7.268611</td>\n",
       "      <td>lightgray</td>\n",
       "      <td>lightgray</td>\n",
       "    </tr>\n",
       "    <tr>\n",
       "      <th>790</th>\n",
       "      <td>3.714111</td>\n",
       "      <td>1.324806</td>\n",
       "      <td>black</td>\n",
       "      <td>lightgray</td>\n",
       "    </tr>\n",
       "  </tbody>\n",
       "</table>\n",
       "</div>"
      ],
      "text/plain": [
       "            x         y      color predicted_color\n",
       "372 -5.722376  7.040011  lightgray       lightgray\n",
       "350 -2.781993  2.233957  lightgray       lightgray\n",
       "808  3.297674  6.891914  lightgray       lightgray\n",
       "83   8.325487  7.268611  lightgray       lightgray\n",
       "790  3.714111  1.324806      black       lightgray"
      ]
     },
     "execution_count": 71,
     "metadata": {},
     "output_type": "execute_result"
    }
   ],
   "source": [
    "test = test.copy()\n",
    "test['predicted_color'] = lr.predict(test[['x', 'y']])\n",
    "test.head()"
   ]
  },
  {
   "cell_type": "code",
   "execution_count": 72,
   "metadata": {},
   "outputs": [
    {
     "data": {
      "text/plain": [
       "<matplotlib.axes._subplots.AxesSubplot at 0x7f780209f630>"
      ]
     },
     "execution_count": 72,
     "metadata": {},
     "output_type": "execute_result"
    },
    {
     "data": {
      "image/png": "[encoded data removed]",
      "text/plain": [
       "<Figure size 432x288 with 1 Axes>"
      ]
     },
     "metadata": {
      "needs_background": "light"
     },
     "output_type": "display_data"
    }
   ],
   "source": [
    "test.plot.scatter(x = 'x', y = 'y', c = test['color'])"
   ]
  },
  {
   "cell_type": "code",
   "execution_count": 73,
   "metadata": {},
   "outputs": [
    {
     "data": {
      "text/plain": [
       "<matplotlib.axes._subplots.AxesSubplot at 0x7f7802013908>"
      ]
     },
     "execution_count": 73,
     "metadata": {},
     "output_type": "execute_result"
    },
    {
     "data": {
      "image/png": "[encoded data removed]",
      "text/plain": [
       "<Figure size 432x288 with 1 Axes>"
      ]
     },
     "metadata": {
      "needs_background": "light"
     },
     "output_type": "display_data"
    }
   ],
   "source": [
    "test.plot.scatter(x = 'x', y = 'y', c = test['predicted_color'])"
   ]
  },
  {
   "cell_type": "code",
   "execution_count": 78,
   "metadata": {},
   "outputs": [
    {
     "data": {
      "text/html": [
       "<div>\n",
       "<style scoped>\n",
       "    .dataframe tbody tr th:only-of-type {\n",
       "        vertical-align: middle;\n",
       "    }\n",
       "\n",
       "    .dataframe tbody tr th {\n",
       "        vertical-align: top;\n",
       "    }\n",
       "\n",
       "    .dataframe thead th {\n",
       "        text-align: right;\n",
       "    }\n",
       "</style>\n",
       "<table border=\"1\" class=\"dataframe\">\n",
       "  <thead>\n",
       "    <tr style=\"text-align: right;\">\n",
       "      <th></th>\n",
       "      <th>x</th>\n",
       "      <th>y</th>\n",
       "      <th>x^2</th>\n",
       "      <th>x y</th>\n",
       "      <th>y^2</th>\n",
       "    </tr>\n",
       "  </thead>\n",
       "  <tbody>\n",
       "    <tr>\n",
       "      <th>0</th>\n",
       "      <td>-7.071818</td>\n",
       "      <td>7.600532</td>\n",
       "      <td>50.010606</td>\n",
       "      <td>-53.749575</td>\n",
       "      <td>57.768083</td>\n",
       "    </tr>\n",
       "    <tr>\n",
       "      <th>1</th>\n",
       "      <td>-3.192871</td>\n",
       "      <td>-0.509993</td>\n",
       "      <td>10.194426</td>\n",
       "      <td>1.628342</td>\n",
       "      <td>0.260093</td>\n",
       "    </tr>\n",
       "    <tr>\n",
       "      <th>2</th>\n",
       "      <td>9.356216</td>\n",
       "      <td>4.017694</td>\n",
       "      <td>87.538782</td>\n",
       "      <td>37.590410</td>\n",
       "      <td>16.141862</td>\n",
       "    </tr>\n",
       "    <tr>\n",
       "      <th>3</th>\n",
       "      <td>-3.323446</td>\n",
       "      <td>4.276480</td>\n",
       "      <td>11.045296</td>\n",
       "      <td>-14.212652</td>\n",
       "      <td>18.288281</td>\n",
       "    </tr>\n",
       "    <tr>\n",
       "      <th>4</th>\n",
       "      <td>1.109336</td>\n",
       "      <td>-8.531354</td>\n",
       "      <td>1.230627</td>\n",
       "      <td>-9.464140</td>\n",
       "      <td>72.784000</td>\n",
       "    </tr>\n",
       "  </tbody>\n",
       "</table>\n",
       "</div>"
      ],
      "text/plain": [
       "          x         y        x^2        x y        y^2\n",
       "0 -7.071818  7.600532  50.010606 -53.749575  57.768083\n",
       "1 -3.192871 -0.509993  10.194426   1.628342   0.260093\n",
       "2  9.356216  4.017694  87.538782  37.590410  16.141862\n",
       "3 -3.323446  4.276480  11.045296 -14.212652  18.288281\n",
       "4  1.109336 -8.531354   1.230627  -9.464140  72.784000"
      ]
     },
     "execution_count": 78,
     "metadata": {},
     "output_type": "execute_result"
    }
   ],
   "source": [
    "from sklearn.preprocessing import PolynomialFeatures\n",
    "pf = PolynomialFeatures(include_bias = False)\n",
    "pd.DataFrame(pf.fit_transform(train[['x', 'y']]), columns = pf.get_feature_names(['x', 'y'])).head()"
   ]
  },
  {
   "cell_type": "code",
   "execution_count": 79,
   "metadata": {},
   "outputs": [
    {
     "data": {
      "text/plain": [
       "array([[ -5.72237647,   7.04001138,  32.74559251, -40.28559551,\n",
       "         49.56176026],\n",
       "       [ -2.78199296,   2.2339573 ,   7.73948481,  -6.21485347,\n",
       "          4.99056522],\n",
       "       [  3.29767425,   6.89191414,  10.87465546,  22.7272878 ,\n",
       "         47.49848051],\n",
       "       ...,\n",
       "       [  3.30101158,   6.22656634,  10.89667747,  20.5539676 ,\n",
       "         38.77012835],\n",
       "       [  8.86405317,   1.72266606,  78.57143867,  15.26980352,\n",
       "          2.96757834],\n",
       "       [ -2.17375333,   1.648795  ,   4.72520354,  -3.58407361,\n",
       "          2.71852494]])"
      ]
     },
     "execution_count": 79,
     "metadata": {},
     "output_type": "execute_result"
    }
   ],
   "source": [
    "pf.fit_transform(test[['x', 'y']])"
   ]
  },
  {
   "cell_type": "code",
   "execution_count": 80,
   "metadata": {},
   "outputs": [
    {
     "data": {
      "text/plain": [
       "Pipeline(memory=None,\n",
       "         steps=[('poly',\n",
       "                 PolynomialFeatures(degree=2, include_bias=False,\n",
       "                                    interaction_only=False, order='C')),\n",
       "                ('logr',\n",
       "                 LogisticRegression(C=1.0, class_weight=None, dual=False,\n",
       "                                    fit_intercept=True, intercept_scaling=1,\n",
       "                                    l1_ratio=None, max_iter=100,\n",
       "                                    multi_class='auto', n_jobs=None,\n",
       "                                    penalty='l2', random_state=None,\n",
       "                                    solver='lbfgs', tol=0.0001, verbose=0,\n",
       "                                    warm_start=False))],\n",
       "         verbose=False)"
      ]
     },
     "execution_count": 80,
     "metadata": {},
     "output_type": "execute_result"
    }
   ],
   "source": [
    "pipe = Pipeline([('poly',PolynomialFeatures(include_bias = False)), ('logr', LogisticRegression())])\n",
    "pipe.fit(train[['x', 'y']], train['color'])"
   ]
  },
  {
   "cell_type": "code",
   "execution_count": 81,
   "metadata": {},
   "outputs": [
    {
     "data": {
      "text/plain": [
       "0.952"
      ]
     },
     "execution_count": 81,
     "metadata": {},
     "output_type": "execute_result"
    }
   ],
   "source": [
    "pipe.score(test[['x', 'y']], test['color'])"
   ]
  },
  {
   "cell_type": "code",
   "execution_count": 82,
   "metadata": {},
   "outputs": [
    {
     "data": {
      "text/html": [
       "<div>\n",
       "<style scoped>\n",
       "    .dataframe tbody tr th:only-of-type {\n",
       "        vertical-align: middle;\n",
       "    }\n",
       "\n",
       "    .dataframe tbody tr th {\n",
       "        vertical-align: top;\n",
       "    }\n",
       "\n",
       "    .dataframe thead th {\n",
       "        text-align: right;\n",
       "    }\n",
       "</style>\n",
       "<table border=\"1\" class=\"dataframe\">\n",
       "  <thead>\n",
       "    <tr style=\"text-align: right;\">\n",
       "      <th></th>\n",
       "      <th>x</th>\n",
       "      <th>y</th>\n",
       "      <th>color</th>\n",
       "      <th>predicted_color</th>\n",
       "    </tr>\n",
       "  </thead>\n",
       "  <tbody>\n",
       "    <tr>\n",
       "      <th>372</th>\n",
       "      <td>-5.722376</td>\n",
       "      <td>7.040011</td>\n",
       "      <td>lightgray</td>\n",
       "      <td>lightgray</td>\n",
       "    </tr>\n",
       "    <tr>\n",
       "      <th>350</th>\n",
       "      <td>-2.781993</td>\n",
       "      <td>2.233957</td>\n",
       "      <td>lightgray</td>\n",
       "      <td>lightgray</td>\n",
       "    </tr>\n",
       "    <tr>\n",
       "      <th>808</th>\n",
       "      <td>3.297674</td>\n",
       "      <td>6.891914</td>\n",
       "      <td>lightgray</td>\n",
       "      <td>lightgray</td>\n",
       "    </tr>\n",
       "    <tr>\n",
       "      <th>83</th>\n",
       "      <td>8.325487</td>\n",
       "      <td>7.268611</td>\n",
       "      <td>lightgray</td>\n",
       "      <td>lightgray</td>\n",
       "    </tr>\n",
       "    <tr>\n",
       "      <th>790</th>\n",
       "      <td>3.714111</td>\n",
       "      <td>1.324806</td>\n",
       "      <td>black</td>\n",
       "      <td>black</td>\n",
       "    </tr>\n",
       "  </tbody>\n",
       "</table>\n",
       "</div>"
      ],
      "text/plain": [
       "            x         y      color predicted_color\n",
       "372 -5.722376  7.040011  lightgray       lightgray\n",
       "350 -2.781993  2.233957  lightgray       lightgray\n",
       "808  3.297674  6.891914  lightgray       lightgray\n",
       "83   8.325487  7.268611  lightgray       lightgray\n",
       "790  3.714111  1.324806      black           black"
      ]
     },
     "execution_count": 82,
     "metadata": {},
     "output_type": "execute_result"
    }
   ],
   "source": [
    "test['predicted_color'] = pipe.predict(test[['x', 'y']])\n",
    "test.head()"
   ]
  },
  {
   "cell_type": "code",
   "execution_count": 83,
   "metadata": {},
   "outputs": [
    {
     "data": {
      "text/plain": [
       "<matplotlib.axes._subplots.AxesSubplot at 0x7f7840747f98>"
      ]
     },
     "execution_count": 83,
     "metadata": {},
     "output_type": "execute_result"
    },
    {
     "data": {
      "image/png": "[encoded data removed]",
      "text/plain": [
       "<Figure size 432x288 with 1 Axes>"
      ]
     },
     "metadata": {
      "needs_background": "light"
     },
     "output_type": "display_data"
    }
   ],
   "source": [
    "test.plot.scatter(x = 'x', y = 'y', c = test['predicted_color'])"
   ]
  },
  {
   "cell_type": "code",
   "execution_count": 84,
   "metadata": {},
   "outputs": [
    {
     "data": {
      "text/html": [
       "<div>\n",
       "<style scoped>\n",
       "    .dataframe tbody tr th:only-of-type {\n",
       "        vertical-align: middle;\n",
       "    }\n",
       "\n",
       "    .dataframe tbody tr th {\n",
       "        vertical-align: top;\n",
       "    }\n",
       "\n",
       "    .dataframe thead th {\n",
       "        text-align: right;\n",
       "    }\n",
       "</style>\n",
       "<table border=\"1\" class=\"dataframe\">\n",
       "  <thead>\n",
       "    <tr style=\"text-align: right;\">\n",
       "      <th></th>\n",
       "      <th>x1</th>\n",
       "      <th>x2</th>\n",
       "      <th>y</th>\n",
       "    </tr>\n",
       "  </thead>\n",
       "  <tbody>\n",
       "    <tr>\n",
       "      <th>0</th>\n",
       "      <td>0.154518</td>\n",
       "      <td>8847.167891</td>\n",
       "      <td>True</td>\n",
       "    </tr>\n",
       "    <tr>\n",
       "      <th>1</th>\n",
       "      <td>0.817577</td>\n",
       "      <td>8792.842772</td>\n",
       "      <td>True</td>\n",
       "    </tr>\n",
       "    <tr>\n",
       "      <th>2</th>\n",
       "      <td>0.542287</td>\n",
       "      <td>8143.670138</td>\n",
       "      <td>False</td>\n",
       "    </tr>\n",
       "    <tr>\n",
       "      <th>3</th>\n",
       "      <td>0.327599</td>\n",
       "      <td>8539.178780</td>\n",
       "      <td>False</td>\n",
       "    </tr>\n",
       "    <tr>\n",
       "      <th>4</th>\n",
       "      <td>0.781014</td>\n",
       "      <td>8755.077165</td>\n",
       "      <td>True</td>\n",
       "    </tr>\n",
       "  </tbody>\n",
       "</table>\n",
       "</div>"
      ],
      "text/plain": [
       "         x1           x2      y\n",
       "0  0.154518  8847.167891   True\n",
       "1  0.817577  8792.842772   True\n",
       "2  0.542287  8143.670138  False\n",
       "3  0.327599  8539.178780  False\n",
       "4  0.781014  8755.077165   True"
      ]
     },
     "execution_count": 84,
     "metadata": {},
     "output_type": "execute_result"
    }
   ],
   "source": [
    "x1 = np.random.uniform(0,1,100)\n",
    "x2 = np.random.uniform(8000,9000,100)\n",
    "y = x1 * 1000 + x2 > 9000\n",
    "df = pd.DataFrame({\"x1\":x1, \"x2\":x2, \"y\":y})\n",
    "df.head()"
   ]
  },
  {
   "cell_type": "code",
   "execution_count": 85,
   "metadata": {},
   "outputs": [
    {
     "data": {
      "text/plain": [
       "0.56"
      ]
     },
     "execution_count": 85,
     "metadata": {},
     "output_type": "execute_result"
    }
   ],
   "source": [
    "train, test = train_test_split(df)\n",
    "lr = LogisticRegression()\n",
    "lr.fit(train[[\"x1\", \"x2\"]], train[\"y\"])\n",
    "lr.score(test[[\"x1\", \"x2\"]], test[\"y\"])"
   ]
  },
  {
   "cell_type": "code",
   "execution_count": 89,
   "metadata": {},
   "outputs": [],
   "source": [
    "pipe = Pipeline([\n",
    "    (\"std\", StandardScaler()),\n",
    "    (\"lr\", LogisticRegression()),\n",
    "])"
   ]
  },
  {
   "cell_type": "code",
   "execution_count": 90,
   "metadata": {},
   "outputs": [
    {
     "data": {
      "text/plain": [
       "0.92"
      ]
     },
     "execution_count": 90,
     "metadata": {},
     "output_type": "execute_result"
    }
   ],
   "source": [
    "pipe.fit(train[[\"x1\", \"x2\"]], train[\"y\"])\n",
    "pipe.score(test[[\"x1\", \"x2\"]], test[\"y\"])"
   ]
  },
  {
   "cell_type": "code",
   "execution_count": null,
   "metadata": {},
   "outputs": [],
   "source": []
  }
 ],
 "metadata": {
  "kernelspec": {
   "display_name": "Python 3",
   "language": "python",
   "name": "python3"
  },
  "language_info": {
   "codemirror_mode": {
    "name": "ipython",
    "version": 3
   },
   "file_extension": ".py",
   "mimetype": "text/x-python",
   "name": "python",
   "nbconvert_exporter": "python",
   "pygments_lexer": "ipython3",
   "version": "3.6.9"
  }
 },
 "nbformat": 4,
 "nbformat_minor": 4
}
