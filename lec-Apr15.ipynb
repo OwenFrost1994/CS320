{
 "cells": [
  {
   "cell_type": "code",
   "execution_count": 1,
   "metadata": {},
   "outputs": [],
   "source": [
    "import time\n",
    "import os\n",
    "from multiprocessing.pool import Pool"
   ]
  },
  {
   "cell_type": "code",
   "execution_count": 2,
   "metadata": {},
   "outputs": [
    {
     "data": {
      "text/plain": [
       "[2, 4, 6]"
      ]
     },
     "execution_count": 2,
     "metadata": {},
     "output_type": "execute_result"
    }
   ],
   "source": [
    "nums = [1,2,3]\n",
    "doubles = []\n",
    "for x in nums:\n",
    "    doubles.append(x * 2)\n",
    "doubles"
   ]
  },
  {
   "cell_type": "code",
   "execution_count": 3,
   "metadata": {},
   "outputs": [
    {
     "data": {
      "text/plain": [
       "[2, 4, 6]"
      ]
     },
     "execution_count": 3,
     "metadata": {},
     "output_type": "execute_result"
    }
   ],
   "source": [
    "doubles = [x * 2 for x in nums]\n",
    "doubles"
   ]
  },
  {
   "cell_type": "code",
   "execution_count": 5,
   "metadata": {},
   "outputs": [
    {
     "data": {
      "text/plain": [
       "[2, 4, 6]"
      ]
     },
     "execution_count": 5,
     "metadata": {},
     "output_type": "execute_result"
    }
   ],
   "source": [
    "doubles = list(map(lambda x: x * 2, nums))\n",
    "doubles"
   ]
  },
  {
   "cell_type": "code",
   "execution_count": 13,
   "metadata": {},
   "outputs": [
    {
     "data": {
      "text/plain": [
       "([2, 4, 6], 0.05221366882324219)"
      ]
     },
     "execution_count": 13,
     "metadata": {},
     "output_type": "execute_result"
    }
   ],
   "source": [
    "def mult2(x):\n",
    "    return x * 2\n",
    "\n",
    "t0 = time.time()\n",
    "doubles = list(map(mult2, nums))\n",
    "t1 = time.time()\n",
    "ms = (t1-t0) * 1000\n",
    "doubles, ms"
   ]
  },
  {
   "cell_type": "code",
   "execution_count": 15,
   "metadata": {},
   "outputs": [
    {
     "data": {
      "text/plain": [
       "([2, 4, 6], 246.79899215698242)"
      ]
     },
     "execution_count": 15,
     "metadata": {},
     "output_type": "execute_result"
    }
   ],
   "source": [
    "t0 = time.time()\n",
    "with Pool(20) as p:\n",
    "    doubles = p.map(mult2, nums)\n",
    "t1 = time.time()\n",
    "ms = (t1-t0) * 1000\n",
    "\n",
    "doubles,ms"
   ]
  },
  {
   "cell_type": "code",
   "execution_count": 11,
   "metadata": {},
   "outputs": [
    {
     "data": {
      "text/plain": [
       "1"
      ]
     },
     "execution_count": 11,
     "metadata": {},
     "output_type": "execute_result"
    }
   ],
   "source": [
    "os.cpu_count()"
   ]
  },
  {
   "cell_type": "code",
   "execution_count": 16,
   "metadata": {},
   "outputs": [
    {
     "data": {
      "text/plain": [
       "['haha', 'ha', 'hahahahahahahaha']"
      ]
     },
     "execution_count": 16,
     "metadata": {},
     "output_type": "execute_result"
    }
   ],
   "source": [
    "nums = [2, 1, 8]\n",
    "laughs = [\"ha\"*must for must in nums]\n",
    "laughs"
   ]
  },
  {
   "cell_type": "code",
   "execution_count": 19,
   "metadata": {},
   "outputs": [
    {
     "data": {
      "text/plain": [
       "['haha', 'ha', 'hahahahahahahaha']"
      ]
     },
     "execution_count": 19,
     "metadata": {},
     "output_type": "execute_result"
    }
   ],
   "source": [
    "def laugh(mult):\n",
    "    return 'ha'*mult\n",
    "\n",
    "with Pool(5) as p:\n",
    "    laughs = p.map(laugh, nums)\n",
    "\n",
    "laughs"
   ]
  },
  {
   "cell_type": "code",
   "execution_count": 22,
   "metadata": {},
   "outputs": [],
   "source": [
    "import requests, time"
   ]
  },
  {
   "cell_type": "code",
   "execution_count": 38,
   "metadata": {},
   "outputs": [
    {
     "data": {
      "text/plain": [
       "{1: '<html><body>\\n<h1>Node: 1</h1>\\n<h3>Children:</h3>\\n<ul>\\n<li><a href=\"0.html\">0</a><li><a href=\"2.html\">2</a></ul>\\n</body></html>\\n'}"
      ]
     },
     "execution_count": 38,
     "metadata": {},
     "output_type": "execute_result"
    }
   ],
   "source": [
    "url = \"https://tyler.caraza-harter.com/cs320/s20/lectures/lec-20/practice7/{}.html\"\n",
    "\n",
    "def fetch(idx):\n",
    "    r = requests.get(url.format(idx))\n",
    "    r.raise_for_status()\n",
    "    return r.text\n",
    "\n",
    "fetch(1)"
   ]
  },
  {
   "cell_type": "code",
   "execution_count": 27,
   "metadata": {},
   "outputs": [
    {
     "data": {
      "text/plain": [
       "(['<html><body>\\n<h1>Node: 0</h1>\\n<h3>Children:</h3>\\n<ul>\\n<li><a href=\"16.html\">16</a><li><a href=\"17.html\">17</a><li><a href=\"6.html\">6</a><li><a href=\"12.html\">12</a></ul>\\n</body></html>\\n',\n",
       "  '<html><body>\\n<h1>Node: 1</h1>\\n<h3>Children:</h3>\\n<ul>\\n<li><a href=\"0.html\">0</a><li><a href=\"2.html\">2</a></ul>\\n</body></html>\\n',\n",
       "  '<html><body>\\n<h1>Node: 2</h1>\\n<h3>Children:</h3>\\n<ul>\\n<li><a href=\"0.html\">0</a><li><a href=\"1.html\">1</a></ul>\\n</body></html>\\n',\n",
       "  '<html><body>\\n<h1>Node: 3</h1>\\n<h3>Children:</h3>\\n<ul>\\n<li><a href=\"2.html\">2</a><li><a href=\"4.html\">4</a></ul>\\n</body></html>\\n',\n",
       "  '<html><body>\\n<h1>Node: 4</h1>\\n<h3>Children:</h3>\\n<ul>\\n<li><a href=\"2.html\">2</a><li><a href=\"3.html\">3</a></ul>\\n</body></html>\\n',\n",
       "  '<html><body>\\n<h1>Node: 5</h1>\\n<h3>Children:</h3>\\n<ul>\\n<li><a href=\"4.html\">4</a><li><a href=\"6.html\">6</a></ul>\\n</body></html>\\n',\n",
       "  '<html><body>\\n<h1>Node: 6</h1>\\n<h3>Children:</h3>\\n<ul>\\n<li><a href=\"4.html\">4</a><li><a href=\"5.html\">5</a><li><a href=\"0.html\">0</a><li><a href=\"12.html\">12</a></ul>\\n</body></html>\\n',\n",
       "  '<html><body>\\n<h1>Node: 7</h1>\\n<h3>Children:</h3>\\n<ul>\\n<li><a href=\"6.html\">6</a><li><a href=\"8.html\">8</a></ul>\\n</body></html>\\n',\n",
       "  '<html><body>\\n<h1>Node: 8</h1>\\n<h3>Children:</h3>\\n<ul>\\n<li><a href=\"6.html\">6</a><li><a href=\"7.html\">7</a></ul>\\n</body></html>\\n',\n",
       "  '<html><body>\\n<h1>Node: 9</h1>\\n<h3>Children:</h3>\\n<ul>\\n<li><a href=\"8.html\">8</a><li><a href=\"10.html\">10</a></ul>\\n</body></html>\\n',\n",
       "  '<html><body>\\n<h1>Node: 10</h1>\\n<h3>Children:</h3>\\n<ul>\\n<li><a href=\"8.html\">8</a><li><a href=\"9.html\">9</a></ul>\\n</body></html>\\n',\n",
       "  '<html><body>\\n<h1>Node: 11</h1>\\n<h3>Children:</h3>\\n<ul>\\n<li><a href=\"10.html\">10</a><li><a href=\"12.html\">12</a></ul>\\n</body></html>\\n',\n",
       "  '<html><body>\\n<h1>Node: 12</h1>\\n<h3>Children:</h3>\\n<ul>\\n<li><a href=\"10.html\">10</a><li><a href=\"11.html\">11</a><li><a href=\"0.html\">0</a><li><a href=\"6.html\">6</a></ul>\\n</body></html>\\n',\n",
       "  '<html><body>\\n<h1>Node: 13</h1>\\n<h3>Children:</h3>\\n<ul>\\n<li><a href=\"12.html\">12</a><li><a href=\"14.html\">14</a></ul>\\n</body></html>\\n',\n",
       "  '<html><body>\\n<h1>Node: 14</h1>\\n<h3>Children:</h3>\\n<ul>\\n<li><a href=\"12.html\">12</a><li><a href=\"13.html\">13</a></ul>\\n</body></html>\\n',\n",
       "  '<html><body>\\n<h1>Node: 15</h1>\\n<h3>Children:</h3>\\n<ul>\\n<li><a href=\"14.html\">14</a><li><a href=\"16.html\">16</a></ul>\\n</body></html>\\n',\n",
       "  '<html><body>\\n<h1>Node: 16</h1>\\n<h3>Children:</h3>\\n<ul>\\n<li><a href=\"14.html\">14</a><li><a href=\"15.html\">15</a></ul>\\n</body></html>\\n',\n",
       "  '<html><body>\\n<h1>Node: 17</h1>\\n<h3>Children:</h3>\\n<ul>\\n<li><a href=\"0.html\">0</a><li><a href=\"16.html\">16</a></ul>\\n</body></html>\\n'],\n",
       " 2.5627193450927734)"
      ]
     },
     "execution_count": 27,
     "metadata": {},
     "output_type": "execute_result"
    }
   ],
   "source": [
    "t0 = time.time()\n",
    "pages = list(map(fetch,range(18)))\n",
    "t1 = time.time()\n",
    "pages,t1-t0"
   ]
  },
  {
   "cell_type": "code",
   "execution_count": 39,
   "metadata": {},
   "outputs": [
    {
     "data": {
      "text/plain": [
       "0.7387490272521973"
      ]
     },
     "execution_count": 39,
     "metadata": {},
     "output_type": "execute_result"
    }
   ],
   "source": [
    "t0 = time.time()\n",
    "with Pool(4) as p:\n",
    "    pages = p.map(fetch,range(18))\n",
    "t1 = time.time()\n",
    "t1-t0"
   ]
  },
  {
   "cell_type": "code",
   "execution_count": 44,
   "metadata": {},
   "outputs": [],
   "source": [
    "url = \"https://tyler.caraza-harter.com/cs320/s20/lectures/lec-20/practice7/{}.html\"\n",
    "pages = {}\n",
    "\n",
    "def fetch(idx):\n",
    "    r = requests.get(url.format(idx))\n",
    "    r.raise_for_status()\n",
    "    pages[idx] = r.text\n",
    "    print(os.getpid(),pages.keys())\n"
   ]
  },
  {
   "cell_type": "code",
   "execution_count": 45,
   "metadata": {},
   "outputs": [
    {
     "name": "stdout",
     "output_type": "stream",
     "text": [
      "28560 dict_keys([2])\n",
      "28559 dict_keys([0])\n",
      "28561 dict_keys([4])\n",
      "28562 dict_keys([6])\n",
      "28561 dict_keys([4, 5])\n",
      "28562 dict_keys([6, 7])\n",
      "28559 dict_keys([0, 1])\n",
      "28560 dict_keys([2, 3])\n",
      "28561 dict_keys([4, 5, 8])\n",
      "28559 dict_keys([0, 1, 12])\n",
      "28560 dict_keys([2, 3, 14])\n",
      "28561 dict_keys([4, 5, 8, 9])\n",
      "28559 dict_keys([0, 1, 12, 13])\n",
      "28560 dict_keys([2, 3, 14, 15])\n",
      "28562 dict_keys([6, 7, 10])\n",
      "28562 dict_keys([6, 7, 10, 11])\n",
      "28561 dict_keys([4, 5, 8, 9, 16])\n",
      "28561 dict_keys([4, 5, 8, 9, 16, 17])\n"
     ]
    },
    {
     "data": {
      "text/plain": [
       "(23898, {})"
      ]
     },
     "execution_count": 45,
     "metadata": {},
     "output_type": "execute_result"
    }
   ],
   "source": [
    "# with processes, avoid global variables!!!\n",
    "# they are not shared between processes\n",
    "pages = {}\n",
    "with Pool(4) as p:\n",
    "    p.map(fetch,range(18))\n",
    "os.getpid(),pages"
   ]
  },
  {
   "cell_type": "code",
   "execution_count": 77,
   "metadata": {},
   "outputs": [
    {
     "name": "stdout",
     "output_type": "stream",
     "text": [
      "BBBBB\n",
      "BBB\n",
      "BB\n"
     ]
    }
   ],
   "source": [
    "msg = \"A\"\n",
    "\n",
    "def repeat(n):\n",
    "    print(msg * n)\n",
    "\n",
    "msg = \"B\"\n",
    "with Pool(10) as p:\n",
    "    msg = \"C\"\n",
    "    p.map(repeat, [2,3,5])"
   ]
  },
  {
   "cell_type": "code",
   "execution_count": null,
   "metadata": {},
   "outputs": [],
   "source": []
  }
 ],
 "metadata": {
  "kernelspec": {
   "display_name": "Python 3",
   "language": "python",
   "name": "python3"
  },
  "language_info": {
   "codemirror_mode": {
    "name": "ipython",
    "version": 3
   },
   "file_extension": ".py",
   "mimetype": "text/x-python",
   "name": "python",
   "nbconvert_exporter": "python",
   "pygments_lexer": "ipython3",
   "version": "3.6.9"
  }
 },
 "nbformat": 4,
 "nbformat_minor": 4
}
