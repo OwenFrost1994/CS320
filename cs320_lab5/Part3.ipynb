{
 "cells": [
  {
   "cell_type": "code",
   "execution_count": 1,
   "metadata": {},
   "outputs": [
    {
     "name": "stdout",
     "output_type": "stream",
     "text": [
      "SUM: 19999900000\n",
      "SECONDS: 5.103546380996704\n"
     ]
    }
   ],
   "source": [
    "from time import time\n",
    "\n",
    "vals = list(range(200000)) # 200K\n",
    "total = 0\n",
    "\n",
    "t0 = time()\n",
    "while len(vals) > 0:\n",
    "    total += vals.pop(0)\n",
    "t1 = time()\n",
    "print(\"SUM:\", total)\n",
    "print(\"SECONDS:\", t1-t0)"
   ]
  },
  {
   "cell_type": "code",
   "execution_count": 2,
   "metadata": {},
   "outputs": [
    {
     "name": "stdout",
     "output_type": "stream",
     "text": [
      "SUM: 19999900000\n",
      "SECONDS: 0.046185970306396484\n"
     ]
    }
   ],
   "source": [
    "from time import time\n",
    "from collections import deque\n",
    "\n",
    "vals = deque(range(200000)) # 200K\n",
    "total = 0\n",
    "\n",
    "t0 = time()\n",
    "while len(vals) > 0:\n",
    "    total += vals.popleft()\n",
    "t1 = time()\n",
    "print(\"SUM:\", total)\n",
    "print(\"SECONDS:\", t1-t0)"
   ]
  },
  {
   "cell_type": "code",
   "execution_count": null,
   "metadata": {},
   "outputs": [],
   "source": []
  }
 ],
 "metadata": {
  "kernelspec": {
   "display_name": "Python 3",
   "language": "python",
   "name": "python3"
  },
  "language_info": {
   "codemirror_mode": {
    "name": "ipython",
    "version": 3
   },
   "file_extension": ".py",
   "mimetype": "text/x-python",
   "name": "python",
   "nbconvert_exporter": "python",
   "pygments_lexer": "ipython3",
   "version": "3.6.9"
  }
 },
 "nbformat": 4,
 "nbformat_minor": 4
}
