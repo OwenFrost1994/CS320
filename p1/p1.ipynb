{
 "cells": [
  {
   "cell_type": "code",
   "execution_count": 1,
   "metadata": {},
   "outputs": [
    {
     "data": {
      "text/plain": [
       "''"
      ]
     },
     "execution_count": 1,
     "metadata": {},
     "output_type": "execute_result"
    }
   ],
   "source": [
    "#q1\n",
    "from git import Repo\n",
    "\n",
    "dirname = \"repo\"\n",
    "repo = Repo(dirname)\n",
    "repo.git.checkout(\"master\")\n",
    "#repo.head.commit"
   ]
  },
  {
   "cell_type": "code",
   "execution_count": 2,
   "metadata": {},
   "outputs": [
    {
     "data": {
      "text/plain": [
       "8"
      ]
     },
     "execution_count": 2,
     "metadata": {},
     "output_type": "execute_result"
    }
   ],
   "source": [
    "len(list(repo.iter_commits()))"
   ]
  },
  {
   "cell_type": "code",
   "execution_count": 3,
   "metadata": {},
   "outputs": [
    {
     "data": {
      "text/plain": [
       "[<git.Commit \"4e4128313b8d5b5e5d04f2e8e585f64f7c5831a4\">,\n",
       " <git.Commit \"f637df3f45bc389e1035cc3aadcf5d81a55f0dc4\">,\n",
       " <git.Commit \"c10b5a6cb4f06c96f6f221df2d5ec33af767d5c5\">,\n",
       " <git.Commit \"f37e610ce055a3d894baac2d9449e6eb77c72320\">,\n",
       " <git.Commit \"6f5ca9327e986315ffcacddce5d9d6195c0913b7\">,\n",
       " <git.Commit \"761627a3ad9ee681f27211326e9149f01764ceee\">,\n",
       " <git.Commit \"b0df6dbe111f9e28fc3a9c9b841cde5c20c365f9\">,\n",
       " <git.Commit \"6d7beafb8e79b7a92fed8e67673a33bb7f607dbe\">]"
      ]
     },
     "execution_count": 3,
     "metadata": {},
     "output_type": "execute_result"
    }
   ],
   "source": [
    "list(repo.iter_commits())"
   ]
  },
  {
   "cell_type": "code",
   "execution_count": 4,
   "metadata": {},
   "outputs": [],
   "source": [
    "# For now 8 commits can be found in the file"
   ]
  },
  {
   "cell_type": "code",
   "execution_count": 5,
   "metadata": {},
   "outputs": [
    {
     "name": "stdout",
     "output_type": "stream",
     "text": [
      "{'Steve': 3, 'Ada': 3, 'Linus': 2}\n"
     ]
    }
   ],
   "source": [
    "#q2\n",
    "import collections as co\n",
    "import pandas as pd\n",
    "#repo.head.commit.author.name\n",
    "#repo.head.commit.authored_date\n",
    "commit_list = list(repo.iter_commits())#genergate the list for process\n",
    "#commit_list\n",
    "author_list = [] #why must be defined first here?\n",
    "\n",
    "for i in range(len(commit_list)):#enven if the commit_list here is a \"list\" here, it is still a object so I can use code \"commit_list[i].author.name\" right?\n",
    "    #print(commit_list[i].author.name)#\n",
    "    author_list.append(commit_list[i].author.name)\n",
    "    \n",
    "#print(author_list)\n",
    "authors = co.Counter(author_list).most_common()#https://blog.csdn.net/spynao/article/details/50186531(Chinese)\n",
    "print(dict(authors))"
   ]
  },
  {
   "cell_type": "code",
   "execution_count": 6,
   "metadata": {},
   "outputs": [
    {
     "data": {
      "image/png": "[encoded data removed]",
      "text/plain": [
       "<Figure size 360x360 with 1 Axes>"
      ]
     },
     "metadata": {
      "needs_background": "light"
     },
     "output_type": "display_data"
    }
   ],
   "source": [
    "#q3\n",
    "# Creating a dataframe object from listoftuples\n",
    "df = pd.DataFrame(authors) #https://thispointer.com/python-pandas-how-to-convert-lists-to-a-dataframe/\n",
    "df.columns = ['name', 'times']\n",
    "df.set_index([\"name\"], inplace=True)\n",
    "#df\n",
    "import matplotlib as mp\n",
    "\n",
    "mp.rcParams.update({'font.size': 16})\n",
    "\n",
    "barp = df.plot.bar(color=\"black\", figsize=(5, 5))\n",
    "barp.set_xlabel(\"\")\n",
    "barp.set_ylabel(\"Commit count\")\n",
    "barp.legend_.remove()\n",
    "barp.spines[\"top\"].set_visible(False)\n",
    "barp.spines[\"right\"].set_visible(False)"
   ]
  },
  {
   "cell_type": "code",
   "execution_count": 7,
   "metadata": {},
   "outputs": [
    {
     "name": "stdout",
     "output_type": "stream",
     "text": [
      "Steve woked on 1\n",
      "Steve woked on 7\n",
      "member works on weekend: Steve weekday: 7\n",
      "Ada woked on 4\n",
      "Steve woked on 3\n",
      "Ada woked on 1\n",
      "Linus woked on 1\n",
      "Linus woked on 5\n",
      "Ada woked on 4\n"
     ]
    }
   ],
   "source": [
    "#q4\n",
    "# commit_list it generated above through repo.itercommits()\n",
    "#for i in range(len(commit_list)):\n",
    "#    print(commit_list[i].authored_date)\n",
    "from datetime import datetime\n",
    "dt = datetime.fromtimestamp(1579744630)\n",
    "#print(type(dt), dt)\n",
    "dt = datetime.fromtimestamp(1580340975)\n",
    "#print(type(dt), dt)\n",
    "for i in range(len(commit_list)):\n",
    "    day =datetime.isoweekday(datetime.fromtimestamp(commit_list[i].authored_date))\n",
    "    print(commit_list[i].author.name, \"woked on\", day)\n",
    "    if (day >= 6):\n",
    "        print(\"member works on weekend:\", commit_list[i].author.name, \"weekday:\", day)"
   ]
  },
  {
   "cell_type": "code",
   "execution_count": 8,
   "metadata": {},
   "outputs": [
    {
     "data": {
      "text/html": [
       "<div>\n",
       "<style scoped>\n",
       "    .dataframe tbody tr th:only-of-type {\n",
       "        vertical-align: middle;\n",
       "    }\n",
       "\n",
       "    .dataframe tbody tr th {\n",
       "        vertical-align: top;\n",
       "    }\n",
       "\n",
       "    .dataframe thead th {\n",
       "        text-align: right;\n",
       "    }\n",
       "</style>\n",
       "<table border=\"1\" class=\"dataframe\">\n",
       "  <thead>\n",
       "    <tr style=\"text-align: right;\">\n",
       "      <th></th>\n",
       "      <th>days</th>\n",
       "      <th>lines</th>\n",
       "    </tr>\n",
       "  </thead>\n",
       "  <tbody>\n",
       "    <tr>\n",
       "      <th>0</th>\n",
       "      <td>0.000000</td>\n",
       "      <td>21</td>\n",
       "    </tr>\n",
       "    <tr>\n",
       "      <th>1</th>\n",
       "      <td>1.005046</td>\n",
       "      <td>35</td>\n",
       "    </tr>\n",
       "    <tr>\n",
       "      <th>2</th>\n",
       "      <td>3.880046</td>\n",
       "      <td>35</td>\n",
       "    </tr>\n",
       "    <tr>\n",
       "      <th>3</th>\n",
       "      <td>4.087963</td>\n",
       "      <td>39</td>\n",
       "    </tr>\n",
       "    <tr>\n",
       "      <th>4</th>\n",
       "      <td>5.921296</td>\n",
       "      <td>40</td>\n",
       "    </tr>\n",
       "    <tr>\n",
       "      <th>5</th>\n",
       "      <td>6.962963</td>\n",
       "      <td>40</td>\n",
       "    </tr>\n",
       "    <tr>\n",
       "      <th>6</th>\n",
       "      <td>9.171296</td>\n",
       "      <td>40</td>\n",
       "    </tr>\n",
       "    <tr>\n",
       "      <th>7</th>\n",
       "      <td>11.046296</td>\n",
       "      <td>43</td>\n",
       "    </tr>\n",
       "  </tbody>\n",
       "</table>\n",
       "</div>"
      ],
      "text/plain": [
       "        days  lines\n",
       "0   0.000000     21\n",
       "1   1.005046     35\n",
       "2   3.880046     35\n",
       "3   4.087963     39\n",
       "4   5.921296     40\n",
       "5   6.962963     40\n",
       "6   9.171296     40\n",
       "7  11.046296     43"
      ]
     },
     "execution_count": 8,
     "metadata": {},
     "output_type": "execute_result"
    }
   ],
   "source": [
    "#q5\n",
    "import git\n",
    "length = list()\n",
    "time = list()\n",
    "#headcommit = repo.head.commit\n",
    "\n",
    "for commit in repo.iter_commits():\n",
    "    #print(commit.author.name)\n",
    "    repo.git.checkout(commit.hexsha)#commit_list.encoding\n",
    "    #print(commit.hexsha)\n",
    "    f = open('repo/wc.py', encoding='utf-8')\n",
    "    length.append(len(f.readlines()))\n",
    "    #print(length)\n",
    "    time.append(commit.authored_date/ 60/ 60/ 24)\n",
    "    #print(time)\n",
    "    #print(f.readlines())\n",
    "#repo.git.checkout(\"4e4128313b8d5b5e5d04f2e8e585f64f7c5831a4\")\n",
    "repo.git.checkout(\"master\")\n",
    "\n",
    "length.reverse()\n",
    "#print(length)\n",
    "time.reverse()\n",
    "time0 = time[0]\n",
    "for i in range(len(time)):\n",
    "    time[i] = time[i] - time0\n",
    "#print(time)\n",
    "\n",
    "df = pd.DataFrame({'days': time, 'lines': length})\n",
    "#df['new_colu'] = length\n",
    "df"
   ]
  },
  {
   "cell_type": "code",
   "execution_count": 9,
   "metadata": {},
   "outputs": [
    {
     "data": {
      "image/png": "[encoded data removed]",
      "text/plain": [
       "<Figure size 432x288 with 1 Axes>"
      ]
     },
     "metadata": {
      "needs_background": "light"
     },
     "output_type": "display_data"
    }
   ],
   "source": [
    "#q6\n",
    "df.set_index([\"days\"], inplace=True)\n",
    "\n",
    "mp.rcParams.update({'font.size': 16})\n",
    "\n",
    "linep = df.plot.line(color=\"red\")\n",
    "linep.set_xlabel(\"Days Since Creation\")\n",
    "linep.set_ylabel(\"Lines of Code in Repo\")\n",
    "linep.legend_.remove()\n",
    "linep.spines[\"top\"].set_visible(False)\n",
    "linep.spines[\"right\"].set_visible(False)"
   ]
  },
  {
   "cell_type": "code",
   "execution_count": 10,
   "metadata": {},
   "outputs": [
    {
     "data": {
      "text/plain": [
       "{'X': 1, 'Y': 1, 'Z': 1}"
      ]
     },
     "execution_count": 10,
     "metadata": {},
     "output_type": "execute_result"
    }
   ],
   "source": [
    "#q7\n",
    "import subprocess\n",
    "from subprocess import check_output\n",
    "import json\n",
    "\n",
    "def run_wc(body, commit=None):\n",
    "    if commit == None:\n",
    "        commit = commit_list[0]\n",
    "        \n",
    "    repo.git.checkout(commit)#commit_list.encoding\n",
    "    \n",
    "    f = open('repo/test.txt','w',encoding = 'utf-8') \n",
    "    f.write(body)\n",
    "    f.close()\n",
    "    try:\n",
    "        output = str(check_output('python3 repo/wc.py repo/test.txt ALL', shell=True), encoding = 'utf-8')\n",
    "        output = json.loads(output)\n",
    "        #output = output.replace('\\n ', \"\")\n",
    "        #output = output.replace('\\n', '')\n",
    "        #output = output.replace('\"', \"'\")\n",
    "        #output = output.replace('{ ', '{')\n",
    "        return output\n",
    "    except subprocess.CalledProcessError as error:\n",
    "        return None\n",
    "\n",
    "test1 = \"\"\"X Y Z\"\"\"\n",
    "# expected result: {'X': 1, 'Y': 1, 'Z': 1}\n",
    "test1 = \"\"\"X Y Z\"\"\"\n",
    "\n",
    "# expected result: \n",
    "test2 = \"\"\"A B\n",
    "A C\n",
    "\"\"\"\n",
    "\n",
    "# expected result: {'A': 2, 'B': 1, 'C': 1}\n",
    "test3 = \"\"\"A B\n",
    "a c\n",
    "\"\"\"\n",
    "run_wc(test1)"
   ]
  },
  {
   "cell_type": "code",
   "execution_count": 11,
   "metadata": {},
   "outputs": [
    {
     "data": {
      "text/plain": [
       "{'A': 2, 'B': 1, 'C': 1}"
      ]
     },
     "execution_count": 11,
     "metadata": {},
     "output_type": "execute_result"
    }
   ],
   "source": [
    "#q8\n",
    "run_wc(test3)"
   ]
  },
  {
   "cell_type": "code",
   "execution_count": 12,
   "metadata": {},
   "outputs": [],
   "source": [
    "def test_table(body, expected):\n",
    "    repo = Repo(dirname)\n",
    "    commit_list = list()\n",
    "    msg20_list = list()\n",
    "    author_list = list()\n",
    "    pass_list = list()\n",
    "    for commit in repo.iter_commits():\n",
    "        commit_list.append(commit.hexsha)\n",
    "        #print(commit.hexsha)\n",
    "        msg20_list.append(commit.message[0:20].replace('\\n', ''))\n",
    "        author_list.append(commit.author.name)\n",
    "        output = run_wc(body,commit)\n",
    "        #print(output)\n",
    "        #print(str(expected))\n",
    "        #print(type(output))\n",
    "        #print(type(expected))\n",
    "        if (output != None and str(output) == str(expected)):#\n",
    "            pass_list.append('True')\n",
    "        else:\n",
    "            pass_list.append('False')\n",
    "            \n",
    "    repo.git.checkout(\"master\")\n",
    "    #repo.git.checkout(\"4e4128313b8d5b5e5d04f2e8e585f64f7c5831a4\")\n",
    "    #print(commit_list)\n",
    "    #print(msg20_list)\n",
    "    #print(author_list)\n",
    "    #print(pass_list)\n",
    "    commit_list.reverse()\n",
    "    msg20_list.reverse()\n",
    "    author_list.reverse()\n",
    "    pass_list.reverse()\n",
    "    df = pd.DataFrame({'commit': commit_list, 'msg20': msg20_list, 'author': author_list, 'pass': pass_list})\n",
    "    df.style\n",
    "    return df"
   ]
  },
  {
   "cell_type": "code",
   "execution_count": 13,
   "metadata": {
    "scrolled": true
   },
   "outputs": [
    {
     "data": {
      "text/html": [
       "<div>\n",
       "<style scoped>\n",
       "    .dataframe tbody tr th:only-of-type {\n",
       "        vertical-align: middle;\n",
       "    }\n",
       "\n",
       "    .dataframe tbody tr th {\n",
       "        vertical-align: top;\n",
       "    }\n",
       "\n",
       "    .dataframe thead th {\n",
       "        text-align: right;\n",
       "    }\n",
       "</style>\n",
       "<table border=\"1\" class=\"dataframe\">\n",
       "  <thead>\n",
       "    <tr style=\"text-align: right;\">\n",
       "      <th></th>\n",
       "      <th>commit</th>\n",
       "      <th>msg20</th>\n",
       "      <th>author</th>\n",
       "      <th>pass</th>\n",
       "    </tr>\n",
       "  </thead>\n",
       "  <tbody>\n",
       "    <tr>\n",
       "      <th>0</th>\n",
       "      <td>6d7beafb8e79b7a92fed8e67673a33bb7f607dbe</td>\n",
       "      <td>count a specific wor</td>\n",
       "      <td>Ada</td>\n",
       "      <td>False</td>\n",
       "    </tr>\n",
       "    <tr>\n",
       "      <th>1</th>\n",
       "      <td>b0df6dbe111f9e28fc3a9c9b841cde5c20c365f9</td>\n",
       "      <td>support wildcards</td>\n",
       "      <td>Linus</td>\n",
       "      <td>True</td>\n",
       "    </tr>\n",
       "    <tr>\n",
       "      <th>2</th>\n",
       "      <td>761627a3ad9ee681f27211326e9149f01764ceee</td>\n",
       "      <td>bugfix</td>\n",
       "      <td>Linus</td>\n",
       "      <td>True</td>\n",
       "    </tr>\n",
       "    <tr>\n",
       "      <th>3</th>\n",
       "      <td>6f5ca9327e986315ffcacddce5d9d6195c0913b7</td>\n",
       "      <td>ignore case, usage l</td>\n",
       "      <td>Ada</td>\n",
       "      <td>True</td>\n",
       "    </tr>\n",
       "    <tr>\n",
       "      <th>4</th>\n",
       "      <td>f37e610ce055a3d894baac2d9449e6eb77c72320</td>\n",
       "      <td>do not repeatedly re</td>\n",
       "      <td>Steve</td>\n",
       "      <td>True</td>\n",
       "    </tr>\n",
       "    <tr>\n",
       "      <th>5</th>\n",
       "      <td>c10b5a6cb4f06c96f6f221df2d5ec33af767d5c5</td>\n",
       "      <td>optimize: only compu</td>\n",
       "      <td>Ada</td>\n",
       "      <td>True</td>\n",
       "    </tr>\n",
       "    <tr>\n",
       "      <th>6</th>\n",
       "      <td>f637df3f45bc389e1035cc3aadcf5d81a55f0dc4</td>\n",
       "      <td>only make one pass o</td>\n",
       "      <td>Steve</td>\n",
       "      <td>False</td>\n",
       "    </tr>\n",
       "    <tr>\n",
       "      <th>7</th>\n",
       "      <td>4e4128313b8d5b5e5d04f2e8e585f64f7c5831a4</td>\n",
       "      <td>only make one pass o</td>\n",
       "      <td>Steve</td>\n",
       "      <td>True</td>\n",
       "    </tr>\n",
       "  </tbody>\n",
       "</table>\n",
       "</div>"
      ],
      "text/plain": [
       "                                     commit                 msg20 author  \\\n",
       "0  6d7beafb8e79b7a92fed8e67673a33bb7f607dbe  count a specific wor    Ada   \n",
       "1  b0df6dbe111f9e28fc3a9c9b841cde5c20c365f9     support wildcards  Linus   \n",
       "2  761627a3ad9ee681f27211326e9149f01764ceee                bugfix  Linus   \n",
       "3  6f5ca9327e986315ffcacddce5d9d6195c0913b7  ignore case, usage l    Ada   \n",
       "4  f37e610ce055a3d894baac2d9449e6eb77c72320  do not repeatedly re  Steve   \n",
       "5  c10b5a6cb4f06c96f6f221df2d5ec33af767d5c5  optimize: only compu    Ada   \n",
       "6  f637df3f45bc389e1035cc3aadcf5d81a55f0dc4  only make one pass o  Steve   \n",
       "7  4e4128313b8d5b5e5d04f2e8e585f64f7c5831a4  only make one pass o  Steve   \n",
       "\n",
       "    pass  \n",
       "0  False  \n",
       "1   True  \n",
       "2   True  \n",
       "3   True  \n",
       "4   True  \n",
       "5   True  \n",
       "6  False  \n",
       "7   True  "
      ]
     },
     "execution_count": 13,
     "metadata": {},
     "output_type": "execute_result"
    }
   ],
   "source": [
    "#q9\n",
    "df = test_table(test1, {'X': 1, 'Y': 1, 'Z': 1})\n",
    "df"
   ]
  },
  {
   "cell_type": "code",
   "execution_count": 14,
   "metadata": {},
   "outputs": [
    {
     "data": {
      "text/html": [
       "<div>\n",
       "<style scoped>\n",
       "    .dataframe tbody tr th:only-of-type {\n",
       "        vertical-align: middle;\n",
       "    }\n",
       "\n",
       "    .dataframe tbody tr th {\n",
       "        vertical-align: top;\n",
       "    }\n",
       "\n",
       "    .dataframe thead th {\n",
       "        text-align: right;\n",
       "    }\n",
       "</style>\n",
       "<table border=\"1\" class=\"dataframe\">\n",
       "  <thead>\n",
       "    <tr style=\"text-align: right;\">\n",
       "      <th></th>\n",
       "      <th>commit</th>\n",
       "      <th>msg20</th>\n",
       "      <th>author</th>\n",
       "      <th>pass</th>\n",
       "    </tr>\n",
       "  </thead>\n",
       "  <tbody>\n",
       "    <tr>\n",
       "      <th>0</th>\n",
       "      <td>6d7beafb8e79b7a92fed8e67673a33bb7f607dbe</td>\n",
       "      <td>count a specific wor</td>\n",
       "      <td>Ada</td>\n",
       "      <td>False</td>\n",
       "    </tr>\n",
       "    <tr>\n",
       "      <th>1</th>\n",
       "      <td>b0df6dbe111f9e28fc3a9c9b841cde5c20c365f9</td>\n",
       "      <td>support wildcards</td>\n",
       "      <td>Linus</td>\n",
       "      <td>False</td>\n",
       "    </tr>\n",
       "    <tr>\n",
       "      <th>2</th>\n",
       "      <td>761627a3ad9ee681f27211326e9149f01764ceee</td>\n",
       "      <td>bugfix</td>\n",
       "      <td>Linus</td>\n",
       "      <td>True</td>\n",
       "    </tr>\n",
       "    <tr>\n",
       "      <th>3</th>\n",
       "      <td>6f5ca9327e986315ffcacddce5d9d6195c0913b7</td>\n",
       "      <td>ignore case, usage l</td>\n",
       "      <td>Ada</td>\n",
       "      <td>True</td>\n",
       "    </tr>\n",
       "    <tr>\n",
       "      <th>4</th>\n",
       "      <td>f37e610ce055a3d894baac2d9449e6eb77c72320</td>\n",
       "      <td>do not repeatedly re</td>\n",
       "      <td>Steve</td>\n",
       "      <td>True</td>\n",
       "    </tr>\n",
       "    <tr>\n",
       "      <th>5</th>\n",
       "      <td>c10b5a6cb4f06c96f6f221df2d5ec33af767d5c5</td>\n",
       "      <td>optimize: only compu</td>\n",
       "      <td>Ada</td>\n",
       "      <td>True</td>\n",
       "    </tr>\n",
       "    <tr>\n",
       "      <th>6</th>\n",
       "      <td>f637df3f45bc389e1035cc3aadcf5d81a55f0dc4</td>\n",
       "      <td>only make one pass o</td>\n",
       "      <td>Steve</td>\n",
       "      <td>False</td>\n",
       "    </tr>\n",
       "    <tr>\n",
       "      <th>7</th>\n",
       "      <td>4e4128313b8d5b5e5d04f2e8e585f64f7c5831a4</td>\n",
       "      <td>only make one pass o</td>\n",
       "      <td>Steve</td>\n",
       "      <td>True</td>\n",
       "    </tr>\n",
       "  </tbody>\n",
       "</table>\n",
       "</div>"
      ],
      "text/plain": [
       "                                     commit                 msg20 author  \\\n",
       "0  6d7beafb8e79b7a92fed8e67673a33bb7f607dbe  count a specific wor    Ada   \n",
       "1  b0df6dbe111f9e28fc3a9c9b841cde5c20c365f9     support wildcards  Linus   \n",
       "2  761627a3ad9ee681f27211326e9149f01764ceee                bugfix  Linus   \n",
       "3  6f5ca9327e986315ffcacddce5d9d6195c0913b7  ignore case, usage l    Ada   \n",
       "4  f37e610ce055a3d894baac2d9449e6eb77c72320  do not repeatedly re  Steve   \n",
       "5  c10b5a6cb4f06c96f6f221df2d5ec33af767d5c5  optimize: only compu    Ada   \n",
       "6  f637df3f45bc389e1035cc3aadcf5d81a55f0dc4  only make one pass o  Steve   \n",
       "7  4e4128313b8d5b5e5d04f2e8e585f64f7c5831a4  only make one pass o  Steve   \n",
       "\n",
       "    pass  \n",
       "0  False  \n",
       "1  False  \n",
       "2   True  \n",
       "3   True  \n",
       "4   True  \n",
       "5   True  \n",
       "6  False  \n",
       "7   True  "
      ]
     },
     "execution_count": 14,
     "metadata": {},
     "output_type": "execute_result"
    }
   ],
   "source": [
    "#q10\n",
    "df = test_table(test2, {'A': 2, 'B': 1, 'C': 1})\n",
    "df"
   ]
  },
  {
   "cell_type": "code",
   "execution_count": 15,
   "metadata": {},
   "outputs": [
    {
     "data": {
      "text/html": [
       "<div>\n",
       "<style scoped>\n",
       "    .dataframe tbody tr th:only-of-type {\n",
       "        vertical-align: middle;\n",
       "    }\n",
       "\n",
       "    .dataframe tbody tr th {\n",
       "        vertical-align: top;\n",
       "    }\n",
       "\n",
       "    .dataframe thead th {\n",
       "        text-align: right;\n",
       "    }\n",
       "</style>\n",
       "<table border=\"1\" class=\"dataframe\">\n",
       "  <thead>\n",
       "    <tr style=\"text-align: right;\">\n",
       "      <th></th>\n",
       "      <th>commit</th>\n",
       "      <th>msg20</th>\n",
       "      <th>author</th>\n",
       "      <th>pass</th>\n",
       "    </tr>\n",
       "  </thead>\n",
       "  <tbody>\n",
       "    <tr>\n",
       "      <th>0</th>\n",
       "      <td>6d7beafb8e79b7a92fed8e67673a33bb7f607dbe</td>\n",
       "      <td>count a specific wor</td>\n",
       "      <td>Ada</td>\n",
       "      <td>False</td>\n",
       "    </tr>\n",
       "    <tr>\n",
       "      <th>1</th>\n",
       "      <td>b0df6dbe111f9e28fc3a9c9b841cde5c20c365f9</td>\n",
       "      <td>support wildcards</td>\n",
       "      <td>Linus</td>\n",
       "      <td>False</td>\n",
       "    </tr>\n",
       "    <tr>\n",
       "      <th>2</th>\n",
       "      <td>761627a3ad9ee681f27211326e9149f01764ceee</td>\n",
       "      <td>bugfix</td>\n",
       "      <td>Linus</td>\n",
       "      <td>False</td>\n",
       "    </tr>\n",
       "    <tr>\n",
       "      <th>3</th>\n",
       "      <td>6f5ca9327e986315ffcacddce5d9d6195c0913b7</td>\n",
       "      <td>ignore case, usage l</td>\n",
       "      <td>Ada</td>\n",
       "      <td>True</td>\n",
       "    </tr>\n",
       "    <tr>\n",
       "      <th>4</th>\n",
       "      <td>f37e610ce055a3d894baac2d9449e6eb77c72320</td>\n",
       "      <td>do not repeatedly re</td>\n",
       "      <td>Steve</td>\n",
       "      <td>True</td>\n",
       "    </tr>\n",
       "    <tr>\n",
       "      <th>5</th>\n",
       "      <td>c10b5a6cb4f06c96f6f221df2d5ec33af767d5c5</td>\n",
       "      <td>optimize: only compu</td>\n",
       "      <td>Ada</td>\n",
       "      <td>True</td>\n",
       "    </tr>\n",
       "    <tr>\n",
       "      <th>6</th>\n",
       "      <td>f637df3f45bc389e1035cc3aadcf5d81a55f0dc4</td>\n",
       "      <td>only make one pass o</td>\n",
       "      <td>Steve</td>\n",
       "      <td>False</td>\n",
       "    </tr>\n",
       "    <tr>\n",
       "      <th>7</th>\n",
       "      <td>4e4128313b8d5b5e5d04f2e8e585f64f7c5831a4</td>\n",
       "      <td>only make one pass o</td>\n",
       "      <td>Steve</td>\n",
       "      <td>True</td>\n",
       "    </tr>\n",
       "  </tbody>\n",
       "</table>\n",
       "</div>"
      ],
      "text/plain": [
       "                                     commit                 msg20 author  \\\n",
       "0  6d7beafb8e79b7a92fed8e67673a33bb7f607dbe  count a specific wor    Ada   \n",
       "1  b0df6dbe111f9e28fc3a9c9b841cde5c20c365f9     support wildcards  Linus   \n",
       "2  761627a3ad9ee681f27211326e9149f01764ceee                bugfix  Linus   \n",
       "3  6f5ca9327e986315ffcacddce5d9d6195c0913b7  ignore case, usage l    Ada   \n",
       "4  f37e610ce055a3d894baac2d9449e6eb77c72320  do not repeatedly re  Steve   \n",
       "5  c10b5a6cb4f06c96f6f221df2d5ec33af767d5c5  optimize: only compu    Ada   \n",
       "6  f637df3f45bc389e1035cc3aadcf5d81a55f0dc4  only make one pass o  Steve   \n",
       "7  4e4128313b8d5b5e5d04f2e8e585f64f7c5831a4  only make one pass o  Steve   \n",
       "\n",
       "    pass  \n",
       "0  False  \n",
       "1  False  \n",
       "2  False  \n",
       "3   True  \n",
       "4   True  \n",
       "5   True  \n",
       "6  False  \n",
       "7   True  "
      ]
     },
     "execution_count": 15,
     "metadata": {},
     "output_type": "execute_result"
    }
   ],
   "source": [
    "#q11\n",
    "df = test_table(test3, {'A': 2, 'B': 1, 'C': 1})\n",
    "df"
   ]
  },
  {
   "cell_type": "code",
   "execution_count": 16,
   "metadata": {},
   "outputs": [],
   "source": [
    "versions = {\n",
    "    \"v0-baseline\": \"6f5ca9327e986315ffcacddce5d9d6195c0913b7\",\n",
    "    \"v1-open-once\": \"f37e610ce055a3d894baac2d9449e6eb77c72320\",\n",
    "    \"v2-pass-per-uniq\": \"c10b5a6cb4f06c96f6f221df2d5ec33af767d5c5\",\n",
    "    \"v3-single-pass\": \"4e4128313b8d5b5e5d04f2e8e585f64f7c5831a4\",\n",
    "}\n",
    "type(versions)\n",
    "dic = pd.DataFrame(pd.Series(versions), columns = ['Hexsha'])\n",
    "#dic\n",
    "\n",
    "import random\n",
    "import time\n",
    "def time_run_sec(uniq_words = 0, total_words = 0, word_size = 6, commit = None):\n",
    "    \n",
    "    letter_list = 'abcdefjhigklmnopqrstuvwxyz'\n",
    "    uniqword_list = list()\n",
    "    for i in range(uniq_words):\n",
    "        uniqword_list.append(''.join(random.choices(letter_list, k = word_size)))\n",
    "    totalword_list = list()\n",
    "    for i in range(total_words):\n",
    "        totalword_list.append(random.choice(uniqword_list))\n",
    "    #print(totalword_list)\n",
    "    #body = \"\".join(totalword_list)#https://blog.csdn.net/roytao2/article/details/53433373\n",
    "    body = str(\"\\\"\\\"\\\"\" + str(totalword_list) + \"\\\"\\\"\\\"\")\n",
    "    t0 = time.time()\n",
    "    run_wc(body, commit)\n",
    "    #print(commit.hexsha)\n",
    "    t1 = time.time()\n",
    "    \n",
    "    time_use = t1-t0\n",
    "    \n",
    "    #print(time_use)\n",
    "    \n",
    "    return time_use\n",
    "\n",
    "#print(type(dic['Hexsha'][0]))"
   ]
  },
  {
   "cell_type": "code",
   "execution_count": 17,
   "metadata": {
    "scrolled": false
   },
   "outputs": [
    {
     "data": {
      "image/png": "[encoded data removed]",
      "text/plain": [
       "<Figure size 720x360 with 1 Axes>"
      ]
     },
     "metadata": {
      "needs_background": "light"
     },
     "output_type": "display_data"
    }
   ],
   "source": [
    "#q12\n",
    "timeusage_list = list()\n",
    "\n",
    "for i in range(len(dic)):\n",
    "    for commit in repo.iter_commits():\n",
    "        if (dic['Hexsha'][i] == commit.hexsha):\n",
    "            timeusage_list.append(1000 * time_run_sec(100, 5000, 6, commit))\n",
    "            repo.git.checkout(\"master\")\n",
    "            #repo.git.checkout(\"4e4128313b8d5b5e5d04f2e8e585f64f7c5831a4\")\n",
    "timeusage_list\n",
    "timedf = pd.DataFrame(pd.Series(timeusage_list), columns = ['times'])\n",
    "\n",
    "timedf.index = dic.index\n",
    "\n",
    "timedf\n",
    "\n",
    "mp.rcParams.update({'font.size': 16})\n",
    "\n",
    "barp12 = timedf.plot.barh(color=\"black\", figsize=(10, 5))\n",
    "barp12.set_xlabel(\"Exec Time (ms)\")\n",
    "mp.pyplot.xlim(10, 10000)\n",
    "barp12.set_xscale(\"log\")\n",
    "barp12.invert_yaxis()\n",
    "barp12.legend_.remove()\n",
    "barp12.spines[\"top\"].set_visible(False)\n",
    "barp12.spines[\"right\"].set_visible(False)"
   ]
  },
  {
   "cell_type": "code",
   "execution_count": 18,
   "metadata": {
    "scrolled": true
   },
   "outputs": [
    {
     "data": {
      "image/png": "[encoded data removed]",
      "text/plain": [
       "<Figure size 720x360 with 1 Axes>"
      ]
     },
     "metadata": {
      "needs_background": "light"
     },
     "output_type": "display_data"
    }
   ],
   "source": [
    "#q13\n",
    "timeusage_list = list()\n",
    "\n",
    "for i in range(len(dic)):\n",
    "    for commit in repo.iter_commits():\n",
    "        if (dic['Hexsha'][i] == commit.hexsha):\n",
    "            timeusage_list.append(1000 * time_run_sec(1, 5000, 6, commit))\n",
    "            repo.git.checkout(\"master\")\n",
    "            #repo.git.checkout(\"4e4128313b8d5b5e5d04f2e8e585f64f7c5831a4\")\n",
    "timeusage_list\n",
    "timedf = pd.DataFrame(pd.Series(timeusage_list), columns = ['times'])\n",
    "\n",
    "timedf.index = dic.index\n",
    "\n",
    "mp.rcParams.update({'font.size': 16})\n",
    "\n",
    "barp12 = timedf.plot.barh(color=\"black\", figsize=(10, 5))\n",
    "barp12.set_xlabel(\"Exec Time (ms)\")\n",
    "mp.pyplot.xlim(10, 10000)\n",
    "barp12.set_xscale(\"log\")\n",
    "barp12.invert_yaxis()\n",
    "barp12.legend_.remove()\n",
    "barp12.spines[\"top\"].set_visible(False)\n",
    "barp12.spines[\"right\"].set_visible(False)"
   ]
  },
  {
   "cell_type": "code",
   "execution_count": 19,
   "metadata": {},
   "outputs": [],
   "source": [
    "# It is easy to find that v3 versions used shorter time when the more unique words (1000) are used. Both versions used similar time when only one unique word is used.\n",
    "# To this point, the v3 version has better time efficiency. So v3 version is better."
   ]
  },
  {
   "cell_type": "code",
   "execution_count": 20,
   "metadata": {},
   "outputs": [],
   "source": [
    "#Part 3\n",
    "import numpy as np\n",
    "\n",
    "def time_array_compute(total_word_list = [], uniq_word_list = [], commit = None):\n",
    "    time_matrix = np.zeros((len(total_word_list), len(uniq_word_list)), dtype=float)\n",
    "    for tw in range(len(total_word_list)):\n",
    "        for uw in range(len(uniq_word_list)):\n",
    "            time_matrix[tw, uw] = time_run_sec(int(uniq_word_list[uw]*total_word_list[tw] / 100), int(total_word_list[tw]), 6, commit)\n",
    "    return time_matrix"
   ]
  },
  {
   "cell_type": "code",
   "execution_count": 21,
   "metadata": {},
   "outputs": [],
   "source": [
    "def commit_time_arrary_compute(total_word_list = [], uniq_word_list = [], i=0):\n",
    "    for commit in repo.iter_commits():\n",
    "        if (dic['Hexsha'][i] == commit.hexsha):\n",
    "            time_matrix= time_array_compute(total_word_list, uniq_word_list, commit)\n",
    "            repo.git.checkout(\"master\")\n",
    "            #repo.git.checkout(\"4e4128313b8d5b5e5d04f2e8e585f64f7c5831a4\")\n",
    "    return time_matrix"
   ]
  },
  {
   "cell_type": "code",
   "execution_count": 22,
   "metadata": {},
   "outputs": [
    {
     "data": {
      "text/html": [
       "<div>\n",
       "<style scoped>\n",
       "    .dataframe tbody tr th:only-of-type {\n",
       "        vertical-align: middle;\n",
       "    }\n",
       "\n",
       "    .dataframe tbody tr th {\n",
       "        vertical-align: top;\n",
       "    }\n",
       "\n",
       "    .dataframe thead th {\n",
       "        text-align: right;\n",
       "    }\n",
       "</style>\n",
       "<table border=\"1\" class=\"dataframe\">\n",
       "  <thead>\n",
       "    <tr style=\"text-align: right;\">\n",
       "      <th>percent uniq</th>\n",
       "      <th>10</th>\n",
       "      <th>5</th>\n",
       "      <th>1</th>\n",
       "    </tr>\n",
       "    <tr>\n",
       "      <th>total words</th>\n",
       "      <th></th>\n",
       "      <th></th>\n",
       "      <th></th>\n",
       "    </tr>\n",
       "  </thead>\n",
       "  <tbody>\n",
       "    <tr>\n",
       "      <th>1000</th>\n",
       "      <td>0.051044</td>\n",
       "      <td>0.051642</td>\n",
       "      <td>0.050897</td>\n",
       "    </tr>\n",
       "    <tr>\n",
       "      <th>2000</th>\n",
       "      <td>0.051651</td>\n",
       "      <td>0.051644</td>\n",
       "      <td>0.051967</td>\n",
       "    </tr>\n",
       "    <tr>\n",
       "      <th>5000</th>\n",
       "      <td>0.053260</td>\n",
       "      <td>0.053248</td>\n",
       "      <td>0.054349</td>\n",
       "    </tr>\n",
       "    <tr>\n",
       "      <th>10000</th>\n",
       "      <td>0.058526</td>\n",
       "      <td>0.056498</td>\n",
       "      <td>0.055907</td>\n",
       "    </tr>\n",
       "  </tbody>\n",
       "</table>\n",
       "</div>"
      ],
      "text/plain": [
       "percent uniq        10        5         1 \n",
       "total words                               \n",
       "1000          0.051044  0.051642  0.050897\n",
       "2000          0.051651  0.051644  0.051967\n",
       "5000          0.053260  0.053248  0.054349\n",
       "10000         0.058526  0.056498  0.055907"
      ]
     },
     "execution_count": 22,
     "metadata": {},
     "output_type": "execute_result"
    }
   ],
   "source": [
    "total_word_list = [1000, 2000, 5000, 10000]\n",
    "uniq_word_list = [10, 5, 1]\n",
    "time_matrix = commit_time_arrary_compute(total_word_list, uniq_word_list, 2)\n",
    "timedf1 = pd.DataFrame(time_matrix)\n",
    "timedf1.index = pd.Series(total_word_list)\n",
    "timedf1.columns = pd.Series(uniq_word_list)\n",
    "timedf1.index.name = 'total words'\n",
    "timedf1.columns.name = 'percent uniq'\n",
    "timedf1\n",
    "\n",
    "time_matrix = commit_time_arrary_compute(total_word_list, uniq_word_list, 3)\n",
    "timedf2 = pd.DataFrame(time_matrix)\n",
    "timedf2.index = pd.Series(total_word_list)\n",
    "timedf2.columns = pd.Series(uniq_word_list)\n",
    "timedf2.index.name = 'total words'\n",
    "timedf2.columns.name = 'percent uniq'\n",
    "timedf2"
   ]
  },
  {
   "cell_type": "code",
   "execution_count": 23,
   "metadata": {},
   "outputs": [
    {
     "data": {
      "image/png": "[encoded data removed]",
      "text/plain": [
       "<Figure size 864x288 with 2 Axes>"
      ]
     },
     "metadata": {
      "needs_background": "light"
     },
     "output_type": "display_data"
    }
   ],
   "source": [
    "#q14\n",
    "mp.rcParams.update({'font.size': 16})\n",
    "p14v2v3 = mp.pyplot.subplots(ncols = 2,figsize = (12, 4), sharey = True)\n",
    "ax_list = list(p14v2v3[1])\n",
    "mp.pyplot.subplots_adjust(wspace = 0.3)\n",
    "mp.pyplot.xlim(0, 10000)\n",
    "mp.pyplot.ylim(0, 0.4)\n",
    "\n",
    "timedf1.plot.line(ax = ax_list[0], title = 'version 2')\n",
    "ax_list[0].set_xlabel(\"total words\")\n",
    "ax_list[0].set_xticks([0,2000,4000,6000,8000,10000])\n",
    "ax_list[0].set_ylabel(\"Time (s)\")\n",
    "ax_list[0].get_legend().remove()\n",
    "\n",
    "timedf2.plot.line(ax = ax_list[1], title = 'version 3')\n",
    "ax_list[0].set_xlabel(\"total words\")\n",
    "ax_list[0].set_xticks([0,2000,4000,6000,8000,10000])\n",
    "ax_list[0].set_ylabel(\"Time (s)\")\n",
    "\n",
    "None"
   ]
  },
  {
   "cell_type": "code",
   "execution_count": 24,
   "metadata": {},
   "outputs": [
    {
     "data": {
      "image/png": "[encoded data removed]",
      "text/plain": [
       "<Figure size 864x288 with 2 Axes>"
      ]
     },
     "metadata": {
      "needs_background": "light"
     },
     "output_type": "display_data"
    }
   ],
   "source": [
    "#q15\n",
    "mp.rcParams.update({'font.size': 16})\n",
    "p14v2v3 = mp.pyplot.subplots(ncols = 2,figsize = (12, 4), sharey = True)\n",
    "ax_list = list(p14v2v3[1])\n",
    "mp.pyplot.subplots_adjust(wspace = 0.3)\n",
    "mp.pyplot.xlim(0, 10000)\n",
    "mp.pyplot.ylim(0, 0.4)\n",
    "\n",
    "timedf1.T.plot.line(ax = ax_list[0], title = 'version 2')\n",
    "ax_list[0].set_xlabel(\"percent uniq\")\n",
    "ax_list[0].set_xticks([0,2,4,6,8,10])\n",
    "ax_list[0].set_ylabel(\"Time (s)\")\n",
    "ax_list[0].get_legend().remove()\n",
    "\n",
    "timedf2.T.plot.line(ax = ax_list[1], title = 'version 3')\n",
    "ax_list[0].set_xlabel(\"percent uniq\")\n",
    "ax_list[0].set_xticks([0,2,4,6,8,10])\n",
    "ax_list[0].set_ylabel(\"Time (s)\")\n",
    "\n",
    "None"
   ]
  },
  {
   "cell_type": "code",
   "execution_count": 25,
   "metadata": {},
   "outputs": [
    {
     "data": {
      "text/html": [
       "<div>\n",
       "<style scoped>\n",
       "    .dataframe tbody tr th:only-of-type {\n",
       "        vertical-align: middle;\n",
       "    }\n",
       "\n",
       "    .dataframe tbody tr th {\n",
       "        vertical-align: top;\n",
       "    }\n",
       "\n",
       "    .dataframe thead th {\n",
       "        text-align: right;\n",
       "    }\n",
       "</style>\n",
       "<table border=\"1\" class=\"dataframe\">\n",
       "  <thead>\n",
       "    <tr style=\"text-align: right;\">\n",
       "      <th>trial</th>\n",
       "      <th>0</th>\n",
       "      <th>1</th>\n",
       "      <th>2</th>\n",
       "      <th>3</th>\n",
       "      <th>4</th>\n",
       "    </tr>\n",
       "    <tr>\n",
       "      <th>total</th>\n",
       "      <th></th>\n",
       "      <th></th>\n",
       "      <th></th>\n",
       "      <th></th>\n",
       "      <th></th>\n",
       "    </tr>\n",
       "  </thead>\n",
       "  <tbody>\n",
       "    <tr>\n",
       "      <th>10.0</th>\n",
       "      <td>58.593750</td>\n",
       "      <td>58.942795</td>\n",
       "      <td>57.921886</td>\n",
       "      <td>57.551384</td>\n",
       "      <td>58.522463</td>\n",
       "    </tr>\n",
       "    <tr>\n",
       "      <th>20.0</th>\n",
       "      <td>64.540863</td>\n",
       "      <td>65.791607</td>\n",
       "      <td>64.373255</td>\n",
       "      <td>65.629005</td>\n",
       "      <td>64.470530</td>\n",
       "    </tr>\n",
       "    <tr>\n",
       "      <th>30.0</th>\n",
       "      <td>72.819948</td>\n",
       "      <td>74.001551</td>\n",
       "      <td>74.702263</td>\n",
       "      <td>73.056698</td>\n",
       "      <td>74.957848</td>\n",
       "    </tr>\n",
       "    <tr>\n",
       "      <th>40.0</th>\n",
       "      <td>81.679583</td>\n",
       "      <td>81.196070</td>\n",
       "      <td>82.867384</td>\n",
       "      <td>81.941843</td>\n",
       "      <td>81.876040</td>\n",
       "    </tr>\n",
       "    <tr>\n",
       "      <th>50.0</th>\n",
       "      <td>90.257645</td>\n",
       "      <td>88.355303</td>\n",
       "      <td>90.731859</td>\n",
       "      <td>90.663671</td>\n",
       "      <td>89.661121</td>\n",
       "    </tr>\n",
       "    <tr>\n",
       "      <th>60.0</th>\n",
       "      <td>97.447395</td>\n",
       "      <td>97.357273</td>\n",
       "      <td>97.241640</td>\n",
       "      <td>98.342657</td>\n",
       "      <td>97.076178</td>\n",
       "    </tr>\n",
       "    <tr>\n",
       "      <th>70.0</th>\n",
       "      <td>106.178045</td>\n",
       "      <td>105.799198</td>\n",
       "      <td>106.935501</td>\n",
       "      <td>106.850386</td>\n",
       "      <td>106.310368</td>\n",
       "    </tr>\n",
       "    <tr>\n",
       "      <th>80.0</th>\n",
       "      <td>120.035410</td>\n",
       "      <td>119.861841</td>\n",
       "      <td>117.279291</td>\n",
       "      <td>116.479874</td>\n",
       "      <td>120.037556</td>\n",
       "    </tr>\n",
       "    <tr>\n",
       "      <th>90.0</th>\n",
       "      <td>124.680758</td>\n",
       "      <td>121.340513</td>\n",
       "      <td>138.100386</td>\n",
       "      <td>123.395920</td>\n",
       "      <td>128.993750</td>\n",
       "    </tr>\n",
       "    <tr>\n",
       "      <th>100.0</th>\n",
       "      <td>135.443687</td>\n",
       "      <td>137.041807</td>\n",
       "      <td>131.798029</td>\n",
       "      <td>134.088755</td>\n",
       "      <td>135.727882</td>\n",
       "    </tr>\n",
       "  </tbody>\n",
       "</table>\n",
       "</div>"
      ],
      "text/plain": [
       "trial           0           1           2           3           4\n",
       "total                                                            \n",
       "10.0    58.593750   58.942795   57.921886   57.551384   58.522463\n",
       "20.0    64.540863   65.791607   64.373255   65.629005   64.470530\n",
       "30.0    72.819948   74.001551   74.702263   73.056698   74.957848\n",
       "40.0    81.679583   81.196070   82.867384   81.941843   81.876040\n",
       "50.0    90.257645   88.355303   90.731859   90.663671   89.661121\n",
       "60.0    97.447395   97.357273   97.241640   98.342657   97.076178\n",
       "70.0   106.178045  105.799198  106.935501  106.850386  106.310368\n",
       "80.0   120.035410  119.861841  117.279291  116.479874  120.037556\n",
       "90.0   124.680758  121.340513  138.100386  123.395920  128.993750\n",
       "100.0  135.443687  137.041807  131.798029  134.088755  135.727882"
      ]
     },
     "execution_count": 25,
     "metadata": {},
     "output_type": "execute_result"
    }
   ],
   "source": [
    "#q16\n",
    "df = pd.DataFrame()\n",
    "df.index.name = \"total\"\n",
    "df.columns.name = \"trial\"\n",
    "for i in range(10):\n",
    "    total_words = 10000 * (i+1)\n",
    "    #print(total_words)\n",
    "    uniq = total_words // 10\n",
    "    for trial in range(5):\n",
    "        df.loc[total_words/1000, trial] = 1000*time_run_sec(uniq, total_words, 6, None) # TODO: call time_run_sec\n",
    "df"
   ]
  },
  {
   "cell_type": "code",
   "execution_count": 26,
   "metadata": {
    "scrolled": false
   },
   "outputs": [
    {
     "data": {
      "image/png": "[encoded data removed]",
      "text/plain": [
       "<Figure size 432x288 with 1 Axes>"
      ]
     },
     "metadata": {
      "needs_background": "light"
     },
     "output_type": "display_data"
    }
   ],
   "source": [
    "mean = df.mean(axis=1)\n",
    "std = df.std(axis=1)\n",
    "\n",
    "mp.rcParams.update({'font.size': 16})\n",
    "\n",
    "linep16 = mean.plot.line(color=\"black\")\n",
    "linep16.set_xlabel(\"Words(Thousands)\")\n",
    "linep16.set_ylabel(\"Time(ms)\")\n",
    "#linep16.legend_.remove()\n",
    "linep16.spines[\"top\"].set_visible(False)\n",
    "linep16.spines[\"right\"].set_visible(False)\n",
    "linep16.fill_between(mean.index, mean-std, mean+std, color='b', alpha=0.2)\n",
    "None"
   ]
  },
  {
   "cell_type": "code",
   "execution_count": 27,
   "metadata": {},
   "outputs": [],
   "source": [
    "#https://codesachin.wordpress.com/2016/06/09/the-magic-behind-attribute-access-in-python/\n",
    "#http://kuanghy.github.io/2016/07/04/python-attr\n",
    "#https://stackoverflow.com/questions/38573405/use-get-set-with-dictionary-item\n",
    "class Counter():\n",
    "    def __init__(self,words = None):\n",
    "        if words == None:\n",
    "            self.dic = dict()\n",
    "        else :\n",
    "            low_words = list()\n",
    "            for s in words: \n",
    "                low_words.append(s.lower())\n",
    "            self.dic = dict(co.Counter(low_words))\n",
    "\n",
    "    def __getitem__(self, key):\n",
    "        key = key.lower()\n",
    "        if key in self.dic.keys():\n",
    "            return self.dic[key]\n",
    "        else:\n",
    "            return 0\n",
    "    \n",
    "    def __setitem__(self, key, num = 0):\n",
    "        key = key.lower()\n",
    "        self.dic[key] = num\n",
    "        #set.__dict__[key] = num\n",
    "        '''key = key.lower()\n",
    "        if self.__getitem__(key) == 0:\n",
    "            self.__dict__[key] = num\n",
    "        else:\n",
    "            self.__dict__[key] = self.__getitem__(key) + num'''\n",
    "    \n",
    "    def __repr__(self):\n",
    "        new_dict = {}#https://blog.csdn.net/qq_35959613/article/details/88597727\n",
    "        for i, j in self.dic.items():\n",
    "            new_dict[i.upper()] = j\n",
    "        new_dict = str(new_dict)\n",
    "        return new_dict\n",
    "    \n",
    "    def max_keys(self):#https://blog.csdn.net/qq_42147047/article/details/80625208\n",
    "        maxval = max(self.dic.values())\n",
    "        max_key_list = []\n",
    "        for i, j in self.dic.items():\n",
    "            if j == maxval:\n",
    "                max_key_list.append(i.upper())#https://blog.csdn.net/xm_csdn/article/details/52913150\n",
    "        #max_key_list = str(max_key_list)\n",
    "        print(max_key_list)\n",
    "        #return max_key_list\n"
   ]
  },
  {
   "cell_type": "code",
   "execution_count": 28,
   "metadata": {},
   "outputs": [
    {
     "data": {
      "text/plain": [
       "0"
      ]
     },
     "execution_count": 28,
     "metadata": {},
     "output_type": "execute_result"
    }
   ],
   "source": [
    "#q17\n",
    "c = Counter()\n",
    "c[\"apple\"]"
   ]
  },
  {
   "cell_type": "code",
   "execution_count": 29,
   "metadata": {},
   "outputs": [
    {
     "data": {
      "text/plain": [
       "2"
      ]
     },
     "execution_count": 29,
     "metadata": {},
     "output_type": "execute_result"
    }
   ],
   "source": [
    "#q18\n",
    "c = Counter()\n",
    "c[\"apple\"] += 1\n",
    "c[\"banana\"] += 1\n",
    "c[\"BANANA\"] += 1\n",
    "c[\"kiwi\"] += 2\n",
    "c[\"banana\"]"
   ]
  },
  {
   "cell_type": "code",
   "execution_count": 30,
   "metadata": {},
   "outputs": [
    {
     "data": {
      "text/plain": [
       "{'APPLE': 1, 'BANANA': 2, 'KIWI': 2}"
      ]
     },
     "execution_count": 30,
     "metadata": {},
     "output_type": "execute_result"
    }
   ],
   "source": [
    "#q19\n",
    "c"
   ]
  },
  {
   "cell_type": "code",
   "execution_count": 31,
   "metadata": {},
   "outputs": [
    {
     "name": "stdout",
     "output_type": "stream",
     "text": [
      "['BANANA', 'KIWI']\n"
     ]
    }
   ],
   "source": [
    "#q20\n",
    "c.max_keys()"
   ]
  },
  {
   "cell_type": "code",
   "execution_count": null,
   "metadata": {},
   "outputs": [],
   "source": []
  }
 ],
 "metadata": {
  "kernelspec": {
   "display_name": "Python 3",
   "language": "python",
   "name": "python3"
  },
  "language_info": {
   "codemirror_mode": {
    "name": "ipython",
    "version": 3
   },
   "file_extension": ".py",
   "mimetype": "text/x-python",
   "name": "python",
   "nbconvert_exporter": "python",
   "pygments_lexer": "ipython3",
   "version": "3.6.9"
  }
 },
 "nbformat": 4,
 "nbformat_minor": 4
}
