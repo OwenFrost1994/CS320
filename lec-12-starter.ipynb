{
 "cells": [
  {
   "cell_type": "code",
   "execution_count": 6,
   "metadata": {},
   "outputs": [
    {
     "data": {
      "application/javascript": [
       "IPython.OutputArea.prototype._should_scroll = function(lines) {\n",
       "    return false;\n",
       "}\n"
      ],
      "text/plain": [
       "<IPython.core.display.Javascript object>"
      ]
     },
     "metadata": {},
     "output_type": "display_data"
    }
   ],
   "source": [
    "%%javascript\n",
    "IPython.OutputArea.prototype._should_scroll = function(lines) {\n",
    "    return false;\n",
    "}"
   ]
  },
  {
   "cell_type": "code",
   "execution_count": 7,
   "metadata": {},
   "outputs": [],
   "source": [
    "from graphviz import Graph, Digraph\n",
    "from IPython.core.display import display"
   ]
  },
  {
   "cell_type": "code",
   "execution_count": 20,
   "metadata": {},
   "outputs": [
    {
     "name": "stdout",
     "output_type": "stream",
     "text": [
      "C\n",
      "B\n",
      "A\n",
      "E\n",
      "D\n",
      "F\n"
     ]
    }
   ],
   "source": [
    "# Binary Tree\n",
    "class Node:\n",
    "    def __init__(self, key, val):\n",
    "        self.key = key\n",
    "        self.val = val\n",
    "        # binary tree\n",
    "        self.left = None\n",
    "        self.right = None\n",
    "        \n",
    "    def dump(self):\n",
    "        print(self.key)\n",
    "        if self.left != None:\n",
    "            self.left.dump()\n",
    "        if self.right != None:\n",
    "            self.right.dump()\n",
    "            \n",
    "    def _repr_svg_(self, g=None):\n",
    "        if g == None:\n",
    "            gv = Digraph()\n",
    "        else:\n",
    "            gv = g\n",
    "        gv.node(self.key)\n",
    "        \n",
    "        if self.left != None:\n",
    "            self.left._repr_svg_(gv)\n",
    "            gv.edge(self.key, self.left.key, label=\"L\")\n",
    "        if self.right != None:\n",
    "            self.right._repr_svg_(gv)\n",
    "            gv.edge(self.key, self.right.key, label=\"R\")\n",
    "            \n",
    "        return gv._repr_svg_()\n",
    "    \n",
    "    def lookup(self, key):\n",
    "        display(\"does the tree contain \"+key+\"?\")\n",
    "        display(self)\n",
    "        \n",
    "        if self.key == key:\n",
    "            return self.val\n",
    "        if key <self.key:\n",
    "            if self.left != None:\n",
    "                childval = self.left.lookup(key)\n",
    "                if childval != None:\n",
    "                    return childval\n",
    "        if key > self.key:\n",
    "            if self.right != None:\n",
    "                childval = self.right.lookup(key)\n",
    "                if childval != None:\n",
    "                    return childval\n",
    "        return None\n",
    "    \n",
    "    def add(self, key, val):\n",
    "        if key < self.key:\n",
    "            if self.left == None:\n",
    "                self.left = Node(key, val)\n",
    "            else:\n",
    "                self.left.add(key, val)\n",
    "            \n",
    "        elif key > self.key:\n",
    "                if self.right == None:\n",
    "                    self.right = Node(key, val)\n",
    "                else:\n",
    "                    self.right.add(key, val)\n",
    "    def __getitm__(self, key):\n",
    "        return self.lookup(key)\n",
    "    \n",
    "    def __dump(self):\n",
    "        print(repr(self.key) + \":\" + repr(self.child ))\n",
    "        \n",
    "root = Node(\"C\", 1)\n",
    "root.add(\"B\",1)\n",
    "root.add(\"A\",1)\n",
    "root.add(\"E\",1)\n",
    "root.add(\"D\",1)\n",
    "root.add(\"F\",1)\n",
    "root.dump()\n"
   ]
  },
  {
   "cell_type": "code",
   "execution_count": 21,
   "metadata": {},
   "outputs": [
    {
     "ename": "TypeError",
     "evalue": "'Node' object is not callable",
     "output_type": "error",
     "traceback": [
      "\u001b[0;31m---------------------------------------------------------------------------\u001b[0m",
      "\u001b[0;31mTypeError\u001b[0m                                 Traceback (most recent call last)",
      "\u001b[0;32m<ipython-input-21-77fe246fb329>\u001b[0m in \u001b[0;36m<module>\u001b[0;34m\u001b[0m\n\u001b[0;32m----> 1\u001b[0;31m \u001b[0mroot\u001b[0m\u001b[0;34m(\u001b[0m\u001b[0;34m\"F\"\u001b[0m\u001b[0;34m)\u001b[0m\u001b[0;34m\u001b[0m\u001b[0;34m\u001b[0m\u001b[0m\n\u001b[0m",
      "\u001b[0;31mTypeError\u001b[0m: 'Node' object is not callable"
     ]
    }
   ],
   "source": [
    "root(\"F\")"
   ]
  },
  {
   "cell_type": "code",
   "execution_count": 23,
   "metadata": {},
   "outputs": [
    {
     "data": {
      "text/plain": [
       "<__main__.Graph at 0x7f9eec074278>"
      ]
     },
     "execution_count": 23,
     "metadata": {},
     "output_type": "execute_result"
    }
   ],
   "source": [
    "class Node:\n",
    "    def __init__(self, val):\n",
    "        self.val = val\n",
    "        self.children = []\n",
    "class Graph:\n",
    "    def __init__(self):\n",
    "        self.nodes = {}\n",
    "    def add_node(self, name):\n",
    "        n = Node(name)\n",
    "        self.nodes[name] = n\n",
    "    def add_edge(self, name1, name2):\n",
    "        node1 = self.nodes[name1]\n",
    "        node2 = self.nodes[name2]\n",
    "        node1.children.append(node2)\n",
    "        node2.children.append(node1)\n",
    "    def has_path(self, src, dst):\n",
    "        if src == dst:\n",
    "            return True\n",
    "        for child in self.nodes[src],children:\n",
    "            print(child)\n",
    "g = Graph()\n",
    "g.add_node(\"A\")\n",
    "g.add_node(\"B\")\n",
    "g.add_node(\"C\")\n",
    "g.add_edge(\"A\", \"B\")\n",
    "g.add_edge(\"B\", \"C\")\n",
    "g.add_edge(\"A\", \"B\")\n",
    "g"
   ]
  },
  {
   "cell_type": "code",
   "execution_count": null,
   "metadata": {},
   "outputs": [],
   "source": []
  }
 ],
 "metadata": {
  "kernelspec": {
   "display_name": "Python 3",
   "language": "python",
   "name": "python3"
  },
  "language_info": {
   "codemirror_mode": {
    "name": "ipython",
    "version": 3
   },
   "file_extension": ".py",
   "mimetype": "text/x-python",
   "name": "python",
   "nbconvert_exporter": "python",
   "pygments_lexer": "ipython3",
   "version": "3.6.9"
  }
 },
 "nbformat": 4,
 "nbformat_minor": 4
}
