{
 "cells": [
  {
   "cell_type": "code",
   "execution_count": 3,
   "metadata": {},
   "outputs": [
    {
     "name": "stdout",
     "output_type": "stream",
     "text": [
      "Fido: grrrr\n"
     ]
    }
   ],
   "source": [
    "# BAD EXAMPLE\n",
    "\n",
    "class Dog:\n",
    "    pass\n",
    "def init(dog, name ,age):\n",
    "    dog.name = name\n",
    "    dog.age = age\n",
    "def speak(dog):\n",
    "    if dog.age >  10:\n",
    "        print(dog.name + \": grrrr\")\n",
    "    elif dog.age < 2:\n",
    "        print(dog.name + \":\" + \"bark!\" * 10)\n",
    "    else:\n",
    "        print(dof.name + \": bark\")\n",
    "        \n",
    "dog1 = Dog()\n",
    "init(dog1, \"Fido\", 11)\n",
    "speak(dog1)"
   ]
  },
  {
   "cell_type": "code",
   "execution_count": 4,
   "metadata": {},
   "outputs": [
    {
     "name": "stdout",
     "output_type": "stream",
     "text": [
      "Fido: grrrr\n"
     ]
    }
   ],
   "source": [
    "class Dog:\n",
    "    def init(dog, name ,age):\n",
    "        dog.name = name\n",
    "        dog.age = age\n",
    "    def speak(dog):\n",
    "        if dog.age >  10:\n",
    "            print(dog.name + \": grrrr\")\n",
    "        elif dog.age < 2:\n",
    "            print(dog.name + \":\" + \"bark!\" * 10)\n",
    "        else:\n",
    "            print(dof.name + \": bark\")\n",
    "class Cat:\n",
    "    def speak(cat):\n",
    "        print(\"meow\")\n",
    "\n",
    "c = Cat()\n",
    "dog1 = Dog()\n",
    "init(dog1, \"Fido\", 11)\n",
    "Dog.speak(dog1)"
   ]
  },
  {
   "cell_type": "code",
   "execution_count": 6,
   "metadata": {},
   "outputs": [
    {
     "name": "stdout",
     "output_type": "stream",
     "text": [
      "<class '__main__.Cat'>\n",
      "<class 'type'>\n"
     ]
    }
   ],
   "source": [
    "print(type(c))\n",
    "print(type(Cat))"
   ]
  },
  {
   "cell_type": "code",
   "execution_count": null,
   "metadata": {},
   "outputs": [],
   "source": []
  },
  {
   "cell_type": "code",
   "execution_count": 8,
   "metadata": {},
   "outputs": [
    {
     "name": "stdout",
     "output_type": "stream",
     "text": [
      "meow\n",
      "Fido: grrrr\n",
      "meow\n",
      "Fido: grrrr\n"
     ]
    }
   ],
   "source": [
    "class Dog:\n",
    "    def init(dog, name ,age):\n",
    "        dog.name = name\n",
    "        dog.age = age\n",
    "    def speak(dog):\n",
    "        if dog.age >  10:\n",
    "            print(dog.name + \": grrrr\")\n",
    "        elif dog.age < 2:\n",
    "            print(dog.name + \":\" + \"bark!\" * 10)\n",
    "        else:\n",
    "            print(dof.name + \": bark\")\n",
    "class Cat:\n",
    "    def speak(cat):\n",
    "        print(\"meow\")\n",
    "\n",
    "animals = [c, dog1]\n",
    "#what is happening\n",
    "for pet in animals:\n",
    "    type(pet).speak(pet)\n",
    "    \n",
    "#shortcut\n",
    "for pet in animals:\n",
    "    pet.speak()"
   ]
  },
  {
   "cell_type": "code",
   "execution_count": null,
   "metadata": {},
   "outputs": [],
   "source": []
  }
 ],
 "metadata": {
  "kernelspec": {
   "display_name": "Python 3",
   "language": "python",
   "name": "python3"
  },
  "language_info": {
   "codemirror_mode": {
    "name": "ipython",
    "version": 3
   },
   "file_extension": ".py",
   "mimetype": "text/x-python",
   "name": "python",
   "nbconvert_exporter": "python",
   "pygments_lexer": "ipython3",
   "version": "3.6.9"
  }
 },
 "nbformat": 4,
 "nbformat_minor": 4
}
