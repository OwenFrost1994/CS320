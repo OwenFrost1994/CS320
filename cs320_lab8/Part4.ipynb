{
 "cells": [
  {
   "cell_type": "code",
   "execution_count": 1,
   "metadata": {},
   "outputs": [],
   "source": [
    "import re\n",
    "\n",
    "# from DS100 book...\n",
    "def reg(regex, text):\n",
    "    \"\"\"\n",
    "    Prints the string with the regex match highlighted.\n",
    "    \"\"\"\n",
    "    print(re.sub(f'({regex})', r'\\033[1;30;43m\\1\\033[m', text))"
   ]
  },
  {
   "cell_type": "code",
   "execution_count": 4,
   "metadata": {},
   "outputs": [
    {
     "name": "stdout",
     "output_type": "stream",
     "text": [
      "\u001b[1;30;43mthe\u001b[m quick brown fox jumped over the lazy dog.\n"
     ]
    }
   ],
   "source": [
    "reg(r\"^the\", \"the quick brown fox jumped over the lazy dog.\")"
   ]
  },
  {
   "cell_type": "code",
   "execution_count": 5,
   "metadata": {},
   "outputs": [
    {
     "name": "stdout",
     "output_type": "stream",
     "text": [
      "789\n"
     ]
    }
   ],
   "source": [
    "for x in re.findall(r\"\\d+$\", \"123 456 789\"):\n",
    "    print(int(x))"
   ]
  },
  {
   "cell_type": "code",
   "execution_count": 16,
   "metadata": {},
   "outputs": [
    {
     "name": "stdout",
     "output_type": "stream",
     "text": [
      "['albuquerque', 'albuquerque', 'algonquian', 'algonquian', 'algonquians', 'algonquin', 'algonquin', 'angelique', 'angelique', 'aquafresh']\n"
     ]
    },
    {
     "data": {
      "text/plain": [
       "1531"
      ]
     },
     "execution_count": 16,
     "metadata": {},
     "output_type": "execute_result"
    }
   ],
   "source": [
    "with open(\"/usr/share/dict/american-english\") as f:\n",
    "    words = f.read().lower()\n",
    "\n",
    "qu = re.findall(\"\\w*qu\\w*\", words)\n",
    "print(qu[:10])\n",
    "len(qu)"
   ]
  },
  {
   "cell_type": "code",
   "execution_count": 17,
   "metadata": {},
   "outputs": [
    {
     "name": "stdout",
     "output_type": "stream",
     "text": [
      "['chongqing', 'chongqing', 'compaq\\ncompaq', 'iqaluit', 'iqaluit', 'iqbal', 'iqbal', 'iraq\\niraq', 'iraqi', 'iraqi', 'iraqis', 'q\\nqaddafi', 'qaddafi', 'qantas', 'qantas', 'qatar', 'qatar', 'qingdao', 'qingdao', 'qiqihar', 'qiqihar', 'qom', 'qom', 'urumqi', 'urumqi', 'q\\nqua']\n"
     ]
    },
    {
     "data": {
      "text/plain": [
       "26"
      ]
     },
     "execution_count": 17,
     "metadata": {},
     "output_type": "execute_result"
    }
   ],
   "source": [
    "with open(\"/usr/share/dict/american-english\") as f:\n",
    "    words = f.read().lower()\n",
    "\n",
    "q = re.findall(\"\\w*q[^u]\\w*\", words)\n",
    "print(q[:100])\n",
    "len(q)"
   ]
  },
  {
   "cell_type": "code",
   "execution_count": 18,
   "metadata": {},
   "outputs": [
    {
     "name": "stdout",
     "output_type": "stream",
     "text": [
      "['chongqing', 'chongqing', \"compaq's\", 'iqaluit', 'iqaluit', 'iqbal', 'iqbal', \"iraq's\", 'iraqi', 'iraqi', 'iraqis', 'qaddafi', 'qaddafi', 'qantas', 'qantas', 'qatar', 'qatar', 'qingdao', 'qingdao', 'qiqihar', 'qiqihar', 'qom', 'qom', 'urumqi', 'urumqi']\n"
     ]
    },
    {
     "data": {
      "text/plain": [
       "25"
      ]
     },
     "execution_count": 18,
     "metadata": {},
     "output_type": "execute_result"
    }
   ],
   "source": [
    "with open(\"/usr/share/dict/american-english\") as f:\n",
    "    words = f.read().lower()\n",
    "\n",
    "qs = re.findall(\"\\w*q[^u\\s]\\w*\", words)\n",
    "print(qs[:100])\n",
    "len(qs)"
   ]
  },
  {
   "cell_type": "code",
   "execution_count": null,
   "metadata": {},
   "outputs": [],
   "source": []
  }
 ],
 "metadata": {
  "kernelspec": {
   "display_name": "Python 3",
   "language": "python",
   "name": "python3"
  },
  "language_info": {
   "codemirror_mode": {
    "name": "ipython",
    "version": 3
   },
   "file_extension": ".py",
   "mimetype": "text/x-python",
   "name": "python",
   "nbconvert_exporter": "python",
   "pygments_lexer": "ipython3",
   "version": "3.6.9"
  }
 },
 "nbformat": 4,
 "nbformat_minor": 4
}
