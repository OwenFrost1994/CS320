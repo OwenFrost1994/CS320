{
 "cells": [
  {
   "cell_type": "code",
   "execution_count": 1,
   "metadata": {},
   "outputs": [],
   "source": [
    "from bs4 import BeautifulSoup\n",
    "import requests\n",
    "import pandas as pd\n",
    "import copy, string, os"
   ]
  },
  {
   "cell_type": "code",
   "execution_count": 2,
   "metadata": {},
   "outputs": [],
   "source": [
    "class dense_graph:\n",
    "    def __init__(self, nodes):\n",
    "        self.nodes = sorted(nodes)\n",
    "        self.nodes.append(\"?\") # A\n",
    "        self.node_set = set(nodes)\n",
    "        self.edges = pd.DataFrame(index=self.nodes, columns=self.nodes)\n",
    "        self.edges.fillna(1, inplace=True) # B\n",
    "\n",
    "    def _repr_html_(self):\n",
    "        with pd.option_context('display.max_columns', None): # C\n",
    "            return self.edges._repr_html_()\n",
    "\n",
    "    def inc(self, src, dst):\n",
    "        if not src in self.node_set:\n",
    "            src = \"?\"\n",
    "        if not dst in self.node_set:\n",
    "            dst = \"?\"\n",
    "        self.edges.at[src, dst] += 1\n",
    "        \n",
    "    def get_edge(self, src, dst):\n",
    "        if not src in self.node_set:\n",
    "            src = \"?\"\n",
    "        if not dst in self.node_set:\n",
    "            dst = \"?\"\n",
    "        return self.edges.at[src, dst] # D\n",
    "        \n",
    "    def to_prob(self):\n",
    "        # E\n",
    "        g = copy.deepcopy(self)\n",
    "        row_sums = g.edges.sum(axis=1)\n",
    "        g.edges = g.edges.div(row_sums, axis=0)\n",
    "        return g\n",
    "\n",
    "g = dense_graph(\"ABC\") # F"
   ]
  },
  {
   "cell_type": "code",
   "execution_count": 3,
   "metadata": {},
   "outputs": [
    {
     "data": {
      "text/html": [
       "<div>\n",
       "<style scoped>\n",
       "    .dataframe tbody tr th:only-of-type {\n",
       "        vertical-align: middle;\n",
       "    }\n",
       "\n",
       "    .dataframe tbody tr th {\n",
       "        vertical-align: top;\n",
       "    }\n",
       "\n",
       "    .dataframe thead th {\n",
       "        text-align: right;\n",
       "    }\n",
       "</style>\n",
       "<table border=\"1\" class=\"dataframe\">\n",
       "  <thead>\n",
       "    <tr style=\"text-align: right;\">\n",
       "      <th></th>\n",
       "      <th>A</th>\n",
       "      <th>B</th>\n",
       "      <th>C</th>\n",
       "      <th>?</th>\n",
       "    </tr>\n",
       "  </thead>\n",
       "  <tbody>\n",
       "    <tr>\n",
       "      <th>A</th>\n",
       "      <td>1</td>\n",
       "      <td>4</td>\n",
       "      <td>2</td>\n",
       "      <td>1</td>\n",
       "    </tr>\n",
       "    <tr>\n",
       "      <th>B</th>\n",
       "      <td>1</td>\n",
       "      <td>1</td>\n",
       "      <td>1</td>\n",
       "      <td>2</td>\n",
       "    </tr>\n",
       "    <tr>\n",
       "      <th>C</th>\n",
       "      <td>1</td>\n",
       "      <td>1</td>\n",
       "      <td>1</td>\n",
       "      <td>1</td>\n",
       "    </tr>\n",
       "    <tr>\n",
       "      <th>?</th>\n",
       "      <td>2</td>\n",
       "      <td>1</td>\n",
       "      <td>1</td>\n",
       "      <td>1</td>\n",
       "    </tr>\n",
       "  </tbody>\n",
       "</table>\n",
       "</div>"
      ],
      "text/plain": [
       "<__main__.dense_graph at 0x7f8f48787b38>"
      ]
     },
     "execution_count": 3,
     "metadata": {},
     "output_type": "execute_result"
    }
   ],
   "source": [
    "g.inc(\"A\", \"B\")\n",
    "g.inc(\"A\", \"B\")\n",
    "g.inc(\"A\", \"B\")\n",
    "g.inc(\"A\", \"C\")\n",
    "g.inc(\"B\", \"D\")\n",
    "g.inc(\"E\", \"A\")\n",
    "g"
   ]
  },
  {
   "cell_type": "code",
   "execution_count": 4,
   "metadata": {},
   "outputs": [
    {
     "data": {
      "text/html": [
       "<div>\n",
       "<style scoped>\n",
       "    .dataframe tbody tr th:only-of-type {\n",
       "        vertical-align: middle;\n",
       "    }\n",
       "\n",
       "    .dataframe tbody tr th {\n",
       "        vertical-align: top;\n",
       "    }\n",
       "\n",
       "    .dataframe thead th {\n",
       "        text-align: right;\n",
       "    }\n",
       "</style>\n",
       "<table border=\"1\" class=\"dataframe\">\n",
       "  <thead>\n",
       "    <tr style=\"text-align: right;\">\n",
       "      <th></th>\n",
       "      <th>A</th>\n",
       "      <th>B</th>\n",
       "      <th>C</th>\n",
       "      <th>?</th>\n",
       "    </tr>\n",
       "  </thead>\n",
       "  <tbody>\n",
       "    <tr>\n",
       "      <th>A</th>\n",
       "      <td>0.125</td>\n",
       "      <td>0.50</td>\n",
       "      <td>0.25</td>\n",
       "      <td>0.125</td>\n",
       "    </tr>\n",
       "    <tr>\n",
       "      <th>B</th>\n",
       "      <td>0.200</td>\n",
       "      <td>0.20</td>\n",
       "      <td>0.20</td>\n",
       "      <td>0.400</td>\n",
       "    </tr>\n",
       "    <tr>\n",
       "      <th>C</th>\n",
       "      <td>0.250</td>\n",
       "      <td>0.25</td>\n",
       "      <td>0.25</td>\n",
       "      <td>0.250</td>\n",
       "    </tr>\n",
       "    <tr>\n",
       "      <th>?</th>\n",
       "      <td>0.400</td>\n",
       "      <td>0.20</td>\n",
       "      <td>0.20</td>\n",
       "      <td>0.200</td>\n",
       "    </tr>\n",
       "  </tbody>\n",
       "</table>\n",
       "</div>"
      ],
      "text/plain": [
       "<__main__.dense_graph at 0x7f8f4877f160>"
      ]
     },
     "execution_count": 4,
     "metadata": {},
     "output_type": "execute_result"
    }
   ],
   "source": [
    "probs = g.to_prob()\n",
    "probs"
   ]
  },
  {
   "cell_type": "code",
   "execution_count": 5,
   "metadata": {},
   "outputs": [
    {
     "data": {
      "text/plain": [
       "0.5"
      ]
     },
     "execution_count": 5,
     "metadata": {},
     "output_type": "execute_result"
    }
   ],
   "source": [
    "probs.get_edge(\"A\", \"B\")"
   ]
  },
  {
   "cell_type": "code",
   "execution_count": 9,
   "metadata": {},
   "outputs": [],
   "source": [
    "#Language Examples\n",
    "#We'll download and extract the text of 7 wikipedia articles:\n",
    "\n",
    "#5 pages describing the Python programming language, in English, Spanish, German, French, and Italian. We'll later create a model based on each of these.\n",
    "#2 pages (in English and Spanish) about giant pandas, the animal. We'll test our models to see if we can automatically detect what language these are in.\n",
    "urls = {\n",
    "    \"english\": \"https://en.wikipedia.org/wiki/Python_(programming_language)\",\n",
    "    \"spanish\": \"https://es.wikipedia.org/wiki/Python\",\n",
    "    \"german\": \"https://de.wikipedia.org/wiki/Python_(Programmiersprache)\",\n",
    "    \"french\": \"https://fr.wikipedia.org/wiki/Python_(langage)\",\n",
    "    \"italian\": \"https://it.wikipedia.org/wiki/Python\",\n",
    "    \"english-test\": \"https://en.wikipedia.org/wiki/Giant_panda\",\n",
    "    \"spanish-test\": \"https://es.wikipedia.org/wiki/Ailuropoda_melanoleuca\",\n",
    "}\n",
    "\n",
    "texts = {}\n",
    "\n",
    "for lang, url in urls.items():\n",
    "    path = lang + \".txt\"\n",
    "    \n",
    "    # have we downloaded it before?\n",
    "    if not os.path.exists(path):\n",
    "        r = requests.get(url)\n",
    "        r.raise_for_status()\n",
    "        page = BeautifulSoup(r.text)\n",
    "        with open(path, \"w\") as f:\n",
    "            f.write(page.get_text())\n",
    "    \n",
    "    # for simplicity, strip out everything except lower\n",
    "    # case English letters, periods, and commas\n",
    "    with open(path) as f:\n",
    "        valid = string.ascii_lowercase + \" .,\"\n",
    "        text = []\n",
    "        for c in f.read().lower():\n",
    "            if c in valid:\n",
    "                text.append(c)\n",
    "            else:\n",
    "                text.append(\"?\")\n",
    "        texts[lang] = \"\".join(text)"
   ]
  },
  {
   "cell_type": "code",
   "execution_count": 10,
   "metadata": {},
   "outputs": [
    {
     "data": {
      "text/plain": [
       "['english',\n",
       " 'spanish',\n",
       " 'german',\n",
       " 'french',\n",
       " 'italian',\n",
       " 'english-test',\n",
       " 'spanish-test']"
      ]
     },
     "execution_count": 10,
     "metadata": {},
     "output_type": "execute_result"
    }
   ],
   "source": [
    "list(texts.keys())"
   ]
  },
  {
   "cell_type": "code",
   "execution_count": 11,
   "metadata": {},
   "outputs": [
    {
     "name": "stdout",
     "output_type": "stream",
     "text": [
      "????python ?programming language? ? wikipedia?document.documentelement.classname??client?js??rlconf???wgbreakframes????,?wgseparatortransformtable?????,???,?wgdigittransformtable?????,???,?wgdefaultdateformat???dmy?,?wgmonthnames?????,?january?,?february?,?march?,?april?,?may?,?june?,?july?,?august?,?september?,?october?,?november?,?december??,?wgmonthnamesshort?????,?jan?,?feb?,?mar?,?apr?,?may?,?jun?,?jul?,?aug?,?sep?,?oct?,?nov?,?dec??,?wgrequestid???xk??xgpaaeaaacb??n?aaadj?,?wgcspnonce????,?wgcanonicalnamespace????,?wgcanonicalspecialpagename????,?wgnamespacenumber???,?wgpagename???python??programming?language??,?wgtitle???python ?programming language??,?wgcurrevisionid???????????,?wgrevisionid???????????,?wgarticleid???????,?wgisarticle????,?wgisredirect????,?wgaction???view?,?wgusername??null,?wgusergroups???????,?wgcategories????articles with short description?,?use dmy dates from august ?????,?all articles with unsourced statements?,?articles with unsourced statements from dec\n"
     ]
    }
   ],
   "source": [
    "print(texts[\"english\"][:1000])"
   ]
  },
  {
   "cell_type": "code",
   "execution_count": 12,
   "metadata": {},
   "outputs": [
    {
     "data": {
      "text/plain": [
       "'abcdefghijklmnopqrstuvwxyz.,?'"
      ]
     },
     "execution_count": 12,
     "metadata": {},
     "output_type": "execute_result"
    }
   ],
   "source": [
    "valid = string.ascii_lowercase + '.,?'\n",
    "valid"
   ]
  },
  {
   "cell_type": "code",
   "execution_count": 13,
   "metadata": {},
   "outputs": [
    {
     "name": "stdout",
     "output_type": "stream",
     "text": [
      "????python ? wikipedia, la enciclopedia libre?document.documentelement.classname??client?js??rlconf???wgbreakframes????,?wgseparatortransformtable????,?t.?,???t,??,?wgdigittransformtable?????,???,?wgdefaultdateformat???dmy?,?wgmonthnames?????,?enero?,?febrero?,?marzo?,?abril?,?mayo?,?junio?,?julio?,?agosto?,?septiembre?,?octubre?,?noviembre?,?diciembre??,?wgmonthnamesshort?????,?ene?,?feb?,?mar?,?abr?,?may?,?jun?,?jul?,?ago?,?sep?,?oct?,?nov?,?dic??,?wgrequestid???xkv?sqpaaeyaaehg?zsaaabi?,?wgcspnonce????,?wgcanonicalnamespace????,?wgcanonicalspecialpagename????,?wgnamespacenumber???,?wgpagename???python?,?wgtitle???python?,?wgcurrevisionid???????????,?wgrevisionid???????????,?wgarticleid??????,?wgisarticle????,?wgisredirect????,?wgaction???view?,?wgusername??null,?wgusergroups???????,?wgcategories????wikipedia?art?culos con datos por trasladar a wikidata?,?wikipedia?art?culos destacados en la wikipedia en ruso?,?wikipedia?art?culos buenos en la wikipedia en alem?n?,??wikipedia?art?culos buenos en la wikipedia en ingl?s?,?wikipedia?art?culos con identificadores bnf?,?wikipedia?art?culos con identificadores gnd?,?wikipedia?art?culos con identificadores lccn?,?python?,?lenguajes de programaci?n orientada a objetos?,?lenguajes de programaci?n de alto nivel?,?lenguajes de programaci?n din?micamente tipados?,?lenguajes de programaci?n educativos?,?software de ?????,?pa?ses bajos en ?????,?ciencia y tecnolog?a de los pa?ses bajos??,?wgpagecontentlanguage???es?,?wgpagecontentmodel???wikitext?,?wgrelevantpagename???python?,?wgrelevantarticleid??????,?wgisprobablyeditable????,?wgrelevantpageisprobablyeditable????,?wgrestrictionedit????,?wgrestrictionmove????,?wgmediavieweronclick????,?wgmediaviewerenabledbydefault????,?wgpopupsreferencepreviews????,?wgpopupsconflictswithnavpopupgadget????,?wgvisualeditor????pagelanguagecode???es?,?pagelanguagedir???ltr?,?pagevariantfallbacks???es??,?wgmfdisplaywikibasedescriptions????search????,??nearby????,?watchlist????,?tagline?????,?wgwmeschemaeditattemptstepoversample????,?wgulscurrentautonym???espa?ol?,?wgnoticeproject???wikipedia?,?wgwikibaseitemid???q??????,?wgcentralauthmobiledomain????,?wgeditsubmitbuttonlabelpublish??????rlstate???ext.gadget.imagenesinfobox???ready?,?ext.globalcssjs.user.styles???ready?,?site.styles???ready?,?noscript???ready?,?user.styles???ready?,?ext.globalcssjs.user???ready?,?user???ready?,?user.options???loading?,?user.tokens???loading?,?ext.cite.styles???ready?,?ext.pygments???ready?,?mediawiki.legacy.shared???ready?,?mediawiki.legacy.commonprint???ready?,?mediawiki.toc.styles???ready?,?mediawiki.skinning.interface???ready?,?skins.vector.styles???ready?,?wikibase.client.init???ready?,?ext.visualeditor.desktoparticletarget.noscript???ready?,?ext.uls.interlanguage???ready?,?ext.wikimediabadges???ready???rlpagemodules???ext.cite.ux?enhancements?,?site?,?mediawiki.page.startup?,?skins.vector.js?,?mediawiki.page.ready?,??mediawiki.toc?,?ext.gadget.a?commons?directo?,?ext.gadget.referencetooltips?,?ext.gadget.reftoolbar?,?ext.centralauth.centralautologin?,?mmv.head?,?mmv.bootstrap.autostart?,?ext.popups?,?ext.visualeditor.desktoparticletarget.init?,?ext.visualeditor.targetloader?,?ext.eventlogging?,?ext.wikimediaevents?,?ext.navigationtiming?,?ext.uls.compactlinks?,?ext.uls.interface?,?ext.cx.eventlogging.campaigns?,?ext.quicksurveys.init?,?ext.centralnotice.geoip?,?ext.centralnotice.startup?????rlq?window.rlq?????.push?function???mw.loader.implement??user.options?wq????,function??,jquery,require,module?????nomin??mw.user.options.set???variant???es????????mw.loader.implement??user.tokens?tffin?,function??,jquery,require,module?????nomin??mw.user.tokens.set???patroltoken???????,?watchtoken???????,?csrftoken?????????????????????????????????????????????????python??de wikipedia, la enciclopedia libre???ir a la navegaci?n?ir a la b?squeda?este art?culo trata sobre el lenguaje de programaci?n. para el grupo de humoristas, v?ase monty python. para el rev?lver, v?ase colt python.? para otros usos de este t?rmino, v?ase pit?n.?python?desarrollador?es??python software foundationsitio web oficialinformaci?n generalextensiones comunes?.py, .pyc, .pyd, .pyo, .pyw, .pyzparadigma?multiparadigma? orientado a objetos, imperativo, funcional, reflexivoapareci? en?????dise?ado por?guido van rossum?ltima versi?n estable??.?.????????? de diciembre de ???? ?? meses?sistema de tipos?fuertemente tipado, din?micoimplementaciones?cpython, ironpython, jython, python for s??, pypy, activepython, unladen swallowdialectos?stackless python, rpythoninfluido por?abc, algol ??, c, haskell, icon, lisp, modula??, perl, smalltalk, javaha influido a?boo, cobra, d, falcon, genie, groovy, ruby, javascript, cython, go latinosistema operativo?multiplataformalicencia?python software foundation license?editar datos en wikidata??python es un lenguaje de programaci?n interpretado cuya filosof?a hace hincapi? en la legibilidad de su c?digo.?se trata de un lenguaje de programaci?n multiparadigma, ya que\n"
     ]
    }
   ],
   "source": [
    "print(texts[\"spanish\"][:5000])"
   ]
  },
  {
   "cell_type": "code",
   "execution_count": 14,
   "metadata": {},
   "outputs": [],
   "source": [
    "class LangProfile:\n",
    "    def __init__(self, name, text):\n",
    "        self.name = name\n",
    "\n",
    "        g = dense_graph(valid)\n",
    "        for i in range(len(text)-1):\n",
    "            g.inc(text[i], text[i+1])\n",
    "        self.graph = g.to_prob()\n",
    "\n",
    "    def prob(self, text):\n",
    "        p = 1\n",
    "        for i in range(len(text)-1):\n",
    "            p *= self.graph.get_edge(text[i], text[i+1])\n",
    "        return p"
   ]
  },
  {
   "cell_type": "code",
   "execution_count": 15,
   "metadata": {},
   "outputs": [
    {
     "ename": "AttributeError",
     "evalue": "'BlockManager' object has no attribute 'T'",
     "output_type": "error",
     "traceback": [
      "\u001b[0;31m---------------------------------------------------------------------------\u001b[0m",
      "\u001b[0;31mAttributeError\u001b[0m                            Traceback (most recent call last)",
      "\u001b[0;32m<ipython-input-15-5f537232c469>\u001b[0m in \u001b[0;36m<module>\u001b[0;34m\u001b[0m\n\u001b[0;32m----> 1\u001b[0;31m \u001b[0menglish\u001b[0m \u001b[0;34m=\u001b[0m \u001b[0mLangProfile\u001b[0m\u001b[0;34m(\u001b[0m\u001b[0;34m\"english\"\u001b[0m\u001b[0;34m,\u001b[0m \u001b[0mtexts\u001b[0m\u001b[0;34m[\u001b[0m\u001b[0;34m\"english\"\u001b[0m\u001b[0;34m]\u001b[0m\u001b[0;34m)\u001b[0m\u001b[0;34m\u001b[0m\u001b[0;34m\u001b[0m\u001b[0m\n\u001b[0m\u001b[1;32m      2\u001b[0m \u001b[0mspanish\u001b[0m \u001b[0;34m=\u001b[0m \u001b[0mLangProfile\u001b[0m\u001b[0;34m(\u001b[0m\u001b[0;34m\"spanish\"\u001b[0m\u001b[0;34m,\u001b[0m \u001b[0mtexts\u001b[0m\u001b[0;34m[\u001b[0m\u001b[0;34m\"spanish\"\u001b[0m\u001b[0;34m]\u001b[0m\u001b[0;34m)\u001b[0m\u001b[0;34m\u001b[0m\u001b[0;34m\u001b[0m\u001b[0m\n\u001b[1;32m      3\u001b[0m \u001b[0mspanish\u001b[0m\u001b[0;34m.\u001b[0m\u001b[0mgraph\u001b[0m\u001b[0;34m.\u001b[0m\u001b[0medges\u001b[0m\u001b[0;34m.\u001b[0m\u001b[0miloc\u001b[0m\u001b[0;34m[\u001b[0m\u001b[0;34m:\u001b[0m\u001b[0;36m8\u001b[0m\u001b[0;34m,\u001b[0m\u001b[0;34m:\u001b[0m\u001b[0;36m8\u001b[0m\u001b[0;34m]\u001b[0m\u001b[0;34m\u001b[0m\u001b[0;34m\u001b[0m\u001b[0m\n",
      "\u001b[0;32m<ipython-input-14-3d6d90dcf3d2>\u001b[0m in \u001b[0;36m__init__\u001b[0;34m(self, name, text)\u001b[0m\n\u001b[1;32m      5\u001b[0m         \u001b[0mg\u001b[0m \u001b[0;34m=\u001b[0m \u001b[0mdense_graph\u001b[0m\u001b[0;34m(\u001b[0m\u001b[0mvalid\u001b[0m\u001b[0;34m)\u001b[0m\u001b[0;34m\u001b[0m\u001b[0;34m\u001b[0m\u001b[0m\n\u001b[1;32m      6\u001b[0m         \u001b[0;32mfor\u001b[0m \u001b[0mi\u001b[0m \u001b[0;32min\u001b[0m \u001b[0mrange\u001b[0m\u001b[0;34m(\u001b[0m\u001b[0mlen\u001b[0m\u001b[0;34m(\u001b[0m\u001b[0mtext\u001b[0m\u001b[0;34m)\u001b[0m\u001b[0;34m-\u001b[0m\u001b[0;36m1\u001b[0m\u001b[0;34m)\u001b[0m\u001b[0;34m:\u001b[0m\u001b[0;34m\u001b[0m\u001b[0;34m\u001b[0m\u001b[0m\n\u001b[0;32m----> 7\u001b[0;31m             \u001b[0mg\u001b[0m\u001b[0;34m.\u001b[0m\u001b[0minc\u001b[0m\u001b[0;34m(\u001b[0m\u001b[0mtext\u001b[0m\u001b[0;34m[\u001b[0m\u001b[0mi\u001b[0m\u001b[0;34m]\u001b[0m\u001b[0;34m,\u001b[0m \u001b[0mtext\u001b[0m\u001b[0;34m[\u001b[0m\u001b[0mi\u001b[0m\u001b[0;34m+\u001b[0m\u001b[0;36m1\u001b[0m\u001b[0;34m]\u001b[0m\u001b[0;34m)\u001b[0m\u001b[0;34m\u001b[0m\u001b[0;34m\u001b[0m\u001b[0m\n\u001b[0m\u001b[1;32m      8\u001b[0m         \u001b[0mself\u001b[0m\u001b[0;34m.\u001b[0m\u001b[0mgraph\u001b[0m \u001b[0;34m=\u001b[0m \u001b[0mg\u001b[0m\u001b[0;34m.\u001b[0m\u001b[0mto_prob\u001b[0m\u001b[0;34m(\u001b[0m\u001b[0;34m)\u001b[0m\u001b[0;34m\u001b[0m\u001b[0;34m\u001b[0m\u001b[0m\n\u001b[1;32m      9\u001b[0m \u001b[0;34m\u001b[0m\u001b[0m\n",
      "\u001b[0;32m<ipython-input-2-881aed2e1469>\u001b[0m in \u001b[0;36minc\u001b[0;34m(self, src, dst)\u001b[0m\n\u001b[1;32m     16\u001b[0m         \u001b[0;32mif\u001b[0m \u001b[0;32mnot\u001b[0m \u001b[0mdst\u001b[0m \u001b[0;32min\u001b[0m \u001b[0mself\u001b[0m\u001b[0;34m.\u001b[0m\u001b[0mnode_set\u001b[0m\u001b[0;34m:\u001b[0m\u001b[0;34m\u001b[0m\u001b[0;34m\u001b[0m\u001b[0m\n\u001b[1;32m     17\u001b[0m             \u001b[0mdst\u001b[0m \u001b[0;34m=\u001b[0m \u001b[0;34m\"?\"\u001b[0m\u001b[0;34m\u001b[0m\u001b[0;34m\u001b[0m\u001b[0m\n\u001b[0;32m---> 18\u001b[0;31m         \u001b[0mself\u001b[0m\u001b[0;34m.\u001b[0m\u001b[0medges\u001b[0m\u001b[0;34m.\u001b[0m\u001b[0mat\u001b[0m\u001b[0;34m[\u001b[0m\u001b[0msrc\u001b[0m\u001b[0;34m,\u001b[0m \u001b[0mdst\u001b[0m\u001b[0;34m]\u001b[0m \u001b[0;34m+=\u001b[0m \u001b[0;36m1\u001b[0m\u001b[0;34m\u001b[0m\u001b[0;34m\u001b[0m\u001b[0m\n\u001b[0m\u001b[1;32m     19\u001b[0m \u001b[0;34m\u001b[0m\u001b[0m\n\u001b[1;32m     20\u001b[0m     \u001b[0;32mdef\u001b[0m \u001b[0mget_edge\u001b[0m\u001b[0;34m(\u001b[0m\u001b[0mself\u001b[0m\u001b[0;34m,\u001b[0m \u001b[0msrc\u001b[0m\u001b[0;34m,\u001b[0m \u001b[0mdst\u001b[0m\u001b[0;34m)\u001b[0m\u001b[0;34m:\u001b[0m\u001b[0;34m\u001b[0m\u001b[0;34m\u001b[0m\u001b[0m\n",
      "\u001b[0;32m~/.local/lib/python3.6/site-packages/pandas/core/indexing.py\u001b[0m in \u001b[0;36m__getitem__\u001b[0;34m(self, key)\u001b[0m\n\u001b[1;32m   2198\u001b[0m \u001b[0;34m\u001b[0m\u001b[0m\n\u001b[1;32m   2199\u001b[0m         \u001b[0mkey\u001b[0m \u001b[0;34m=\u001b[0m \u001b[0mself\u001b[0m\u001b[0;34m.\u001b[0m\u001b[0m_convert_key\u001b[0m\u001b[0;34m(\u001b[0m\u001b[0mkey\u001b[0m\u001b[0;34m)\u001b[0m\u001b[0;34m\u001b[0m\u001b[0;34m\u001b[0m\u001b[0m\n\u001b[0;32m-> 2200\u001b[0;31m         \u001b[0;32mreturn\u001b[0m \u001b[0mself\u001b[0m\u001b[0;34m.\u001b[0m\u001b[0mobj\u001b[0m\u001b[0;34m.\u001b[0m\u001b[0m_get_value\u001b[0m\u001b[0;34m(\u001b[0m\u001b[0;34m*\u001b[0m\u001b[0mkey\u001b[0m\u001b[0;34m,\u001b[0m \u001b[0mtakeable\u001b[0m\u001b[0;34m=\u001b[0m\u001b[0mself\u001b[0m\u001b[0;34m.\u001b[0m\u001b[0m_takeable\u001b[0m\u001b[0;34m)\u001b[0m\u001b[0;34m\u001b[0m\u001b[0;34m\u001b[0m\u001b[0m\n\u001b[0m\u001b[1;32m   2201\u001b[0m \u001b[0;34m\u001b[0m\u001b[0m\n\u001b[1;32m   2202\u001b[0m     \u001b[0;32mdef\u001b[0m \u001b[0m__setitem__\u001b[0m\u001b[0;34m(\u001b[0m\u001b[0mself\u001b[0m\u001b[0;34m,\u001b[0m \u001b[0mkey\u001b[0m\u001b[0;34m,\u001b[0m \u001b[0mvalue\u001b[0m\u001b[0;34m)\u001b[0m\u001b[0;34m:\u001b[0m\u001b[0;34m\u001b[0m\u001b[0;34m\u001b[0m\u001b[0m\n",
      "\u001b[0;32m~/.local/lib/python3.6/site-packages/pandas/core/frame.py\u001b[0m in \u001b[0;36m_get_value\u001b[0;34m(self, index, col, takeable)\u001b[0m\n\u001b[1;32m   2841\u001b[0m             \u001b[0;32mreturn\u001b[0m \u001b[0mcom\u001b[0m\u001b[0;34m.\u001b[0m\u001b[0mmaybe_box_datetimelike\u001b[0m\u001b[0;34m(\u001b[0m\u001b[0mseries\u001b[0m\u001b[0;34m.\u001b[0m\u001b[0m_values\u001b[0m\u001b[0;34m[\u001b[0m\u001b[0mindex\u001b[0m\u001b[0;34m]\u001b[0m\u001b[0;34m)\u001b[0m\u001b[0;34m\u001b[0m\u001b[0;34m\u001b[0m\u001b[0m\n\u001b[1;32m   2842\u001b[0m \u001b[0;34m\u001b[0m\u001b[0m\n\u001b[0;32m-> 2843\u001b[0;31m         \u001b[0mseries\u001b[0m \u001b[0;34m=\u001b[0m \u001b[0mself\u001b[0m\u001b[0;34m.\u001b[0m\u001b[0m_get_item_cache\u001b[0m\u001b[0;34m(\u001b[0m\u001b[0mcol\u001b[0m\u001b[0;34m)\u001b[0m\u001b[0;34m\u001b[0m\u001b[0;34m\u001b[0m\u001b[0m\n\u001b[0m\u001b[1;32m   2844\u001b[0m         \u001b[0mengine\u001b[0m \u001b[0;34m=\u001b[0m \u001b[0mself\u001b[0m\u001b[0;34m.\u001b[0m\u001b[0mindex\u001b[0m\u001b[0;34m.\u001b[0m\u001b[0m_engine\u001b[0m\u001b[0;34m\u001b[0m\u001b[0;34m\u001b[0m\u001b[0m\n\u001b[1;32m   2845\u001b[0m \u001b[0;34m\u001b[0m\u001b[0m\n",
      "\u001b[0;32m~/.local/lib/python3.6/site-packages/pandas/core/generic.py\u001b[0m in \u001b[0;36m_get_item_cache\u001b[0;34m(self, item)\u001b[0m\n\u001b[1;32m   3269\u001b[0m         \u001b[0;32mif\u001b[0m \u001b[0mres\u001b[0m \u001b[0;32mis\u001b[0m \u001b[0;32mNone\u001b[0m\u001b[0;34m:\u001b[0m\u001b[0;34m\u001b[0m\u001b[0;34m\u001b[0m\u001b[0m\n\u001b[1;32m   3270\u001b[0m             \u001b[0mvalues\u001b[0m \u001b[0;34m=\u001b[0m \u001b[0mself\u001b[0m\u001b[0;34m.\u001b[0m\u001b[0m_data\u001b[0m\u001b[0;34m.\u001b[0m\u001b[0mget\u001b[0m\u001b[0;34m(\u001b[0m\u001b[0mitem\u001b[0m\u001b[0;34m)\u001b[0m\u001b[0;34m\u001b[0m\u001b[0;34m\u001b[0m\u001b[0m\n\u001b[0;32m-> 3271\u001b[0;31m             \u001b[0mres\u001b[0m \u001b[0;34m=\u001b[0m \u001b[0mself\u001b[0m\u001b[0;34m.\u001b[0m\u001b[0m_box_item_values\u001b[0m\u001b[0;34m(\u001b[0m\u001b[0mitem\u001b[0m\u001b[0;34m,\u001b[0m \u001b[0mvalues\u001b[0m\u001b[0;34m)\u001b[0m\u001b[0;34m\u001b[0m\u001b[0;34m\u001b[0m\u001b[0m\n\u001b[0m\u001b[1;32m   3272\u001b[0m             \u001b[0mcache\u001b[0m\u001b[0;34m[\u001b[0m\u001b[0mitem\u001b[0m\u001b[0;34m]\u001b[0m \u001b[0;34m=\u001b[0m \u001b[0mres\u001b[0m\u001b[0;34m\u001b[0m\u001b[0;34m\u001b[0m\u001b[0m\n\u001b[1;32m   3273\u001b[0m             \u001b[0mres\u001b[0m\u001b[0;34m.\u001b[0m\u001b[0m_set_as_cached\u001b[0m\u001b[0;34m(\u001b[0m\u001b[0mitem\u001b[0m\u001b[0;34m,\u001b[0m \u001b[0mself\u001b[0m\u001b[0;34m)\u001b[0m\u001b[0;34m\u001b[0m\u001b[0;34m\u001b[0m\u001b[0m\n",
      "\u001b[0;32m~/.local/lib/python3.6/site-packages/pandas/core/frame.py\u001b[0m in \u001b[0;36m_box_item_values\u001b[0;34m(self, key, values)\u001b[0m\n\u001b[1;32m   3460\u001b[0m         \u001b[0mitems\u001b[0m \u001b[0;34m=\u001b[0m \u001b[0mself\u001b[0m\u001b[0;34m.\u001b[0m\u001b[0mcolumns\u001b[0m\u001b[0;34m[\u001b[0m\u001b[0mself\u001b[0m\u001b[0;34m.\u001b[0m\u001b[0mcolumns\u001b[0m\u001b[0;34m.\u001b[0m\u001b[0mget_loc\u001b[0m\u001b[0;34m(\u001b[0m\u001b[0mkey\u001b[0m\u001b[0;34m)\u001b[0m\u001b[0;34m]\u001b[0m\u001b[0;34m\u001b[0m\u001b[0;34m\u001b[0m\u001b[0m\n\u001b[1;32m   3461\u001b[0m         \u001b[0;32mif\u001b[0m \u001b[0mvalues\u001b[0m\u001b[0;34m.\u001b[0m\u001b[0mndim\u001b[0m \u001b[0;34m==\u001b[0m \u001b[0;36m2\u001b[0m\u001b[0;34m:\u001b[0m\u001b[0;34m\u001b[0m\u001b[0;34m\u001b[0m\u001b[0m\n\u001b[0;32m-> 3462\u001b[0;31m             \u001b[0;32mreturn\u001b[0m \u001b[0mself\u001b[0m\u001b[0;34m.\u001b[0m\u001b[0m_constructor\u001b[0m\u001b[0;34m(\u001b[0m\u001b[0mvalues\u001b[0m\u001b[0;34m.\u001b[0m\u001b[0mT\u001b[0m\u001b[0;34m,\u001b[0m \u001b[0mcolumns\u001b[0m\u001b[0;34m=\u001b[0m\u001b[0mitems\u001b[0m\u001b[0;34m,\u001b[0m \u001b[0mindex\u001b[0m\u001b[0;34m=\u001b[0m\u001b[0mself\u001b[0m\u001b[0;34m.\u001b[0m\u001b[0mindex\u001b[0m\u001b[0;34m)\u001b[0m\u001b[0;34m\u001b[0m\u001b[0;34m\u001b[0m\u001b[0m\n\u001b[0m\u001b[1;32m   3463\u001b[0m         \u001b[0;32melse\u001b[0m\u001b[0;34m:\u001b[0m\u001b[0;34m\u001b[0m\u001b[0;34m\u001b[0m\u001b[0m\n\u001b[1;32m   3464\u001b[0m             \u001b[0;32mreturn\u001b[0m \u001b[0mself\u001b[0m\u001b[0;34m.\u001b[0m\u001b[0m_box_col_values\u001b[0m\u001b[0;34m(\u001b[0m\u001b[0mvalues\u001b[0m\u001b[0;34m,\u001b[0m \u001b[0mitems\u001b[0m\u001b[0;34m)\u001b[0m\u001b[0;34m\u001b[0m\u001b[0;34m\u001b[0m\u001b[0m\n",
      "\u001b[0;31mAttributeError\u001b[0m: 'BlockManager' object has no attribute 'T'"
     ]
    }
   ],
   "source": [
    "english = LangProfile(\"english\", texts[\"english\"])\n",
    "spanish = LangProfile(\"spanish\", texts[\"spanish\"])\n",
    "spanish.graph.edges.iloc[:8,:8]"
   ]
  },
  {
   "cell_type": "code",
   "execution_count": null,
   "metadata": {},
   "outputs": [],
   "source": [
    "class dense_graph1:\n",
    "    def __init__(self, nodes):\n",
    "        self.nodes = sorted(nodes)\n",
    "        self.edges = pd.DataFrame(index = self. nodes, columns = self.nodes)\n",
    "        self.edges = self.edges.fillna(0)\n",
    "    def get_edge(self, nodeA, nodeB):\n",
    "        assert nodeA in self.nodes\n",
    "        assert nodeB in self.nodes\n",
    "        return self.edges.at[nodeA, nodeB]\n",
    "    \n",
    "    def inc(self, nodeA, nodeB):\n",
    "        assert nodeA in self.nodes\n",
    "        assert nodeB in self.nodes\n",
    "        self.edges.at[nodeA, nodeB] += 1\n",
    "        \n",
    "    def _repr_html_(self):\n",
    "        with pd.option_context('display.max_columns', None): # C\n",
    "            return self.edges._repr_html_()\n",
    "        \n",
    "    def to_prob(self):\n",
    "        sums = self.edges.sum(axis =1)\n",
    "        self.edges = self.edges.div(sums, axis = 1)\n",
    "        \n",
    "dgraph = dense_graph1(valid)\n",
    "dgraph.inc(\"a\", \"b\")\n",
    "dgraph.inc(\"a\", \"c\")\n",
    "\n",
    "dgraph.to_prob()\n",
    "#dgraph"
   ]
  },
  {
   "cell_type": "code",
   "execution_count": null,
   "metadata": {},
   "outputs": [],
   "source": []
  },
  {
   "cell_type": "code",
   "execution_count": null,
   "metadata": {},
   "outputs": [],
   "source": [
    "class LangProfile1:\n",
    "    def __init__(self):\n",
    "        self.makov = None\n",
    "        \n",
    "    def fit(self, text):\n",
    "        self.markov = dense_graph1(valid)\n",
    "        for i in range(len(text)-1):\n",
    "            first =text[i]\n",
    "            second = text[i+1]\n",
    "            self.markov.inc(first, second)\n",
    "        self.markov.to_prob()\n",
    "            \n",
    "    def prob(self, text):\n",
    "        p =1\n",
    "        for i in range(len(text)-1):\n",
    "            first =text[i]\n",
    "            second = text[i+1]\n",
    "            print(first, second, self.markov.get_edge(first, second))\n",
    "        p *= self.markov.get_edge(first, second)\n",
    "        return p\n",
    "\n",
    "p  = LangProfile1()\n",
    "p.fit(\"this is some example text\")\n",
    "p.prob(\"hellow\")"
   ]
  },
  {
   "cell_type": "code",
   "execution_count": null,
   "metadata": {},
   "outputs": [],
   "source": [
    "english = LangProfile(english, texts[\"english\"])\n",
    "spanish = LangProfile(spanish, texts[\"spanish\"])\n",
    "english.prob(\"house\"), spanish.prob(\"house\")"
   ]
  },
  {
   "cell_type": "code",
   "execution_count": null,
   "metadata": {},
   "outputs": [],
   "source": [
    "class lang_predictor:\n",
    "    def __init__(self, profiles):\n",
    "        self.profiles = profiles\n",
    "    def predict(self, text):\n",
    "        best_profile = max(self.profiles, key = lambda prof: prof.prob(text))\n",
    "        return best_profile.name\n",
    "predictior = lang_predictor(profiles)\n",
    "predictor.predict(\"hola amigos\")"
   ]
  },
  {
   "cell_type": "code",
   "execution_count": null,
   "metadata": {},
   "outputs": [],
   "source": []
  }
 ],
 "metadata": {
  "kernelspec": {
   "display_name": "Python 3",
   "language": "python",
   "name": "python3"
  },
  "language_info": {
   "codemirror_mode": {
    "name": "ipython",
    "version": 3
   },
   "file_extension": ".py",
   "mimetype": "text/x-python",
   "name": "python",
   "nbconvert_exporter": "python",
   "pygments_lexer": "ipython3",
   "version": "3.6.9"
  }
 },
 "nbformat": 4,
 "nbformat_minor": 4
}
