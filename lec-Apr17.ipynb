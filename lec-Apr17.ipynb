{
 "cells": [
  {
   "cell_type": "code",
   "execution_count": 1,
   "metadata": {},
   "outputs": [],
   "source": [
    "import numpy as np\n",
    "import torch\n",
    "import time"
   ]
  },
  {
   "cell_type": "code",
   "execution_count": 3,
   "metadata": {},
   "outputs": [
    {
     "data": {
      "text/plain": [
       "1.4875855445861816"
      ]
     },
     "execution_count": 3,
     "metadata": {},
     "output_type": "execute_result"
    }
   ],
   "source": [
    "N = 2000\n",
    "A = np.random.normal(size=(3000,N))\n",
    "B = np.random.normal(size=(N,4000))\n",
    "\n",
    "t0 = time.time()\n",
    "C = A @ B\n",
    "t1 = time.time()\n",
    "t1 - t0"
   ]
  },
  {
   "cell_type": "code",
   "execution_count": 4,
   "metadata": {},
   "outputs": [
    {
     "data": {
      "text/plain": [
       "numpy.ndarray"
      ]
     },
     "execution_count": 4,
     "metadata": {},
     "output_type": "execute_result"
    }
   ],
   "source": [
    "type(A)"
   ]
  },
  {
   "cell_type": "code",
   "execution_count": 7,
   "metadata": {},
   "outputs": [],
   "source": [
    "A = torch.from_numpy(A)\n",
    "B = torch.from_numpy(B)"
   ]
  },
  {
   "cell_type": "code",
   "execution_count": 8,
   "metadata": {},
   "outputs": [
    {
     "data": {
      "text/plain": [
       "torch.Tensor"
      ]
     },
     "execution_count": 8,
     "metadata": {},
     "output_type": "execute_result"
    }
   ],
   "source": [
    "type(A)"
   ]
  },
  {
   "cell_type": "code",
   "execution_count": 9,
   "metadata": {},
   "outputs": [
    {
     "data": {
      "text/plain": [
       "1.707587480545044"
      ]
     },
     "execution_count": 9,
     "metadata": {},
     "output_type": "execute_result"
    }
   ],
   "source": [
    "t0 = time.time()\n",
    "C = A @ B\n",
    "t1 = time.time()\n",
    "t1 - t0"
   ]
  },
  {
   "cell_type": "code",
   "execution_count": 15,
   "metadata": {},
   "outputs": [
    {
     "data": {
      "text/plain": [
       "False"
      ]
     },
     "execution_count": 15,
     "metadata": {},
     "output_type": "execute_result"
    }
   ],
   "source": [
    "torch.cuda.is_available()"
   ]
  },
  {
   "cell_type": "code",
   "execution_count": 16,
   "metadata": {},
   "outputs": [],
   "source": [
    "if torch.cuda.is_available():\n",
    "    A = A.to('cuda')\n",
    "    B = B.to('cuda')"
   ]
  },
  {
   "cell_type": "code",
   "execution_count": 17,
   "metadata": {},
   "outputs": [
    {
     "data": {
      "text/plain": [
       "device(type='cpu')"
      ]
     },
     "execution_count": 17,
     "metadata": {},
     "output_type": "execute_result"
    }
   ],
   "source": [
    "A.device"
   ]
  },
  {
   "cell_type": "code",
   "execution_count": 18,
   "metadata": {},
   "outputs": [
    {
     "data": {
      "text/plain": [
       "torch.Size([3000, 4000])"
      ]
     },
     "execution_count": 18,
     "metadata": {},
     "output_type": "execute_result"
    }
   ],
   "source": [
    "C.shape"
   ]
  },
  {
   "cell_type": "code",
   "execution_count": 19,
   "metadata": {},
   "outputs": [
    {
     "data": {
      "text/plain": [
       "tensor([[  54.6592,  -16.8731,    3.4722,   28.8063,   -3.0670,   34.9675,\n",
       "          -48.7010,  -31.0275, -107.6674,  -26.6233],\n",
       "        [  17.7543,   13.7357,  -10.5189,   17.3631,  109.5332,   11.9755,\n",
       "           19.7469,   99.7438,   38.0426,  -16.7943],\n",
       "        [ -23.1788,  -75.7157,  -47.9798,  124.4628,   73.9141,   56.5853,\n",
       "           13.4725,  -29.6063,   99.0322,   56.0131],\n",
       "        [ -55.1060,   34.7381,   13.6896,  -38.5162,   41.0719,   -1.9469,\n",
       "          -42.3964,  -30.9306,  -82.1089,   24.0133],\n",
       "        [ -24.8305,    8.5998,   82.9368,  -18.1632,  -40.5717,  -97.5992,\n",
       "           59.6347,  -16.3056,  -17.2164,  -26.8291],\n",
       "        [ -45.4433,  -21.8354,  -84.5745,  -53.3216,  -21.8927,   33.1250,\n",
       "           20.1117,  -47.1611,   33.2721,  -32.8139],\n",
       "        [  73.5653,   44.6778,   -1.6142,   -0.3725,   25.2244,   77.6464,\n",
       "          -66.6611,  -36.3923,  -20.4338,  -79.6444],\n",
       "        [  45.5672,  -14.9102,  -28.8154,   33.5174,   34.3289,  -24.7451,\n",
       "          -18.2546,  -53.5026,  -40.5762,  -10.8083],\n",
       "        [  -4.4727,   24.1564,   93.2704,   31.8271,   23.9658,   27.0167,\n",
       "          -26.7344,  -75.6829,  -60.9488,   53.0271],\n",
       "        [  53.2786,  -49.7270,   32.9697,   31.7807,  -24.5965,   -2.0798,\n",
       "           87.6587,  103.0992,   28.9528,   63.3073]], dtype=torch.float64)"
      ]
     },
     "execution_count": 19,
     "metadata": {},
     "output_type": "execute_result"
    }
   ],
   "source": [
    "C[:10,:10]"
   ]
  },
  {
   "cell_type": "code",
   "execution_count": 20,
   "metadata": {},
   "outputs": [
    {
     "data": {
      "text/plain": [
       "tensor(6)"
      ]
     },
     "execution_count": 20,
     "metadata": {},
     "output_type": "execute_result"
    }
   ],
   "source": [
    "a = torch.tensor([1,2,3])\n",
    "a.sum()"
   ]
  },
  {
   "cell_type": "code",
   "execution_count": 21,
   "metadata": {},
   "outputs": [
    {
     "data": {
      "text/plain": [
       "6"
      ]
     },
     "execution_count": 21,
     "metadata": {},
     "output_type": "execute_result"
    }
   ],
   "source": [
    "a.sum().item()"
   ]
  },
  {
   "cell_type": "code",
   "execution_count": 22,
   "metadata": {},
   "outputs": [
    {
     "data": {
      "text/plain": [
       "tensor([[1],\n",
       "        [2],\n",
       "        [3]])"
      ]
     },
     "execution_count": 22,
     "metadata": {},
     "output_type": "execute_result"
    }
   ],
   "source": [
    "a.reshape(-1,1)"
   ]
  },
  {
   "cell_type": "code",
   "execution_count": 23,
   "metadata": {},
   "outputs": [
    {
     "data": {
      "text/plain": [
       "tensor([-1.,  1., 12.])"
      ]
     },
     "execution_count": 23,
     "metadata": {},
     "output_type": "execute_result"
    }
   ],
   "source": [
    "b = torch.tensor([-1, 0.5, 4])\n",
    "a * b"
   ]
  },
  {
   "cell_type": "code",
   "execution_count": 30,
   "metadata": {},
   "outputs": [],
   "source": [
    "from torch import tensor\n",
    "from matplotlib import pyplot as plt"
   ]
  },
  {
   "cell_type": "code",
   "execution_count": 31,
   "metadata": {},
   "outputs": [],
   "source": [
    "def f(x):\n",
    "    y = x ** 2\n",
    "    return y\n",
    "\n",
    "def df(x):\n",
    "    gradient = 2 * x\n",
    "    return gradient"
   ]
  },
  {
   "cell_type": "code",
   "execution_count": 32,
   "metadata": {},
   "outputs": [],
   "source": [
    "def plot_func(func, color=\"red\"):\n",
    "    x_vals = np.arange(-3, 3, 0.1)\n",
    "    y_vals = func(x_vals)\n",
    "    plt.plot(x_vals, y_vals, color)\n",
    "\n",
    "def plot_gradient(x, y, slope):\n",
    "    x, y, slope = map(float, (x, y, slope))\n",
    "    dx = 3\n",
    "    dy = dx*slope\n",
    "    plt.arrow(x-dx/2, y-dy/2, dx, dy, linewidth=2)"
   ]
  },
  {
   "cell_type": "code",
   "execution_count": 37,
   "metadata": {},
   "outputs": [
    {
     "data": {
      "image/png": "[encoded data removed]",
      "text/plain": [
       "<Figure size 432x288 with 1 Axes>"
      ]
     },
     "metadata": {
      "needs_background": "light"
     },
     "output_type": "display_data"
    }
   ],
   "source": [
    "x = 1\n",
    "y = f(x)\n",
    "gradient = df(x)\n",
    "\n",
    "plot_func(f)\n",
    "plot_gradient(x=x, y=y, slope = gradient)"
   ]
  },
  {
   "cell_type": "code",
   "execution_count": 44,
   "metadata": {},
   "outputs": [
    {
     "data": {
      "image/png": "[encoded data removed]",
      "text/plain": [
       "<Figure size 432x288 with 1 Axes>"
      ]
     },
     "metadata": {
      "needs_background": "light"
     },
     "output_type": "display_data"
    }
   ],
   "source": [
    "x = tensor(-.3).requires_grad_()\n",
    "y = f(x)\n",
    "y.backward()\n",
    "#don't have df\n",
    "gradient = x.grad\n",
    "plot_func(f)\n",
    "plot_gradient(x=x, y=y, slope = gradient)"
   ]
  },
  {
   "cell_type": "code",
   "execution_count": 57,
   "metadata": {},
   "outputs": [
    {
     "name": "stdout",
     "output_type": "stream",
     "text": [
      "tensor(-0.6000)\n"
     ]
    },
    {
     "data": {
      "image/png": "[encoded data removed]",
      "text/plain": [
       "<Figure size 432x288 with 1 Axes>"
      ]
     },
     "metadata": {
      "needs_background": "light"
     },
     "output_type": "display_data"
    }
   ],
   "source": [
    "y = f(x)\n",
    "x.grad.zero_()\n",
    "y.backward()\n",
    "gradient = x.grad\n",
    "print(x.grad)\n",
    "plot_func(f)\n",
    "plot_gradient(x=x, y=y, slope = gradient)"
   ]
  },
  {
   "cell_type": "code",
   "execution_count": 66,
   "metadata": {},
   "outputs": [],
   "source": [
    "def f1(x):\n",
    "    y = 3 - x + (x/2)**2\n",
    "    return y\n",
    "    \n",
    "def f2(x):\n",
    "    y = 3 - (x/2) ** 2\n",
    "    return y"
   ]
  },
  {
   "cell_type": "code",
   "execution_count": 80,
   "metadata": {},
   "outputs": [
    {
     "data": {
      "image/png": "[encoded data removed]",
      "text/plain": [
       "<Figure size 432x288 with 1 Axes>"
      ]
     },
     "metadata": {
      "needs_background": "light"
     },
     "output_type": "display_data"
    }
   ],
   "source": [
    "plot_func(f1)\n",
    "plot_func(f2, \"blue\")\n",
    "\n",
    "x = tensor(-1.0).requires_grad_()\n",
    "y1 = f1(x)\n",
    "y2 = f2(x)\n",
    "\n",
    "y1.backward()\n",
    "f1_grad = x.grad\n",
    "plot_gradient(x, y1, f1_grad)\n",
    "\n",
    "x.grad.zero_()\n",
    "\n",
    "y2.backward()\n",
    "f2_grad = x.grad\n",
    "plot_gradient(x, y2, f2_grad)"
   ]
  },
  {
   "cell_type": "code",
   "execution_count": null,
   "metadata": {},
   "outputs": [],
   "source": []
  }
 ],
 "metadata": {
  "kernelspec": {
   "display_name": "Python 3",
   "language": "python",
   "name": "python3"
  },
  "language_info": {
   "codemirror_mode": {
    "name": "ipython",
    "version": 3
   },
   "file_extension": ".py",
   "mimetype": "text/x-python",
   "name": "python",
   "nbconvert_exporter": "python",
   "pygments_lexer": "ipython3",
   "version": "3.6.9"
  }
 },
 "nbformat": 4,
 "nbformat_minor": 4
}
