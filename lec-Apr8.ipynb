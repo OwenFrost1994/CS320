{
 "cells": [
  {
   "cell_type": "code",
   "execution_count": 1,
   "metadata": {},
   "outputs": [],
   "source": [
    "import numpy as np\n",
    "import pandas as pd\n",
    "import matplotlib.pyplot as plt"
   ]
  },
  {
   "cell_type": "code",
   "execution_count": 10,
   "metadata": {},
   "outputs": [
    {
     "data": {
      "text/html": [
       "<div>\n",
       "<style scoped>\n",
       "    .dataframe tbody tr th:only-of-type {\n",
       "        vertical-align: middle;\n",
       "    }\n",
       "\n",
       "    .dataframe tbody tr th {\n",
       "        vertical-align: top;\n",
       "    }\n",
       "\n",
       "    .dataframe thead th {\n",
       "        text-align: right;\n",
       "    }\n",
       "</style>\n",
       "<table border=\"1\" class=\"dataframe\">\n",
       "  <thead>\n",
       "    <tr style=\"text-align: right;\">\n",
       "      <th></th>\n",
       "      <th>a</th>\n",
       "      <th>const</th>\n",
       "      <th>b</th>\n",
       "    </tr>\n",
       "  </thead>\n",
       "  <tbody>\n",
       "    <tr>\n",
       "      <th>0</th>\n",
       "      <td>13.058953</td>\n",
       "      <td>1</td>\n",
       "      <td>55.342071</td>\n",
       "    </tr>\n",
       "    <tr>\n",
       "      <th>1</th>\n",
       "      <td>10.301936</td>\n",
       "      <td>1</td>\n",
       "      <td>61.395103</td>\n",
       "    </tr>\n",
       "    <tr>\n",
       "      <th>2</th>\n",
       "      <td>16.544073</td>\n",
       "      <td>1</td>\n",
       "      <td>23.639403</td>\n",
       "    </tr>\n",
       "    <tr>\n",
       "      <th>3</th>\n",
       "      <td>18.233726</td>\n",
       "      <td>1</td>\n",
       "      <td>30.320667</td>\n",
       "    </tr>\n",
       "    <tr>\n",
       "      <th>4</th>\n",
       "      <td>-0.197526</td>\n",
       "      <td>1</td>\n",
       "      <td>85.356462</td>\n",
       "    </tr>\n",
       "  </tbody>\n",
       "</table>\n",
       "</div>"
      ],
      "text/plain": [
       "           a  const          b\n",
       "0  13.058953      1  55.342071\n",
       "1  10.301936      1  61.395103\n",
       "2  16.544073      1  23.639403\n",
       "3  18.233726      1  30.320667\n",
       "4  -0.197526      1  85.356462"
      ]
     },
     "execution_count": 10,
     "metadata": {},
     "output_type": "execute_result"
    }
   ],
   "source": [
    "a = np.random.normal(10,5,30)\n",
    "noise = np.random.normal(0,6,30)\n",
    "b = a * -2.5 + 80 + noise\n",
    "df = pd.DataFrame({'a':a, 'const':1, 'b':b})\n",
    "df.head()"
   ]
  },
  {
   "cell_type": "code",
   "execution_count": 11,
   "metadata": {},
   "outputs": [
    {
     "data": {
      "text/plain": [
       "(0.0, 88.44231453960941)"
      ]
     },
     "execution_count": 11,
     "metadata": {},
     "output_type": "execute_result"
    },
    {
     "data": {
      "image/png": "[encoded data removed]",
      "text/plain": [
       "<Figure size 432x288 with 1 Axes>"
      ]
     },
     "metadata": {
      "needs_background": "light"
     },
     "output_type": "display_data"
    }
   ],
   "source": [
    "ax = df.plot.scatter(x = 'a', y = 'b', color = 'black')\n",
    "ax.set_xlim(0)\n",
    "ax.set_ylim(0)"
   ]
  },
  {
   "cell_type": "code",
   "execution_count": 16,
   "metadata": {},
   "outputs": [],
   "source": [
    "A = df[['a', 'const']].values\n",
    "b = df['b'].values.reshape(-1,1)\n",
    "P = A.dot(np.linalg.inv(A.T.dot(A))).dot(A.T)\n",
    "df['p'] = P.dot(b)"
   ]
  },
  {
   "cell_type": "code",
   "execution_count": 17,
   "metadata": {},
   "outputs": [
    {
     "data": {
      "text/html": [
       "<div>\n",
       "<style scoped>\n",
       "    .dataframe tbody tr th:only-of-type {\n",
       "        vertical-align: middle;\n",
       "    }\n",
       "\n",
       "    .dataframe tbody tr th {\n",
       "        vertical-align: top;\n",
       "    }\n",
       "\n",
       "    .dataframe thead th {\n",
       "        text-align: right;\n",
       "    }\n",
       "</style>\n",
       "<table border=\"1\" class=\"dataframe\">\n",
       "  <thead>\n",
       "    <tr style=\"text-align: right;\">\n",
       "      <th></th>\n",
       "      <th>a</th>\n",
       "      <th>const</th>\n",
       "      <th>b</th>\n",
       "      <th>p</th>\n",
       "    </tr>\n",
       "  </thead>\n",
       "  <tbody>\n",
       "    <tr>\n",
       "      <th>0</th>\n",
       "      <td>13.058953</td>\n",
       "      <td>1</td>\n",
       "      <td>55.342071</td>\n",
       "      <td>45.296757</td>\n",
       "    </tr>\n",
       "    <tr>\n",
       "      <th>1</th>\n",
       "      <td>10.301936</td>\n",
       "      <td>1</td>\n",
       "      <td>61.395103</td>\n",
       "      <td>52.676525</td>\n",
       "    </tr>\n",
       "    <tr>\n",
       "      <th>2</th>\n",
       "      <td>16.544073</td>\n",
       "      <td>1</td>\n",
       "      <td>23.639403</td>\n",
       "      <td>35.968062</td>\n",
       "    </tr>\n",
       "    <tr>\n",
       "      <th>3</th>\n",
       "      <td>18.233726</td>\n",
       "      <td>1</td>\n",
       "      <td>30.320667</td>\n",
       "      <td>31.445332</td>\n",
       "    </tr>\n",
       "    <tr>\n",
       "      <th>4</th>\n",
       "      <td>-0.197526</td>\n",
       "      <td>1</td>\n",
       "      <td>85.356462</td>\n",
       "      <td>80.780660</td>\n",
       "    </tr>\n",
       "  </tbody>\n",
       "</table>\n",
       "</div>"
      ],
      "text/plain": [
       "           a  const          b          p\n",
       "0  13.058953      1  55.342071  45.296757\n",
       "1  10.301936      1  61.395103  52.676525\n",
       "2  16.544073      1  23.639403  35.968062\n",
       "3  18.233726      1  30.320667  31.445332\n",
       "4  -0.197526      1  85.356462  80.780660"
      ]
     },
     "execution_count": 17,
     "metadata": {},
     "output_type": "execute_result"
    }
   ],
   "source": [
    "df.head()"
   ]
  },
  {
   "cell_type": "code",
   "execution_count": 20,
   "metadata": {},
   "outputs": [
    {
     "data": {
      "text/plain": [
       "(0.0, 88.44231453960941)"
      ]
     },
     "execution_count": 20,
     "metadata": {},
     "output_type": "execute_result"
    },
    {
     "data": {
      "image/png": "[encoded data removed]",
      "text/plain": [
       "<Figure size 432x288 with 1 Axes>"
      ]
     },
     "metadata": {
      "needs_background": "light"
     },
     "output_type": "display_data"
    }
   ],
   "source": [
    "ax = df.plot.scatter(x = 'a', y = 'b', color = 'black')\n",
    "df.plot.scatter(x = 'a', y = 'p', color = 'red', ax = ax)\n",
    "ax.set_xlim(0)\n",
    "ax.set_ylim(0)"
   ]
  },
  {
   "cell_type": "code",
   "execution_count": 22,
   "metadata": {},
   "outputs": [],
   "source": [
    "from sklearn.linear_model import LinearRegression"
   ]
  },
  {
   "cell_type": "code",
   "execution_count": 23,
   "metadata": {},
   "outputs": [
    {
     "data": {
      "text/plain": [
       "LinearRegression(copy_X=True, fit_intercept=True, n_jobs=None, normalize=False)"
      ]
     },
     "execution_count": 23,
     "metadata": {},
     "output_type": "execute_result"
    }
   ],
   "source": [
    "r = LinearRegression()\n",
    "r"
   ]
  },
  {
   "cell_type": "code",
   "execution_count": 25,
   "metadata": {},
   "outputs": [
    {
     "data": {
      "text/plain": [
       "LinearRegression(copy_X=True, fit_intercept=True, n_jobs=None, normalize=False)"
      ]
     },
     "execution_count": 25,
     "metadata": {},
     "output_type": "execute_result"
    }
   ],
   "source": [
    "r.fit(df['a'].values.reshape(-1,1), df['b'].values.reshape(-1,1))"
   ]
  },
  {
   "cell_type": "code",
   "execution_count": 26,
   "metadata": {},
   "outputs": [
    {
     "data": {
      "text/plain": [
       "['__abstractmethods__',\n",
       " '__class__',\n",
       " '__delattr__',\n",
       " '__dict__',\n",
       " '__dir__',\n",
       " '__doc__',\n",
       " '__eq__',\n",
       " '__format__',\n",
       " '__ge__',\n",
       " '__getattribute__',\n",
       " '__getstate__',\n",
       " '__gt__',\n",
       " '__hash__',\n",
       " '__init__',\n",
       " '__init_subclass__',\n",
       " '__le__',\n",
       " '__lt__',\n",
       " '__module__',\n",
       " '__ne__',\n",
       " '__new__',\n",
       " '__reduce__',\n",
       " '__reduce_ex__',\n",
       " '__repr__',\n",
       " '__setattr__',\n",
       " '__setstate__',\n",
       " '__sizeof__',\n",
       " '__str__',\n",
       " '__subclasshook__',\n",
       " '__weakref__',\n",
       " '_abc_cache',\n",
       " '_abc_negative_cache',\n",
       " '_abc_negative_cache_version',\n",
       " '_abc_registry',\n",
       " '_decision_function',\n",
       " '_estimator_type',\n",
       " '_get_param_names',\n",
       " '_get_tags',\n",
       " '_more_tags',\n",
       " '_preprocess_data',\n",
       " '_residues',\n",
       " '_set_intercept',\n",
       " 'coef_',\n",
       " 'copy_X',\n",
       " 'fit',\n",
       " 'fit_intercept',\n",
       " 'get_params',\n",
       " 'intercept_',\n",
       " 'n_jobs',\n",
       " 'normalize',\n",
       " 'predict',\n",
       " 'rank_',\n",
       " 'score',\n",
       " 'set_params',\n",
       " 'singular_']"
      ]
     },
     "execution_count": 26,
     "metadata": {},
     "output_type": "execute_result"
    }
   ],
   "source": [
    "dir(r)"
   ]
  },
  {
   "cell_type": "code",
   "execution_count": 30,
   "metadata": {},
   "outputs": [
    {
     "data": {
      "text/plain": [
       "(array([[-2.67672157]]), array([80.25193902]))"
      ]
     },
     "execution_count": 30,
     "metadata": {},
     "output_type": "execute_result"
    }
   ],
   "source": [
    "r.coef_, r.intercept_"
   ]
  },
  {
   "cell_type": "code",
   "execution_count": 31,
   "metadata": {},
   "outputs": [
    {
     "data": {
      "text/plain": [
       "Name              object\n",
       "JerseyNumber       int64\n",
       "Age                int64\n",
       "PreferredFoot     object\n",
       "Wage             float64\n",
       "Value            float64\n",
       "dtype: object"
      ]
     },
     "execution_count": 31,
     "metadata": {},
     "output_type": "execute_result"
    }
   ],
   "source": [
    "rows = [['M. Dupé', 1, 25, 'Right', 8.0, 900.0],\n",
    "       ['N. Fernández', 26, 18, 'Right', 1.0, 450.0],\n",
    "       ['P. Kalambayi', 30, 18, 'Right', 1.0, 130.0],\n",
    "       ['P. McNair', 17, 23, 'Right', 22.0, 2300.0],\n",
    "       ['G. Bojanich', 23, 33, 'Right', 6.0, 425.0],\n",
    "       ['A. Kofler', 31, 31, 'Right', 3.0, 325.0],\n",
    "       ['N. Lavanchy', 14, 24, 'Right', 3.0, 600.0],\n",
    "       ['O. Al Khalaf', 8, 21, 'Right', 3.0, 240.0],\n",
    "       ['J. Sills', 21, 31, 'Right', 7.0, 600.0],\n",
    "       ['B. Fox', 12, 20, 'Right', 1.0, 230.0],\n",
    "       ['S. Smith', 9, 20, 'Left', 4.0, 450.0],\n",
    "       ['E. Ocansey', 28, 20, 'Left', 5.0, 1600.0],\n",
    "       ['F. Kostić', 10, 25, 'Left', 16.0, 10500.0],\n",
    "       ['M. Ullmann', 13, 22, 'Left', 3.0, 1000.0],\n",
    "       ['R. Taylor', 9, 30, 'Left', 4.0, 625.0],\n",
    "       ['N. Vikonis', 34, 34, 'Left', 7.0, 2700.0],\n",
    "       ['J. Aguirre', 29, 21, 'Left', 1.0, 575.0],\n",
    "       ['J. Konings', 25, 20, 'Left', 1.0, 500.0],\n",
    "       ['J. Raitala', 22, 29, 'Left', 3.0, 700.0],\n",
    "       ['A. Taylor', 3, 31, 'Left', 3.0, 425.0]]\n",
    "df = pd.DataFrame.from_records(rows, columns=[\"Name\", \"JerseyNumber\", \"Age\", \"PreferredFoot\", \"Wage\", \"Value\"])\n",
    "df.dtypes"
   ]
  },
  {
   "cell_type": "code",
   "execution_count": 32,
   "metadata": {},
   "outputs": [
    {
     "name": "stdout",
     "output_type": "stream",
     "text": [
      "Coef: [[-27.27295206  33.78800374]]\n",
      "Intercept: [923.53888226]\n"
     ]
    }
   ],
   "source": [
    "r = LinearRegression()\n",
    "columns = [\"JerseyNumber\", \"Age\"]\n",
    "r.fit(df[columns].values, df[\"Value\"].values.reshape(-1,1))\n",
    "print(\"Coef:\", r.coef_)\n",
    "print(\"Intercept:\", r.intercept_)"
   ]
  },
  {
   "cell_type": "code",
   "execution_count": 35,
   "metadata": {},
   "outputs": [
    {
     "name": "stdout",
     "output_type": "stream",
     "text": [
      "Value ~= -27.27295205695321*JerseyNumber + 33.788003740974744*Age + 923.5388822632224\n"
     ]
    }
   ],
   "source": [
    "def formula(reg, columns):\n",
    "    rv = \"\"\n",
    "    for i in range(len(columns)):\n",
    "        rv += \"{}*{} + \".format(reg.coef_[0,i], columns[i])\n",
    "    rv += str(reg.intercept_[0])\n",
    "    return rv\n",
    "\n",
    "print(\"Value ~= \" + formula(r, columns))"
   ]
  },
  {
   "cell_type": "code",
   "execution_count": 37,
   "metadata": {},
   "outputs": [
    {
     "name": "stdout",
     "output_type": "stream",
     "text": [
      "Coef: [[    4.01292195   -34.42489288 -1550.76871917   294.15939084]]\n",
      "Intercept: [1319.42298405]\n"
     ]
    }
   ],
   "source": [
    "r = LinearRegression()\n",
    "df[\"PreferredFootInt\"] = (df[\"PreferredFoot\"] == \"Right\").astype(int)\n",
    "columns = [\"JerseyNumber\", \"Age\",\"PreferredFootInt\", \"Wage\"]\n",
    "r.fit(df[columns].values, df[\"Value\"].values.reshape(-1,1))\n",
    "print(\"Coef:\", r.coef_)\n",
    "print(\"Intercept:\", r.intercept_)"
   ]
  },
  {
   "cell_type": "code",
   "execution_count": 38,
   "metadata": {},
   "outputs": [
    {
     "name": "stdout",
     "output_type": "stream",
     "text": [
      "Value ~= 4.012921950803952*JerseyNumber + -34.424892877423986*Age + -1550.7687191703085*PreferredFootInt + 294.15939084161107*Wage + 1319.4229840508806\n"
     ]
    }
   ],
   "source": [
    "print(\"Value ~= \" + formula(r, columns))"
   ]
  },
  {
   "cell_type": "code",
   "execution_count": 39,
   "metadata": {},
   "outputs": [],
   "source": [
    "import matplotlib"
   ]
  },
  {
   "cell_type": "code",
   "execution_count": 40,
   "metadata": {},
   "outputs": [],
   "source": [
    "a = np.random.normal(10,5,30)\n",
    "noise = np.random.normal(0,6,30)\n",
    "b = a * -2.5 + 80 + noise\n",
    "df = pd.DataFrame({'a':a, 'b':b})"
   ]
  },
  {
   "cell_type": "code",
   "execution_count": 42,
   "metadata": {},
   "outputs": [],
   "source": [
    "r1=LinearRegression()\n",
    "r1.fit(df['a'].values.reshape(-1,1), df['b'].values.reshape(-1,1))\n",
    "r2=LinearRegression(fit_intercept=False)\n",
    "r2.fit(df['a'].values.reshape(-1,1), df['b'].values.reshape(-1,1))\n",
    "df['p0'] = df['b'].mean()\n",
    "df['p1'] = df['a'] *  r1.coef_.item() + r1.intercept_\n",
    "df['p2'] = df['a'] *  r2.coef_.item()"
   ]
  },
  {
   "cell_type": "code",
   "execution_count": 46,
   "metadata": {},
   "outputs": [
    {
     "data": {
      "text/plain": [
       "(0.0, 95.78666901439286)"
      ]
     },
     "execution_count": 46,
     "metadata": {},
     "output_type": "execute_result"
    },
    {
     "data": {
      "image/png": "[encoded data removed]",
      "text/plain": [
       "<Figure size 432x288 with 1 Axes>"
      ]
     },
     "metadata": {
      "needs_background": "light"
     },
     "output_type": "display_data"
    }
   ],
   "source": [
    "ax = df.plot.scatter(x = 'a', y = 'b', color = 'black')\n",
    "ax = df.plot.scatter(x = 'a', y = 'p0', color = 'red', marker = 'x', ax = ax)\n",
    "ax = df.plot.scatter(x = 'a', y = 'p1', color = 'red', marker = '*', ax = ax)\n",
    "ax = df.plot.scatter(x = 'a', y = 'p2', color = 'red', marker = '+', ax = ax)\n",
    "ax.set_xlim(0)\n",
    "ax.set_ylim(0)"
   ]
  },
  {
   "cell_type": "code",
   "execution_count": 48,
   "metadata": {},
   "outputs": [
    {
     "data": {
      "text/html": [
       "<div>\n",
       "<style scoped>\n",
       "    .dataframe tbody tr th:only-of-type {\n",
       "        vertical-align: middle;\n",
       "    }\n",
       "\n",
       "    .dataframe tbody tr th {\n",
       "        vertical-align: top;\n",
       "    }\n",
       "\n",
       "    .dataframe thead th {\n",
       "        text-align: right;\n",
       "    }\n",
       "</style>\n",
       "<table border=\"1\" class=\"dataframe\">\n",
       "  <thead>\n",
       "    <tr style=\"text-align: right;\">\n",
       "      <th></th>\n",
       "      <th>a</th>\n",
       "      <th>b</th>\n",
       "      <th>p0</th>\n",
       "      <th>p1</th>\n",
       "      <th>p2</th>\n",
       "    </tr>\n",
       "  </thead>\n",
       "  <tbody>\n",
       "    <tr>\n",
       "      <th>0</th>\n",
       "      <td>20.345631</td>\n",
       "      <td>26.103490</td>\n",
       "      <td>55.163052</td>\n",
       "      <td>27.200550</td>\n",
       "      <td>71.172117</td>\n",
       "    </tr>\n",
       "    <tr>\n",
       "      <th>1</th>\n",
       "      <td>12.902236</td>\n",
       "      <td>54.846506</td>\n",
       "      <td>55.163052</td>\n",
       "      <td>48.081692</td>\n",
       "      <td>45.133986</td>\n",
       "    </tr>\n",
       "    <tr>\n",
       "      <th>2</th>\n",
       "      <td>12.880254</td>\n",
       "      <td>42.384390</td>\n",
       "      <td>55.163052</td>\n",
       "      <td>48.143357</td>\n",
       "      <td>45.057091</td>\n",
       "    </tr>\n",
       "    <tr>\n",
       "      <th>3</th>\n",
       "      <td>6.047069</td>\n",
       "      <td>71.957948</td>\n",
       "      <td>55.163052</td>\n",
       "      <td>67.312662</td>\n",
       "      <td>21.153567</td>\n",
       "    </tr>\n",
       "    <tr>\n",
       "      <th>4</th>\n",
       "      <td>12.474079</td>\n",
       "      <td>44.180867</td>\n",
       "      <td>55.163052</td>\n",
       "      <td>49.282811</td>\n",
       "      <td>43.636227</td>\n",
       "    </tr>\n",
       "  </tbody>\n",
       "</table>\n",
       "</div>"
      ],
      "text/plain": [
       "           a          b         p0         p1         p2\n",
       "0  20.345631  26.103490  55.163052  27.200550  71.172117\n",
       "1  12.902236  54.846506  55.163052  48.081692  45.133986\n",
       "2  12.880254  42.384390  55.163052  48.143357  45.057091\n",
       "3   6.047069  71.957948  55.163052  67.312662  21.153567\n",
       "4  12.474079  44.180867  55.163052  49.282811  43.636227"
      ]
     },
     "execution_count": 48,
     "metadata": {},
     "output_type": "execute_result"
    }
   ],
   "source": [
    "df.head()"
   ]
  },
  {
   "cell_type": "code",
   "execution_count": 51,
   "metadata": {},
   "outputs": [
    {
     "data": {
      "text/html": [
       "<div>\n",
       "<style scoped>\n",
       "    .dataframe tbody tr th:only-of-type {\n",
       "        vertical-align: middle;\n",
       "    }\n",
       "\n",
       "    .dataframe tbody tr th {\n",
       "        vertical-align: top;\n",
       "    }\n",
       "\n",
       "    .dataframe thead th {\n",
       "        text-align: right;\n",
       "    }\n",
       "</style>\n",
       "<table border=\"1\" class=\"dataframe\">\n",
       "  <thead>\n",
       "    <tr style=\"text-align: right;\">\n",
       "      <th></th>\n",
       "      <th>pt1</th>\n",
       "      <th>pt2</th>\n",
       "    </tr>\n",
       "  </thead>\n",
       "  <tbody>\n",
       "    <tr>\n",
       "      <th>x</th>\n",
       "      <td>0</td>\n",
       "      <td>3</td>\n",
       "    </tr>\n",
       "    <tr>\n",
       "      <th>y</th>\n",
       "      <td>4</td>\n",
       "      <td>0</td>\n",
       "    </tr>\n",
       "  </tbody>\n",
       "</table>\n",
       "</div>"
      ],
      "text/plain": [
       "   pt1  pt2\n",
       "x    0    3\n",
       "y    4    0"
      ]
     },
     "execution_count": 51,
     "metadata": {},
     "output_type": "execute_result"
    }
   ],
   "source": [
    "rows = [[0,3],[4,0],]\n",
    "points = pd.DataFrame(rows, columns = ['pt1', 'pt2'], index = ['x', 'y'])\n",
    "points"
   ]
  },
  {
   "cell_type": "code",
   "execution_count": 53,
   "metadata": {},
   "outputs": [
    {
     "data": {
      "text/plain": [
       "5.0"
      ]
     },
     "execution_count": 53,
     "metadata": {},
     "output_type": "execute_result"
    }
   ],
   "source": [
    "dist = ((points.at['x','pt1']-points.at['x','pt2'])**2+(points.at['y','pt1']-points.at['y','pt2'])**2)**0.5\n",
    "dist"
   ]
  },
  {
   "cell_type": "code",
   "execution_count": 55,
   "metadata": {},
   "outputs": [
    {
     "data": {
      "text/html": [
       "<div>\n",
       "<style scoped>\n",
       "    .dataframe tbody tr th:only-of-type {\n",
       "        vertical-align: middle;\n",
       "    }\n",
       "\n",
       "    .dataframe tbody tr th {\n",
       "        vertical-align: top;\n",
       "    }\n",
       "\n",
       "    .dataframe thead th {\n",
       "        text-align: right;\n",
       "    }\n",
       "</style>\n",
       "<table border=\"1\" class=\"dataframe\">\n",
       "  <thead>\n",
       "    <tr style=\"text-align: right;\">\n",
       "      <th></th>\n",
       "      <th>pt1</th>\n",
       "      <th>pt2</th>\n",
       "    </tr>\n",
       "  </thead>\n",
       "  <tbody>\n",
       "    <tr>\n",
       "      <th>x</th>\n",
       "      <td>0</td>\n",
       "      <td>3</td>\n",
       "    </tr>\n",
       "    <tr>\n",
       "      <th>y</th>\n",
       "      <td>4</td>\n",
       "      <td>0</td>\n",
       "    </tr>\n",
       "    <tr>\n",
       "      <th>z</th>\n",
       "      <td>10</td>\n",
       "      <td>3</td>\n",
       "    </tr>\n",
       "  </tbody>\n",
       "</table>\n",
       "</div>"
      ],
      "text/plain": [
       "   pt1  pt2\n",
       "x    0    3\n",
       "y    4    0\n",
       "z   10    3"
      ]
     },
     "execution_count": 55,
     "metadata": {},
     "output_type": "execute_result"
    }
   ],
   "source": [
    "rows = [[0,3],[4,0],[10,3],]\n",
    "points = pd.DataFrame(rows, columns = ['pt1', 'pt2'], index = ['x', 'y', 'z'])\n",
    "points"
   ]
  },
  {
   "cell_type": "code",
   "execution_count": 56,
   "metadata": {},
   "outputs": [
    {
     "data": {
      "text/plain": [
       "8.602325267042627"
      ]
     },
     "execution_count": 56,
     "metadata": {},
     "output_type": "execute_result"
    }
   ],
   "source": [
    "dist = ((points.at['x','pt1']-points.at['x','pt2'])**2+(points.at['y','pt1']-points.at['y','pt2'])**2+(points.at['z','pt1']-points.at['z','pt2'])**2)**0.5\n",
    "dist"
   ]
  },
  {
   "cell_type": "code",
   "execution_count": 61,
   "metadata": {},
   "outputs": [
    {
     "data": {
      "text/plain": [
       "8.602325267042627"
      ]
     },
     "execution_count": 61,
     "metadata": {},
     "output_type": "execute_result"
    }
   ],
   "source": [
    "((points['pt2']-points['pt1'])**2).sum()**0.5"
   ]
  },
  {
   "cell_type": "code",
   "execution_count": 62,
   "metadata": {},
   "outputs": [
    {
     "data": {
      "text/html": [
       "<div>\n",
       "<style scoped>\n",
       "    .dataframe tbody tr th:only-of-type {\n",
       "        vertical-align: middle;\n",
       "    }\n",
       "\n",
       "    .dataframe tbody tr th {\n",
       "        vertical-align: top;\n",
       "    }\n",
       "\n",
       "    .dataframe thead th {\n",
       "        text-align: right;\n",
       "    }\n",
       "</style>\n",
       "<table border=\"1\" class=\"dataframe\">\n",
       "  <thead>\n",
       "    <tr style=\"text-align: right;\">\n",
       "      <th></th>\n",
       "      <th>a</th>\n",
       "      <th>b</th>\n",
       "      <th>p0</th>\n",
       "      <th>p1</th>\n",
       "      <th>p2</th>\n",
       "    </tr>\n",
       "  </thead>\n",
       "  <tbody>\n",
       "    <tr>\n",
       "      <th>0</th>\n",
       "      <td>20.345631</td>\n",
       "      <td>26.103490</td>\n",
       "      <td>55.163052</td>\n",
       "      <td>27.200550</td>\n",
       "      <td>71.172117</td>\n",
       "    </tr>\n",
       "    <tr>\n",
       "      <th>1</th>\n",
       "      <td>12.902236</td>\n",
       "      <td>54.846506</td>\n",
       "      <td>55.163052</td>\n",
       "      <td>48.081692</td>\n",
       "      <td>45.133986</td>\n",
       "    </tr>\n",
       "    <tr>\n",
       "      <th>2</th>\n",
       "      <td>12.880254</td>\n",
       "      <td>42.384390</td>\n",
       "      <td>55.163052</td>\n",
       "      <td>48.143357</td>\n",
       "      <td>45.057091</td>\n",
       "    </tr>\n",
       "    <tr>\n",
       "      <th>3</th>\n",
       "      <td>6.047069</td>\n",
       "      <td>71.957948</td>\n",
       "      <td>55.163052</td>\n",
       "      <td>67.312662</td>\n",
       "      <td>21.153567</td>\n",
       "    </tr>\n",
       "    <tr>\n",
       "      <th>4</th>\n",
       "      <td>12.474079</td>\n",
       "      <td>44.180867</td>\n",
       "      <td>55.163052</td>\n",
       "      <td>49.282811</td>\n",
       "      <td>43.636227</td>\n",
       "    </tr>\n",
       "    <tr>\n",
       "      <th>5</th>\n",
       "      <td>2.279876</td>\n",
       "      <td>84.423460</td>\n",
       "      <td>55.163052</td>\n",
       "      <td>77.880861</td>\n",
       "      <td>7.975354</td>\n",
       "    </tr>\n",
       "    <tr>\n",
       "      <th>6</th>\n",
       "      <td>13.549187</td>\n",
       "      <td>48.565955</td>\n",
       "      <td>55.163052</td>\n",
       "      <td>46.266783</td>\n",
       "      <td>47.397120</td>\n",
       "    </tr>\n",
       "    <tr>\n",
       "      <th>7</th>\n",
       "      <td>19.311780</td>\n",
       "      <td>26.293210</td>\n",
       "      <td>55.163052</td>\n",
       "      <td>30.100837</td>\n",
       "      <td>67.555550</td>\n",
       "    </tr>\n",
       "    <tr>\n",
       "      <th>8</th>\n",
       "      <td>11.875618</td>\n",
       "      <td>49.809929</td>\n",
       "      <td>55.163052</td>\n",
       "      <td>50.961689</td>\n",
       "      <td>41.542719</td>\n",
       "    </tr>\n",
       "    <tr>\n",
       "      <th>9</th>\n",
       "      <td>1.569455</td>\n",
       "      <td>83.833609</td>\n",
       "      <td>55.163052</td>\n",
       "      <td>79.873821</td>\n",
       "      <td>5.490194</td>\n",
       "    </tr>\n",
       "    <tr>\n",
       "      <th>10</th>\n",
       "      <td>10.127952</td>\n",
       "      <td>60.013623</td>\n",
       "      <td>55.163052</td>\n",
       "      <td>55.864458</td>\n",
       "      <td>35.429120</td>\n",
       "    </tr>\n",
       "    <tr>\n",
       "      <th>11</th>\n",
       "      <td>9.627050</td>\n",
       "      <td>50.694142</td>\n",
       "      <td>55.163052</td>\n",
       "      <td>57.269651</td>\n",
       "      <td>33.676888</td>\n",
       "    </tr>\n",
       "    <tr>\n",
       "      <th>12</th>\n",
       "      <td>5.413941</td>\n",
       "      <td>70.795086</td>\n",
       "      <td>55.163052</td>\n",
       "      <td>69.088791</td>\n",
       "      <td>18.938790</td>\n",
       "    </tr>\n",
       "    <tr>\n",
       "      <th>13</th>\n",
       "      <td>8.483370</td>\n",
       "      <td>67.355496</td>\n",
       "      <td>55.163052</td>\n",
       "      <td>60.478046</td>\n",
       "      <td>29.676120</td>\n",
       "    </tr>\n",
       "    <tr>\n",
       "      <th>14</th>\n",
       "      <td>6.517064</td>\n",
       "      <td>63.288224</td>\n",
       "      <td>55.163052</td>\n",
       "      <td>65.994172</td>\n",
       "      <td>22.797683</td>\n",
       "    </tr>\n",
       "    <tr>\n",
       "      <th>15</th>\n",
       "      <td>15.611281</td>\n",
       "      <td>49.552044</td>\n",
       "      <td>55.163052</td>\n",
       "      <td>40.481939</td>\n",
       "      <td>54.610640</td>\n",
       "    </tr>\n",
       "    <tr>\n",
       "      <th>16</th>\n",
       "      <td>12.087242</td>\n",
       "      <td>45.806458</td>\n",
       "      <td>55.163052</td>\n",
       "      <td>50.368013</td>\n",
       "      <td>42.283015</td>\n",
       "    </tr>\n",
       "    <tr>\n",
       "      <th>17</th>\n",
       "      <td>6.360863</td>\n",
       "      <td>66.718066</td>\n",
       "      <td>55.163052</td>\n",
       "      <td>66.432367</td>\n",
       "      <td>22.251267</td>\n",
       "    </tr>\n",
       "    <tr>\n",
       "      <th>18</th>\n",
       "      <td>10.260239</td>\n",
       "      <td>49.498004</td>\n",
       "      <td>55.163052</td>\n",
       "      <td>55.493350</td>\n",
       "      <td>35.891880</td>\n",
       "    </tr>\n",
       "    <tr>\n",
       "      <th>19</th>\n",
       "      <td>4.559386</td>\n",
       "      <td>70.340634</td>\n",
       "      <td>55.163052</td>\n",
       "      <td>71.486096</td>\n",
       "      <td>15.949425</td>\n",
       "    </tr>\n",
       "    <tr>\n",
       "      <th>20</th>\n",
       "      <td>11.535518</td>\n",
       "      <td>50.205078</td>\n",
       "      <td>55.163052</td>\n",
       "      <td>51.915780</td>\n",
       "      <td>40.352998</td>\n",
       "    </tr>\n",
       "    <tr>\n",
       "      <th>21</th>\n",
       "      <td>13.023325</td>\n",
       "      <td>49.228402</td>\n",
       "      <td>55.163052</td>\n",
       "      <td>47.741997</td>\n",
       "      <td>45.557575</td>\n",
       "    </tr>\n",
       "    <tr>\n",
       "      <th>22</th>\n",
       "      <td>9.031024</td>\n",
       "      <td>58.443761</td>\n",
       "      <td>55.163052</td>\n",
       "      <td>58.941699</td>\n",
       "      <td>31.591896</td>\n",
       "    </tr>\n",
       "    <tr>\n",
       "      <th>23</th>\n",
       "      <td>17.281636</td>\n",
       "      <td>26.152735</td>\n",
       "      <td>55.163052</td>\n",
       "      <td>35.796052</td>\n",
       "      <td>60.453795</td>\n",
       "    </tr>\n",
       "    <tr>\n",
       "      <th>24</th>\n",
       "      <td>-2.338147</td>\n",
       "      <td>86.618464</td>\n",
       "      <td>55.163052</td>\n",
       "      <td>90.835914</td>\n",
       "      <td>-8.179193</td>\n",
       "    </tr>\n",
       "    <tr>\n",
       "      <th>25</th>\n",
       "      <td>19.850788</td>\n",
       "      <td>32.548853</td>\n",
       "      <td>55.163052</td>\n",
       "      <td>28.588746</td>\n",
       "      <td>69.441080</td>\n",
       "    </tr>\n",
       "    <tr>\n",
       "      <th>26</th>\n",
       "      <td>5.470978</td>\n",
       "      <td>71.368313</td>\n",
       "      <td>55.163052</td>\n",
       "      <td>68.928784</td>\n",
       "      <td>19.138313</td>\n",
       "    </tr>\n",
       "    <tr>\n",
       "      <th>27</th>\n",
       "      <td>17.686808</td>\n",
       "      <td>40.504552</td>\n",
       "      <td>55.163052</td>\n",
       "      <td>34.659413</td>\n",
       "      <td>61.871148</td>\n",
       "    </tr>\n",
       "    <tr>\n",
       "      <th>28</th>\n",
       "      <td>13.499988</td>\n",
       "      <td>48.527918</td>\n",
       "      <td>55.163052</td>\n",
       "      <td>46.404803</td>\n",
       "      <td>47.225014</td>\n",
       "    </tr>\n",
       "    <tr>\n",
       "      <th>29</th>\n",
       "      <td>4.013881</td>\n",
       "      <td>64.832329</td>\n",
       "      <td>55.163052</td>\n",
       "      <td>73.016413</td>\n",
       "      <td>14.041167</td>\n",
       "    </tr>\n",
       "  </tbody>\n",
       "</table>\n",
       "</div>"
      ],
      "text/plain": [
       "            a          b         p0         p1         p2\n",
       "0   20.345631  26.103490  55.163052  27.200550  71.172117\n",
       "1   12.902236  54.846506  55.163052  48.081692  45.133986\n",
       "2   12.880254  42.384390  55.163052  48.143357  45.057091\n",
       "3    6.047069  71.957948  55.163052  67.312662  21.153567\n",
       "4   12.474079  44.180867  55.163052  49.282811  43.636227\n",
       "5    2.279876  84.423460  55.163052  77.880861   7.975354\n",
       "6   13.549187  48.565955  55.163052  46.266783  47.397120\n",
       "7   19.311780  26.293210  55.163052  30.100837  67.555550\n",
       "8   11.875618  49.809929  55.163052  50.961689  41.542719\n",
       "9    1.569455  83.833609  55.163052  79.873821   5.490194\n",
       "10  10.127952  60.013623  55.163052  55.864458  35.429120\n",
       "11   9.627050  50.694142  55.163052  57.269651  33.676888\n",
       "12   5.413941  70.795086  55.163052  69.088791  18.938790\n",
       "13   8.483370  67.355496  55.163052  60.478046  29.676120\n",
       "14   6.517064  63.288224  55.163052  65.994172  22.797683\n",
       "15  15.611281  49.552044  55.163052  40.481939  54.610640\n",
       "16  12.087242  45.806458  55.163052  50.368013  42.283015\n",
       "17   6.360863  66.718066  55.163052  66.432367  22.251267\n",
       "18  10.260239  49.498004  55.163052  55.493350  35.891880\n",
       "19   4.559386  70.340634  55.163052  71.486096  15.949425\n",
       "20  11.535518  50.205078  55.163052  51.915780  40.352998\n",
       "21  13.023325  49.228402  55.163052  47.741997  45.557575\n",
       "22   9.031024  58.443761  55.163052  58.941699  31.591896\n",
       "23  17.281636  26.152735  55.163052  35.796052  60.453795\n",
       "24  -2.338147  86.618464  55.163052  90.835914  -8.179193\n",
       "25  19.850788  32.548853  55.163052  28.588746  69.441080\n",
       "26   5.470978  71.368313  55.163052  68.928784  19.138313\n",
       "27  17.686808  40.504552  55.163052  34.659413  61.871148\n",
       "28  13.499988  48.527918  55.163052  46.404803  47.225014\n",
       "29   4.013881  64.832329  55.163052  73.016413  14.041167"
      ]
     },
     "execution_count": 62,
     "metadata": {},
     "output_type": "execute_result"
    }
   ],
   "source": [
    "df"
   ]
  },
  {
   "cell_type": "code",
   "execution_count": 63,
   "metadata": {},
   "outputs": [
    {
     "data": {
      "text/plain": [
       "89.66543557036464"
      ]
     },
     "execution_count": 63,
     "metadata": {},
     "output_type": "execute_result"
    }
   ],
   "source": [
    "((df['b']-df['p0'])**2).sum()**0.5"
   ]
  },
  {
   "cell_type": "code",
   "execution_count": 64,
   "metadata": {},
   "outputs": [
    {
     "data": {
      "text/plain": [
       "26.630538866765754"
      ]
     },
     "execution_count": 64,
     "metadata": {},
     "output_type": "execute_result"
    }
   ],
   "source": [
    "((df['b']-df['p1'])**2).sum()**0.5"
   ]
  },
  {
   "cell_type": "code",
   "execution_count": 65,
   "metadata": {},
   "outputs": [
    {
     "data": {
      "text/plain": [
       "219.97987723076216"
      ]
     },
     "execution_count": 65,
     "metadata": {},
     "output_type": "execute_result"
    }
   ],
   "source": [
    "((df['b']-df['p2'])**2).sum()**0.5"
   ]
  },
  {
   "cell_type": "code",
   "execution_count": 68,
   "metadata": {},
   "outputs": [
    {
     "data": {
      "text/plain": [
       "23.63952001114405"
      ]
     },
     "execution_count": 68,
     "metadata": {},
     "output_type": "execute_result"
    }
   ],
   "source": [
    "mse = ((df['b']-df['p1'])**2).mean()\n",
    "mse"
   ]
  },
  {
   "cell_type": "code",
   "execution_count": 69,
   "metadata": {},
   "outputs": [],
   "source": [
    "def euclidean_dist(df, col1, col2):\n",
    "    return ((df[col1]-df[col2])**2).sum()**0.5\n",
    "\n",
    "def mean_squared_error(df, col1, col2):\n",
    "    return (euclidean_dist(df, col1, col2) ** 2) / len(df)"
   ]
  },
  {
   "cell_type": "code",
   "execution_count": 71,
   "metadata": {},
   "outputs": [
    {
     "data": {
      "text/plain": [
       "26.630538866765754"
      ]
     },
     "execution_count": 71,
     "metadata": {},
     "output_type": "execute_result"
    }
   ],
   "source": [
    "edist = ((df[\"b\"] - df[\"p1\"]) ** 2).sum() ** 0.5\n",
    "edist"
   ]
  },
  {
   "cell_type": "code",
   "execution_count": 74,
   "metadata": {},
   "outputs": [
    {
     "name": "stdout",
     "output_type": "stream",
     "text": [
      "euclidean dist: 6791.905876854667\n",
      "MSE: 2306499.2720026486\n"
     ]
    },
    {
     "data": {
      "text/html": [
       "<div>\n",
       "<style scoped>\n",
       "    .dataframe tbody tr th:only-of-type {\n",
       "        vertical-align: middle;\n",
       "    }\n",
       "\n",
       "    .dataframe tbody tr th {\n",
       "        vertical-align: top;\n",
       "    }\n",
       "\n",
       "    .dataframe thead th {\n",
       "        text-align: right;\n",
       "    }\n",
       "</style>\n",
       "<table border=\"1\" class=\"dataframe\">\n",
       "  <thead>\n",
       "    <tr style=\"text-align: right;\">\n",
       "      <th></th>\n",
       "      <th>Name</th>\n",
       "      <th>JerseyNumber</th>\n",
       "      <th>Age</th>\n",
       "      <th>PreferredFoot</th>\n",
       "      <th>Wage</th>\n",
       "      <th>Value</th>\n",
       "      <th>PreferredFootInt</th>\n",
       "      <th>p</th>\n",
       "    </tr>\n",
       "  </thead>\n",
       "  <tbody>\n",
       "    <tr>\n",
       "      <th>0</th>\n",
       "      <td>M. Dupé</td>\n",
       "      <td>1</td>\n",
       "      <td>25</td>\n",
       "      <td>Right</td>\n",
       "      <td>8.0</td>\n",
       "      <td>900.0</td>\n",
       "      <td>1</td>\n",
       "      <td>1265.319992</td>\n",
       "    </tr>\n",
       "    <tr>\n",
       "      <th>1</th>\n",
       "      <td>N. Fernández</td>\n",
       "      <td>26</td>\n",
       "      <td>18</td>\n",
       "      <td>Right</td>\n",
       "      <td>1.0</td>\n",
       "      <td>450.0</td>\n",
       "      <td>1</td>\n",
       "      <td>-452.498445</td>\n",
       "    </tr>\n",
       "    <tr>\n",
       "      <th>2</th>\n",
       "      <td>P. Kalambayi</td>\n",
       "      <td>30</td>\n",
       "      <td>18</td>\n",
       "      <td>Right</td>\n",
       "      <td>1.0</td>\n",
       "      <td>130.0</td>\n",
       "      <td>1</td>\n",
       "      <td>-436.446758</td>\n",
       "    </tr>\n",
       "    <tr>\n",
       "      <th>3</th>\n",
       "      <td>P. McNair</td>\n",
       "      <td>17</td>\n",
       "      <td>23</td>\n",
       "      <td>Right</td>\n",
       "      <td>22.0</td>\n",
       "      <td>2300.0</td>\n",
       "      <td>1</td>\n",
       "      <td>5516.608000</td>\n",
       "    </tr>\n",
       "    <tr>\n",
       "      <th>4</th>\n",
       "      <td>G. Bojanich</td>\n",
       "      <td>23</td>\n",
       "      <td>33</td>\n",
       "      <td>Right</td>\n",
       "      <td>6.0</td>\n",
       "      <td>425.0</td>\n",
       "      <td>1</td>\n",
       "      <td>489.886350</td>\n",
       "    </tr>\n",
       "    <tr>\n",
       "      <th>5</th>\n",
       "      <td>A. Kofler</td>\n",
       "      <td>31</td>\n",
       "      <td>31</td>\n",
       "      <td>Right</td>\n",
       "      <td>3.0</td>\n",
       "      <td>325.0</td>\n",
       "      <td>1</td>\n",
       "      <td>-291.638661</td>\n",
       "    </tr>\n",
       "    <tr>\n",
       "      <th>6</th>\n",
       "      <td>N. Lavanchy</td>\n",
       "      <td>14</td>\n",
       "      <td>24</td>\n",
       "      <td>Right</td>\n",
       "      <td>3.0</td>\n",
       "      <td>600.0</td>\n",
       "      <td>1</td>\n",
       "      <td>-118.884084</td>\n",
       "    </tr>\n",
       "    <tr>\n",
       "      <th>7</th>\n",
       "      <td>O. Al Khalaf</td>\n",
       "      <td>8</td>\n",
       "      <td>21</td>\n",
       "      <td>Right</td>\n",
       "      <td>3.0</td>\n",
       "      <td>240.0</td>\n",
       "      <td>1</td>\n",
       "      <td>-39.686937</td>\n",
       "    </tr>\n",
       "    <tr>\n",
       "      <th>8</th>\n",
       "      <td>J. Sills</td>\n",
       "      <td>21</td>\n",
       "      <td>31</td>\n",
       "      <td>Right</td>\n",
       "      <td>7.0</td>\n",
       "      <td>600.0</td>\n",
       "      <td>1</td>\n",
       "      <td>844.869683</td>\n",
       "    </tr>\n",
       "    <tr>\n",
       "      <th>9</th>\n",
       "      <td>B. Fox</td>\n",
       "      <td>12</td>\n",
       "      <td>20</td>\n",
       "      <td>Right</td>\n",
       "      <td>1.0</td>\n",
       "      <td>230.0</td>\n",
       "      <td>1</td>\n",
       "      <td>-577.529138</td>\n",
       "    </tr>\n",
       "    <tr>\n",
       "      <th>10</th>\n",
       "      <td>S. Smith</td>\n",
       "      <td>9</td>\n",
       "      <td>20</td>\n",
       "      <td>Left</td>\n",
       "      <td>4.0</td>\n",
       "      <td>450.0</td>\n",
       "      <td>0</td>\n",
       "      <td>1843.678987</td>\n",
       "    </tr>\n",
       "    <tr>\n",
       "      <th>11</th>\n",
       "      <td>E. Ocansey</td>\n",
       "      <td>28</td>\n",
       "      <td>20</td>\n",
       "      <td>Left</td>\n",
       "      <td>5.0</td>\n",
       "      <td>1600.0</td>\n",
       "      <td>0</td>\n",
       "      <td>2214.083895</td>\n",
       "    </tr>\n",
       "    <tr>\n",
       "      <th>12</th>\n",
       "      <td>F. Kostić</td>\n",
       "      <td>10</td>\n",
       "      <td>25</td>\n",
       "      <td>Left</td>\n",
       "      <td>16.0</td>\n",
       "      <td>10500.0</td>\n",
       "      <td>0</td>\n",
       "      <td>5205.480135</td>\n",
       "    </tr>\n",
       "    <tr>\n",
       "      <th>13</th>\n",
       "      <td>M. Ullmann</td>\n",
       "      <td>13</td>\n",
       "      <td>22</td>\n",
       "      <td>Left</td>\n",
       "      <td>3.0</td>\n",
       "      <td>1000.0</td>\n",
       "      <td>0</td>\n",
       "      <td>1496.721499</td>\n",
       "    </tr>\n",
       "    <tr>\n",
       "      <th>14</th>\n",
       "      <td>R. Taylor</td>\n",
       "      <td>9</td>\n",
       "      <td>30</td>\n",
       "      <td>Left</td>\n",
       "      <td>4.0</td>\n",
       "      <td>625.0</td>\n",
       "      <td>0</td>\n",
       "      <td>1499.430059</td>\n",
       "    </tr>\n",
       "    <tr>\n",
       "      <th>15</th>\n",
       "      <td>N. Vikonis</td>\n",
       "      <td>34</td>\n",
       "      <td>34</td>\n",
       "      <td>Left</td>\n",
       "      <td>7.0</td>\n",
       "      <td>2700.0</td>\n",
       "      <td>0</td>\n",
       "      <td>2344.531708</td>\n",
       "    </tr>\n",
       "    <tr>\n",
       "      <th>16</th>\n",
       "      <td>J. Aguirre</td>\n",
       "      <td>29</td>\n",
       "      <td>21</td>\n",
       "      <td>Left</td>\n",
       "      <td>1.0</td>\n",
       "      <td>575.0</td>\n",
       "      <td>0</td>\n",
       "      <td>1007.034361</td>\n",
       "    </tr>\n",
       "    <tr>\n",
       "      <th>17</th>\n",
       "      <td>J. Konings</td>\n",
       "      <td>25</td>\n",
       "      <td>20</td>\n",
       "      <td>Left</td>\n",
       "      <td>1.0</td>\n",
       "      <td>500.0</td>\n",
       "      <td>0</td>\n",
       "      <td>1025.407566</td>\n",
       "    </tr>\n",
       "    <tr>\n",
       "      <th>18</th>\n",
       "      <td>J. Raitala</td>\n",
       "      <td>22</td>\n",
       "      <td>29</td>\n",
       "      <td>Left</td>\n",
       "      <td>3.0</td>\n",
       "      <td>700.0</td>\n",
       "      <td>0</td>\n",
       "      <td>1291.863546</td>\n",
       "    </tr>\n",
       "    <tr>\n",
       "      <th>19</th>\n",
       "      <td>A. Taylor</td>\n",
       "      <td>3</td>\n",
       "      <td>31</td>\n",
       "      <td>Left</td>\n",
       "      <td>3.0</td>\n",
       "      <td>425.0</td>\n",
       "      <td>0</td>\n",
       "      <td>1146.768243</td>\n",
       "    </tr>\n",
       "  </tbody>\n",
       "</table>\n",
       "</div>"
      ],
      "text/plain": [
       "            Name  JerseyNumber  Age PreferredFoot  Wage    Value  \\\n",
       "0        M. Dupé             1   25         Right   8.0    900.0   \n",
       "1   N. Fernández            26   18         Right   1.0    450.0   \n",
       "2   P. Kalambayi            30   18         Right   1.0    130.0   \n",
       "3      P. McNair            17   23         Right  22.0   2300.0   \n",
       "4    G. Bojanich            23   33         Right   6.0    425.0   \n",
       "5      A. Kofler            31   31         Right   3.0    325.0   \n",
       "6    N. Lavanchy            14   24         Right   3.0    600.0   \n",
       "7   O. Al Khalaf             8   21         Right   3.0    240.0   \n",
       "8       J. Sills            21   31         Right   7.0    600.0   \n",
       "9         B. Fox            12   20         Right   1.0    230.0   \n",
       "10      S. Smith             9   20          Left   4.0    450.0   \n",
       "11    E. Ocansey            28   20          Left   5.0   1600.0   \n",
       "12     F. Kostić            10   25          Left  16.0  10500.0   \n",
       "13    M. Ullmann            13   22          Left   3.0   1000.0   \n",
       "14     R. Taylor             9   30          Left   4.0    625.0   \n",
       "15    N. Vikonis            34   34          Left   7.0   2700.0   \n",
       "16    J. Aguirre            29   21          Left   1.0    575.0   \n",
       "17    J. Konings            25   20          Left   1.0    500.0   \n",
       "18    J. Raitala            22   29          Left   3.0    700.0   \n",
       "19     A. Taylor             3   31          Left   3.0    425.0   \n",
       "\n",
       "    PreferredFootInt            p  \n",
       "0                  1  1265.319992  \n",
       "1                  1  -452.498445  \n",
       "2                  1  -436.446758  \n",
       "3                  1  5516.608000  \n",
       "4                  1   489.886350  \n",
       "5                  1  -291.638661  \n",
       "6                  1  -118.884084  \n",
       "7                  1   -39.686937  \n",
       "8                  1   844.869683  \n",
       "9                  1  -577.529138  \n",
       "10                 0  1843.678987  \n",
       "11                 0  2214.083895  \n",
       "12                 0  5205.480135  \n",
       "13                 0  1496.721499  \n",
       "14                 0  1499.430059  \n",
       "15                 0  2344.531708  \n",
       "16                 0  1007.034361  \n",
       "17                 0  1025.407566  \n",
       "18                 0  1291.863546  \n",
       "19                 0  1146.768243  "
      ]
     },
     "execution_count": 74,
     "metadata": {},
     "output_type": "execute_result"
    }
   ],
   "source": [
    "rows = [['M. Dupé', 1, 25, 'Right', 8.0, 900.0],\n",
    "       ['N. Fernández', 26, 18, 'Right', 1.0, 450.0],\n",
    "       ['P. Kalambayi', 30, 18, 'Right', 1.0, 130.0],\n",
    "       ['P. McNair', 17, 23, 'Right', 22.0, 2300.0],\n",
    "       ['G. Bojanich', 23, 33, 'Right', 6.0, 425.0],\n",
    "       ['A. Kofler', 31, 31, 'Right', 3.0, 325.0],\n",
    "       ['N. Lavanchy', 14, 24, 'Right', 3.0, 600.0],\n",
    "       ['O. Al Khalaf', 8, 21, 'Right', 3.0, 240.0],\n",
    "       ['J. Sills', 21, 31, 'Right', 7.0, 600.0],\n",
    "       ['B. Fox', 12, 20, 'Right', 1.0, 230.0],\n",
    "       ['S. Smith', 9, 20, 'Left', 4.0, 450.0],\n",
    "       ['E. Ocansey', 28, 20, 'Left', 5.0, 1600.0],\n",
    "       ['F. Kostić', 10, 25, 'Left', 16.0, 10500.0],\n",
    "       ['M. Ullmann', 13, 22, 'Left', 3.0, 1000.0],\n",
    "       ['R. Taylor', 9, 30, 'Left', 4.0, 625.0],\n",
    "       ['N. Vikonis', 34, 34, 'Left', 7.0, 2700.0],\n",
    "       ['J. Aguirre', 29, 21, 'Left', 1.0, 575.0],\n",
    "       ['J. Konings', 25, 20, 'Left', 1.0, 500.0],\n",
    "       ['J. Raitala', 22, 29, 'Left', 3.0, 700.0],\n",
    "       ['A. Taylor', 3, 31, 'Left', 3.0, 425.0]]\n",
    "df = pd.DataFrame.from_records(rows, columns=[\"Name\", \"JerseyNumber\", \"Age\", \"PreferredFoot\", \"Wage\", \"Value\"])\n",
    "df.dtypes\n",
    "df[\"PreferredFootInt\"] = (df[\"PreferredFoot\"] == \"Right\").astype(int)\n",
    "\n",
    "df[\"p\"] = r.predict(df[columns])\n",
    "\n",
    "print(\"euclidean dist:\", euclidean_dist(df, \"Value\", \"p\"))\n",
    "print(\"MSE:\", mean_squared_error(df, \"Value\", \"p\"))\n",
    "\n",
    "df"
   ]
  },
  {
   "cell_type": "code",
   "execution_count": null,
   "metadata": {},
   "outputs": [],
   "source": []
  }
 ],
 "metadata": {
  "kernelspec": {
   "display_name": "Python 3",
   "language": "python",
   "name": "python3"
  },
  "language_info": {
   "codemirror_mode": {
    "name": "ipython",
    "version": 3
   },
   "file_extension": ".py",
   "mimetype": "text/x-python",
   "name": "python",
   "nbconvert_exporter": "python",
   "pygments_lexer": "ipython3",
   "version": "3.6.9"
  }
 },
 "nbformat": 4,
 "nbformat_minor": 4
}
