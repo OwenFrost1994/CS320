{
 "cells": [
  {
   "cell_type": "code",
   "execution_count": 1,
   "metadata": {},
   "outputs": [
    {
     "name": "stdout",
     "output_type": "stream",
     "text": [
      "Fido: grrrr\n"
     ]
    }
   ],
   "source": [
    "# BAD EXAMPLE\n",
    "\n",
    "class Dog:\n",
    "    pass\n",
    "def init(dog, name ,age):\n",
    "    dog.name = name\n",
    "    dog.age = age\n",
    "def speak(dog):\n",
    "    if dog.age >  10:\n",
    "        print(dog.name + \": grrrr\")\n",
    "    elif dog.age < 2:\n",
    "        print(dog.name + \":\" + \"bark!\" * 10)\n",
    "    else:\n",
    "        print(dof.name + \": bark\")\n",
    "        \n",
    "dog1 = Dog()\n",
    "init(dog1, \"Fido\", 11)\n",
    "speak(dog1)"
   ]
  },
  {
   "cell_type": "code",
   "execution_count": 2,
   "metadata": {},
   "outputs": [
    {
     "name": "stdout",
     "output_type": "stream",
     "text": [
      "Fido: grrrr\n"
     ]
    }
   ],
   "source": [
    "class Dog:\n",
    "    def init(dog, name ,age):\n",
    "        dog.name = name\n",
    "        dog.age = age\n",
    "    def speak(dog):\n",
    "        if dog.age >  10:\n",
    "            print(dog.name + \": grrrr\")\n",
    "        elif dog.age < 2:\n",
    "            print(dog.name + \":\" + \"bark!\" * 10)\n",
    "        else:\n",
    "            print(dof.name + \": bark\")\n",
    "class Cat:\n",
    "    def speak(cat):\n",
    "        print(\"meow\")\n",
    "\n",
    "c = Cat()\n",
    "dog1 = Dog()\n",
    "init(dog1, \"Fido\", 11)\n",
    "Dog.speak(dog1)"
   ]
  },
  {
   "cell_type": "code",
   "execution_count": 3,
   "metadata": {},
   "outputs": [
    {
     "name": "stdout",
     "output_type": "stream",
     "text": [
      "<class '__main__.Cat'>\n",
      "<class 'type'>\n"
     ]
    }
   ],
   "source": [
    "print(type(c))\n",
    "print(type(Cat))"
   ]
  },
  {
   "cell_type": "code",
   "execution_count": null,
   "metadata": {},
   "outputs": [],
   "source": []
  },
  {
   "cell_type": "code",
   "execution_count": 4,
   "metadata": {},
   "outputs": [
    {
     "name": "stdout",
     "output_type": "stream",
     "text": [
      "meow\n",
      "Fido: grrrr\n",
      "meow\n",
      "Fido: grrrr\n"
     ]
    }
   ],
   "source": [
    "class Dog:\n",
    "    def init(dog, name ,age):\n",
    "        dog.name = name\n",
    "        dog.age = age\n",
    "    def is_puppy(self):\n",
    "        return self.age < 2\n",
    "    \n",
    "    def speak(dog):\n",
    "        if dog.age >  10:\n",
    "            print(dog.name + \": grrrr\")\n",
    "        elif dog.age < 2:\n",
    "            print(dog.name + \":\" + \"bark!\" * 10)\n",
    "        else:\n",
    "            print(dof.name + \": bark\")\n",
    "class Cat:\n",
    "    def speak(cat):\n",
    "        print(\"meow\")\n",
    "\n",
    "animals = [c, dog1]\n",
    "#what is happening\n",
    "for pet in animals:\n",
    "    type(pet).speak(pet)\n",
    "    \n",
    "#shortcut\n",
    "for pet in animals:\n",
    "    pet.speak()"
   ]
  },
  {
   "cell_type": "code",
   "execution_count": 5,
   "metadata": {},
   "outputs": [
    {
     "name": "stdout",
     "output_type": "stream",
     "text": [
      "Fido: grrrr\n"
     ]
    }
   ],
   "source": [
    "#good example\n",
    "class Dog:\n",
    "    def __init__(dog, name ,age):\n",
    "        dog.name = name\n",
    "        dog.age = age\n",
    "    def is_puppy(self):\n",
    "        return self.age < 2\n",
    "    \n",
    "    def speak(dog):\n",
    "        if dog.age >  10:\n",
    "            print(dog.name + \": grrrr\")\n",
    "        elif dog.age < 2:\n",
    "            print(dog.name + \":\" + \"bark!\" * 10)\n",
    "        else:\n",
    "            print(dof.name + \": bark\")\n",
    "class Cat:\n",
    "    def speak(cat):\n",
    "        print(\"meow\")\n",
    "\n",
    "dog1 = Dog(\"Fido\", 11)\n",
    "dog1.speak()"
   ]
  },
  {
   "cell_type": "code",
   "execution_count": 1,
   "metadata": {},
   "outputs": [
    {
     "data": {
      "text/plain": [
       "True"
      ]
     },
     "execution_count": 1,
     "metadata": {},
     "output_type": "execute_result"
    }
   ],
   "source": [
    "#good example\n",
    "class Dog:\n",
    "    def __init__(dog, name ,age):\n",
    "        dog.name = name\n",
    "        dog.age = age\n",
    "    def is_puppy(self):\n",
    "        return self.age < 2\n",
    "    \n",
    "    def speak(dog):\n",
    "        if dog.age >  10:\n",
    "            print(dog.name + \": grrrr\")\n",
    "        elif dog.age < 2:\n",
    "            print(dog.name + \":\" + \"bark!\" * 10)\n",
    "        else:\n",
    "            print(dof.name + \": bark\")\n",
    "    \n",
    "    def __str_＿(self):\n",
    "        return \"Dog {}, Age={}\".format(self.name, self.age)\n",
    "    def __repr__(self):\n",
    "        return \"Dog('{}', {})\".format(self.name, self.age)\n",
    "    def _repr_html_(self):\n",
    "        return \"<h1><i>{}</i> the dog</h1>\".format(self.name)\n",
    "    def __eq__(self, other_dog):\n",
    "        return (self.name == other_dog.name and self.age == other_dog.age)\n",
    "    def __lt__(self, other_dog):\n",
    "        return self.age < other_dog.age\n",
    "\n",
    "class Cat:\n",
    "    def speak(cat):\n",
    "        print(\"meow\")\n",
    "\n",
    "fido = Dog(\"Fido\", 11)\n",
    "fido_v2 = Dog(\"Fido\", 11)\n",
    "sam = Dog(\"Sam\", 5)\n",
    "fido == fido_v2"
   ]
  },
  {
   "cell_type": "code",
   "execution_count": 2,
   "metadata": {},
   "outputs": [
    {
     "name": "stdout",
     "output_type": "stream",
     "text": [
      "Dog Fido, Age=11\n"
     ]
    }
   ],
   "source": [
    "print(fido)"
   ]
  },
  {
   "cell_type": "code",
   "execution_count": 18,
   "metadata": {},
   "outputs": [
    {
     "data": {
      "text/html": [
       "<h1><i>Fido</i> the dog</h1>"
      ],
      "text/plain": [
       "Dog('Fido', 11)"
      ]
     },
     "execution_count": 18,
     "metadata": {},
     "output_type": "execute_result"
    }
   ],
   "source": [
    "fido"
   ]
  },
  {
   "cell_type": "code",
   "execution_count": 19,
   "metadata": {},
   "outputs": [
    {
     "data": {
      "text/plain": [
       "[Dog('Fido', 11), Dog('Sam', 5)]"
      ]
     },
     "execution_count": 19,
     "metadata": {},
     "output_type": "execute_result"
    }
   ],
   "source": [
    "dogs = [fido, sam]\n",
    "dogs"
   ]
  },
  {
   "cell_type": "code",
   "execution_count": 20,
   "metadata": {},
   "outputs": [
    {
     "data": {
      "text/plain": [
       "True"
      ]
     },
     "execution_count": 20,
     "metadata": {},
     "output_type": "execute_result"
    }
   ],
   "source": [
    "sam < fido"
   ]
  },
  {
   "cell_type": "code",
   "execution_count": 22,
   "metadata": {},
   "outputs": [
    {
     "name": "stdout",
     "output_type": "stream",
     "text": [
      "[Dog('Sam', 5), Dog('Fido', 11)]\n"
     ]
    }
   ],
   "source": [
    "dogs.sort()\n",
    "print(dogs)"
   ]
  },
  {
   "cell_type": "code",
   "execution_count": null,
   "metadata": {},
   "outputs": [],
   "source": []
  },
  {
   "cell_type": "code",
   "execution_count": null,
   "metadata": {},
   "outputs": [],
   "source": []
  },
  {
   "cell_type": "code",
   "execution_count": 23,
   "metadata": {},
   "outputs": [
    {
     "name": "stdout",
     "output_type": "stream",
     "text": [
      "0\n",
      "1\n",
      "2\n",
      "3\n",
      "4\n",
      "5\n",
      "6\n",
      "7\n",
      "8\n",
      "9\n"
     ]
    }
   ],
   "source": [
    "for i in range(10):\n",
    "    print(i)"
   ]
  },
  {
   "cell_type": "code",
   "execution_count": 25,
   "metadata": {},
   "outputs": [
    {
     "data": {
      "text/plain": [
       "range(0, 10)"
      ]
     },
     "execution_count": 25,
     "metadata": {},
     "output_type": "execute_result"
    }
   ],
   "source": [
    "r1 = range(10)\n",
    "r1"
   ]
  },
  {
   "cell_type": "code",
   "execution_count": 26,
   "metadata": {},
   "outputs": [
    {
     "data": {
      "text/plain": [
       "9"
      ]
     },
     "execution_count": 26,
     "metadata": {},
     "output_type": "execute_result"
    }
   ],
   "source": [
    "r1[-1]"
   ]
  },
  {
   "cell_type": "code",
   "execution_count": 27,
   "metadata": {},
   "outputs": [
    {
     "data": {
      "text/plain": [
       "range(2, 4)"
      ]
     },
     "execution_count": 27,
     "metadata": {},
     "output_type": "execute_result"
    }
   ],
   "source": [
    "r1[2:4]"
   ]
  },
  {
   "cell_type": "code",
   "execution_count": 28,
   "metadata": {},
   "outputs": [
    {
     "data": {
      "text/plain": [
       "range(2, 4)"
      ]
     },
     "execution_count": 28,
     "metadata": {},
     "output_type": "execute_result"
    }
   ],
   "source": [
    "range(2, 4)"
   ]
  },
  {
   "cell_type": "code",
   "execution_count": 59,
   "metadata": {},
   "outputs": [],
   "source": [
    "class Range():\n",
    "    def __init__(self, bound1, bound2 = None):\n",
    "        if bound2 !=None:\n",
    "            self.lower = bound1\n",
    "            self.upper = bound2\n",
    "        else:\n",
    "            self.lower = 0\n",
    "            self.upper = bound1\n",
    "    def __len__(self):\n",
    "        return self.upper - self.lower\n",
    "    \n",
    "    def __getitem__(self, lookup):\n",
    "        print(\"TYPE:\", type(lookup))\n",
    "        if not isinstance(lookup, int):\n",
    "            raise NotImplementedError(\"slice not supported\")\n",
    "        if lookup < 0:\n",
    "            raise NotImplementedError(\"negtive not supported\")\n",
    "        if lookup >= len(self):\n",
    "            raise IndexError(\"out of bounds\")\n",
    "        return self.lower + lookup"
   ]
  },
  {
   "cell_type": "code",
   "execution_count": 60,
   "metadata": {},
   "outputs": [
    {
     "data": {
      "text/plain": [
       "<__main__.Range at 0x7f43a4441898>"
      ]
     },
     "execution_count": 60,
     "metadata": {},
     "output_type": "execute_result"
    }
   ],
   "source": [
    "r1 = Range(10)\n",
    "r1"
   ]
  },
  {
   "cell_type": "code",
   "execution_count": 61,
   "metadata": {},
   "outputs": [
    {
     "name": "stdout",
     "output_type": "stream",
     "text": [
      "TYPE: <class 'int'>\n"
     ]
    },
    {
     "data": {
      "text/plain": [
       "9"
      ]
     },
     "execution_count": 61,
     "metadata": {},
     "output_type": "execute_result"
    }
   ],
   "source": [
    "r1 = Range(5 ,10)\n",
    "r1[4]"
   ]
  },
  {
   "cell_type": "code",
   "execution_count": 62,
   "metadata": {},
   "outputs": [
    {
     "name": "stdout",
     "output_type": "stream",
     "text": [
      "TYPE: <class 'int'>\n",
      "5\n",
      "TYPE: <class 'int'>\n",
      "6\n",
      "TYPE: <class 'int'>\n"
     ]
    }
   ],
   "source": [
    "for i in Range(5, 7):\n",
    "    print(i)"
   ]
  },
  {
   "cell_type": "code",
   "execution_count": 64,
   "metadata": {},
   "outputs": [
    {
     "name": "stdout",
     "output_type": "stream",
     "text": [
      "TYPE: <class 'slice'>\n"
     ]
    },
    {
     "ename": "NotImplementedError",
     "evalue": "slice not supported",
     "output_type": "error",
     "traceback": [
      "\u001b[0;31m---------------------------------------------------------------------------\u001b[0m",
      "\u001b[0;31mNotImplementedError\u001b[0m                       Traceback (most recent call last)",
      "\u001b[0;32m<ipython-input-64-ed9657a6c284>\u001b[0m in \u001b[0;36m<module>\u001b[0;34m\u001b[0m\n\u001b[0;32m----> 1\u001b[0;31m \u001b[0mr1\u001b[0m\u001b[0;34m[\u001b[0m\u001b[0;34m:\u001b[0m\u001b[0;36m3\u001b[0m\u001b[0;34m]\u001b[0m\u001b[0;34m\u001b[0m\u001b[0;34m\u001b[0m\u001b[0m\n\u001b[0m",
      "\u001b[0;32m<ipython-input-59-08ee5d2e21f9>\u001b[0m in \u001b[0;36m__getitem__\u001b[0;34m(self, lookup)\u001b[0m\n\u001b[1;32m     13\u001b[0m         \u001b[0mprint\u001b[0m\u001b[0;34m(\u001b[0m\u001b[0;34m\"TYPE:\"\u001b[0m\u001b[0;34m,\u001b[0m \u001b[0mtype\u001b[0m\u001b[0;34m(\u001b[0m\u001b[0mlookup\u001b[0m\u001b[0;34m)\u001b[0m\u001b[0;34m)\u001b[0m\u001b[0;34m\u001b[0m\u001b[0;34m\u001b[0m\u001b[0m\n\u001b[1;32m     14\u001b[0m         \u001b[0;32mif\u001b[0m \u001b[0;32mnot\u001b[0m \u001b[0misinstance\u001b[0m\u001b[0;34m(\u001b[0m\u001b[0mlookup\u001b[0m\u001b[0;34m,\u001b[0m \u001b[0mint\u001b[0m\u001b[0;34m)\u001b[0m\u001b[0;34m:\u001b[0m\u001b[0;34m\u001b[0m\u001b[0;34m\u001b[0m\u001b[0m\n\u001b[0;32m---> 15\u001b[0;31m             \u001b[0;32mraise\u001b[0m \u001b[0mNotImplementedError\u001b[0m\u001b[0;34m(\u001b[0m\u001b[0;34m\"slice not supported\"\u001b[0m\u001b[0;34m)\u001b[0m\u001b[0;34m\u001b[0m\u001b[0;34m\u001b[0m\u001b[0m\n\u001b[0m\u001b[1;32m     16\u001b[0m         \u001b[0;32mif\u001b[0m \u001b[0mlookup\u001b[0m \u001b[0;34m<\u001b[0m \u001b[0;36m0\u001b[0m\u001b[0;34m:\u001b[0m\u001b[0;34m\u001b[0m\u001b[0;34m\u001b[0m\u001b[0m\n\u001b[1;32m     17\u001b[0m             \u001b[0;32mraise\u001b[0m \u001b[0mNotImplementedError\u001b[0m\u001b[0;34m(\u001b[0m\u001b[0;34m\"negtive not supported\"\u001b[0m\u001b[0;34m)\u001b[0m\u001b[0;34m\u001b[0m\u001b[0;34m\u001b[0m\u001b[0m\n",
      "\u001b[0;31mNotImplementedError\u001b[0m: slice not supported"
     ]
    }
   ],
   "source": [
    "r1[:3]"
   ]
  },
  {
   "cell_type": "code",
   "execution_count": null,
   "metadata": {},
   "outputs": [],
   "source": []
  }
 ],
 "metadata": {
  "kernelspec": {
   "display_name": "Python 3",
   "language": "python",
   "name": "python3"
  },
  "language_info": {
   "codemirror_mode": {
    "name": "ipython",
    "version": 3
   },
   "file_extension": ".py",
   "mimetype": "text/x-python",
   "name": "python",
   "nbconvert_exporter": "python",
   "pygments_lexer": "ipython3",
   "version": "3.6.9"
  }
 },
 "nbformat": 4,
 "nbformat_minor": 4
}
