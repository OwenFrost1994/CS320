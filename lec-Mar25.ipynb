{
 "cells": [
  {
   "cell_type": "code",
   "execution_count": 2,
   "metadata": {},
   "outputs": [
    {
     "data": {
      "text/html": [
       "<div>\n",
       "<style scoped>\n",
       "    .dataframe tbody tr th:only-of-type {\n",
       "        vertical-align: middle;\n",
       "    }\n",
       "\n",
       "    .dataframe tbody tr th {\n",
       "        vertical-align: top;\n",
       "    }\n",
       "\n",
       "    .dataframe thead th {\n",
       "        text-align: right;\n",
       "    }\n",
       "</style>\n",
       "<table border=\"1\" class=\"dataframe\">\n",
       "  <thead>\n",
       "    <tr style=\"text-align: right;\">\n",
       "      <th></th>\n",
       "      <th>x</th>\n",
       "      <th>y</th>\n",
       "    </tr>\n",
       "  </thead>\n",
       "  <tbody>\n",
       "    <tr>\n",
       "      <th>0</th>\n",
       "      <td>0.1</td>\n",
       "      <td>0.4</td>\n",
       "    </tr>\n",
       "    <tr>\n",
       "      <th>1</th>\n",
       "      <td>0.2</td>\n",
       "      <td>0.2</td>\n",
       "    </tr>\n",
       "    <tr>\n",
       "      <th>2</th>\n",
       "      <td>0.3</td>\n",
       "      <td>0.1</td>\n",
       "    </tr>\n",
       "    <tr>\n",
       "      <th>3</th>\n",
       "      <td>0.4</td>\n",
       "      <td>0.3</td>\n",
       "    </tr>\n",
       "  </tbody>\n",
       "</table>\n",
       "</div>"
      ],
      "text/plain": [
       "     x    y\n",
       "0  0.1  0.4\n",
       "1  0.2  0.2\n",
       "2  0.3  0.1\n",
       "3  0.4  0.3"
      ]
     },
     "execution_count": 2,
     "metadata": {},
     "output_type": "execute_result"
    }
   ],
   "source": [
    "import pandas as pd\n",
    "from matplotlib import pyplot as plt\n",
    "\n",
    "df = pd.DataFrame([\n",
    "    {\"x\":0.1, \"y\":0.4},\n",
    "    {\"x\":0.2, \"y\":0.2},\n",
    "    {\"x\":0.3, \"y\":0.1},\n",
    "    {\"x\":0.4, \"y\":0.3}\n",
    "])\n",
    "df"
   ]
  },
  {
   "cell_type": "code",
   "execution_count": 4,
   "metadata": {},
   "outputs": [
    {
     "name": "stdout",
     "output_type": "stream",
     "text": [
      "[[0.1 0.4]\n",
      " [0.2 0.2]\n",
      " [0.3 0.1]\n",
      " [0.4 0.3]]\n"
     ]
    },
    {
     "data": {
      "image/png": "[encoded data removed]",
      "text/plain": [
       "<Figure size 504x288 with 2 Axes>"
      ]
     },
     "metadata": {
      "needs_background": "light"
     },
     "output_type": "display_data"
    }
   ],
   "source": [
    "fig, (ax1, ax2) = plt.subplots(ncols=2, figsize=(7, 4))\n",
    "ax2.set_xlim(0.1, 0.6)\n",
    "\n",
    "points = df[[\"x\", \"y\"]].values\n",
    "print(points)\n",
    "\n",
    "def scatter1(ax, points, style=\"bo\", size=10):\n",
    "    for x, y in points:\n",
    "        ax.plot(x, y, style, markersize=size)\n",
    "def scatter2(ax, points, style=\"rx\", size=10):\n",
    "    for x, y in points:\n",
    "        ax.plot(x, y, style, markersize=size)\n",
    "\n",
    "scatter1(ax1, points)\n",
    "scatter2(ax2, points)\n",
    "# scatter(ax2, points, ????) # TODO: make large red X's\n",
    "fig.savefig(\"good.png\", bbox_inches=None)\n",
    "fig.savefig(\"bad.png\", bbox_inches=\"tight\")"
   ]
  },
  {
   "cell_type": "code",
   "execution_count": 5,
   "metadata": {},
   "outputs": [
    {
     "data": {
      "text/html": [
       "<div>\n",
       "<style scoped>\n",
       "    .dataframe tbody tr th:only-of-type {\n",
       "        vertical-align: middle;\n",
       "    }\n",
       "\n",
       "    .dataframe tbody tr th {\n",
       "        vertical-align: top;\n",
       "    }\n",
       "\n",
       "    .dataframe thead th {\n",
       "        text-align: right;\n",
       "    }\n",
       "</style>\n",
       "<table border=\"1\" class=\"dataframe\">\n",
       "  <thead>\n",
       "    <tr style=\"text-align: right;\">\n",
       "      <th></th>\n",
       "      <th>X</th>\n",
       "      <th>Y</th>\n",
       "      <th>Z</th>\n",
       "    </tr>\n",
       "  </thead>\n",
       "  <tbody>\n",
       "    <tr>\n",
       "      <th>0</th>\n",
       "      <td>26.551811</td>\n",
       "      <td>16.781392</td>\n",
       "      <td>6.101255</td>\n",
       "    </tr>\n",
       "    <tr>\n",
       "      <th>1</th>\n",
       "      <td>66.897488</td>\n",
       "      <td>18.215708</td>\n",
       "      <td>15.009622</td>\n",
       "    </tr>\n",
       "    <tr>\n",
       "      <th>2</th>\n",
       "      <td>89.275179</td>\n",
       "      <td>58.819924</td>\n",
       "      <td>23.821143</td>\n",
       "    </tr>\n",
       "    <tr>\n",
       "      <th>3</th>\n",
       "      <td>51.590194</td>\n",
       "      <td>97.862513</td>\n",
       "      <td>37.834335</td>\n",
       "    </tr>\n",
       "    <tr>\n",
       "      <th>4</th>\n",
       "      <td>91.709126</td>\n",
       "      <td>94.181508</td>\n",
       "      <td>41.701348</td>\n",
       "    </tr>\n",
       "    <tr>\n",
       "      <th>...</th>\n",
       "      <td>...</td>\n",
       "      <td>...</td>\n",
       "      <td>...</td>\n",
       "    </tr>\n",
       "    <tr>\n",
       "      <th>95</th>\n",
       "      <td>947.173537</td>\n",
       "      <td>1889.393260</td>\n",
       "      <td>387.000250</td>\n",
       "    </tr>\n",
       "    <tr>\n",
       "      <th>96</th>\n",
       "      <td>967.133246</td>\n",
       "      <td>1923.261532</td>\n",
       "      <td>398.174669</td>\n",
       "    </tr>\n",
       "    <tr>\n",
       "      <th>97</th>\n",
       "      <td>930.031837</td>\n",
       "      <td>1926.344688</td>\n",
       "      <td>401.166170</td>\n",
       "    </tr>\n",
       "    <tr>\n",
       "      <th>98</th>\n",
       "      <td>955.711809</td>\n",
       "      <td>1931.390721</td>\n",
       "      <td>402.614802</td>\n",
       "    </tr>\n",
       "    <tr>\n",
       "      <th>99</th>\n",
       "      <td>962.189995</td>\n",
       "      <td>1948.780521</td>\n",
       "      <td>409.535771</td>\n",
       "    </tr>\n",
       "  </tbody>\n",
       "</table>\n",
       "<p>100 rows × 3 columns</p>\n",
       "</div>"
      ],
      "text/plain": [
       "             X            Y           Z\n",
       "0    26.551811    16.781392    6.101255\n",
       "1    66.897488    18.215708   15.009622\n",
       "2    89.275179    58.819924   23.821143\n",
       "3    51.590194    97.862513   37.834335\n",
       "4    91.709126    94.181508   41.701348\n",
       "..         ...          ...         ...\n",
       "95  947.173537  1889.393260  387.000250\n",
       "96  967.133246  1923.261532  398.174669\n",
       "97  930.031837  1926.344688  401.166170\n",
       "98  955.711809  1931.390721  402.614802\n",
       "99  962.189995  1948.780521  409.535771\n",
       "\n",
       "[100 rows x 3 columns]"
      ]
     },
     "execution_count": 5,
     "metadata": {},
     "output_type": "execute_result"
    }
   ],
   "source": [
    "from numpy.random import normal\n",
    "import pandas as pd\n",
    "import matplotlib\n",
    "from matplotlib import pyplot as plt\n",
    "\n",
    "matplotlib.rcParams[\"font.size\"] = 16\n",
    "\n",
    "df = pd.DataFrame({\n",
    "    \"X\": normal(10, 20, 100),\n",
    "    \"Y\": normal(15, 20, 100),\n",
    "    \"Z\": normal(5, 5, 100),\n",
    "}, index=range(0,100)).cumsum()\n",
    "\n",
    "df"
   ]
  },
  {
   "cell_type": "code",
   "execution_count": 33,
   "metadata": {},
   "outputs": [
    {
     "data": {
      "text/plain": [
       "<matplotlib.axes._subplots.AxesSubplot at 0x7f64ac27cb70>"
      ]
     },
     "execution_count": 33,
     "metadata": {},
     "output_type": "execute_result"
    },
    {
     "data": {
      "image/png": "[encoded data removed]",
      "text/plain": [
       "<Figure size 432x288 with 1 Axes>"
      ]
     },
     "metadata": {
      "needs_background": "light"
     },
     "output_type": "display_data"
    }
   ],
   "source": [
    "def labeled_lines(df, xlabel=\"label me\", ylabel=\"label me\"):\n",
    "    ax = df.plot.line(legend=False)\n",
    "    ax.set_xlabel(xlabel)\n",
    "    ax.set_ylabel(ylabel)\n",
    "\n",
    "    ax.spines[\"right\"].set_visible(False)\n",
    "    ax.spines[\"top\"].set_visible(False)\n",
    "    \n",
    "    patch = plt.Line2D([20, 20], ax.get_ylim(), color='r', linestyle='--')\n",
    "    ax.add_artist(patch)\n",
    "    \n",
    "    patch = plt.Rectangle([60,ax.get_ylim()[0]], 20, ax.get_ylim()[1], color='k', zorder=-5, alpha=0.2, transform=ax.transData)\n",
    "    ax.add_artist(patch)\n",
    "    \n",
    "    patch = plt.Rectangle([0,0], 0.5, 1, color='b', zorder=-5, alpha=0.2, transform=ax.transAxes)\n",
    "    ax.add_artist(patch)\n",
    "    \n",
    "    last_x = df.index[-1]\n",
    "    for i in range(len(df.columns)):\n",
    "        last_y = df.iloc[-1, i]\n",
    "        line_name = df.columns[i]\n",
    "        ax.text(last_x, last_y, line_name, va=\"center\", ha=\"left\")\n",
    "    return ax\n",
    "\n",
    "labeled_lines(df,'Time', 'Quantity')"
   ]
  },
  {
   "cell_type": "code",
   "execution_count": 7,
   "metadata": {},
   "outputs": [
    {
     "data": {
      "text/plain": [
       "<matplotlib.axes._subplots.AxesSubplot at 0x7f64aca2c9b0>"
      ]
     },
     "execution_count": 7,
     "metadata": {},
     "output_type": "execute_result"
    },
    {
     "data": {
      "image/png": "[encoded data removed]",
      "text/plain": [
       "<Figure size 432x288 with 1 Axes>"
      ]
     },
     "metadata": {
      "needs_background": "light"
     },
     "output_type": "display_data"
    }
   ],
   "source": [
    "df.plot.line()"
   ]
  },
  {
   "cell_type": "code",
   "execution_count": 37,
   "metadata": {},
   "outputs": [
    {
     "ename": "NameError",
     "evalue": "name 'ax' is not defined",
     "output_type": "error",
     "traceback": [
      "\u001b[0;31m---------------------------------------------------------------------------\u001b[0m",
      "\u001b[0;31mNameError\u001b[0m                                 Traceback (most recent call last)",
      "\u001b[0;32m<ipython-input-37-0229dd04c589>\u001b[0m in \u001b[0;36m<module>\u001b[0;34m\u001b[0m\n\u001b[1;32m      6\u001b[0m \u001b[0mworld_df\u001b[0m\u001b[0;34m.\u001b[0m\u001b[0mloc\u001b[0m\u001b[0;34m[\u001b[0m\u001b[0mworld_df\u001b[0m\u001b[0;34m[\u001b[0m\u001b[0;34m\"pop_est\"\u001b[0m\u001b[0;34m]\u001b[0m \u001b[0;34m>\u001b[0m \u001b[0;36m2e8\u001b[0m\u001b[0;34m,\u001b[0m \u001b[0;34m\"color\"\u001b[0m\u001b[0;34m]\u001b[0m \u001b[0;34m=\u001b[0m \u001b[0;34m\"red\"\u001b[0m\u001b[0;34m\u001b[0m\u001b[0;34m\u001b[0m\u001b[0m\n\u001b[1;32m      7\u001b[0m \u001b[0mworld_df\u001b[0m\u001b[0;34m.\u001b[0m\u001b[0mplot\u001b[0m\u001b[0;34m(\u001b[0m\u001b[0mcolor\u001b[0m\u001b[0;34m=\u001b[0m\u001b[0mworld_df\u001b[0m\u001b[0;34m[\u001b[0m\u001b[0;34m\"color\"\u001b[0m\u001b[0;34m]\u001b[0m\u001b[0;34m)\u001b[0m\u001b[0;34m\u001b[0m\u001b[0;34m\u001b[0m\u001b[0m\n\u001b[0;32m----> 8\u001b[0;31m \u001b[0max\u001b[0m\u001b[0;34m.\u001b[0m\u001b[0mset_axis_off\u001b[0m\u001b[0;34m(\u001b[0m\u001b[0;34m)\u001b[0m\u001b[0;34m\u001b[0m\u001b[0;34m\u001b[0m\u001b[0m\n\u001b[0m",
      "\u001b[0;31mNameError\u001b[0m: name 'ax' is not defined"
     ]
    },
    {
     "data": {
      "image/png": "[encoded data removed]",
      "text/plain": [
       "<Figure size 432x288 with 1 Axes>"
      ]
     },
     "metadata": {
      "needs_background": "light"
     },
     "output_type": "display_data"
    }
   ],
   "source": [
    "import geopandas\n",
    "import os\n",
    "world_df = geopandas.read_file(geopandas.datasets.get_path(\"naturalearth_lowres\"))\n",
    "world_df = world_df[world_df[\"continent\"] != \"Oceania\"]\n",
    "world_df[\"color\"] = \"0.7\"\n",
    "world_df.loc[world_df[\"pop_est\"] > 2e8, \"color\"] = \"red\"\n",
    "world_df.plot(color=world_df[\"color\"])\n",
    "ax.set_axis_off()"
   ]
  },
  {
   "cell_type": "code",
   "execution_count": 46,
   "metadata": {},
   "outputs": [
    {
     "data": {
      "text/plain": [
       "'/home/hp/.local/lib/python3.6/site-packages/geopandas/datasets/naturalearth_cities/naturalearth_cities.shp'"
      ]
     },
     "execution_count": 46,
     "metadata": {},
     "output_type": "execute_result"
    }
   ],
   "source": [
    "world_path =geopandas.datasets.get_path(\"naturalearth_lowres\")\n",
    "cities_path =geopandas.datasets.get_path(\"naturalearth_cities\")\n",
    "cities_path"
   ]
  },
  {
   "cell_type": "code",
   "execution_count": 41,
   "metadata": {},
   "outputs": [
    {
     "data": {
      "text/plain": [
       "['__init__.py',\n",
       " '__pycache__',\n",
       " 'naturalearth_lowres',\n",
       " 'naturalearth_creation.py',\n",
       " 'nybb_16a.zip',\n",
       " 'naturalearth_cities']"
      ]
     },
     "execution_count": 41,
     "metadata": {},
     "output_type": "execute_result"
    }
   ],
   "source": [
    "os.listdir('/home/hp/.local/lib/python3.6/site-packages/geopandas/datasets')"
   ]
  },
  {
   "cell_type": "code",
   "execution_count": 47,
   "metadata": {},
   "outputs": [],
   "source": [
    "world_df = geopandas.read_file(world_path)\n",
    "cities_df = geopandas.read_file(cities_path)"
   ]
  },
  {
   "cell_type": "code",
   "execution_count": 48,
   "metadata": {},
   "outputs": [
    {
     "data": {
      "text/html": [
       "<div>\n",
       "<style scoped>\n",
       "    .dataframe tbody tr th:only-of-type {\n",
       "        vertical-align: middle;\n",
       "    }\n",
       "\n",
       "    .dataframe tbody tr th {\n",
       "        vertical-align: top;\n",
       "    }\n",
       "\n",
       "    .dataframe thead th {\n",
       "        text-align: right;\n",
       "    }\n",
       "</style>\n",
       "<table border=\"1\" class=\"dataframe\">\n",
       "  <thead>\n",
       "    <tr style=\"text-align: right;\">\n",
       "      <th></th>\n",
       "      <th>name</th>\n",
       "      <th>geometry</th>\n",
       "    </tr>\n",
       "  </thead>\n",
       "  <tbody>\n",
       "    <tr>\n",
       "      <th>0</th>\n",
       "      <td>Vatican City</td>\n",
       "      <td>POINT (12.45339 41.90328)</td>\n",
       "    </tr>\n",
       "    <tr>\n",
       "      <th>1</th>\n",
       "      <td>San Marino</td>\n",
       "      <td>POINT (12.44177 43.93610)</td>\n",
       "    </tr>\n",
       "    <tr>\n",
       "      <th>2</th>\n",
       "      <td>Vaduz</td>\n",
       "      <td>POINT (9.51667 47.13372)</td>\n",
       "    </tr>\n",
       "    <tr>\n",
       "      <th>3</th>\n",
       "      <td>Luxembourg</td>\n",
       "      <td>POINT (6.13000 49.61166)</td>\n",
       "    </tr>\n",
       "    <tr>\n",
       "      <th>4</th>\n",
       "      <td>Palikir</td>\n",
       "      <td>POINT (158.14997 6.91664)</td>\n",
       "    </tr>\n",
       "  </tbody>\n",
       "</table>\n",
       "</div>"
      ],
      "text/plain": [
       "           name                   geometry\n",
       "0  Vatican City  POINT (12.45339 41.90328)\n",
       "1    San Marino  POINT (12.44177 43.93610)\n",
       "2         Vaduz   POINT (9.51667 47.13372)\n",
       "3    Luxembourg   POINT (6.13000 49.61166)\n",
       "4       Palikir  POINT (158.14997 6.91664)"
      ]
     },
     "execution_count": 48,
     "metadata": {},
     "output_type": "execute_result"
    }
   ],
   "source": [
    "cities_df.head()"
   ]
  },
  {
   "cell_type": "code",
   "execution_count": 49,
   "metadata": {},
   "outputs": [
    {
     "data": {
      "text/html": [
       "<div>\n",
       "<style scoped>\n",
       "    .dataframe tbody tr th:only-of-type {\n",
       "        vertical-align: middle;\n",
       "    }\n",
       "\n",
       "    .dataframe tbody tr th {\n",
       "        vertical-align: top;\n",
       "    }\n",
       "\n",
       "    .dataframe thead th {\n",
       "        text-align: right;\n",
       "    }\n",
       "</style>\n",
       "<table border=\"1\" class=\"dataframe\">\n",
       "  <thead>\n",
       "    <tr style=\"text-align: right;\">\n",
       "      <th></th>\n",
       "      <th>pop_est</th>\n",
       "      <th>continent</th>\n",
       "      <th>name</th>\n",
       "      <th>iso_a3</th>\n",
       "      <th>gdp_md_est</th>\n",
       "      <th>geometry</th>\n",
       "    </tr>\n",
       "  </thead>\n",
       "  <tbody>\n",
       "    <tr>\n",
       "      <th>0</th>\n",
       "      <td>920938</td>\n",
       "      <td>Oceania</td>\n",
       "      <td>Fiji</td>\n",
       "      <td>FJI</td>\n",
       "      <td>8374.0</td>\n",
       "      <td>MULTIPOLYGON (((180.00000 -16.06713, 180.00000...</td>\n",
       "    </tr>\n",
       "    <tr>\n",
       "      <th>1</th>\n",
       "      <td>53950935</td>\n",
       "      <td>Africa</td>\n",
       "      <td>Tanzania</td>\n",
       "      <td>TZA</td>\n",
       "      <td>150600.0</td>\n",
       "      <td>POLYGON ((33.90371 -0.95000, 34.07262 -1.05982...</td>\n",
       "    </tr>\n",
       "    <tr>\n",
       "      <th>2</th>\n",
       "      <td>603253</td>\n",
       "      <td>Africa</td>\n",
       "      <td>W. Sahara</td>\n",
       "      <td>ESH</td>\n",
       "      <td>906.5</td>\n",
       "      <td>POLYGON ((-8.66559 27.65643, -8.66512 27.58948...</td>\n",
       "    </tr>\n",
       "    <tr>\n",
       "      <th>3</th>\n",
       "      <td>35623680</td>\n",
       "      <td>North America</td>\n",
       "      <td>Canada</td>\n",
       "      <td>CAN</td>\n",
       "      <td>1674000.0</td>\n",
       "      <td>MULTIPOLYGON (((-122.84000 49.00000, -122.9742...</td>\n",
       "    </tr>\n",
       "    <tr>\n",
       "      <th>4</th>\n",
       "      <td>326625791</td>\n",
       "      <td>North America</td>\n",
       "      <td>United States of America</td>\n",
       "      <td>USA</td>\n",
       "      <td>18560000.0</td>\n",
       "      <td>MULTIPOLYGON (((-122.84000 49.00000, -120.0000...</td>\n",
       "    </tr>\n",
       "  </tbody>\n",
       "</table>\n",
       "</div>"
      ],
      "text/plain": [
       "     pop_est      continent                      name iso_a3  gdp_md_est  \\\n",
       "0     920938        Oceania                      Fiji    FJI      8374.0   \n",
       "1   53950935         Africa                  Tanzania    TZA    150600.0   \n",
       "2     603253         Africa                 W. Sahara    ESH       906.5   \n",
       "3   35623680  North America                    Canada    CAN   1674000.0   \n",
       "4  326625791  North America  United States of America    USA  18560000.0   \n",
       "\n",
       "                                            geometry  \n",
       "0  MULTIPOLYGON (((180.00000 -16.06713, 180.00000...  \n",
       "1  POLYGON ((33.90371 -0.95000, 34.07262 -1.05982...  \n",
       "2  POLYGON ((-8.66559 27.65643, -8.66512 27.58948...  \n",
       "3  MULTIPOLYGON (((-122.84000 49.00000, -122.9742...  \n",
       "4  MULTIPOLYGON (((-122.84000 49.00000, -120.0000...  "
      ]
     },
     "execution_count": 49,
     "metadata": {},
     "output_type": "execute_result"
    }
   ],
   "source": [
    "world_df.head()"
   ]
  },
  {
   "cell_type": "code",
   "execution_count": 50,
   "metadata": {},
   "outputs": [
    {
     "data": {
      "text/plain": [
       "(geopandas.geodataframe.GeoDataFrame,\n",
       " geopandas.base.GeoPandasBase,\n",
       " pandas.core.frame.DataFrame,\n",
       " pandas.core.generic.NDFrame,\n",
       " pandas.core.base.PandasObject,\n",
       " pandas.core.accessor.DirNamesMixin,\n",
       " pandas.core.base.SelectionMixin,\n",
       " pandas.core.indexing.IndexingMixin,\n",
       " object)"
      ]
     },
     "execution_count": 50,
     "metadata": {},
     "output_type": "execute_result"
    }
   ],
   "source": [
    "type(world_df).__mro__"
   ]
  },
  {
   "cell_type": "code",
   "execution_count": 51,
   "metadata": {},
   "outputs": [
    {
     "data": {
      "text/plain": [
       "(geopandas.geoseries.GeoSeries,\n",
       " geopandas.base.GeoPandasBase,\n",
       " pandas.core.series.Series,\n",
       " pandas.core.base.IndexOpsMixin,\n",
       " pandas.core.generic.NDFrame,\n",
       " pandas.core.base.PandasObject,\n",
       " pandas.core.accessor.DirNamesMixin,\n",
       " pandas.core.base.SelectionMixin,\n",
       " pandas.core.indexing.IndexingMixin,\n",
       " object)"
      ]
     },
     "execution_count": 51,
     "metadata": {},
     "output_type": "execute_result"
    }
   ],
   "source": [
    "type(world_df['geometry']).__mro__"
   ]
  },
  {
   "cell_type": "code",
   "execution_count": 52,
   "metadata": {},
   "outputs": [
    {
     "data": {
      "text/plain": [
       "shapely.geometry.multipolygon.MultiPolygon"
      ]
     },
     "execution_count": 52,
     "metadata": {},
     "output_type": "execute_result"
    }
   ],
   "source": [
    "type(world_df['geometry'].iloc[0])"
   ]
  },
  {
   "cell_type": "code",
   "execution_count": 54,
   "metadata": {},
   "outputs": [
    {
     "data": {
      "image/svg+xml": [
       "<svg xmlns=\"http://www.w3.org/2000/svg\" xmlns:xlink=\"http://www.w3.org/1999/xlink\" width=\"113.21256665112256\" height=\"100.0\" viewBox=\"-175.98416862700688 14.72313197588435 113.21256665112256 60.82768962517304\" preserveAspectRatio=\"xMinYMin meet\"><g transform=\"matrix(1,0,0,-1,0,90.27395357694175)\"><g><path fill-rule=\"evenodd\" fill=\"#66cc99\" stroke=\"#555555\" stroke-width=\"2.0\" opacity=\"0.6\" d=\"M -122.84000000000003,49.000000000000114 L -120.0,49.000000000000114 L -117.03121,49.0 L -116.04818,49.0 L -113.0,49.0 L -110.05000000000001,49.0 L -107.05000000000001,49.0 L -104.04826000000003,48.99986000000007 L -100.65000000000003,49.000000000000114 L -97.2287200000048,49.0007 L -95.15906950917206,49.0 L -95.15609,49.38425000000001 L -94.81758000000002,49.38905 L -94.64,48.84 L -94.32914000000001,48.67074 L -93.63087000000002,48.609260000000006 L -92.61000000000001,48.44999999999993 L -91.64,48.14 L -90.83,48.27 L -89.60000000000002,48.010000000000105 L -89.27291744663665,48.01980825458281 L -88.37811418328671,48.302917588893706 L -87.43979262330028,47.94 L -86.46199083122826,47.553338019392 L -85.65236324740341,47.22021881773051 L -84.8760798815149,46.90008331968238 L -84.77923824739992,46.63710195574902 L -84.54374874544584,46.538684190449146 L -84.60490000000004,46.439599999999984 L -84.33670000000001,46.408770000000004 L -84.1421195136734,46.51222585711571 L -84.0918512641615,46.27541860613826 L -83.89076534700574,46.116926988299014 L -83.61613094759059,46.116926988299014 L -83.46955074739469,45.994686387712534 L -83.59285071484311,45.81689362241252 L -82.55092464875821,45.34751658790543 L -82.33776312543114,44.440000000000055 L -82.13764238150395,43.57108755143997 L -82.42999999999999,42.980000000000004 L -82.9,42.43 L -83.12,42.08 L -83.14199968131264,41.975681057292874 L -83.029810146807,41.83279572200598 L -82.69008928092023,41.675105088867326 L -82.4392777167916,41.675105088867326 L -81.27774654816716,42.209025987306816 L -80.24744767934794,42.36619985612255 L -78.93936214874375,42.86361135514798 L -78.92,42.964999999999996 L -79.01,43.27 L -79.17167355011186,43.46633942318426 L -78.72027991404235,43.62508942318493 L -77.7378850979577,43.62905558936328 L -76.82003414580558,43.628784288093755 L -76.50000000000001,44.01845889375865 L -76.375,44.09631 L -75.31821000000001,44.81645 L -74.86700000000002,45.000480000000096 L -73.34783,45.00738 L -71.50506,45.0082 L -71.405,45.254999999999995 L -71.08482000000004,45.30524000000014 L -70.66,45.46 L -70.305,45.915 L -69.99997,46.69307 L -69.237216,47.447781 L -68.90500000000003,47.18500000000006 L -68.23444,47.354859999999974 L -67.79046000000001,47.066359999999996 L -67.79134,45.70281000000001 L -67.13741,45.13753 L -66.96465999999998,44.809700000000134 L -68.03251999999998,44.325199999999995 L -69.05999999999995,43.980000000000075 L -70.11616999999995,43.68405000000013 L -70.64547563341102,43.09023834896402 L -70.81488999999999,42.865299999999934 L -70.82499999999999,42.33499999999998 L -70.49499999999995,41.80500000000001 L -70.07999999999998,41.78000000000003 L -70.185,42.145000000000095 L -69.88496999999995,41.92283000000009 L -69.96502999999996,41.63717000000014 L -70.63999999999999,41.47500000000002 L -71.12039000000004,41.49445000000014 L -71.8599999999999,41.32000000000005 L -72.29500000000002,41.26999999999998 L -72.87643000000003,41.220650000000035 L -73.71000000000004,40.93110235165449 L -72.24125999999995,41.119480000000124 L -71.94499999999988,40.930000000000064 L -73.34499999999997,40.63000000000005 L -73.98200000000003,40.62799999999993 L -73.95232499999997,40.75075000000004 L -74.25671,40.47351000000003 L -73.96243999999996,40.42763000000002 L -74.17838,39.70925999999997 L -74.90603999999996,38.93954000000002 L -74.98041,39.19640000000004 L -75.20002,39.248450000000105 L -75.52805000000001,39.49850000000009 L -75.32,38.960000000000036 L -75.07183476478986,38.782032230179254 L -75.05672999999996,38.40412000000009 L -75.37746999999996,38.015510000000006 L -75.94022999999999,37.21689000000009 L -76.03126999999995,37.25659999999999 L -75.72204999999985,37.93705000000011 L -76.23286999999999,38.319214999999986 L -76.35000000000002,39.14999999999998 L -76.54272499999996,38.71761500000008 L -76.32933000000003,38.08326000000005 L -76.98999793161352,38.23999176691336 L -76.30161999999996,37.91794499999992 L -76.25873999999999,36.96640000000008 L -75.97179999999997,36.89726000000002 L -75.8680399999999,36.55125000000004 L -75.72748999999999,35.55074000000013 L -76.36318,34.80854000000011 L -77.39763499999992,34.512009999999975 L -78.05496,33.92547000000002 L -78.55434999999989,33.86133000000012 L -79.06067000000002,33.493949999999984 L -79.20357000000001,33.158390000000054 L -80.30132499999996,32.509355000000085 L -80.86498,32.033300000000054 L -81.33629000000002,31.44049000000001 L -81.49041999999997,30.7299900000001 L -81.31371000000001,30.035520000000076 L -80.97999999999996,29.18000000000012 L -80.53558499999991,28.472129999999993 L -80.52999999999986,28.040000000000077 L -80.05653928497759,26.88000000000011 L -80.08801499999998,26.205764999999985 L -80.13155999999992,25.816775000000064 L -80.38103000000001,25.20616000000001 L -80.67999999999995,25.08000000000004 L -81.17212999999998,25.201260000000104 L -81.33000000000004,25.639999999999986 L -81.70999999999987,25.870000000000005 L -82.23999999999995,26.730000000000132 L -82.70515,27.495040000000074 L -82.85525999999999,27.886240000000043 L -82.64999999999998,28.550000000000125 L -82.92999999999995,29.10000000000008 L -83.70958999999999,29.936560000000043 L -84.09999999999997,30.09000000000009 L -85.10881999999998,29.636150000000043 L -85.28784000000002,29.68612000000013 L -85.7731,30.152610000000095 L -86.39999999999992,30.40000000000009 L -87.53035999999992,30.27433000000002 L -88.41781999999995,30.384900000000016 L -89.1804899999999,30.315980000000025 L -89.5938311784198,30.159994004836847 L -89.41373499999997,29.89418999999998 L -89.43,29.488639999999975 L -89.21767,29.291080000000022 L -89.40822999999995,29.159610000000043 L -89.77927999999997,29.307140000000118 L -90.15463,29.11743000000007 L -90.88022499999994,29.148535000000095 L -91.62678499999993,29.677000000000135 L -92.49905999999999,29.552300000000002 L -93.22636999999997,29.783750000000055 L -93.84841999999998,29.71363000000008 L -94.69,29.480000000000132 L -95.60025999999999,28.738630000000057 L -96.59403999999995,28.307480000000055 L -97.13999999999987,27.83000000000004 L -97.36999999999995,27.380000000000052 L -97.37999999999994,26.690000000000055 L -97.32999999999998,26.210000000000093 L -97.13999999999987,25.870000000000005 L -97.52999999999992,25.84000000000009 L -98.23999999999995,26.06000000000006 L -99.01999999999992,26.37000000000006 L -99.30000000000001,26.840000000000032 L -99.51999999999992,27.54000000000002 L -100.10999999999996,28.110000000000127 L -100.45584000000002,28.69612000000012 L -100.95759999999996,29.380710000000136 L -101.66239999999999,29.77930000000009 L -102.48000000000002,29.75999999999999 L -103.11000000000001,28.970000000000027 L -103.94,29.27000000000004 L -104.4569699999999,29.571960000000047 L -104.70574999999997,30.121730000000014 L -105.03737000000001,30.644019999999955 L -105.63159000000002,31.08383000000009 L -106.1429,31.399950000000047 L -106.50758999999988,31.754520000000014 L -108.24000000000001,31.754853718166373 L -108.24193999999994,31.342220000000054 L -109.03500000000003,31.341940000000136 L -111.02361000000002,31.334719999999948 L -113.30498,32.03914000000009 L -114.815,32.52528000000001 L -114.72138999999993,32.72082999999992 L -115.99134999999995,32.61239000000012 L -117.12775999999985,32.53533999999996 L -117.29593769127393,33.04622461520387 L -117.94400000000002,33.621236431201396 L -118.41060227589753,33.74090922312445 L -118.51989482279976,34.02778157757575 L -119.08100000000002,34.07799999999992 L -119.43884064201671,34.34847717828427 L -120.36777999999998,34.447110000000066 L -120.62286,34.60854999999998 L -120.74432999999999,35.15686000000011 L -121.71456999999992,36.161529999999914 L -122.54746999999998,37.551760000000115 L -122.51201000000003,37.78339000000011 L -122.95319,38.11371000000008 L -123.72720000000004,38.95166000000012 L -123.86516999999998,39.76699000000008 L -124.39807000000002,40.313199999999995 L -124.17885999999999,41.142020000000116 L -124.21370000000002,41.99964000000011 L -124.53283999999996,42.7659900000001 L -124.14213999999998,43.708380000000034 L -124.020535,44.615894999999966 L -123.89892999999995,45.52341000000007 L -124.079635,46.864750000000015 L -124.39566999999994,47.72017000000011 L -124.68721008300781,48.18443298339855 L -124.56610107421875,48.37971496582037 L -123.12,48.04000000000002 L -122.58735999999993,47.09600000000006 L -122.34000000000003,47.360000000000014 L -122.5,48.180000000000064 L -122.84000000000003,49.000000000000114 z\" /><path fill-rule=\"evenodd\" fill=\"#66cc99\" stroke=\"#555555\" stroke-width=\"2.0\" opacity=\"0.6\" d=\"M -155.40214,20.07975 L -155.22452,19.99302 L -155.06226,19.8591 L -154.80741,19.50871 L -154.83147,19.453280000000003 L -155.22217,19.23972 L -155.54211,19.08348 L -155.68817,18.91619 L -155.93665,19.05939 L -155.90806,19.33888 L -156.07347000000001,19.70294 L -156.02368,19.81422 L -155.85008000000002,19.97729 L -155.91907,20.17395 L -155.86108000000002,20.267210000000002 L -155.78505,20.2487 L -155.40214,20.07975 z\" /><path fill-rule=\"evenodd\" fill=\"#66cc99\" stroke=\"#555555\" stroke-width=\"2.0\" opacity=\"0.6\" d=\"M -155.99566000000002,20.76404 L -156.07926,20.643970000000003 L -156.41445,20.57241 L -156.58673,20.783 L -156.70167,20.8643 L -156.71054999999998,20.92676 L -156.61258,21.01249 L -156.25711,20.917450000000002 L -155.99566000000002,20.76404 z\" /><path fill-rule=\"evenodd\" fill=\"#66cc99\" stroke=\"#555555\" stroke-width=\"2.0\" opacity=\"0.6\" d=\"M -156.75824,21.176840000000002 L -156.78933,21.068730000000002 L -157.32521,21.097770000000004 L -157.25027,21.219579999999997 L -156.75824,21.176840000000002 z\" /><path fill-rule=\"evenodd\" fill=\"#66cc99\" stroke=\"#555555\" stroke-width=\"2.0\" opacity=\"0.6\" d=\"M -158.0252,21.71696 L -157.94161,21.65272 L -157.65283000000002,21.322170000000003 L -157.70703,21.26442 L -157.7786,21.27729 L -158.12667000000002,21.31244 L -158.2538,21.53919 L -158.29265,21.57912 L -158.0252,21.71696 z\" /><path fill-rule=\"evenodd\" fill=\"#66cc99\" stroke=\"#555555\" stroke-width=\"2.0\" opacity=\"0.6\" d=\"M -159.36569,22.21494 L -159.34512,21.982000000000003 L -159.46372,21.88299 L -159.80051,22.065330000000003 L -159.74877,22.1382 L -159.5962,22.236179999999997 L -159.36569,22.21494 z\" /><path fill-rule=\"evenodd\" fill=\"#66cc99\" stroke=\"#555555\" stroke-width=\"2.0\" opacity=\"0.6\" d=\"M -166.46779212142462,60.384169826897754 L -165.67442969466364,60.29360687930625 L -165.57916419173358,59.90998688418753 L -166.19277014876727,59.75444082298899 L -166.84833736882197,59.941406155020985 L -167.45527706609008,60.21306915957936 L -166.46779212142462,60.384169826897754 z\" /><path fill-rule=\"evenodd\" fill=\"#66cc99\" stroke=\"#555555\" stroke-width=\"2.0\" opacity=\"0.6\" d=\"M -153.22872941792113,57.96896841087248 L -152.56479061583514,57.901427313866996 L -152.1411472239064,57.591058661522 L -153.00631405333692,57.11584219016593 L -154.0050902984581,56.734676825581076 L -154.51640275777004,56.99274892844669 L -154.67099280497118,57.46119578717253 L -153.7627795074415,57.81657461204373 L -153.22872941792113,57.96896841087248 z\" /><path fill-rule=\"evenodd\" fill=\"#66cc99\" stroke=\"#555555\" stroke-width=\"2.0\" opacity=\"0.6\" d=\"M -140.98598761037601,69.71199839952635 L -140.986,69.712 L -140.9925,66.00003000000001 L -140.99778,60.30639000000001 L -140.013,60.27682000000001 L -139.03900000000002,60.0 L -138.34089,59.562110000000004 L -137.4525,58.905 L -136.47972000000004,59.46389000000005 L -135.47583,59.787780000000005 L -134.94500000000005,59.2705600000001 L -134.27111000000002,58.86111000000005 L -133.35556000000003,58.41028000000001 L -132.73042,57.692890000000006 L -131.70781,56.55212 L -130.00778000000003,55.915830000000085 L -129.98,55.285000000000004 L -130.53611,54.802780000000006 L -130.53610895273684,54.80275447679924 L -130.5361101894673,54.8027534043494 L -131.08581823797215,55.17890615500204 L -131.9672114671423,55.497775580459006 L -132.2500107428595,56.3699962428974 L -133.53918108435641,57.17888743756214 L -134.07806292029608,58.12306753196691 L -135.0382110322791,58.18771474876394 L -136.62806230995471,58.21220937767043 L -137.800006279686,58.49999542910376 L -139.867787041413,59.53776154238915 L -140.825273817133,59.727517401765056 L -142.57444353556446,60.08444651960497 L -143.9588809948799,59.999180406323376 L -145.92555681682788,60.45860972761426 L -147.11437394914665,60.884656073644635 L -148.22430620012761,60.67298940697714 L -148.01806555885082,59.97832896589364 L -148.57082251686086,59.914172675203304 L -149.72785783587585,59.70565827090553 L -150.60824337461642,59.368211168039466 L -151.7163927886833,59.15582103131993 L -151.85943315326722,59.744984035879554 L -151.40971900124717,60.72580272077937 L -150.3469414947325,61.03358755150987 L -150.62111080625704,61.2844249538544 L -151.89583919981683,60.727197984451266 L -152.57832984109558,60.061657212964235 L -154.01917212625764,59.35027944603428 L -153.28751135965317,58.86472768821977 L -154.23249243875847,58.14637360293051 L -155.3074914215102,57.727794501366304 L -156.30833472392305,57.422774359763594 L -156.55609737854638,56.97998484967064 L -158.11721655986779,56.46360809999419 L -158.43332129619714,55.99415355083852 L -159.60332739971741,55.56668610292013 L -160.28971961163427,55.643580634170576 L -161.22304765525777,55.364734605523495 L -162.23776607974105,55.02418691672011 L -163.06944658104638,54.68973704692712 L -164.78556922102717,54.40417308208214 L -164.94222632552007,54.57222483989534 L -163.84833960676565,55.03943146424609 L -162.87000139061595,55.34804311789321 L -161.80417497459607,55.89498647727038 L -160.5636047027812,56.00805451112501 L -160.07055986228448,56.41805532492873 L -158.6844429189195,57.01667511659787 L -158.46109737855403,57.21692129172885 L -157.72277035218391,57.57000051536306 L -157.55027442119362,58.328326321030204 L -157.04167497457698,58.91888458926172 L -158.19473120830554,58.61580231386978 L -158.51721798402303,58.78778148053732 L -159.0586061269288,58.42418610293163 L -159.71166704001737,58.93139028587632 L -159.98128882550017,58.572549140041644 L -160.3552711659965,59.07112335879361 L -161.3550034251151,58.670837714260756 L -161.96889360252632,58.67166453717738 L -162.05498653872465,59.26692536074745 L -161.8741707021354,59.63362132429057 L -162.51805904849212,59.98972361921386 L -163.8183414378202,59.79805573184336 L -164.66221757714652,60.26748444278263 L -165.3463877024748,60.50749563256238 L -165.3508318756519,61.073895168697504 L -166.12137915755602,61.50001902937623 L -165.73445187077058,62.074996853271784 L -164.9191786367179,62.63307648380794 L -164.56250790103934,63.14637848576302 L -163.75333248599708,63.21944896102377 L -163.06722449445786,63.05945872664802 L -162.26055538638175,63.54193573674115 L -161.53444983624863,63.455816962326764 L -160.7725066803211,63.766108100023246 L -160.9583351308426,64.22279857040274 L -161.51806840721218,64.40278758407527 L -160.77777767641481,64.78860382756642 L -161.39192623598765,64.77723501246231 L -162.4530500966689,64.55944468856819 L -162.75778601789415,64.33860545516876 L -163.54639421288428,64.5591604681905 L -164.96082984114514,64.44694509546883 L -166.42528825586447,64.68667206487066 L -166.8450042389391,65.08889557561452 L -168.11056006576715,65.66999705673675 L -166.70527116602193,66.08831777613938 L -164.47470964257548,66.5766600612975 L -163.65251176659564,66.5766600612975 L -163.78860165103623,66.07720734319668 L -161.67777442121013,66.11611969671242 L -162.48971452538004,66.73556509059512 L -163.71971696679117,67.11639455837008 L -164.4309913808565,67.61633820257777 L -165.39028683170673,68.04277212185025 L -166.76444068099605,68.35887685817966 L -166.20470740462667,68.88303091091615 L -164.43081051334346,68.91553538682774 L -163.1686136546145,69.37111481391287 L -162.930566169262,69.85806183539927 L -161.90889726463556,70.33332998318764 L -160.93479651593367,70.44768992784958 L -159.03917578838713,70.89164215766891 L -158.11972286683394,70.82472117785102 L -156.58082455139808,71.35776357694175 L -155.06779029032427,71.14777639432367 L -154.3441652089412,70.69640859647018 L -153.9000062733926,70.88998851183567 L -152.21000606993528,70.82999217394485 L -152.27000240782613,70.60000621202983 L -150.73999243874448,70.43001658800569 L -149.7200030181675,70.53001048449045 L -147.61336157935705,70.2140349392418 L -145.68998980022533,70.12000967068673 L -144.9200109590764,69.98999176704046 L -143.58944618042523,70.15251414659832 L -142.07251034871348,69.85193817817265 L -140.98598752156073,69.71199839952635 L -140.98598761037601,69.71199839952635 z\" /><path fill-rule=\"evenodd\" fill=\"#66cc99\" stroke=\"#555555\" stroke-width=\"2.0\" opacity=\"0.6\" d=\"M -171.73165686753944,63.782515367275934 L -171.1144335602453,63.59219106714495 L -170.4911124339407,63.694975490973505 L -169.6825054596536,63.43111562769119 L -168.6894394603007,63.297506212000556 L -168.77194088445466,63.18859813094544 L -169.5294398672051,62.97693146427792 L -170.29055620021595,63.194437567794424 L -170.67138566799093,63.3758218451389 L -171.55306311753873,63.317789211675105 L -171.79111060289122,63.40584585230046 L -171.73165686753944,63.782515367275934 z\" /></g></g></svg>"
      ],
      "text/plain": [
       "<shapely.geometry.multipolygon.MultiPolygon at 0x7f64a4db70b8>"
      ]
     },
     "execution_count": 54,
     "metadata": {},
     "output_type": "execute_result"
    }
   ],
   "source": [
    "world_df['geometry'].iloc[4]"
   ]
  },
  {
   "cell_type": "code",
   "execution_count": 56,
   "metadata": {},
   "outputs": [],
   "source": [
    "from shapely.geometry import Polygon"
   ]
  },
  {
   "cell_type": "code",
   "execution_count": 59,
   "metadata": {},
   "outputs": [
    {
     "data": {
      "image/svg+xml": [
       "<svg xmlns=\"http://www.w3.org/2000/svg\" xmlns:xlink=\"http://www.w3.org/1999/xlink\" width=\"100.0\" height=\"100.0\" viewBox=\"-0.08 -1.08 2.16 2.16\" preserveAspectRatio=\"xMinYMin meet\"><g transform=\"matrix(1,0,0,-1,0,0.0)\"><path fill-rule=\"evenodd\" fill=\"#66cc99\" stroke=\"#555555\" stroke-width=\"0.0432\" opacity=\"0.6\" d=\"M 0.0,0.0 L 1.0,1.0 L 2.0,0.0 L 1.0,-1.0 L 0.0,0.0 z\" /></g></svg>"
      ],
      "text/plain": [
       "<shapely.geometry.polygon.Polygon at 0x7f64a4e695f8>"
      ]
     },
     "execution_count": 59,
     "metadata": {},
     "output_type": "execute_result"
    }
   ],
   "source": [
    "p = Polygon([[0,0], [1,1], [2,0], [1, -1]])\n",
    "p"
   ]
  },
  {
   "cell_type": "code",
   "execution_count": 60,
   "metadata": {},
   "outputs": [
    {
     "data": {
      "text/plain": [
       "<matplotlib.axes._subplots.AxesSubplot at 0x7f64a4e21b38>"
      ]
     },
     "execution_count": 60,
     "metadata": {},
     "output_type": "execute_result"
    },
    {
     "data": {
      "image/png": "[encoded data removed]",
      "text/plain": [
       "<Figure size 432x288 with 1 Axes>"
      ]
     },
     "metadata": {
      "needs_background": "light"
     },
     "output_type": "display_data"
    }
   ],
   "source": [
    "world_df['geometry'].plot()"
   ]
  },
  {
   "cell_type": "code",
   "execution_count": 61,
   "metadata": {},
   "outputs": [
    {
     "data": {
      "text/plain": [
       "0      POINT (163.85316 -17.31631)\n",
       "1        POINT (34.75299 -6.25773)\n",
       "2       POINT (-12.13783 24.29117)\n",
       "3       POINT (-98.14238 61.46908)\n",
       "4      POINT (-112.59944 45.70563)\n",
       "                  ...             \n",
       "172      POINT (20.81965 44.23304)\n",
       "173      POINT (19.28618 42.78904)\n",
       "174      POINT (20.89536 42.57937)\n",
       "175     POINT (-61.33037 10.42824)\n",
       "176       POINT (30.19862 7.29289)\n",
       "Length: 177, dtype: geometry"
      ]
     },
     "execution_count": 61,
     "metadata": {},
     "output_type": "execute_result"
    }
   ],
   "source": [
    "world_df['geometry'].centroid"
   ]
  },
  {
   "cell_type": "code",
   "execution_count": 63,
   "metadata": {},
   "outputs": [
    {
     "data": {
      "text/html": [
       "<div>\n",
       "<style scoped>\n",
       "    .dataframe tbody tr th:only-of-type {\n",
       "        vertical-align: middle;\n",
       "    }\n",
       "\n",
       "    .dataframe tbody tr th {\n",
       "        vertical-align: top;\n",
       "    }\n",
       "\n",
       "    .dataframe thead th {\n",
       "        text-align: right;\n",
       "    }\n",
       "</style>\n",
       "<table border=\"1\" class=\"dataframe\">\n",
       "  <thead>\n",
       "    <tr style=\"text-align: right;\">\n",
       "      <th></th>\n",
       "      <th>pop_est</th>\n",
       "      <th>continent</th>\n",
       "      <th>name</th>\n",
       "      <th>iso_a3</th>\n",
       "      <th>gdp_md_est</th>\n",
       "      <th>geometry</th>\n",
       "      <th>centers</th>\n",
       "    </tr>\n",
       "  </thead>\n",
       "  <tbody>\n",
       "    <tr>\n",
       "      <th>0</th>\n",
       "      <td>920938</td>\n",
       "      <td>Oceania</td>\n",
       "      <td>Fiji</td>\n",
       "      <td>FJI</td>\n",
       "      <td>8374.0</td>\n",
       "      <td>MULTIPOLYGON (((180.00000 -16.06713, 180.00000...</td>\n",
       "      <td>POINT (163.85316 -17.31631)</td>\n",
       "    </tr>\n",
       "    <tr>\n",
       "      <th>1</th>\n",
       "      <td>53950935</td>\n",
       "      <td>Africa</td>\n",
       "      <td>Tanzania</td>\n",
       "      <td>TZA</td>\n",
       "      <td>150600.0</td>\n",
       "      <td>POLYGON ((33.90371 -0.95000, 34.07262 -1.05982...</td>\n",
       "      <td>POINT (34.75299 -6.25773)</td>\n",
       "    </tr>\n",
       "  </tbody>\n",
       "</table>\n",
       "</div>"
      ],
      "text/plain": [
       "    pop_est continent      name iso_a3  gdp_md_est  \\\n",
       "0    920938   Oceania      Fiji    FJI      8374.0   \n",
       "1  53950935    Africa  Tanzania    TZA    150600.0   \n",
       "\n",
       "                                            geometry  \\\n",
       "0  MULTIPOLYGON (((180.00000 -16.06713, 180.00000...   \n",
       "1  POLYGON ((33.90371 -0.95000, 34.07262 -1.05982...   \n",
       "\n",
       "                       centers  \n",
       "0  POINT (163.85316 -17.31631)  \n",
       "1    POINT (34.75299 -6.25773)  "
      ]
     },
     "execution_count": 63,
     "metadata": {},
     "output_type": "execute_result"
    }
   ],
   "source": [
    "world_df['centers'] = world_df['geometry'].centroid\n",
    "world_df.head(2)"
   ]
  },
  {
   "cell_type": "code",
   "execution_count": 72,
   "metadata": {},
   "outputs": [
    {
     "data": {
      "text/plain": [
       "<matplotlib.axes._subplots.AxesSubplot at 0x7f64a4b1fe10>"
      ]
     },
     "execution_count": 72,
     "metadata": {},
     "output_type": "execute_result"
    },
    {
     "data": {
      "image/png": "[encoded data removed]",
      "text/plain": [
       "<Figure size 432x288 with 1 Axes>"
      ]
     },
     "metadata": {
      "needs_background": "light"
     },
     "output_type": "display_data"
    }
   ],
   "source": [
    "world_df = world_df.set_geometry('geometry')\n",
    "ax = world_df.plot(color = '0.7')\n",
    "world_df['geometry'].centroid.plot(ax = ax, color='k', markersize = 3)"
   ]
  },
  {
   "cell_type": "code",
   "execution_count": 81,
   "metadata": {},
   "outputs": [
    {
     "data": {
      "text/plain": [
       "<matplotlib.axes._subplots.AxesSubplot at 0x7f64a47f8ef0>"
      ]
     },
     "execution_count": 81,
     "metadata": {},
     "output_type": "execute_result"
    },
    {
     "data": {
      "image/png": "[encoded data removed]",
      "text/plain": [
       "<Figure size 432x288 with 2 Axes>"
      ]
     },
     "metadata": {
      "needs_background": "light"
     },
     "output_type": "display_data"
    }
   ],
   "source": [
    "sa = world_df[world_df['continent']=='South America']\n",
    "ax = sa.plot(column='pop_est', legend=True)\n",
    "sa_cities = geopandas.sjoin(cities_df, sa)\n",
    "sa_cities.plot(ax =ax, color='r', markersize=5)"
   ]
  },
  {
   "cell_type": "code",
   "execution_count": 79,
   "metadata": {},
   "outputs": [
    {
     "data": {
      "text/html": [
       "<div>\n",
       "<style scoped>\n",
       "    .dataframe tbody tr th:only-of-type {\n",
       "        vertical-align: middle;\n",
       "    }\n",
       "\n",
       "    .dataframe tbody tr th {\n",
       "        vertical-align: top;\n",
       "    }\n",
       "\n",
       "    .dataframe thead th {\n",
       "        text-align: right;\n",
       "    }\n",
       "</style>\n",
       "<table border=\"1\" class=\"dataframe\">\n",
       "  <thead>\n",
       "    <tr style=\"text-align: right;\">\n",
       "      <th></th>\n",
       "      <th>name_left</th>\n",
       "      <th>geometry</th>\n",
       "      <th>index_right</th>\n",
       "      <th>pop_est</th>\n",
       "      <th>continent</th>\n",
       "      <th>name_right</th>\n",
       "      <th>iso_a3</th>\n",
       "      <th>gdp_md_est</th>\n",
       "      <th>centers</th>\n",
       "    </tr>\n",
       "  </thead>\n",
       "  <tbody>\n",
       "    <tr>\n",
       "      <th>45</th>\n",
       "      <td>Georgetown</td>\n",
       "      <td>POINT (-58.16703 6.80197)</td>\n",
       "      <td>41</td>\n",
       "      <td>737718</td>\n",
       "      <td>South America</td>\n",
       "      <td>Guyana</td>\n",
       "      <td>GUY</td>\n",
       "      <td>6093.0</td>\n",
       "      <td>POINT (-58.97120 4.79023)</td>\n",
       "    </tr>\n",
       "    <tr>\n",
       "      <th>49</th>\n",
       "      <td>Paramaribo</td>\n",
       "      <td>POINT (-55.16703 5.83503)</td>\n",
       "      <td>42</td>\n",
       "      <td>591919</td>\n",
       "      <td>South America</td>\n",
       "      <td>Suriname</td>\n",
       "      <td>SUR</td>\n",
       "      <td>8547.0</td>\n",
       "      <td>POINT (-55.91146 4.12001)</td>\n",
       "    </tr>\n",
       "    <tr>\n",
       "      <th>52</th>\n",
       "      <td>Asuncion</td>\n",
       "      <td>POINT (-57.64345 -25.29446)</td>\n",
       "      <td>156</td>\n",
       "      <td>6943739</td>\n",
       "      <td>South America</td>\n",
       "      <td>Paraguay</td>\n",
       "      <td>PRY</td>\n",
       "      <td>64670.0</td>\n",
       "      <td>POINT (-58.38739 -23.24804)</td>\n",
       "    </tr>\n",
       "    <tr>\n",
       "      <th>79</th>\n",
       "      <td>Quito</td>\n",
       "      <td>POINT (-78.50200 -0.21304)</td>\n",
       "      <td>44</td>\n",
       "      <td>16290913</td>\n",
       "      <td>South America</td>\n",
       "      <td>Ecuador</td>\n",
       "      <td>ECU</td>\n",
       "      <td>182400.0</td>\n",
       "      <td>POINT (-78.38417 -1.45477)</td>\n",
       "    </tr>\n",
       "    <tr>\n",
       "      <th>104</th>\n",
       "      <td>Sucre</td>\n",
       "      <td>POINT (-65.25952 -19.04097)</td>\n",
       "      <td>30</td>\n",
       "      <td>11138234</td>\n",
       "      <td>South America</td>\n",
       "      <td>Bolivia</td>\n",
       "      <td>BOL</td>\n",
       "      <td>78350.0</td>\n",
       "      <td>POINT (-64.64141 -16.72899)</td>\n",
       "    </tr>\n",
       "    <tr>\n",
       "      <th>112</th>\n",
       "      <td>La Paz</td>\n",
       "      <td>POINT (-68.15193 -16.49603)</td>\n",
       "      <td>30</td>\n",
       "      <td>11138234</td>\n",
       "      <td>South America</td>\n",
       "      <td>Bolivia</td>\n",
       "      <td>BOL</td>\n",
       "      <td>78350.0</td>\n",
       "      <td>POINT (-64.64141 -16.72899)</td>\n",
       "    </tr>\n",
       "    <tr>\n",
       "      <th>157</th>\n",
       "      <td>Brasilia</td>\n",
       "      <td>POINT (-47.91800 -15.78139)</td>\n",
       "      <td>29</td>\n",
       "      <td>207353391</td>\n",
       "      <td>South America</td>\n",
       "      <td>Brazil</td>\n",
       "      <td>BRA</td>\n",
       "      <td>3081000.0</td>\n",
       "      <td>POINT (-53.05434 -10.80677)</td>\n",
       "    </tr>\n",
       "    <tr>\n",
       "      <th>163</th>\n",
       "      <td>Caracas</td>\n",
       "      <td>POINT (-66.91898 10.50294)</td>\n",
       "      <td>40</td>\n",
       "      <td>31304016</td>\n",
       "      <td>South America</td>\n",
       "      <td>Venezuela</td>\n",
       "      <td>VEN</td>\n",
       "      <td>468600.0</td>\n",
       "      <td>POINT (-66.16383 7.16213)</td>\n",
       "    </tr>\n",
       "    <tr>\n",
       "      <th>169</th>\n",
       "      <td>Lima</td>\n",
       "      <td>POINT (-77.05201 -12.04607)</td>\n",
       "      <td>31</td>\n",
       "      <td>31036656</td>\n",
       "      <td>South America</td>\n",
       "      <td>Peru</td>\n",
       "      <td>PER</td>\n",
       "      <td>410400.0</td>\n",
       "      <td>POINT (-74.39181 -9.19156)</td>\n",
       "    </tr>\n",
       "    <tr>\n",
       "      <th>182</th>\n",
       "      <td>Buenos Aires</td>\n",
       "      <td>POINT (-58.39948 -34.60056)</td>\n",
       "      <td>9</td>\n",
       "      <td>44293293</td>\n",
       "      <td>South America</td>\n",
       "      <td>Argentina</td>\n",
       "      <td>ARG</td>\n",
       "      <td>879400.0</td>\n",
       "      <td>POINT (-65.17536 -35.44682)</td>\n",
       "    </tr>\n",
       "    <tr>\n",
       "      <th>196</th>\n",
       "      <td>Bogota</td>\n",
       "      <td>POINT (-74.08529 4.59837)</td>\n",
       "      <td>32</td>\n",
       "      <td>47698524</td>\n",
       "      <td>South America</td>\n",
       "      <td>Colombia</td>\n",
       "      <td>COL</td>\n",
       "      <td>688000.0</td>\n",
       "      <td>POINT (-73.07773 3.92721)</td>\n",
       "    </tr>\n",
       "    <tr>\n",
       "      <th>200</th>\n",
       "      <td>Santiago</td>\n",
       "      <td>POINT (-70.66899 -33.44807)</td>\n",
       "      <td>10</td>\n",
       "      <td>17789267</td>\n",
       "      <td>South America</td>\n",
       "      <td>Chile</td>\n",
       "      <td>CHL</td>\n",
       "      <td>436100.0</td>\n",
       "      <td>POINT (-71.52064 -39.04701)</td>\n",
       "    </tr>\n",
       "  </tbody>\n",
       "</table>\n",
       "</div>"
      ],
      "text/plain": [
       "        name_left                     geometry  index_right    pop_est  \\\n",
       "45     Georgetown    POINT (-58.16703 6.80197)           41     737718   \n",
       "49     Paramaribo    POINT (-55.16703 5.83503)           42     591919   \n",
       "52       Asuncion  POINT (-57.64345 -25.29446)          156    6943739   \n",
       "79          Quito   POINT (-78.50200 -0.21304)           44   16290913   \n",
       "104         Sucre  POINT (-65.25952 -19.04097)           30   11138234   \n",
       "112        La Paz  POINT (-68.15193 -16.49603)           30   11138234   \n",
       "157      Brasilia  POINT (-47.91800 -15.78139)           29  207353391   \n",
       "163       Caracas   POINT (-66.91898 10.50294)           40   31304016   \n",
       "169          Lima  POINT (-77.05201 -12.04607)           31   31036656   \n",
       "182  Buenos Aires  POINT (-58.39948 -34.60056)            9   44293293   \n",
       "196        Bogota    POINT (-74.08529 4.59837)           32   47698524   \n",
       "200      Santiago  POINT (-70.66899 -33.44807)           10   17789267   \n",
       "\n",
       "         continent name_right iso_a3  gdp_md_est                      centers  \n",
       "45   South America     Guyana    GUY      6093.0    POINT (-58.97120 4.79023)  \n",
       "49   South America   Suriname    SUR      8547.0    POINT (-55.91146 4.12001)  \n",
       "52   South America   Paraguay    PRY     64670.0  POINT (-58.38739 -23.24804)  \n",
       "79   South America    Ecuador    ECU    182400.0   POINT (-78.38417 -1.45477)  \n",
       "104  South America    Bolivia    BOL     78350.0  POINT (-64.64141 -16.72899)  \n",
       "112  South America    Bolivia    BOL     78350.0  POINT (-64.64141 -16.72899)  \n",
       "157  South America     Brazil    BRA   3081000.0  POINT (-53.05434 -10.80677)  \n",
       "163  South America  Venezuela    VEN    468600.0    POINT (-66.16383 7.16213)  \n",
       "169  South America       Peru    PER    410400.0   POINT (-74.39181 -9.19156)  \n",
       "182  South America  Argentina    ARG    879400.0  POINT (-65.17536 -35.44682)  \n",
       "196  South America   Colombia    COL    688000.0    POINT (-73.07773 3.92721)  \n",
       "200  South America      Chile    CHL    436100.0  POINT (-71.52064 -39.04701)  "
      ]
     },
     "execution_count": 79,
     "metadata": {},
     "output_type": "execute_result"
    }
   ],
   "source": [
    "geopandas.sjoin(cities_df, sa)"
   ]
  },
  {
   "cell_type": "code",
   "execution_count": null,
   "metadata": {},
   "outputs": [],
   "source": []
  }
 ],
 "metadata": {
  "kernelspec": {
   "display_name": "Python 3",
   "language": "python",
   "name": "python3"
  },
  "language_info": {
   "codemirror_mode": {
    "name": "ipython",
    "version": 3
   },
   "file_extension": ".py",
   "mimetype": "text/x-python",
   "name": "python",
   "nbconvert_exporter": "python",
   "pygments_lexer": "ipython3",
   "version": "3.6.9"
  }
 },
 "nbformat": 4,
 "nbformat_minor": 4
}
