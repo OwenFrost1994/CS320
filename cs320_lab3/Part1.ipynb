{
 "cells": [
  {
   "cell_type": "code",
   "execution_count": 3,
   "metadata": {},
   "outputs": [],
   "source": [
    "f = open(\"file.txt\", 'w')\n",
    "f.write(\"line1\\n\")\n",
    "f.write(\"line2\")\n",
    "f.close() # you need the parentheses, even without arguments!"
   ]
  },
  {
   "cell_type": "code",
   "execution_count": 5,
   "metadata": {},
   "outputs": [],
   "source": [
    "f = open(\"dog.json\")\n",
    "input1 = f.read()\n",
    "input2 = f.read()\n",
    "f.close()"
   ]
  },
  {
   "cell_type": "code",
   "execution_count": 6,
   "metadata": {},
   "outputs": [
    {
     "data": {
      "text/plain": [
       "str"
      ]
     },
     "execution_count": 6,
     "metadata": {},
     "output_type": "execute_result"
    }
   ],
   "source": [
    "type(input1)"
   ]
  },
  {
   "cell_type": "code",
   "execution_count": 8,
   "metadata": {},
   "outputs": [
    {
     "name": "stdout",
     "output_type": "stream",
     "text": [
      "{\n",
      "    \"name\": \"Fido\",\n",
      "    \"age\": 1\n",
      "}\n"
     ]
    }
   ],
   "source": [
    "print(input1)"
   ]
  },
  {
   "cell_type": "code",
   "execution_count": 9,
   "metadata": {},
   "outputs": [
    {
     "name": "stdout",
     "output_type": "stream",
     "text": [
      "\n"
     ]
    }
   ],
   "source": [
    "print(input2)"
   ]
  },
  {
   "cell_type": "code",
   "execution_count": 10,
   "metadata": {},
   "outputs": [
    {
     "name": "stdout",
     "output_type": "stream",
     "text": [
      "LINE: {\n",
      "LINE:     \"name\": \"Fido\",\n",
      "LINE:     \"age\": 1\n",
      "LINE: }"
     ]
    }
   ],
   "source": [
    "f = open(\"dog.json\")\n",
    "for line in f:\n",
    "    print(\"LINE: \" + line, end=\"\")\n",
    "f.close()"
   ]
  },
  {
   "cell_type": "code",
   "execution_count": 11,
   "metadata": {},
   "outputs": [
    {
     "name": "stdout",
     "output_type": "stream",
     "text": [
      "GOT 4 lines\n"
     ]
    }
   ],
   "source": [
    "f = open(\"dog.json\")\n",
    "lines = list(f)\n",
    "f.close()\n",
    "\n",
    "print(\"GOT\", len(lines), \"lines\")"
   ]
  },
  {
   "cell_type": "code",
   "execution_count": 13,
   "metadata": {},
   "outputs": [
    {
     "data": {
      "text/plain": [
       "['{\\n', '    \"name\": \"Fido\",\\n', '    \"age\": 1\\n', '}']"
      ]
     },
     "execution_count": 13,
     "metadata": {},
     "output_type": "execute_result"
    }
   ],
   "source": [
    "with open(\"dog.json\") as f:\n",
    "    lines = list(f)\n",
    "# f is automatically closed after the with block\n",
    "lines"
   ]
  },
  {
   "cell_type": "code",
   "execution_count": 15,
   "metadata": {},
   "outputs": [
    {
     "name": "stdout",
     "output_type": "stream",
     "text": [
      "{'name': 'Fido', 'age': 1}\n",
      "<class 'dict'>\n"
     ]
    }
   ],
   "source": [
    "import json\n",
    "\n",
    "with open(\"dog.json\") as f:\n",
    "    dog = json.load(f) # fixme\n",
    "print(dog)\n",
    "print(type(dog))"
   ]
  },
  {
   "cell_type": "code",
   "execution_count": 18,
   "metadata": {},
   "outputs": [
    {
     "name": "stdout",
     "output_type": "stream",
     "text": [
      "{'name': 'Fido', 'age': 1}\n",
      "<class 'dict'>\n"
     ]
    }
   ],
   "source": [
    "data = '{\"name\": \"Fido\", \"age\": 1}'\n",
    "dog = json.loads(data) # fixme\n",
    "print(dog)\n",
    "print(type(dog))"
   ]
  },
  {
   "cell_type": "code",
   "execution_count": 21,
   "metadata": {},
   "outputs": [
    {
     "name": "stdout",
     "output_type": "stream",
     "text": [
      "{'name': 'Fido', 'age': 1}\n",
      "<class 'dict'>\n"
     ]
    }
   ],
   "source": [
    "with open(\"dog.json\") as f:\n",
    "    data = f.read()\n",
    "    dog = json.loads(data) # fixme\n",
    "print(dog)\n",
    "print(type(dog))"
   ]
  },
  {
   "cell_type": "code",
   "execution_count": null,
   "metadata": {},
   "outputs": [],
   "source": []
  }
 ],
 "metadata": {
  "kernelspec": {
   "display_name": "Python 3",
   "language": "python",
   "name": "python3"
  },
  "language_info": {
   "codemirror_mode": {
    "name": "ipython",
    "version": 3
   },
   "file_extension": ".py",
   "mimetype": "text/x-python",
   "name": "python",
   "nbconvert_exporter": "python",
   "pygments_lexer": "ipython3",
   "version": "3.6.9"
  }
 },
 "nbformat": 4,
 "nbformat_minor": 4
}
