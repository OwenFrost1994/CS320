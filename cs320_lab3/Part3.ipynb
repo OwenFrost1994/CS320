{
 "cells": [
  {
   "cell_type": "code",
   "execution_count": 23,
   "metadata": {},
   "outputs": [],
   "source": [
    "import pandas as pd"
   ]
  },
  {
   "cell_type": "code",
   "execution_count": 33,
   "metadata": {},
   "outputs": [],
   "source": [
    "def merge(L1, L2):\n",
    "    global steps # add this!\n",
    "    rv = []\n",
    "    idx1 = 0\n",
    "    idx2 = 0\n",
    "\n",
    "    while True:\n",
    "        steps += 1\n",
    "        done1 = idx1 == len(L1)\n",
    "        done2 = idx2 == len(L2)\n",
    "\n",
    "        if done1 and done2:\n",
    "            return rv\n",
    "\n",
    "        choose1 = False\n",
    "        if done2:\n",
    "            choose1 = True\n",
    "        elif not done1 and L1[idx1] < L2[idx2]:\n",
    "            choose1 = True\n",
    "\n",
    "        if choose1:\n",
    "            rv.append(L1[idx1])\n",
    "            idx1 += 1\n",
    "        else:\n",
    "            rv.append(L2[idx2])\n",
    "            idx2 += 1\n",
    "        #print(\"MERGE\", rv, \" <= \", L1[idx1:], L2[idx2:])\n",
    "    return rv"
   ]
  },
  {
   "cell_type": "code",
   "execution_count": 30,
   "metadata": {},
   "outputs": [
    {
     "data": {
      "text/plain": [
       "[1, 2, 3, 4, 5, 6, 7, 8]"
      ]
     },
     "execution_count": 30,
     "metadata": {},
     "output_type": "execute_result"
    }
   ],
   "source": [
    "merge([2, 4, 7, 8], [1, 3, 5, 6])"
   ]
  },
  {
   "cell_type": "code",
   "execution_count": 31,
   "metadata": {},
   "outputs": [],
   "source": [
    "def merge_sort(L):\n",
    "    if len(L) < 2:\n",
    "        return L\n",
    "    mid = len(L) // 2\n",
    "    left = L[:mid]\n",
    "    right = L[mid:]\n",
    "    left = merge_sort(left)\n",
    "    right = merge_sort(right)\n",
    "    rv = merge(left, right)\n",
    "    #print(\"MERGESORT\", left, right, \" => \", rv)\n",
    "    return rv"
   ]
  },
  {
   "cell_type": "code",
   "execution_count": 32,
   "metadata": {},
   "outputs": [
    {
     "data": {
      "text/plain": [
       "[1, 2, 3, 4, 5, 6, 7, 8]"
      ]
     },
     "execution_count": 32,
     "metadata": {},
     "output_type": "execute_result"
    }
   ],
   "source": [
    "merge_sort([7, 2, 4, 8, 3, 5, 1, 6])"
   ]
  },
  {
   "cell_type": "code",
   "execution_count": 34,
   "metadata": {},
   "outputs": [
    {
     "data": {
      "image/png": "[encoded data removed]",
      "text/plain": [
       "<Figure size 432x288 with 1 Axes>"
      ]
     },
     "metadata": {
      "needs_background": "light"
     },
     "output_type": "display_data"
    }
   ],
   "source": [
    "work_curve = pd.Series() # N => steps\n",
    "\n",
    "L = []\n",
    "for N in range(100):    \n",
    "    steps = 0 # reset steps\n",
    "\n",
    "    merge_sort(L)\n",
    "    work_curve.loc[N] = steps\n",
    "\n",
    "    L.append(N)\n",
    "    \n",
    "ax = work_curve.plot.line()\n",
    "ax.set_xlabel(\"N\")\n",
    "ax.set_ylabel(\"Steps\")\n",
    "\n",
    "None"
   ]
  },
  {
   "cell_type": "code",
   "execution_count": null,
   "metadata": {},
   "outputs": [],
   "source": []
  }
 ],
 "metadata": {
  "kernelspec": {
   "display_name": "Python 3",
   "language": "python",
   "name": "python3"
  },
  "language_info": {
   "codemirror_mode": {
    "name": "ipython",
    "version": 3
   },
   "file_extension": ".py",
   "mimetype": "text/x-python",
   "name": "python",
   "nbconvert_exporter": "python",
   "pygments_lexer": "ipython3",
   "version": "3.6.9"
  }
 },
 "nbformat": 4,
 "nbformat_minor": 4
}
