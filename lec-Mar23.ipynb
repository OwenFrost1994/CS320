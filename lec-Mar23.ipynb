{
 "cells": [
  {
   "cell_type": "code",
   "execution_count": 5,
   "metadata": {},
   "outputs": [
    {
     "name": "stdout",
     "output_type": "stream",
     "text": [
      "GET http://35.184.55.63:5000/fruit?idx=0\n",
      "GET http://35.184.55.63:5000/fruit?idx=1\n",
      "Response Headers Dict: {'Retry-After': '1.9960007667541504', 'Content-Type': 'text/html; charset=utf-8', 'Content-Length': '9', 'Server': 'Werkzeug/1.0.0 Python/3.6.9', 'Date': 'Mon, 23 Mar 2020 20:04:52 GMT'}\n",
      "GET http://35.184.55.63:5000/fruit?idx=2\n",
      "Response Headers Dict: {'Retry-After': '1.9944522380828857', 'Content-Type': 'text/html; charset=utf-8', 'Content-Length': '9', 'Server': 'Werkzeug/1.0.0 Python/3.6.9', 'Date': 'Mon, 23 Mar 2020 20:04:54 GMT'}\n",
      "GET http://35.184.55.63:5000/fruit?idx=3\n",
      "Response Headers Dict: {'Retry-After': '1.9957764148712158', 'Content-Type': 'text/html; charset=utf-8', 'Content-Length': '9', 'Server': 'Werkzeug/1.0.0 Python/3.6.9', 'Date': 'Mon, 23 Mar 2020 20:04:56 GMT'}\n",
      "GET http://35.184.55.63:5000/fruit?idx=4\n",
      "Response Headers Dict: {'Retry-After': '1.996253252029419', 'Content-Type': 'text/html; charset=utf-8', 'Content-Length': '9', 'Server': 'Werkzeug/1.0.0 Python/3.6.9', 'Date': 'Mon, 23 Mar 2020 20:04:58 GMT'}\n",
      "GET http://35.184.55.63:5000/fruit?idx=5\n",
      "Response Headers Dict: {'Retry-After': '1.9947118759155273', 'Content-Type': 'text/html; charset=utf-8', 'Content-Length': '9', 'Server': 'Werkzeug/1.0.0 Python/3.6.9', 'Date': 'Mon, 23 Mar 2020 20:05:00 GMT'}\n",
      "GET http://35.184.55.63:5000/fruit?idx=6\n",
      "Response Headers Dict: {'Retry-After': '1.9954967498779297', 'Content-Type': 'text/html; charset=utf-8', 'Content-Length': '9', 'Server': 'Werkzeug/1.0.0 Python/3.6.9', 'Date': 'Mon, 23 Mar 2020 20:05:02 GMT'}\n"
     ]
    },
    {
     "data": {
      "text/plain": [
       "['apple', 'banana', 'kiwi', 'cantaloupe', 'berries', 'orange']"
      ]
     },
     "execution_count": 5,
     "metadata": {},
     "output_type": "execute_result"
    }
   ],
   "source": [
    "import requests, time\n",
    "\n",
    "my_ip = \"35.184.55.63\" # TODO: put your VM's IP addr here\n",
    "\n",
    "def nice_get(url):\n",
    "    print(\"GET\", url)\n",
    "    r = requests.get(url)\n",
    "    if r.status_code == 429:\n",
    "        # told to backoff...\n",
    "        # we'll wait however long requested, then try once more\n",
    "\n",
    "        print(\"Response Headers Dict:\", r.headers)\n",
    "\n",
    "        # TODO: pull \"Retry-After\" from headers,\n",
    "        # convert to float, and pass to sleep call:\n",
    "        sleep_time = float(r.headers[\"Retry-After\"])\n",
    "        time.sleep(sleep_time)\n",
    "        r = requests.get(url)\n",
    "    r.raise_for_status()\n",
    "    return r.text\n",
    "\n",
    "def fruit_url(idx):\n",
    "    return (\"http://\"+my_ip+\":5000\"+\n",
    "            \"/fruit?idx=\" + str(idx))\n",
    "\n",
    "def grab_fruits():\n",
    "    fruits = []\n",
    "    i = 0\n",
    "    while True:\n",
    "        url = fruit_url(i)\n",
    "        fruit = nice_get(url)\n",
    "        if fruit != \"\":\n",
    "            fruits.append(fruit)\n",
    "        else:\n",
    "            return fruits\n",
    "        i += 1\n",
    "        \n",
    "grab_fruits()"
   ]
  },
  {
   "cell_type": "code",
   "execution_count": 33,
   "metadata": {},
   "outputs": [
    {
     "data": {
      "text/html": [
       "<div>\n",
       "<style scoped>\n",
       "    .dataframe tbody tr th:only-of-type {\n",
       "        vertical-align: middle;\n",
       "    }\n",
       "\n",
       "    .dataframe tbody tr th {\n",
       "        vertical-align: top;\n",
       "    }\n",
       "\n",
       "    .dataframe thead th {\n",
       "        text-align: right;\n",
       "    }\n",
       "</style>\n",
       "<table border=\"1\" class=\"dataframe\">\n",
       "  <thead>\n",
       "    <tr style=\"text-align: right;\">\n",
       "      <th></th>\n",
       "      <th>x</th>\n",
       "      <th>y</th>\n",
       "    </tr>\n",
       "  </thead>\n",
       "  <tbody>\n",
       "    <tr>\n",
       "      <th>0</th>\n",
       "      <td>0.1</td>\n",
       "      <td>0.4</td>\n",
       "    </tr>\n",
       "    <tr>\n",
       "      <th>1</th>\n",
       "      <td>0.2</td>\n",
       "      <td>0.2</td>\n",
       "    </tr>\n",
       "    <tr>\n",
       "      <th>2</th>\n",
       "      <td>0.3</td>\n",
       "      <td>0.1</td>\n",
       "    </tr>\n",
       "    <tr>\n",
       "      <th>3</th>\n",
       "      <td>0.4</td>\n",
       "      <td>0.3</td>\n",
       "    </tr>\n",
       "  </tbody>\n",
       "</table>\n",
       "</div>"
      ],
      "text/plain": [
       "     x    y\n",
       "0  0.1  0.4\n",
       "1  0.2  0.2\n",
       "2  0.3  0.1\n",
       "3  0.4  0.3"
      ]
     },
     "execution_count": 33,
     "metadata": {},
     "output_type": "execute_result"
    }
   ],
   "source": [
    "import pandas as pd\n",
    "from matplotlib import pyplot as plt\n",
    "df = pd.DataFrame([\n",
    "    {\"x\":0.1, \"y\":0.4},\n",
    "    {\"x\":0.2, \"y\":0.2},\n",
    "    {\"x\":0.3, \"y\":0.1},\n",
    "    {\"x\":0.4, \"y\":0.3}\n",
    "])\n",
    "df"
   ]
  },
  {
   "cell_type": "code",
   "execution_count": 16,
   "metadata": {},
   "outputs": [
    {
     "data": {
      "text/plain": [
       "<matplotlib.patches.Circle at 0x7f7ffd759cf8>"
      ]
     },
     "execution_count": 16,
     "metadata": {},
     "output_type": "execute_result"
    },
    {
     "data": {
      "image/png": "[encoded data removed]",
      "text/plain": [
       "<Figure size 432x288 with 1 Axes>"
      ]
     },
     "metadata": {
      "needs_background": "light"
     },
     "output_type": "display_data"
    }
   ],
   "source": [
    "fig, ax = plt.subplots()\n",
    "p = plt.Circle((0.5, 0.5), 0.1, edgecolor = \"r\", linewidth = 3, facecolor = \"none\")\n",
    "ax.add_artist(p)"
   ]
  },
  {
   "cell_type": "code",
   "execution_count": 32,
   "metadata": {},
   "outputs": [
    {
     "data": {
      "image/png": "[encoded data removed]",
      "text/plain": [
       "<Figure size 504x288 with 2 Axes>"
      ]
     },
     "metadata": {
      "needs_background": "light"
     },
     "output_type": "display_data"
    }
   ],
   "source": [
    "fig, (ax1, ax2) = plt.subplots(ncols=2, figsize=(7, 4))\n",
    "ax2.set_xlim(-3, 1)\n",
    "\n",
    "def rel_circ(area,x,y):\n",
    "    p = plt.Circle((x, y), 0.1, edgecolor = \"r\", linewidth = 3, facecolor = \"none\")\n",
    "    area.add_artist(p)\n",
    "def abs_circ(area,x,y):\n",
    "    p = plt.Circle((x, y), 0.1, facecolor = \"b\", transform = fig.dpi_scale_trans)\n",
    "    area.add_artist(p)\n",
    "rel_circ(ax1, 0.5, 0.5)\n",
    "rel_circ(ax2, 0.5, 0.5)\n",
    "rel_circ(fig, 0.5, 0.5)\n",
    "\n",
    "abs_circ(fig, 0.5, 1)\n",
    "abs_circ(ax1, 0.5, 2)\n",
    "abs_circ(ax2, 0.5, 3)\n",
    "\n",
    "abs_circ(fig, 3.5, 2)"
   ]
  },
  {
   "cell_type": "code",
   "execution_count": 37,
   "metadata": {},
   "outputs": [
    {
     "name": "stdout",
     "output_type": "stream",
     "text": [
      "[[1.12159091 1.708     ]\n",
      " [1.36818182 1.104     ]\n",
      " [1.61477273 0.802     ]\n",
      " [1.86136364 1.406     ]]\n",
      "[[3.83409091 1.708     ]\n",
      " [4.32727273 1.104     ]\n",
      " [4.82045455 0.802     ]\n",
      " [5.31363636 1.406     ]]\n"
     ]
    },
    {
     "data": {
      "image/png": "[encoded data removed]",
      "text/plain": [
       "<Figure size 504x288 with 2 Axes>"
      ]
     },
     "metadata": {
      "needs_background": "light"
     },
     "output_type": "display_data"
    }
   ],
   "source": [
    "fig, (ax1, ax2) = plt.subplots(ncols=2, figsize=(7, 4))\n",
    "ax2.set_xlim(0.1, 0.6)\n",
    "\n",
    "points1 = ax1.transData.transform(df[[\"x\", \"y\"]].values) / fig.dpi\n",
    "print(points1)\n",
    "points2 = ax2.transData.transform(df[[\"x\", \"y\"]].values) / fig.dpi\n",
    "print(points2)\n",
    "def scatter(ax, points, color):\n",
    "    for x, y in points:\n",
    "        p = plt.Circle((x, y), 0.1, facecolor=color,\n",
    "                       transform=fig.dpi_scale_trans)\n",
    "        ax.add_artist(p)\n",
    "\n",
    "scatter(ax1, points1, \"blue\")\n",
    "scatter(ax2, points2, \"black\")"
   ]
  },
  {
   "cell_type": "code",
   "execution_count": null,
   "metadata": {},
   "outputs": [],
   "source": []
  }
 ],
 "metadata": {
  "kernelspec": {
   "display_name": "Python 3",
   "language": "python",
   "name": "python3"
  },
  "language_info": {
   "codemirror_mode": {
    "name": "ipython",
    "version": 3
   },
   "file_extension": ".py",
   "mimetype": "text/x-python",
   "name": "python",
   "nbconvert_exporter": "python",
   "pygments_lexer": "ipython3",
   "version": "3.6.9"
  }
 },
 "nbformat": 4,
 "nbformat_minor": 4
}
