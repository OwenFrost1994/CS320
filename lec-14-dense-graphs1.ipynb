{
 "cells": [
  {
   "cell_type": "code",
   "execution_count": 2,
   "metadata": {},
   "outputs": [],
   "source": [
    "from bs4 import BeautifulSoup\n",
    "import requests\n",
    "import pandas as pd\n",
    "import copy, string, os"
   ]
  },
  {
   "cell_type": "code",
   "execution_count": 3,
   "metadata": {},
   "outputs": [],
   "source": [
    "class dense_graph:\n",
    "    def __init__(self, nodes):\n",
    "        self.nodes = sorted(nodes)\n",
    "        self.nodes.append(\"?\") # A\n",
    "        self.node_set = set(nodes)\n",
    "        self.edges = pd.DataFrame(index=self.nodes, columns=self.nodes)\n",
    "        self.edges.fillna(1, inplace=True) # B\n",
    "\n",
    "    def _repr_html_(self):\n",
    "        with pd.option_context('display.max_columns', None): # C\n",
    "            return self.edges._repr_html_()\n",
    "\n",
    "    def inc(self, src, dst):\n",
    "        if not src in self.node_set:\n",
    "            src = \"?\"\n",
    "        if not dst in self.node_set:\n",
    "            dst = \"?\"\n",
    "        self.edges.at[src, dst] += 1\n",
    "        \n",
    "    def get_edge(self, src, dst):\n",
    "        if not src in self.node_set:\n",
    "            src = \"?\"\n",
    "        if not dst in self.node_set:\n",
    "            dst = \"?\"\n",
    "        return self.edges.at[src, dst] # D\n",
    "        \n",
    "    def to_prob(self):\n",
    "        # E\n",
    "        g = copy.deepcopy(self)\n",
    "        row_sums = g.edges.sum(axis=1)\n",
    "        g.edges = g.edges.div(row_sums, axis=0)\n",
    "        return g\n",
    "\n",
    "g = dense_graph(\"ABC\") # F"
   ]
  },
  {
   "cell_type": "code",
   "execution_count": 4,
   "metadata": {},
   "outputs": [
    {
     "data": {
      "text/html": [
       "<div>\n",
       "<style scoped>\n",
       "    .dataframe tbody tr th:only-of-type {\n",
       "        vertical-align: middle;\n",
       "    }\n",
       "\n",
       "    .dataframe tbody tr th {\n",
       "        vertical-align: top;\n",
       "    }\n",
       "\n",
       "    .dataframe thead th {\n",
       "        text-align: right;\n",
       "    }\n",
       "</style>\n",
       "<table border=\"1\" class=\"dataframe\">\n",
       "  <thead>\n",
       "    <tr style=\"text-align: right;\">\n",
       "      <th></th>\n",
       "      <th>A</th>\n",
       "      <th>B</th>\n",
       "      <th>C</th>\n",
       "      <th>?</th>\n",
       "    </tr>\n",
       "  </thead>\n",
       "  <tbody>\n",
       "    <tr>\n",
       "      <th>A</th>\n",
       "      <td>1</td>\n",
       "      <td>4</td>\n",
       "      <td>2</td>\n",
       "      <td>1</td>\n",
       "    </tr>\n",
       "    <tr>\n",
       "      <th>B</th>\n",
       "      <td>1</td>\n",
       "      <td>1</td>\n",
       "      <td>1</td>\n",
       "      <td>2</td>\n",
       "    </tr>\n",
       "    <tr>\n",
       "      <th>C</th>\n",
       "      <td>1</td>\n",
       "      <td>1</td>\n",
       "      <td>1</td>\n",
       "      <td>1</td>\n",
       "    </tr>\n",
       "    <tr>\n",
       "      <th>?</th>\n",
       "      <td>2</td>\n",
       "      <td>1</td>\n",
       "      <td>1</td>\n",
       "      <td>1</td>\n",
       "    </tr>\n",
       "  </tbody>\n",
       "</table>\n",
       "</div>"
      ],
      "text/plain": [
       "<__main__.dense_graph at 0x7f40315d34e0>"
      ]
     },
     "execution_count": 4,
     "metadata": {},
     "output_type": "execute_result"
    }
   ],
   "source": [
    "g.inc(\"A\", \"B\")\n",
    "g.inc(\"A\", \"B\")\n",
    "g.inc(\"A\", \"B\")\n",
    "g.inc(\"A\", \"C\")\n",
    "g.inc(\"B\", \"D\")\n",
    "g.inc(\"E\", \"A\")\n",
    "g"
   ]
  },
  {
   "cell_type": "code",
   "execution_count": 5,
   "metadata": {},
   "outputs": [
    {
     "data": {
      "text/html": [
       "<div>\n",
       "<style scoped>\n",
       "    .dataframe tbody tr th:only-of-type {\n",
       "        vertical-align: middle;\n",
       "    }\n",
       "\n",
       "    .dataframe tbody tr th {\n",
       "        vertical-align: top;\n",
       "    }\n",
       "\n",
       "    .dataframe thead th {\n",
       "        text-align: right;\n",
       "    }\n",
       "</style>\n",
       "<table border=\"1\" class=\"dataframe\">\n",
       "  <thead>\n",
       "    <tr style=\"text-align: right;\">\n",
       "      <th></th>\n",
       "      <th>A</th>\n",
       "      <th>B</th>\n",
       "      <th>C</th>\n",
       "      <th>?</th>\n",
       "    </tr>\n",
       "  </thead>\n",
       "  <tbody>\n",
       "    <tr>\n",
       "      <th>A</th>\n",
       "      <td>0.125</td>\n",
       "      <td>0.50</td>\n",
       "      <td>0.25</td>\n",
       "      <td>0.125</td>\n",
       "    </tr>\n",
       "    <tr>\n",
       "      <th>B</th>\n",
       "      <td>0.200</td>\n",
       "      <td>0.20</td>\n",
       "      <td>0.20</td>\n",
       "      <td>0.400</td>\n",
       "    </tr>\n",
       "    <tr>\n",
       "      <th>C</th>\n",
       "      <td>0.250</td>\n",
       "      <td>0.25</td>\n",
       "      <td>0.25</td>\n",
       "      <td>0.250</td>\n",
       "    </tr>\n",
       "    <tr>\n",
       "      <th>?</th>\n",
       "      <td>0.400</td>\n",
       "      <td>0.20</td>\n",
       "      <td>0.20</td>\n",
       "      <td>0.200</td>\n",
       "    </tr>\n",
       "  </tbody>\n",
       "</table>\n",
       "</div>"
      ],
      "text/plain": [
       "<__main__.dense_graph at 0x7f40315ae6a0>"
      ]
     },
     "execution_count": 5,
     "metadata": {},
     "output_type": "execute_result"
    }
   ],
   "source": [
    "probs = g.to_prob()\n",
    "probs"
   ]
  },
  {
   "cell_type": "code",
   "execution_count": 6,
   "metadata": {},
   "outputs": [
    {
     "data": {
      "text/plain": [
       "0.5"
      ]
     },
     "execution_count": 6,
     "metadata": {},
     "output_type": "execute_result"
    }
   ],
   "source": [
    "probs.get_edge(\"A\", \"B\")"
   ]
  },
  {
   "cell_type": "code",
   "execution_count": 7,
   "metadata": {},
   "outputs": [],
   "source": [
    "urls = {\n",
    "    \"english\": \"https://en.wikipedia.org/wiki/Python_(programming_language)\",\n",
    "    \"spanish\": \"https://es.wikipedia.org/wiki/Python\",\n",
    "    \"german\": \"https://de.wikipedia.org/wiki/Python_(Programmiersprache)\",\n",
    "    \"french\": \"https://fr.wikipedia.org/wiki/Python_(langage)\",\n",
    "    \"italian\": \"https://it.wikipedia.org/wiki/Python\",\n",
    "    \"english-test\": \"https://en.wikipedia.org/wiki/Giant_panda\",\n",
    "    \"spanish-test\": \"https://es.wikipedia.org/wiki/Ailuropoda_melanoleuca\",\n",
    "}\n",
    "\n",
    "texts = {}\n",
    "\n",
    "for lang, url in urls.items():\n",
    "    path = lang + \".txt\"\n",
    "    \n",
    "    # have we downloaded it before?\n",
    "    if not os.path.exists(path):\n",
    "        r = requests.get(url)\n",
    "        r.raise_for_status()\n",
    "        page = BeautifulSoup(r.text)\n",
    "        with open(path, \"w\") as f:\n",
    "            f.write(page.get_text())\n",
    "    \n",
    "    # for simplicity, strip out everything except lower\n",
    "    # case English letters, periods, and commas\n",
    "    with open(path) as f:\n",
    "        valid = string.ascii_lowercase + \" .,\"\n",
    "        text = []\n",
    "        for c in f.read().lower():\n",
    "            if c in valid:\n",
    "                text.append(c)\n",
    "            else:\n",
    "                text.append(\"?\")\n",
    "        texts[lang] = \"\".join(text)"
   ]
  },
  {
   "cell_type": "code",
   "execution_count": 8,
   "metadata": {},
   "outputs": [
    {
     "name": "stdout",
     "output_type": "stream",
     "text": [
      "????python ?programming language? ? wikipedia?document.documentelement.classname??client?js??rlconf???wgbreakframes????,?wgseparatortransformtable?????,???,?wgdigittransformtable?????,???,?wgdefaultdateformat???dmy?,?wgmonthnames?????,?january?,?february?,?march?,?april?,?may?,?june?,?july?,?august?,?september?,?october?,?november?,?december??,?wgmonthnamesshort?????,?jan?,?feb?,?mar?,?apr?,?may?,?jun?,?jul?,?aug?,?sep?,?oct?,?nov?,?dec??,?wgrequestid???xk??xgpaaeaaacb??n?aaadj?,?wgcspnonce????,?wgcanonicalnamespace????,?wgcanonicalspecialpagename????,?wgnamespacenumber???,?wgpagename???python??programming?language??,?wgtitle???python ?programming language??,?wgcurrevisionid???????????,?wgrevisionid???????????,?wgarticleid???????,?wgisarticle????,?wgisredirect????,?wgaction???view?,?wgusername??null,?wgusergroups???????,?wgcategories????articles with short description?,?use dmy dates from august ?????,?all articles with unsourced statements?,?articles with unsourced statements from december ?????,??articles containing potentially dated statements from november ?????,?all articles containing potentially dated statements?,?articles containing potentially dated statements from february ?????,?articles with unsourced statements from february ?????,?articles with curlie links?,?wikipedia articles with bnf identifiers?,?wikipedia articles with gnd identifiers?,?wikipedia articles with lccn identifiers?,?wikipedia articles with sudoc identifiers?,?good articles?,?articles with example python code?,?programming languages?,?class?based programming languages?,?computational notebook?,?computer science in the netherlands?,?cross?platform free software?,?dutch inventions?,?dynamically typed programming languages?,?educational programming languages?,?high?level programming languages?,?information technology in the netherlands?,?multi?paradigm programming languages?,?object?oriented programming languages?,?programming languages created in ?????,?python ?programming language??,??scripting languages?,?text?oriented programming languages?,?cross?platform software??,?wgpagecontentlanguage???en?,?wgpagecontentmodel???wikitext?,?wgrelevantpagename???python??programming?language??,?wgrelevantarticleid???????,?wgisprobablyeditable????,?wgrelevantpageisprobablyeditable????,?wgrestrictionedit????,?wgrestrictionmove????,?wgmediavieweronclick????,?wgmediaviewerenabledbydefault????,?wgpopupsreferencepreviews????,?wgpopupsconflictswithnavpopupgadget????,?wgvisualeditor????pagelanguagecode???en?,?pagelanguagedir???ltr?,?pagevariantfallbacks???en??,?wgmfdisplaywikibasedescriptions????search????,?nearby????,?watchlist????,?tagline?????,?wgwmeschemaeditattemptstepoversample????,?wgulscurrentautonym???english?,?wgnoticeproject???wikipedia?,?wgwikibaseitemid???q??????,?wgcentralauthmobiledomain????,?wgeditsubmitbuttonlabelpublish??????rlstate???ext.globalcssjs.user.styles???ready?,?site.styles???ready?,?noscript???ready?,?user.styles???ready?,??ext.globalcssjs.user???ready?,?user???ready?,?user.options???ready?,?user.tokens???loading?,?ext.cite.styles???ready?,?ext.pygments???ready?,?mediawiki.legacy.shared???ready?,?mediawiki.legacy.commonprint???ready?,?jquery.makecollapsible.styles???ready?,?mediawiki.toc.styles???ready?,?skins.vector.styles???ready?,?wikibase.client.init???ready?,?ext.visualeditor.desktoparticletarget.noscript???ready?,?ext.uls.interlanguage???ready?,?ext.wikimediabadges???ready???rlpagemodules???ext.cite.ux?enhancements?,?ext.scribunto.logs?,?site?,?mediawiki.page.startup?,?skins.vector.js?,?mediawiki.page.ready?,?jquery.makecollapsible?,?mediawiki.toc?,?ext.gadget.referencetooltips?,?ext.gadget.watchlist?notice?,?ext.gadget.drn?wizard?,?ext.gadget.charinsert?,?ext.gadget.reftoolbar?,?ext.gadget.extra?toolbar?buttons?,?ext.gadget.switcher?,?ext.centralauth.centralautologin?,?mmv.head?,?mmv.bootstrap.autostart?,?ext.popups?,?ext.visualeditor.desktoparticletarget.init?,?ext.visualeditor.targetloader?,??ext.eventlogging?,?ext.wikimediaevents?,?ext.navigationtiming?,?ext.uls.compactlinks?,?ext.uls.interface?,?ext.cx.eventlogging.campaigns?,?ext.quicksurveys.init?,?ext.centralnotice.geoip?,?ext.centralnotice.startup?????rlq?window.rlq?????.push?function???mw.loader.implement??user.tokens?tffin?,function??,jquery,require,module?????nomin??mw.user.tokens.set???patroltoken???????,?watchtoken???????,?csrftoken????????????????????????????????????????????????python ?programming language???from wikipedia, the free encyclopedia???jump to navigation?jump to search?for other uses, see python.?general?purpose, high?level programming language???pythonparadigmmulti?paradigm? functional, imperative, object?oriented, reflectivedesigned?byguido van rossumdeveloperpython software foundationfirst?appeared????? ???years ago??????????stable release?.?.??   ? ???december ????? ? months ago????????????????preview release?.?.?a??   ? ???january ????? ?? days ago?????????????????typing disciplineduck, dynamic, gradual ?since ?.?????licensepython s\n"
     ]
    }
   ],
   "source": [
    "print(texts[\"english\"][:5000])"
   ]
  },
  {
   "cell_type": "code",
   "execution_count": 9,
   "metadata": {},
   "outputs": [
    {
     "name": "stdout",
     "output_type": "stream",
     "text": [
      "????python ? wikipedia, la enciclopedia libre?document.documentelement.classname??client?js??rlconf???wgbreakframes????,?wgseparatortransformtable????,?t.?,???t,??,?wgdigittransformtable?????,???,?wgdefaultdateformat???dmy?,?wgmonthnames?????,?enero?,?febrero?,?marzo?,?abril?,?mayo?,?junio?,?julio?,?agosto?,?septiembre?,?octubre?,?noviembre?,?diciembre??,?wgmonthnamesshort?????,?ene?,?feb?,?mar?,?abr?,?may?,?jun?,?jul?,?ago?,?sep?,?oct?,?nov?,?dic??,?wgrequestid???xkv?sqpaaeyaaehg?zsaaabi?,?wgcspnonce????,?wgcanonicalnamespace????,?wgcanonicalspecialpagename????,?wgnamespacenumber???,?wgpagename???python?,?wgtitle???python?,?wgcurrevisionid???????????,?wgrevisionid???????????,?wgarticleid??????,?wgisarticle????,?wgisredirect????,?wgaction???view?,?wgusername??null,?wgusergroups???????,?wgcategories????wikipedia?art?culos con datos por trasladar a wikidata?,?wikipedia?art?culos destacados en la wikipedia en ruso?,?wikipedia?art?culos buenos en la wikipedia en alem?n?,??wikipedia?art?culos buenos en la wikipedia en ingl?s?,?wikipedia?art?culos con identificadores bnf?,?wikipedia?art?culos con identificadores gnd?,?wikipedia?art?culos con identificadores lccn?,?python?,?lenguajes de programaci?n orientada a objetos?,?lenguajes de programaci?n de alto nivel?,?lenguajes de programaci?n din?micamente tipados?,?lenguajes de programaci?n educativos?,?software de ?????,?pa?ses bajos en ?????,?ciencia y tecnolog?a de los pa?ses bajos??,?wgpagecontentlanguage???es?,?wgpagecontentmodel???wikitext?,?wgrelevantpagename???python?,?wgrelevantarticleid??????,?wgisprobablyeditable????,?wgrelevantpageisprobablyeditable????,?wgrestrictionedit????,?wgrestrictionmove????,?wgmediavieweronclick????,?wgmediaviewerenabledbydefault????,?wgpopupsreferencepreviews????,?wgpopupsconflictswithnavpopupgadget????,?wgvisualeditor????pagelanguagecode???es?,?pagelanguagedir???ltr?,?pagevariantfallbacks???es??,?wgmfdisplaywikibasedescriptions????search????,??nearby????,?watchlist????,?tagline?????,?wgwmeschemaeditattemptstepoversample????,?wgulscurrentautonym???espa?ol?,?wgnoticeproject???wikipedia?,?wgwikibaseitemid???q??????,?wgcentralauthmobiledomain????,?wgeditsubmitbuttonlabelpublish??????rlstate???ext.gadget.imagenesinfobox???ready?,?ext.globalcssjs.user.styles???ready?,?site.styles???ready?,?noscript???ready?,?user.styles???ready?,?ext.globalcssjs.user???ready?,?user???ready?,?user.options???loading?,?user.tokens???loading?,?ext.cite.styles???ready?,?ext.pygments???ready?,?mediawiki.legacy.shared???ready?,?mediawiki.legacy.commonprint???ready?,?mediawiki.toc.styles???ready?,?mediawiki.skinning.interface???ready?,?skins.vector.styles???ready?,?wikibase.client.init???ready?,?ext.visualeditor.desktoparticletarget.noscript???ready?,?ext.uls.interlanguage???ready?,?ext.wikimediabadges???ready???rlpagemodules???ext.cite.ux?enhancements?,?site?,?mediawiki.page.startup?,?skins.vector.js?,?mediawiki.page.ready?,??mediawiki.toc?,?ext.gadget.a?commons?directo?,?ext.gadget.referencetooltips?,?ext.gadget.reftoolbar?,?ext.centralauth.centralautologin?,?mmv.head?,?mmv.bootstrap.autostart?,?ext.popups?,?ext.visualeditor.desktoparticletarget.init?,?ext.visualeditor.targetloader?,?ext.eventlogging?,?ext.wikimediaevents?,?ext.navigationtiming?,?ext.uls.compactlinks?,?ext.uls.interface?,?ext.cx.eventlogging.campaigns?,?ext.quicksurveys.init?,?ext.centralnotice.geoip?,?ext.centralnotice.startup?????rlq?window.rlq?????.push?function???mw.loader.implement??user.options?wq????,function??,jquery,require,module?????nomin??mw.user.options.set???variant???es????????mw.loader.implement??user.tokens?tffin?,function??,jquery,require,module?????nomin??mw.user.tokens.set???patroltoken???????,?watchtoken???????,?csrftoken?????????????????????????????????????????????????python??de wikipedia, la enciclopedia libre???ir a la navegaci?n?ir a la b?squeda?este art?culo trata sobre el lenguaje de programaci?n. para el grupo de humoristas, v?ase monty python. para el rev?lver, v?ase colt python.? para otros usos de este t?rmino, v?ase pit?n.?python?desarrollador?es??python software foundationsitio web oficialinformaci?n generalextensiones comunes?.py, .pyc, .pyd, .pyo, .pyw, .pyzparadigma?multiparadigma? orientado a objetos, imperativo, funcional, reflexivoapareci? en?????dise?ado por?guido van rossum?ltima versi?n estable??.?.????????? de diciembre de ???? ?? meses?sistema de tipos?fuertemente tipado, din?micoimplementaciones?cpython, ironpython, jython, python for s??, pypy, activepython, unladen swallowdialectos?stackless python, rpythoninfluido por?abc, algol ??, c, haskell, icon, lisp, modula??, perl, smalltalk, javaha influido a?boo, cobra, d, falcon, genie, groovy, ruby, javascript, cython, go latinosistema operativo?multiplataformalicencia?python software foundation license?editar datos en wikidata??python es un lenguaje de programaci?n interpretado cuya filosof?a hace hincapi? en la legibilidad de su c?digo.?se trata de un lenguaje de programaci?n multiparadigma, ya que\n"
     ]
    }
   ],
   "source": [
    "print(texts[\"spanish\"][:5000])"
   ]
  },
  {
   "cell_type": "code",
   "execution_count": 10,
   "metadata": {},
   "outputs": [],
   "source": [
    "class LangProfile:\n",
    "    def __init__(self, name, text):\n",
    "        self.name = name\n",
    "\n",
    "        g = dense_graph(valid)\n",
    "        for i in range(len(text)-1):\n",
    "            g.inc(text[i], text[i+1])\n",
    "        self.graph = g.to_prob()\n",
    "\n",
    "    def prob(self, text):\n",
    "        p = 1\n",
    "        for i in range(len(text)-1):\n",
    "            p *= self.graph.get_edge(text[i], text[i+1])\n",
    "        return p"
   ]
  },
  {
   "cell_type": "code",
   "execution_count": 11,
   "metadata": {},
   "outputs": [
    {
     "data": {
      "text/html": [
       "<div>\n",
       "<style scoped>\n",
       "    .dataframe tbody tr th:only-of-type {\n",
       "        vertical-align: middle;\n",
       "    }\n",
       "\n",
       "    .dataframe tbody tr th {\n",
       "        vertical-align: top;\n",
       "    }\n",
       "\n",
       "    .dataframe thead th {\n",
       "        text-align: right;\n",
       "    }\n",
       "</style>\n",
       "<table border=\"1\" class=\"dataframe\">\n",
       "  <thead>\n",
       "    <tr style=\"text-align: right;\">\n",
       "      <th></th>\n",
       "      <th></th>\n",
       "      <th>,</th>\n",
       "      <th>.</th>\n",
       "      <th>a</th>\n",
       "      <th>b</th>\n",
       "      <th>c</th>\n",
       "      <th>d</th>\n",
       "      <th>e</th>\n",
       "    </tr>\n",
       "  </thead>\n",
       "  <tbody>\n",
       "    <tr>\n",
       "      <th></th>\n",
       "      <td>0.060115</td>\n",
       "      <td>0.000303</td>\n",
       "      <td>0.003937</td>\n",
       "      <td>0.048455</td>\n",
       "      <td>0.016051</td>\n",
       "      <td>0.067686</td>\n",
       "      <td>0.103725</td>\n",
       "      <td>0.095548</td>\n",
       "    </tr>\n",
       "    <tr>\n",
       "      <th>,</th>\n",
       "      <td>0.634473</td>\n",
       "      <td>0.001486</td>\n",
       "      <td>0.001486</td>\n",
       "      <td>0.004458</td>\n",
       "      <td>0.004458</td>\n",
       "      <td>0.001486</td>\n",
       "      <td>0.001486</td>\n",
       "      <td>0.001486</td>\n",
       "    </tr>\n",
       "    <tr>\n",
       "      <th>.</th>\n",
       "      <td>0.230100</td>\n",
       "      <td>0.002488</td>\n",
       "      <td>0.130597</td>\n",
       "      <td>0.007463</td>\n",
       "      <td>0.002488</td>\n",
       "      <td>0.029851</td>\n",
       "      <td>0.009950</td>\n",
       "      <td>0.007463</td>\n",
       "    </tr>\n",
       "    <tr>\n",
       "      <th>a</th>\n",
       "      <td>0.213549</td>\n",
       "      <td>0.014289</td>\n",
       "      <td>0.010849</td>\n",
       "      <td>0.002382</td>\n",
       "      <td>0.030431</td>\n",
       "      <td>0.062450</td>\n",
       "      <td>0.081503</td>\n",
       "      <td>0.002117</td>\n",
       "    </tr>\n",
       "    <tr>\n",
       "      <th>b</th>\n",
       "      <td>0.017575</td>\n",
       "      <td>0.007030</td>\n",
       "      <td>0.010545</td>\n",
       "      <td>0.096661</td>\n",
       "      <td>0.001757</td>\n",
       "      <td>0.035149</td>\n",
       "      <td>0.024605</td>\n",
       "      <td>0.050967</td>\n",
       "    </tr>\n",
       "    <tr>\n",
       "      <th>c</th>\n",
       "      <td>0.007567</td>\n",
       "      <td>0.002910</td>\n",
       "      <td>0.004075</td>\n",
       "      <td>0.134459</td>\n",
       "      <td>0.000582</td>\n",
       "      <td>0.041327</td>\n",
       "      <td>0.003492</td>\n",
       "      <td>0.078580</td>\n",
       "    </tr>\n",
       "    <tr>\n",
       "      <th>d</th>\n",
       "      <td>0.023140</td>\n",
       "      <td>0.002755</td>\n",
       "      <td>0.001653</td>\n",
       "      <td>0.120661</td>\n",
       "      <td>0.002755</td>\n",
       "      <td>0.001102</td>\n",
       "      <td>0.001653</td>\n",
       "      <td>0.423691</td>\n",
       "    </tr>\n",
       "    <tr>\n",
       "      <th>e</th>\n",
       "      <td>0.226351</td>\n",
       "      <td>0.008559</td>\n",
       "      <td>0.009685</td>\n",
       "      <td>0.022523</td>\n",
       "      <td>0.006532</td>\n",
       "      <td>0.035360</td>\n",
       "      <td>0.046396</td>\n",
       "      <td>0.004505</td>\n",
       "    </tr>\n",
       "  </tbody>\n",
       "</table>\n",
       "</div>"
      ],
      "text/plain": [
       "                    ,         .         a         b         c         d  \\\n",
       "   0.060115  0.000303  0.003937  0.048455  0.016051  0.067686  0.103725   \n",
       ",  0.634473  0.001486  0.001486  0.004458  0.004458  0.001486  0.001486   \n",
       ".  0.230100  0.002488  0.130597  0.007463  0.002488  0.029851  0.009950   \n",
       "a  0.213549  0.014289  0.010849  0.002382  0.030431  0.062450  0.081503   \n",
       "b  0.017575  0.007030  0.010545  0.096661  0.001757  0.035149  0.024605   \n",
       "c  0.007567  0.002910  0.004075  0.134459  0.000582  0.041327  0.003492   \n",
       "d  0.023140  0.002755  0.001653  0.120661  0.002755  0.001102  0.001653   \n",
       "e  0.226351  0.008559  0.009685  0.022523  0.006532  0.035360  0.046396   \n",
       "\n",
       "          e  \n",
       "   0.095548  \n",
       ",  0.001486  \n",
       ".  0.007463  \n",
       "a  0.002117  \n",
       "b  0.050967  \n",
       "c  0.078580  \n",
       "d  0.423691  \n",
       "e  0.004505  "
      ]
     },
     "execution_count": 11,
     "metadata": {},
     "output_type": "execute_result"
    }
   ],
   "source": [
    "english = LangProfile(\"english\", texts[\"english\"])\n",
    "spanish = LangProfile(\"spanish\", texts[\"spanish\"])\n",
    "spanish.graph.edges.iloc[:8,:8]"
   ]
  },
  {
   "cell_type": "code",
   "execution_count": 12,
   "metadata": {},
   "outputs": [
    {
     "name": "stdout",
     "output_type": "stream",
     "text": [
      "English O/A ending: 0.058126536999776435 0.05953878406708595\n",
      "Spanish O/A ending: 0.19805081796032023 0.21354855781952897\n"
     ]
    }
   ],
   "source": [
    "print(\"English O/A ending:\", english.prob(\"o \"), english.prob(\"a \"))\n",
    "print(\"Spanish O/A ending:\", spanish.prob(\"o \"), spanish.prob(\"a \"))"
   ]
  },
  {
   "cell_type": "code",
   "execution_count": 13,
   "metadata": {},
   "outputs": [
    {
     "data": {
      "text/plain": [
       "(0.000194984372424379, 3.959762532559481e-05)"
      ]
     },
     "execution_count": 13,
     "metadata": {},
     "output_type": "execute_result"
    }
   ],
   "source": [
    "english.prob(\"house\"), spanish.prob(\"house\")"
   ]
  },
  {
   "cell_type": "code",
   "execution_count": 14,
   "metadata": {},
   "outputs": [
    {
     "data": {
      "text/plain": [
       "(9.689361588272094e-05, 0.0003442342641258013)"
      ]
     },
     "execution_count": 14,
     "metadata": {},
     "output_type": "execute_result"
    }
   ],
   "source": [
    "english.prob(\"casa\"), spanish.prob(\"casa\")"
   ]
  },
  {
   "cell_type": "code",
   "execution_count": 15,
   "metadata": {},
   "outputs": [
    {
     "name": "stdout",
     "output_type": "stream",
     "text": [
      "7.970516733754027e-67\n",
      "7.35821600875311e-72\n"
     ]
    }
   ],
   "source": [
    "print(english.prob(\"this is an example of a sentence in english, can we detect that?\"))\n",
    "print(spanish.prob(\"this is an example of a sentence in english, can we detect that?\"))"
   ]
  },
  {
   "cell_type": "code",
   "execution_count": 16,
   "metadata": {},
   "outputs": [
    {
     "name": "stdout",
     "output_type": "stream",
     "text": [
      "this is a sentence. this is a sentence. this is a sentence. this is a sentence. this is a sentence. this is a sentence. this is a sentence. this is a sentence. this is a sentence. this is a sentence. this is a sentence. this is a sentence. this is a sentence. this is a sentence. this is a sentence. this is a sentence. this is a sentence. this is a sentence. this is a sentence. this is a sentence. \n",
      "0.0\n",
      "0.0\n"
     ]
    }
   ],
   "source": [
    "long_str = \"this is a sentence. \" * 20\n",
    "print(long_str)\n",
    "print(english.prob(long_str))\n",
    "print(spanish.prob(long_str))"
   ]
  },
  {
   "cell_type": "code",
   "execution_count": null,
   "metadata": {},
   "outputs": [],
   "source": []
  },
  {
   "cell_type": "code",
   "execution_count": null,
   "metadata": {},
   "outputs": [],
   "source": []
  },
  {
   "cell_type": "code",
   "execution_count": null,
   "metadata": {},
   "outputs": [],
   "source": []
  }
 ],
 "metadata": {
  "kernelspec": {
   "display_name": "Python 3",
   "language": "python",
   "name": "python3"
  },
  "language_info": {
   "codemirror_mode": {
    "name": "ipython",
    "version": 3
   },
   "file_extension": ".py",
   "mimetype": "text/x-python",
   "name": "python",
   "nbconvert_exporter": "python",
   "pygments_lexer": "ipython3",
   "version": "3.6.9"
  }
 },
 "nbformat": 4,
 "nbformat_minor": 4
}
